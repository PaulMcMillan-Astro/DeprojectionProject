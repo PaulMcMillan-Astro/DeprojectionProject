{
 "cells": [
  {
   "cell_type": "code",
   "execution_count": 1,
   "metadata": {},
   "outputs": [],
   "source": [
    "%load_ext autoreload\n",
    "%autoreload 2"
   ]
  },
  {
   "cell_type": "code",
   "execution_count": 6,
   "metadata": {},
   "outputs": [],
   "source": [
    "%reset -sf"
   ]
  },
  {
   "cell_type": "code",
   "execution_count": 7,
   "metadata": {
    "scrolled": true
   },
   "outputs": [
    {
     "name": "stdout",
     "output_type": "stream",
     "text": [
      "/home/mikkola/Documents/DeprojectionProject\n"
     ]
    }
   ],
   "source": [
    "import importlib\n",
    "import Deproject_v1_0 \n",
    "from Deproject_test import *\n",
    "from Deproject_plots import *\n",
    "import matplotlib.pyplot as plt\n",
    "from scipy import sparse as scisp\n",
    "from scipy.optimize import approx_fprime\n",
    "import os\n",
    "import cProfile\n",
    "import numpy as np\n",
    "from matplotlib.colors import LogNorm\n",
    "from matplotlib.patches import Rectangle\n",
    "from timeit import default_timer as timer\n",
    "\n",
    "from astropy.io.ascii import read as tableread\n",
    "import astropy.units as u\n",
    "import astropy.coordinates as coord\n",
    "\n",
    "coord.Galactic()\n",
    "%cd /home/mikkola/Documents/DeprojectionProject/"
   ]
  },
  {
   "cell_type": "markdown",
   "metadata": {},
   "source": [
    "## Generate  fake Galactic samples\n",
    "\n",
    "From simulated galaxy:"
   ]
  },
  {
   "cell_type": "code",
   "execution_count": 8,
   "metadata": {},
   "outputs": [
    {
     "name": "stdout",
     "output_type": "stream",
     "text": [
      "/home/mikkola/Documents/DeprojectionProject/faststats/faststats\n",
      "/home/mikkola/Documents/DeprojectionProject\n"
     ]
    }
   ],
   "source": [
    "%cd /home/mikkola/Documents/DeprojectionProject/faststats/faststats/\n",
    "from fastkde import *\n",
    "def kdeplot(x,y,grid,no_c,bw_a):\n",
    "    Z,ax = fastkde(x,y,gridsize=grid,nocorrelation=no_c,adjust=bw_a)#,weights,adjust)\n",
    "    xlen,ylen = np.shape(Z)\n",
    "    X,Y = np.meshgrid(np.linspace(ax[0],ax[1],xlen),np.linspace(ax[0],ax[1],ylen))\n",
    "    return X,Y,Z\n",
    "%cd /home/mikkola/Documents/DeprojectionProject/"
   ]
  },
  {
   "cell_type": "markdown",
   "metadata": {},
   "source": [
    "Loading data"
   ]
  },
  {
   "cell_type": "code",
   "execution_count": 9,
   "metadata": {},
   "outputs": [],
   "source": [
    "N = 5000 #Number of stars we want to use in our sample\n",
    "dat = np.load('DATA/simgal.npy')"
   ]
  },
  {
   "cell_type": "markdown",
   "metadata": {},
   "source": [
    "Select a sample around with radius 2 kpc around 8 kpc"
   ]
  },
  {
   "cell_type": "code",
   "execution_count": 10,
   "metadata": {
    "scrolled": true
   },
   "outputs": [],
   "source": [
    "x,y,z,vx,vy,vz = dat\n",
    "R = np.sqrt((x-8)**2 + y**2)\n",
    "snbh = R < 2\n",
    "dat = dat[:,snbh]\n",
    "I = np.random.randint(low=0,high=np.sum(snbh),size=N)\n",
    "\n",
    "x,y,z,vx,vy,vz = dat[:,I]\n",
    "\n",
    "# Center x, y and vy, so they look like they're relative to the LSR\n",
    "x = x - np.median(x)\n",
    "y = y - np.median(y)\n",
    "vy = vy - np.median(vy)"
   ]
  },
  {
   "cell_type": "markdown",
   "metadata": {},
   "source": [
    "Prepare for astropy"
   ]
  },
  {
   "cell_type": "code",
   "execution_count": 11,
   "metadata": {},
   "outputs": [],
   "source": [
    "x,y,z          = (x,y,z)* u.pc\n",
    "vx,vy,vz       = (vx,vy,vz) * (u.km / u.s)"
   ]
  },
  {
   "cell_type": "code",
   "execution_count": 12,
   "metadata": {},
   "outputs": [],
   "source": [
    "# We use Astropy's coord class which makes it easy to keep track of units and conversions\n",
    "\n",
    "sample = coord.Galactic(u=x,\n",
    "                         v=y, \n",
    "                         w=z,\n",
    "                         U=vx,\n",
    "                         V=vy,\n",
    "                         W=vz,\n",
    "                         representation_type=coord.CartesianRepresentation,\n",
    "                         differential_type=coord.CartesianDifferential)\n",
    "sample.set_representation_cls(coord.SphericalRepresentation, coord.SphericalCosLatDifferential)\n"
   ]
  },
  {
   "cell_type": "code",
   "execution_count": 13,
   "metadata": {
    "scrolled": false
   },
   "outputs": [
    {
     "data": {
      "image/png": "[encoded data removed]",
      "text/plain": [
       "<Figure size 640x480 with 1 Axes>"
      ]
     },
     "metadata": {},
     "output_type": "display_data"
    }
   ],
   "source": [
    "plt.hist2d(np.array(sample.l),np.array(sample.b),100)\n",
    "plt.show()"
   ]
  },
  {
   "cell_type": "markdown",
   "metadata": {},
   "source": [
    "True distribution"
   ]
  },
  {
   "cell_type": "code",
   "execution_count": 14,
   "metadata": {},
   "outputs": [],
   "source": [
    "pvals, rhatvals = Deproject_v1_0.calc_p_rhat(sample)\n",
    "sigma2, vmean0 = Deproject_v1_0.calc_sigma2(pvals,rhatvals,True)"
   ]
  },
  {
   "cell_type": "code",
   "execution_count": 17,
   "metadata": {},
   "outputs": [],
   "source": [
    "n = np.array([40,40,40])\n",
    "dv = np.array([5,5,5])\n",
    "vmin = np.array([-100,-100,-100])"
   ]
  },
  {
   "cell_type": "code",
   "execution_count": 18,
   "metadata": {
    "scrolled": false
   },
   "outputs": [
    {
     "name": "stdout",
     "output_type": "stream",
     "text": [
      "\n",
      "DB98 mean                  : ===> [3.856585 2.551463 0.101437]\n",
      "computed f(v) mean         : ===> [3.450227 2.550811 0.101429]\n",
      "DB98 dispersions           : ===> [41.334711 22.917104 21.673416]\n",
      "Computed f(v) dispersions  : ===> [39.075333 22.913982 21.672503]\n",
      "\n",
      "\n"
     ]
    }
   ],
   "source": [
    "sigma2, vmean0 = Deproject_v1_0.calc_sigma2(pvals,rhatvals,True)\n",
    "\n",
    "sigma = np.sqrt(sigma2)\n",
    "phi0 = phi_guess(vmean0,sigma,vmin,dv,n)\n",
    "\n",
    "sanity_check(pvals,rhatvals,phi0,vmin,dv,n)"
   ]
  },
  {
   "cell_type": "code",
   "execution_count": 68,
   "metadata": {},
   "outputs": [
    {
     "name": "stdout",
     "output_type": "stream",
     "text": [
      "Run requires: 0.32 GB (120.0 GB available) | Block size = 234375\n",
      "Fast Numpy Kvals run possible, running...\n",
      "\n",
      "Finished kvals.\n",
      "\n",
      "Optimization terminated successfully.\n",
      "         Current function value: 10.384032\n",
      "         Iterations: 3060\n",
      "         Function evaluations: 9183\n",
      "         Gradient evaluations: 9183\n",
      "5.103671288987001 mins\n",
      "\n",
      "DB98 mean                  : ===> [3.856585 2.551463 0.101437]\n",
      "computed f(v) mean         : ===> [2.656209 0.957979 0.311405]\n",
      "DB98 dispersions           : ===> [41.334711 22.917104 21.673416]\n",
      "Computed f(v) dispersions  : ===> [50.664267 25.650612 20.887614]\n",
      "\n",
      "\n"
     ]
    }
   ],
   "source": [
    "alpha_guess = 1e-8\n",
    "\n",
    "v_guess = np.array([1,1,1])\n",
    "disp_guess = np.array([22,17,30])\n",
    "\n",
    "t0 = timer()\n",
    "#phi_hs, phiall, fmin_it\n",
    "mxl, phi_all, fmin_it = max_L(alpha_guess, pvals, rhatvals, vmin, dv, n, v0_guess = v_guess, disp_guess = disp_guess)\n",
    "#mxl, phi_all, fmin_it = max_L(alpha, pvals, rhatvals, vmin, dv, n, noniso=non_iso)\n",
    "time = str((timer() - t0)/60)\n",
    "print(time + ' mins')\n",
    "\n",
    "# cProfile.run('max_L(8e-14, pvals, rhatvals, vmin, dv, n,v0_guess=v_guess, disp_guess=disp_guess)')\n",
    "\n",
    "sanity_check(pvals,rhatvals,mxl,vmin,dv,n)"
   ]
  },
  {
   "cell_type": "code",
   "execution_count": null,
   "metadata": {},
   "outputs": [],
   "source": [
    "print('#'*80)\n",
    "print('#'*80)\n",
    "print('#'*80)\n",
    "print('#'*80)\n",
    "print('#'*80)\n",
    "print('#'*80)"
   ]
  },
  {
   "cell_type": "code",
   "execution_count": null,
   "metadata": {
    "scrolled": false
   },
   "outputs": [],
   "source": [
    "dx, dy = dv[0], dv[1]\n",
    "vxmin, vymin = vmin[0], vmin[1]\n",
    "nx, ny = n[0], n[1]\n",
    "vxmax, vymax = vxmin+nx*dx,vymin+ny*dy\n",
    "\n",
    "x0, y0 = vxmin, vymin\n",
    "x1, y1 = vxmax, vymax\n",
    "\n",
    "xbins = np.arange(x0,x1+dx,dx)\n",
    "ybins = np.arange(y0,y1+dy,dy)\n",
    "\n",
    "xc = (xbins[1:]+xbins[:-1])/2\n",
    "yc = (ybins[1:]+ybins[:-1])/2\n",
    "\n",
    "[X,Y] = np.meshgrid(xc,yc);\n",
    "\n",
    "fv = np.exp(mxl)\n",
    "\n",
    "fvlog = np.log10(fv+1)\n",
    "\n",
    "twodfv = np.sum(fv,axis=2)\n",
    "plt.figure()\n",
    "plt.contourf(X,Y,twodfv.T,40,origin='lower',cmap = plt.cm.get_cmap('bone_r'),linestyles='solid')\n",
    "plt.contour(X,Y,twodfv.T,10,origin='lower',colors='k',linewidths=0.5)\n",
    "plt.xlim(-200,200)\n",
    "plt.ylim(-200,200)\n",
    "plt.gca().add_patch(Rectangle((vmin[0],vmin[1]),n[0]*dv[0],n[0]*dv[0], fill=None,edgecolor='r',label='3D box size'))\n",
    "plt.legend()\n",
    "\n",
    "X2,Y2,Z = kdeplot(np.array(vx),np.array(vy),(50,50),False,2)\n",
    "plt.figure()\n",
    "plt.contourf(X2,Y2,Z.T,40,origin='lower',cmap = plt.cm.get_cmap('bone_r'),linestyles='solid')\n",
    "plt.contour(X2,Y2,Z.T,10,origin='lower',colors='k',linewidths=0.5)\n",
    "plt.xlim(-200,200)\n",
    "plt.ylim(-200,200)\n",
    "plt.gca().add_patch(Rectangle((vmin[0],vmin[1]),n[0]*dv[0],n[0]*dv[0], fill=None,edgecolor='r',label='3D box size'))\n",
    "plt.legend()\n",
    "plt.show()"
   ]
  },
  {
   "cell_type": "code",
   "execution_count": null,
   "metadata": {},
   "outputs": [],
   "source": [
    "plt.figure()\n",
    "plt.contourf(X,Y,np.log10(twodfv.T),40,origin='lower',cmap = plt.cm.get_cmap('bone_r'),linestyles='solid')\n",
    "plt.contour(X,Y,np.log10(twodfv.T),10,origin='lower',colors='k',linewidths=0.5)\n",
    "plt.xlim(-200,200)\n",
    "plt.ylim(-200,200)\n",
    "plt.gca().add_patch(Rectangle((vmin[0],vmin[1]),n[0]*dv[0],n[0]*dv[0], fill=None,edgecolor='r',label='3D box size'))\n",
    "plt.legend()\n",
    "plt.show()"
   ]
  },
  {
   "cell_type": "markdown",
   "metadata": {},
   "source": [
    "## Is a real dataset also slow in jupyter?"
   ]
  },
  {
   "cell_type": "code",
   "execution_count": 5,
   "metadata": {
    "scrolled": true
   },
   "outputs": [
    {
     "name": "stdout",
     "output_type": "stream",
     "text": [
      "Sample has 37475 stars\n"
     ]
    }
   ],
   "source": [
    "def process_input(file_): #Function that reads the input file if any\n",
    "    h_file = []\n",
    "    input_ = open(file_, 'r')\n",
    "    for line in input_:\n",
    "        if line.find(\"#\") != -1:\n",
    "            continue\n",
    "        elif line.find(\"\\n\") == 0:\n",
    "            continue\n",
    "        else:\n",
    "            h_file.append(line.split('\\t'))\n",
    "    return h_file\n",
    "\n",
    "guessfile = 'vars.ini'#The vars.ini file\n",
    "vars_ = process_input(guessfile)\n",
    "N = int(vars_[0][0])\n",
    "n = np.array(vars_[1][0].split(',')[:],dtype=int)\n",
    "vmin = np.array(vars_[2][0].split(',')[:],dtype=float)\n",
    "dv = np.array(vars_[3][0].split(',')[:],dtype=float)\n",
    "use_guess = bool(int(vars_[4][0]))\n",
    "non_iso = bool(int(vars_[5][0]))\n",
    "v_guess = np.array(vars_[6][0].split(',')[:],dtype=float)\n",
    "disp_guess = np.array(vars_[7][0].split(',')[:],dtype=float)\n",
    "alpha = float(vars_[8][0])\n",
    "datafile = vars_[9][0].rstrip('\\n')\n",
    "logging = bool(int(vars_[5][0]))\n",
    "\n",
    "data_raw = tableread('DATA/'+str(datafile))\n",
    "dist = 1000/data_raw['parallax']*u.pc        \n",
    "RA = (data_raw['ra']*u.degree)\n",
    "DEC = (data_raw['dec']*u.degree)\n",
    "plx = (data_raw['parallax']*u.mas)\n",
    "pm_RA = (data_raw['pmra']*u.mas/u.yr)\n",
    "pm_DEC = (data_raw['pmdec']*u.mas/u.yr)\n",
    "print(\"Sample has \" + str(len(dist)) + \" stars\")\n",
    "\n",
    "\n",
    "\n",
    "sample_icrs = coord.ICRS(ra = RA, dec = DEC, pm_ra_cosdec = pm_RA, pm_dec = pm_DEC,distance=dist)\n",
    "\n",
    "sample = sample_icrs.transform_to(coord.Galactic)\n",
    "\n",
    "pvals, rhatvals = calc_p_rhat(sample)"
   ]
  },
  {
   "cell_type": "code",
   "execution_count": null,
   "metadata": {
    "scrolled": false
   },
   "outputs": [],
   "source": [
    "# From running in terminal\n",
    "#fmin its    : 1095\n",
    "#Time needed : 15.51415611108144 mins\n",
    "\n",
    "t0 = timer()\n",
    "if use_guess:\n",
    "    mxl, phi_all, fmin_it = max_L(alpha, pvals, rhatvals, vmin, dv, n,v0_guess=v_guess,\n",
    "                                  disp_guess=disp_guess, noniso=non_iso)\n",
    "elif not use_guess:\n",
    "    mxl, phi_all, fmin_it = max_L(alpha, pvals, rhatvals, vmin, dv, n, noniso=non_iso)\n",
    "    \n",
    "print(str((timer() - t0)/60) + ' mins')"
   ]
  },
  {
   "cell_type": "code",
   "execution_count": null,
   "metadata": {},
   "outputs": [],
   "source": [
    "def string(term_row, jup_row):\n",
    "    if term_row != jup_row:\n",
    "        s1 = '!!!\\n'\n",
    "        s2 = ''.rjust(10) + 'module:'.rjust(10) + 'ver:'.rjust(10) + 'nick:'.rjust(10) + '\\n'\n",
    "        s3 = 'Term: '.rjust(10) + \"\".join([s.rjust(10) for s in term_row[0]]) + '\\n'\n",
    "        s4 = 'Jup: '.rjust(10) + \"\".join([s.rjust(10) for s in jup_row[0]]) + '\\n'\n",
    "        line = s1 + s2 + s3 + s4\n",
    "        return line\n",
    "    \n",
    "def pure_jup_string(jup_row):\n",
    "    s1 = 'Jup only\\n'\n",
    "    s2 = ''.rjust(10) + 'module:'.rjust(10) + 'ver:'.rjust(10) + 'nick:'.rjust(10) + '\\n'\n",
    "    s3 = 'Jup: '.rjust(10) + \"\".join([s.rjust(10) for s in jup_row]) + '\\n'\n",
    "    line = s1 + s2 + s3\n",
    "    return line\n",
    "\n",
    "def pure_term_string(term_row):\n",
    "    s1 = 'Term only\\n'\n",
    "    s2 = ''.rjust(10) + 'module:'.rjust(10) + 'ver:'.rjust(10) + 'nick:'.rjust(10) + '\\n'\n",
    "    s3 = 'Term: '.rjust(10) + \"\".join([s.rjust(10) for s in term_row]) + '\\n'\n",
    "    line = s1 + s2 + s3\n",
    "    return line"
   ]
  },
  {
   "cell_type": "code",
   "execution_count": null,
   "metadata": {},
   "outputs": [],
   "source": [
    "def read_mods(txtfile):\n",
    "    txt = open(txtfile, 'r')\n",
    "    rows = txt.read().split('\\n')[:-1]\n",
    "    nrows = len(rows)\n",
    "    mods_array = np.zeros((nrows,3))\n",
    "    rows = [rows[i].split() for i in range(nrows)]\n",
    "    return rows\n",
    "\n",
    "term_rows = read_mods('mods_terminal.txt')\n",
    "jup_rows  = read_mods('mods_jupyter.txt')\n",
    "\n",
    "term_mods = [term_rows[i][0] for i in range(len(term_rows))]\n",
    "jup_mods  = [jup_rows[i][0] for i in range(len(jup_rows))]"
   ]
  },
  {
   "cell_type": "code",
   "execution_count": null,
   "metadata": {
    "scrolled": false
   },
   "outputs": [],
   "source": [
    "for mod in jup_mods:\n",
    "    i_jup  = jup_mods.index(mod)\n",
    "    if mod in term_mods:\n",
    "        i_term = term_mods.index(mod)            \n",
    "        line = string(term_rows[i_term], jup_rows[i_jup])\n",
    "        #if line != None:\n",
    "        #    print(line)  \n",
    "    else: \n",
    "        line = pure_jup_string(jup_rows[i_jup])\n",
    "       # print(line)"
   ]
  },
  {
   "cell_type": "code",
   "execution_count": null,
   "metadata": {
    "scrolled": false
   },
   "outputs": [],
   "source": [
    "for mod in term_mods:\n",
    "    i_term  = (term_mods == mod)\n",
    "    if mod in jup_mods:\n",
    "        i_jup = (jup_mods == mod)\n",
    "\n",
    "        line = string(term_rows[i_term], jup_rows[i_jup])\n",
    "    #    if line != None:\n",
    "     #       print(line)    \n",
    "    else: \n",
    "        line = pure_term_string(term_rows[i_term])\n",
    "     #   print(line)"
   ]
  },
  {
   "cell_type": "code",
   "execution_count": null,
   "metadata": {},
   "outputs": [],
   "source": [
    "np.prod(n)"
   ]
  },
  {
   "cell_type": "code",
   "execution_count": null,
   "metadata": {},
   "outputs": [],
   "source": [
    "nx, ny, nz = n; nx*ny*nz"
   ]
  },
  {
   "cell_type": "code",
   "execution_count": 5,
   "metadata": {},
   "outputs": [
    {
     "data": {
      "text/plain": [
       "37475"
      ]
     },
     "execution_count": 5,
     "metadata": {},
     "output_type": "execute_result"
    }
   ],
   "source": [
    "len(pvals)"
   ]
  },
  {
   "cell_type": "code",
   "execution_count": null,
   "metadata": {},
   "outputs": [],
   "source": []
  }
 ],
 "metadata": {
  "kernelspec": {
   "display_name": "Python 3",
   "language": "python",
   "name": "python3"
  },
  "language_info": {
   "codemirror_mode": {
    "name": "ipython",
    "version": 3
   },
   "file_extension": ".py",
   "mimetype": "text/x-python",
   "name": "python",
   "nbconvert_exporter": "python",
   "pygments_lexer": "ipython3",
   "version": "3.7.7"
  }
 },
 "nbformat": 4,
 "nbformat_minor": 4
}
