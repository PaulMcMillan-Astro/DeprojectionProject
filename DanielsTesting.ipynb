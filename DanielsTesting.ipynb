{
 "cells": [
  {
   "cell_type": "code",
   "execution_count": 415,
   "metadata": {},
   "outputs": [
    {
     "name": "stdout",
     "output_type": "stream",
     "text": [
      "The autoreload extension is already loaded. To reload it, use:\n",
      "  %reload_ext autoreload\n"
     ]
    }
   ],
   "source": [
    "%load_ext autoreload\n",
    "%autoreload 2"
   ]
  },
  {
   "cell_type": "code",
   "execution_count": 416,
   "metadata": {},
   "outputs": [],
   "source": [
    "%reset -sf"
   ]
  },
  {
   "cell_type": "code",
   "execution_count": 417,
   "metadata": {
    "scrolled": true
   },
   "outputs": [
    {
     "name": "stdout",
     "output_type": "stream",
     "text": [
      "/Users/danielmikkola/DeprojectionProject\n"
     ]
    }
   ],
   "source": [
    "import importlib\n",
    "import Deproject_v1_0 \n",
    "from Deproject_test import *\n",
    "from Deproject_plots import DM_plt_prefs\n",
    "DM_plt_prefs()\n",
    "import matplotlib.pyplot as plt\n",
    "import os\n",
    "import cProfile\n",
    "import numpy as np\n",
    "import builtins\n",
    "from scipy import sparse as scisp\n",
    "from scipy import optimize as sopt\n",
    "from matplotlib.colors import LogNorm\n",
    "from matplotlib.patches import Rectangle\n",
    "from timeit import default_timer as timer\n",
    "\n",
    "from astropy.io.ascii import read as tableread\n",
    "import astropy.units as u\n",
    "import astropy.coordinates as coord\n",
    "np.random.seed(0)\n",
    "coord.Galactic()\n",
    "%cd ~/DeprojectionProject/"
   ]
  },
  {
   "cell_type": "code",
   "execution_count": 425,
   "metadata": {},
   "outputs": [
    {
     "name": "stdout",
     "output_type": "stream",
     "text": [
      "/Users/danielmikkola/Documents/faststats/faststats\n",
      "/Users/danielmikkola/DeprojectionProject\n"
     ]
    }
   ],
   "source": [
    "%cd ~/Documents/faststats/faststats/\n",
    "from fkde import *\n",
    "def kdeplot(x,y,grid,no_c,bw_a):\n",
    "    Z,ax = fastkde(x,y,gridsize=grid,nocorrelation=no_c,adjust=bw_a)#,weights,adjust)\n",
    "    xlen,ylen = np.shape(Z)\n",
    "    X,Y = np.meshgrid(np.linspace(ax[0],ax[1],xlen),np.linspace(ax[0],ax[1],ylen))\n",
    "    return X,Y,Z\n",
    "%cd ~/DeprojectionProject/"
   ]
  },
  {
   "cell_type": "code",
   "execution_count": 418,
   "metadata": {},
   "outputs": [],
   "source": [
    "def rot(x,y,deg):\n",
    "    xf = x.flatten(); xf = xf.reshape(len(xf),1)\n",
    "    yf = y.flatten(); yf = yf.reshape(len(yf),1)\n",
    "    pos = np.hstack((xf,yf))\n",
    "    \n",
    "    theta = np.radians(deg)\n",
    "    c, s = np.cos(theta), np.sin(theta)\n",
    "    R = np.array(((c, -s), (s, c)))\n",
    "    pos = np.dot(pos, R.T)\n",
    "    \n",
    "    x = pos[:,0].reshape(x.shape)\n",
    "    y = pos[:,1].reshape(y.shape)\n",
    "    return x,y\n",
    "\n",
    "def f(x,y,z,lim):\n",
    "    x,y = rot(x,y,45)\n",
    "    val = (lim-np.abs(x))**4 + (lim-np.abs(y))**4 + (lim-np.abs(z))**4\n",
    "    return val/np.sum(val)\n",
    "\n",
    "\n",
    "def pyramid_sample(N_sample,r,c):\n",
    "    # Velocities\n",
    "    xc,yc,zc = c\n",
    "    N = 100\n",
    "    X = np.linspace(-r,r,N)\n",
    "    Y = np.linspace(-r,r,N)\n",
    "    Z = np.linspace(-r,r,N)\n",
    "    \n",
    "    XX = X.reshape(1,N,1)*np.ones((N,1,N))\n",
    "    YY = Y.reshape(N,1,1)*np.ones((1,N,N))\n",
    "    ZZ = Z.reshape(1,1,N)*np.ones((N,N,1))\n",
    "    \n",
    "    P = f(XX,YY,ZZ,r+np.max(c))\n",
    "    \n",
    "    rrind = np.ravel_multi_index(np.indices(XX.shape), XX.shape).ravel()\n",
    "    prob = np.ravel(P)\n",
    "    smp = np.random.choice(rrind, size=N_sample, p=prob)\n",
    "    smpx, smpy, smpz = np.asarray(np.unravel_index(smp, XX.shape))\n",
    "    \n",
    "    XX = XX + xc\n",
    "    ZZ = YY + yc\n",
    "    YY = ZZ + zc\n",
    "    \n",
    "    vxvals = XX[smpx, smpy, smpz]\n",
    "    vyvals = YY[smpx, smpy, smpz]\n",
    "    vzvals = ZZ[smpx, smpy, smpz]\n",
    "    \n",
    "    # Positions\n",
    "    xmax, ymax, zmax = np.array([100,100,100])/np.sqrt(3)    \n",
    "    xmin, ymin, zmin = -xmax,-ymax,-zmax\n",
    "    \n",
    "    xvals = (np.random.rand(N_sample) * (xmax - xmin) + xmin)\n",
    "    yvals = (np.random.rand(N_sample) * (ymax - ymin) + ymin)\n",
    "    zvals = (np.random.rand(N_sample) * (zmax - zmin) + zmin)\n",
    "    return xvals, yvals, zvals, vxvals, vyvals, vzvals"
   ]
  },
  {
   "cell_type": "markdown",
   "metadata": {},
   "source": [
    "## Generate gaussian sample"
   ]
  },
  {
   "cell_type": "code",
   "execution_count": 419,
   "metadata": {},
   "outputs": [],
   "source": [
    "N = 5000 #Number of stars we want to use in our sample\n",
    "sample, vx, vy, vz = Deproject_v1_0.model_sample(N)\n",
    "\n",
    "pvals, rhatvals = Deproject_v1_0.calc_p_rhat(sample)\n",
    "sigma2, vmean0 = Deproject_v1_0.calc_sigma2(pvals,rhatvals,True)"
   ]
  },
  {
   "cell_type": "markdown",
   "metadata": {},
   "source": [
    "## Generate pyramid-like sample from distribution"
   ]
  },
  {
   "cell_type": "code",
   "execution_count": null,
   "metadata": {},
   "outputs": [],
   "source": [
    "x, y, z, vx, vy, vz = pyramid_sample(int(1e4),100, c=(0,0,0))"
   ]
  },
  {
   "cell_type": "code",
   "execution_count": null,
   "metadata": {},
   "outputs": [],
   "source": [
    "x,y,z          = (x,y,z)* u.pc\n",
    "vx,vy,vz       = (vx,vy,vz) * (u.km / u.s)"
   ]
  },
  {
   "cell_type": "code",
   "execution_count": null,
   "metadata": {},
   "outputs": [],
   "source": [
    "# We use Astropy's coord class which makes it easy to keep track of units and conversions\n",
    "\n",
    "sample = coord.Galactic(u=x,\n",
    "                         v=y, \n",
    "                         w=z,\n",
    "                         U=vx,\n",
    "                         V=vy,\n",
    "                         W=vz,\n",
    "                         representation_type=coord.CartesianRepresentation,\n",
    "                         differential_type=coord.CartesianDifferential)\n",
    "sample.set_representation_cls(coord.SphericalRepresentation, coord.SphericalCosLatDifferential)\n",
    "\n"
   ]
  },
  {
   "cell_type": "code",
   "execution_count": null,
   "metadata": {},
   "outputs": [],
   "source": [
    "pvals, rhatvals = Deproject_v1_0.calc_p_rhat(sample)\n",
    "sigma2, vmean0 = Deproject_v1_0.calc_sigma2(pvals,rhatvals,True)"
   ]
  },
  {
   "cell_type": "markdown",
   "metadata": {},
   "source": [
    "## Generate  fake Galactic samples\n",
    "\n",
    "From simulated galaxy:"
   ]
  },
  {
   "cell_type": "markdown",
   "metadata": {},
   "source": [
    "Loading data"
   ]
  },
  {
   "cell_type": "code",
   "execution_count": null,
   "metadata": {},
   "outputs": [],
   "source": [
    "N = 5000 #Number of stars we want to use in our sample\n",
    "dat = np.load('DATA/simgal.npy')"
   ]
  },
  {
   "cell_type": "markdown",
   "metadata": {},
   "source": [
    "Select a sample around with radius 2 kpc around 8 kpc"
   ]
  },
  {
   "cell_type": "code",
   "execution_count": null,
   "metadata": {
    "scrolled": true
   },
   "outputs": [],
   "source": [
    "x,y,z,vx,vy,vz = dat\n",
    "R = np.sqrt((x-8)**2 + y**2)\n",
    "snbh = R < 2\n",
    "dat = dat[:,snbh]\n",
    "I = np.random.randint(low=0,high=np.sum(snbh),size=N)\n",
    "\n",
    "x,y,z,vx,vy,vz = dat[:,I]\n",
    "\n",
    "# Center x, y and vy, so they look like they're relative to the LSR\n",
    "x = x - np.median(x)\n",
    "y = y - np.median(y)\n",
    "vy = vy - np.median(vy)"
   ]
  },
  {
   "cell_type": "markdown",
   "metadata": {},
   "source": [
    "Prepare for astropy"
   ]
  },
  {
   "cell_type": "code",
   "execution_count": null,
   "metadata": {},
   "outputs": [],
   "source": [
    "x,y,z          = (x,y,z)* u.pc\n",
    "vx,vy,vz       = (vx,vy,vz) * (u.km / u.s)"
   ]
  },
  {
   "cell_type": "code",
   "execution_count": null,
   "metadata": {},
   "outputs": [],
   "source": [
    "# We use Astropy's coord class which makes it easy to keep track of units and conversions\n",
    "\n",
    "sample = coord.Galactic(u=x,\n",
    "                         v=y, \n",
    "                         w=z,\n",
    "                         U=vx,\n",
    "                         V=vy,\n",
    "                         W=vz,\n",
    "                         representation_type=coord.CartesianRepresentation,\n",
    "                         differential_type=coord.CartesianDifferential)\n",
    "sample.set_representation_cls(coord.SphericalRepresentation, coord.SphericalCosLatDifferential)\n"
   ]
  },
  {
   "cell_type": "code",
   "execution_count": null,
   "metadata": {},
   "outputs": [],
   "source": [
    "pvals, rhatvals = Deproject_v1_0.calc_p_rhat(sample)\n",
    "sigma2, vmean0 = Deproject_v1_0.calc_sigma2(pvals,rhatvals,True)"
   ]
  },
  {
   "cell_type": "markdown",
   "metadata": {},
   "source": [
    "## Inspect sample"
   ]
  },
  {
   "cell_type": "code",
   "execution_count": null,
   "metadata": {
    "scrolled": false
   },
   "outputs": [],
   "source": [
    "plt.hist2d(np.array(sample.l),np.array(sample.b),100)\n",
    "plt.show()"
   ]
  },
  {
   "cell_type": "code",
   "execution_count": 420,
   "metadata": {},
   "outputs": [],
   "source": [
    "n = np.array([20,20,20])\n",
    "dv = np.array([10,10,10])\n",
    "vmin = np.array([-100,-100,-100])\n",
    "\n",
    "alpha_guess = 1e-8\n",
    "v_guess = np.array([1,1,1])\n",
    "disp_guess = np.array([22,17,30])"
   ]
  },
  {
   "cell_type": "code",
   "execution_count": 421,
   "metadata": {
    "scrolled": true
   },
   "outputs": [
    {
     "name": "stdout",
     "output_type": "stream",
     "text": [
      "\n",
      "DB98 mean                  : ===> [ 9.243373 -0.868939  9.42836 ]\n",
      "computed f(v) mean         : ===> [-0.407224  4.752244  4.684499]\n",
      "DB98 dispersions           : ===> [27.232702 29.733462 28.126512]\n",
      "Computed f(v) dispersions  : ===> [49.957816 48.86752  49.277264]\n",
      "\n",
      "\n"
     ]
    }
   ],
   "source": [
    "sigma2, vmean0 = Deproject_v1_0.calc_sigma2(pvals,rhatvals,True)\n",
    "\n",
    "sigma = np.sqrt(sigma2)\n",
    "phi0 = phi_guess(vmean0,sigma,vmin,dv,n)\n",
    "\n",
    "sanity_check(pvals,rhatvals,phi0,vmin,dv,n)"
   ]
  },
  {
   "cell_type": "code",
   "execution_count": 423,
   "metadata": {
    "scrolled": false
   },
   "outputs": [
    {
     "name": "stdout",
     "output_type": "stream",
     "text": [
      "Allocated RAM: 5.57 GB  \n",
      "Required RAM : 0.32 GB | Block size = 87040\n",
      "Fast Numpy Kvals run possible, running...\n",
      "\n",
      "Finished kvals.\n",
      "\n",
      "Started fmin_cg... \u001b[4m\u001b[1m\u001b[32mFinished!\u001b[0m\n",
      "Optimization terminated sucessfully.\n",
      "         Current function value : 10.336173\n",
      "         Iterations             : 855\n",
      "         Function evaluations   : 3406\n",
      "         Gradient evaluations   : 3406\n",
      "\n",
      "0.8848389987000701 mins\n",
      "\n",
      "DB98 mean                  : ===> [ 9.243373 -0.868939  9.42836 ]\n",
      "computed f(v) mean         : ===> [ 9.153985 -1.289587  9.284526]\n",
      "DB98 dispersions           : ===> [27.232702 29.733462 28.126512]\n",
      "Computed f(v) dispersions  : ===> [29.148557 31.266463 30.075922]\n",
      "\n",
      "\n"
     ]
    }
   ],
   "source": [
    "t0 = timer()\n",
    "mxl, phi_all, fmin_it = max_L(alpha_guess, pvals, rhatvals, vmin, dv, n, v0_guess = v_guess, disp_guess = disp_guess)\n",
    "time = str((timer() - t0)/60); print(time + ' mins')\n",
    "\n",
    "sanity_check(pvals,rhatvals,mxl,vmin,dv,n)"
   ]
  },
  {
   "cell_type": "code",
   "execution_count": 470,
   "metadata": {
    "scrolled": false
   },
   "outputs": [
    {
     "data": {
      "image/png": "[encoded data removed]",
      "text/plain": [
       "<Figure size 504x648 with 2 Axes>"
      ]
     },
     "metadata": {
      "needs_background": "light"
     },
     "output_type": "display_data"
    }
   ],
   "source": [
    "def plot_L_and_dL():\n",
    "    f,ax = plt.subplots(2,1,figsize=(7,9),sharex=True,frameon=False,gridspec_kw={'height_ratios':[3,1]})\n",
    "\n",
    "    ax[0].plot(range(1,len(gradL)+1),gradL,'k-',linewidth=2)\n",
    "    ax[0].set_yscale('log')\n",
    "    ax[0].set_xscale('log')\n",
    "    #ax[0].set_ylabel('$|\\\\nabla\\tilde{\\mathscr{L}}_\\alpha(\\\\varphi)|$')\n",
    "    ax[0].set_ylabel('$|\\\\nabla\\\\widetilde{\\mathscr{L}}_\\\\alpha(\\\\varphi)|$')\n",
    "\n",
    "    ax[1].set_ylabel('$\\mathscr{L}_\\\\alpha(\\\\varphi)$')\n",
    "    ax[1].plot(range(1,len(L)+1),L,'k-',linewidth=2)\n",
    "    ax[1].set_xlabel('Iterations')\n",
    "    ax[1].set_xscale('log')\n",
    "    plt.subplots_adjust(hspace=0.02)\n",
    "    \n",
    "    if logging:\n",
    "        plt.savefig('RUNS/' + folder + '/LanddLplot' + '.pdf',format='pdf')\n",
    "    try:\n",
    "        autoplot\n",
    "    except NameError:\n",
    "        plt.show()\n",
    "\n",
    "    return"
   ]
  },
  {
   "cell_type": "code",
   "execution_count": 465,
   "metadata": {},
   "outputs": [
    {
     "data": {
      "text/plain": [
       "array([-13.73207764, -11.7811701 , -11.58656032, -11.53918311,\n",
       "       -11.50725147, -11.47836076, -11.4615325 , -11.43957096,\n",
       "       -11.38699187, -11.2633143 , -11.20211489, -11.12715557,\n",
       "       -11.09157532, -11.06731473, -11.04633009, -11.01573623,\n",
       "       -10.9979006 , -10.9889065 , -10.97918387, -10.96502279,\n",
       "       -10.93457118, -10.90604278, -10.8806297 , -10.82260702,\n",
       "       -10.7729187 , -10.74154669, -10.71599313, -10.69424522,\n",
       "       -10.67925341, -10.66603206, -10.6572452 , -10.65180422,\n",
       "       -10.64797241, -10.64429535, -10.63926619, -10.63412641,\n",
       "       -10.62885985, -10.6239153 , -10.61462821, -10.60200647,\n",
       "       -10.58926968, -10.57216799, -10.55989119, -10.54810248,\n",
       "       -10.53498167, -10.52497076, -10.51124942, -10.4966082 ,\n",
       "       -10.48085672, -10.46752054, -10.45690082, -10.44264623,\n",
       "       -10.43427472, -10.4284477 , -10.42385672, -10.41995545,\n",
       "       -10.41710676, -10.41512259, -10.4139954 , -10.41292071,\n",
       "       -10.41184266, -10.41079059, -10.40928672, -10.40735573,\n",
       "       -10.40550144, -10.40449927, -10.40382774, -10.40335582,\n",
       "       -10.40311629, -10.40281201, -10.40229633, -10.40178399,\n",
       "       -10.40142808, -10.40093184, -10.39971791, -10.39859607,\n",
       "       -10.39747457, -10.39643887, -10.39520096, -10.39313743,\n",
       "       -10.39043738, -10.38730306, -10.38525888, -10.38343793,\n",
       "       -10.3815915 , -10.37998531, -10.37878373, -10.3771072 ,\n",
       "       -10.37543384, -10.37378267, -10.37209475, -10.37049623,\n",
       "       -10.36904203, -10.36757842, -10.36591455, -10.3641559 ,\n",
       "       -10.3626574 , -10.36122017, -10.36004589, -10.35889307,\n",
       "       -10.35764677, -10.35679715, -10.35630109, -10.35599122,\n",
       "       -10.35558069, -10.35511012, -10.35484916, -10.35466934,\n",
       "       -10.35448135, -10.35431503, -10.35409857, -10.35375178,\n",
       "       -10.35335924, -10.35294997, -10.35256873, -10.35225541,\n",
       "       -10.35210618, -10.35197892, -10.35186571, -10.35174799,\n",
       "       -10.3515842 , -10.35143332, -10.35127846, -10.35113086,\n",
       "       -10.35100319, -10.3508979 , -10.35079569, -10.35065888,\n",
       "       -10.35053756, -10.35040316, -10.35017627, -10.34997888,\n",
       "       -10.34976399, -10.34956297, -10.34939873, -10.34924436,\n",
       "       -10.34909329, -10.34893385, -10.34875086, -10.34851832,\n",
       "       -10.34838709, -10.34831072, -10.34825329, -10.34820128,\n",
       "       -10.34815249, -10.34810059, -10.34804929, -10.34800135,\n",
       "       -10.347935  , -10.34786722, -10.34781491, -10.34773689,\n",
       "       -10.34765085, -10.34757793, -10.34748892, -10.3473958 ,\n",
       "       -10.34727952, -10.34717542, -10.34708356, -10.34700464,\n",
       "       -10.34689103, -10.34676268, -10.34666069, -10.34655499,\n",
       "       -10.34644762, -10.34631043, -10.34610291, -10.3459149 ,\n",
       "       -10.3456117 , -10.34543539, -10.34534169, -10.34527181,\n",
       "       -10.34519038, -10.34512223, -10.34505411, -10.34497872,\n",
       "       -10.34490662, -10.34482647, -10.34475499, -10.34467318,\n",
       "       -10.34458008, -10.3444824 , -10.34439079, -10.34430111,\n",
       "       -10.34421259, -10.34414145, -10.34406385, -10.34399744,\n",
       "       -10.34395092, -10.34390441, -10.3438595 , -10.34381754,\n",
       "       -10.34377635, -10.34373834, -10.34370611, -10.34367299,\n",
       "       -10.34364474, -10.34361196, -10.34357166, -10.34351098,\n",
       "       -10.34342503, -10.34335224, -10.34328945, -10.34320613,\n",
       "       -10.34313136, -10.34304466, -10.34295324, -10.34286048,\n",
       "       -10.34269687, -10.34249082, -10.34232313, -10.34217886,\n",
       "       -10.34202237, -10.34188207, -10.34171933, -10.34157227,\n",
       "       -10.34143563, -10.34132335, -10.34120677, -10.34104532,\n",
       "       -10.34087969, -10.34070036, -10.34052669, -10.34036558,\n",
       "       -10.34023024, -10.34009247, -10.339944  , -10.33979344,\n",
       "       -10.3396174 , -10.33946778, -10.33930497, -10.33915045,\n",
       "       -10.33901343, -10.33886942, -10.33871958, -10.33855678,\n",
       "       -10.33840146, -10.33827651, -10.33817757, -10.33808391,\n",
       "       -10.33800251, -10.33791772, -10.33782397, -10.33776072,\n",
       "       -10.33770438, -10.33764541, -10.33759029, -10.33755105,\n",
       "       -10.33751566, -10.3374871 , -10.33746105, -10.33743577,\n",
       "       -10.33741429, -10.33739331, -10.33737817, -10.33736505,\n",
       "       -10.33735386, -10.33734387, -10.3373325 , -10.33732211,\n",
       "       -10.33731059, -10.33729895, -10.33728806, -10.33727691,\n",
       "       -10.33726696, -10.33725929, -10.33725231, -10.337246  ,\n",
       "       -10.33724024, -10.33723463, -10.33722901, -10.33722331,\n",
       "       -10.33721736, -10.33721178, -10.33720583, -10.33720072,\n",
       "       -10.33719586, -10.33719118, -10.33718663, -10.33718254,\n",
       "       -10.33717877, -10.33717438, -10.33716855, -10.33716218,\n",
       "       -10.33715574, -10.337149  , -10.3371421 , -10.33713569,\n",
       "       -10.33712905, -10.3371217 , -10.33711407, -10.33710649,\n",
       "       -10.33709896, -10.33709058, -10.33708218, -10.33707461,\n",
       "       -10.3370667 , -10.33705798, -10.33704836, -10.33703787,\n",
       "       -10.33702787, -10.33701904, -10.33700994, -10.33700031,\n",
       "       -10.33698959, -10.33697675, -10.33696081, -10.33694486,\n",
       "       -10.33692697, -10.33690982, -10.3368932 , -10.33687393,\n",
       "       -10.33685592, -10.33683807, -10.33681722, -10.33679595,\n",
       "       -10.33677482, -10.3367544 , -10.33673627, -10.33672083,\n",
       "       -10.33670507, -10.33669156, -10.33667908, -10.33666831,\n",
       "       -10.33665684, -10.33664624, -10.33663567, -10.33662548,\n",
       "       -10.33661574, -10.33660662, -10.33659817, -10.33658947,\n",
       "       -10.33658117, -10.33657337, -10.33656443, -10.33655556,\n",
       "       -10.33654652, -10.33653731, -10.33652738, -10.3365179 ,\n",
       "       -10.3365095 , -10.33650256, -10.33649589, -10.3364895 ,\n",
       "       -10.33648402, -10.3364793 , -10.33647497, -10.33647084,\n",
       "       -10.33646701, -10.33646337, -10.33645968, -10.33645601,\n",
       "       -10.33645222, -10.33644847, -10.33644455, -10.33644088,\n",
       "       -10.33643698, -10.33643356, -10.33643019, -10.33642675,\n",
       "       -10.3364234 , -10.3364206 , -10.33641789, -10.33641568,\n",
       "       -10.33641356, -10.33641115, -10.33640879, -10.33640615,\n",
       "       -10.33640355, -10.33640076, -10.33639811, -10.33639551,\n",
       "       -10.3363931 , -10.33639085, -10.33638897, -10.33638723,\n",
       "       -10.33638562, -10.336384  , -10.33638242, -10.33638093,\n",
       "       -10.33637953, -10.33637815, -10.33637681, -10.33637557,\n",
       "       -10.33637431, -10.33637294, -10.33637158, -10.33637025,\n",
       "       -10.33636869, -10.33636695, -10.33636498, -10.33636276,\n",
       "       -10.33636047, -10.33635833, -10.33635634, -10.33635445,\n",
       "       -10.33635266, -10.33635063, -10.33634857, -10.33634629,\n",
       "       -10.33634408, -10.33634186, -10.33633958, -10.33633746,\n",
       "       -10.33633529, -10.3363328 , -10.33633056, -10.33632836,\n",
       "       -10.33632609, -10.3363239 , -10.33632169, -10.33631955,\n",
       "       -10.33631723, -10.33631474, -10.33631236, -10.3363102 ,\n",
       "       -10.33630813, -10.33630601, -10.33630395, -10.33630197,\n",
       "       -10.33629999, -10.33629815, -10.33629635, -10.33629454,\n",
       "       -10.33629274, -10.33629096, -10.33628936, -10.33628779,\n",
       "       -10.33628629, -10.33628478, -10.33628328, -10.33628179,\n",
       "       -10.33628018, -10.33627849, -10.33627701, -10.33627572,\n",
       "       -10.33627446, -10.33627332, -10.33627221, -10.33627108,\n",
       "       -10.33626993, -10.33626885, -10.33626782, -10.33626686,\n",
       "       -10.3362659 , -10.33626484, -10.33626381, -10.33626276,\n",
       "       -10.33626169, -10.33626058, -10.33625939, -10.33625818,\n",
       "       -10.33625695, -10.3362558 , -10.33625474, -10.33625375,\n",
       "       -10.33625284, -10.33625193, -10.33625104, -10.33625011,\n",
       "       -10.33624924, -10.33624831, -10.33624745, -10.33624656,\n",
       "       -10.33624569, -10.33624482, -10.33624398, -10.33624314,\n",
       "       -10.33624221, -10.33624138, -10.33624063, -10.33623997,\n",
       "       -10.33623928, -10.33623859, -10.33623787, -10.33623716,\n",
       "       -10.33623644, -10.3362358 , -10.33623514, -10.33623453,\n",
       "       -10.33623392, -10.33623322, -10.33623246, -10.33623166,\n",
       "       -10.33623085, -10.33622995, -10.33622908, -10.33622818,\n",
       "       -10.33622732, -10.33622651, -10.33622573, -10.33622502,\n",
       "       -10.33622435, -10.33622369, -10.33622305, -10.33622238,\n",
       "       -10.33622169, -10.336221  , -10.33622028, -10.33621962,\n",
       "       -10.33621896, -10.33621834, -10.33621774, -10.33621721,\n",
       "       -10.33621668, -10.33621616, -10.33621565, -10.33621515,\n",
       "       -10.33621468, -10.33621422, -10.33621375, -10.33621327,\n",
       "       -10.33621286, -10.33621244, -10.33621201, -10.33621158,\n",
       "       -10.33621113, -10.33621067, -10.33621023, -10.33620981,\n",
       "       -10.33620938, -10.33620894, -10.3362085 , -10.33620808,\n",
       "       -10.33620766, -10.33620726, -10.33620685, -10.33620646,\n",
       "       -10.33620605, -10.33620564, -10.33620522, -10.33620481,\n",
       "       -10.33620441, -10.33620402, -10.33620366, -10.33620328,\n",
       "       -10.33620291, -10.33620256, -10.3362022 , -10.33620184,\n",
       "       -10.33620147, -10.33620109, -10.33620071, -10.33620033,\n",
       "       -10.33619995, -10.33619957, -10.3361992 , -10.33619884,\n",
       "       -10.33619847, -10.33619813, -10.33619779, -10.33619744,\n",
       "       -10.3361971 , -10.33619676, -10.33619643, -10.33619609,\n",
       "       -10.33619578, -10.33619547, -10.33619517, -10.33619487,\n",
       "       -10.33619457, -10.33619428, -10.336194  , -10.33619374,\n",
       "       -10.33619349, -10.33619324, -10.33619299, -10.33619273,\n",
       "       -10.33619249, -10.33619224, -10.336192  , -10.33619174,\n",
       "       -10.33619149, -10.33619124, -10.33619099, -10.33619074,\n",
       "       -10.33619049, -10.33619026, -10.33619004, -10.33618981,\n",
       "       -10.33618961, -10.3361894 , -10.33618921, -10.33618903,\n",
       "       -10.33618884, -10.33618867, -10.33618849, -10.33618829,\n",
       "       -10.33618809, -10.33618787, -10.33618766, -10.33618744,\n",
       "       -10.33618723, -10.33618702, -10.33618681, -10.33618661,\n",
       "       -10.33618643, -10.33618624, -10.33618607, -10.33618588,\n",
       "       -10.33618571, -10.33618554, -10.33618538, -10.33618523,\n",
       "       -10.33618508, -10.33618495, -10.33618481, -10.33618468,\n",
       "       -10.33618456, -10.33618444, -10.33618433, -10.33618423,\n",
       "       -10.33618412, -10.33618401, -10.3361839 , -10.33618379,\n",
       "       -10.33618368, -10.33618358, -10.33618347, -10.33618337,\n",
       "       -10.33618327, -10.33618317, -10.33618307, -10.33618296,\n",
       "       -10.33618287, -10.33618277, -10.33618269, -10.3361826 ,\n",
       "       -10.33618251, -10.33618243, -10.33618235, -10.33618226,\n",
       "       -10.33618218, -10.33618209, -10.336182  , -10.33618191,\n",
       "       -10.33618183, -10.33618174, -10.33618165, -10.33618156,\n",
       "       -10.33618147, -10.33618138, -10.33618129, -10.3361812 ,\n",
       "       -10.33618111, -10.33618102, -10.33618094, -10.33618087,\n",
       "       -10.33618079, -10.33618071, -10.33618063, -10.33618054,\n",
       "       -10.33618045, -10.33618037, -10.33618029, -10.3361802 ,\n",
       "       -10.33618011, -10.33618002, -10.33617992, -10.33617982,\n",
       "       -10.33617972, -10.33617961, -10.3361795 , -10.3361794 ,\n",
       "       -10.33617931, -10.33617921, -10.33617912, -10.33617903,\n",
       "       -10.33617894, -10.33617885, -10.33617876, -10.33617868,\n",
       "       -10.3361786 , -10.33617853, -10.33617845, -10.33617838,\n",
       "       -10.33617831, -10.33617824, -10.33617817, -10.33617812,\n",
       "       -10.33617806, -10.33617802, -10.33617797, -10.33617792,\n",
       "       -10.33617786, -10.33617781, -10.33617776, -10.3361777 ,\n",
       "       -10.33617765, -10.3361776 , -10.33617755, -10.3361775 ,\n",
       "       -10.33617746, -10.33617741, -10.33617737, -10.33617732,\n",
       "       -10.33617727, -10.33617723, -10.33617718, -10.33617714,\n",
       "       -10.33617709, -10.33617705, -10.336177  , -10.33617695,\n",
       "       -10.33617691, -10.33617687, -10.33617683, -10.33617678,\n",
       "       -10.33617675, -10.33617671, -10.33617667, -10.33617663,\n",
       "       -10.33617659, -10.33617655, -10.33617652, -10.33617648,\n",
       "       -10.33617645, -10.33617641, -10.33617637, -10.33617633,\n",
       "       -10.3361763 , -10.33617626, -10.33617622, -10.33617618,\n",
       "       -10.33617614, -10.3361761 , -10.33617606, -10.33617602,\n",
       "       -10.33617599, -10.33617595, -10.33617592, -10.33617588,\n",
       "       -10.33617584, -10.33617581, -10.33617577, -10.33617574,\n",
       "       -10.33617571, -10.33617567, -10.33617564, -10.33617561,\n",
       "       -10.33617558, -10.33617555, -10.33617551, -10.33617548,\n",
       "       -10.33617545, -10.33617542, -10.3361754 , -10.33617537,\n",
       "       -10.33617534, -10.33617532, -10.33617529, -10.33617526,\n",
       "       -10.33617523, -10.3361752 , -10.33617517, -10.33617514,\n",
       "       -10.33617511, -10.33617508, -10.33617505, -10.33617501,\n",
       "       -10.33617498, -10.33617495, -10.33617491, -10.33617488,\n",
       "       -10.33617484, -10.33617481, -10.33617477, -10.33617474,\n",
       "       -10.33617471, -10.33617468, -10.33617465, -10.33617462,\n",
       "       -10.33617459, -10.33617456, -10.33617453, -10.3361745 ,\n",
       "       -10.33617447, -10.33617444, -10.3361744 , -10.33617437,\n",
       "       -10.33617435, -10.33617432, -10.3361743 , -10.33617427,\n",
       "       -10.33617425, -10.33617422, -10.3361742 , -10.33617417,\n",
       "       -10.33617415, -10.33617413, -10.33617411, -10.33617409,\n",
       "       -10.33617407, -10.33617405, -10.33617402, -10.336174  ,\n",
       "       -10.33617398, -10.33617396, -10.33617394, -10.33617392,\n",
       "       -10.3361739 , -10.33617389, -10.33617387, -10.33617385,\n",
       "       -10.33617383, -10.33617381, -10.33617379, -10.33617377,\n",
       "       -10.33617375, -10.33617373, -10.33617371, -10.33617369,\n",
       "       -10.33617368, -10.33617366, -10.33617364, -10.33617363,\n",
       "       -10.33617361, -10.3361736 , -10.33617359, -10.33617357,\n",
       "       -10.33617356, -10.33617354, -10.33617353, -10.33617352,\n",
       "       -10.3361735 , -10.33617349, -10.33617347, -10.33617345,\n",
       "       -10.33617344, -10.33617342, -10.33617341, -10.33617339,\n",
       "       -10.33617338, -10.33617336, -10.33617335, -10.33617333,\n",
       "       -10.33617331, -10.3361733 , -10.33617328, -10.33617327,\n",
       "       -10.33617326, -10.33617324, -10.33617323, -10.33617322,\n",
       "       -10.33617321, -10.33617319, -10.33617318, -10.33617317,\n",
       "       -10.33617316, -10.33617315, -10.33617314, -10.33617313,\n",
       "       -10.33617312, -10.33617311, -10.3361731 , -10.33617309])"
      ]
     },
     "execution_count": 465,
     "metadata": {},
     "output_type": "execute_result"
    }
   ],
   "source": [
    "L"
   ]
  },
  {
   "cell_type": "code",
   "execution_count": 426,
   "metadata": {
    "scrolled": false
   },
   "outputs": [
    {
     "data": {
      "image/png": "[encoded data removed]",
      "text/plain": [
       "<Figure size 1512x504 with 3 Axes>"
      ]
     },
     "metadata": {
      "needs_background": "light"
     },
     "output_type": "display_data"
    }
   ],
   "source": [
    "dx, dy = dv[0], dv[1]\n",
    "vxmin, vymin = vmin[0], vmin[1]\n",
    "nx, ny = n[0], n[1]\n",
    "vxmax, vymax = vxmin+nx*dx,vymin+ny*dy\n",
    "\n",
    "x0, y0 = vxmin, vymin\n",
    "x1, y1 = vxmax, vymax\n",
    "\n",
    "xbins = np.arange(x0,x1+dx,dx)\n",
    "ybins = np.arange(y0,y1+dy,dy)\n",
    "\n",
    "xc = (xbins[1:]+xbins[:-1])/2\n",
    "yc = (ybins[1:]+ybins[:-1])/2\n",
    "\n",
    "[X,Y] = np.meshgrid(xc,yc);\n",
    "\n",
    "fv = np.exp(mxl)\n",
    "\n",
    "fvlog = np.log10(fv+1)\n",
    "xl = 120\n",
    "yl = 120\n",
    "twodfv = np.sum(fv,axis=2)\n",
    "\n",
    "\n",
    "X2,Y2,Z = kdeplot(np.array(vx),np.array(vy),(100,100),False,2)\n",
    "# Z,xbins,ybins = np.histogram2d(np.array(vx),np.array(vy),20)\n",
    "# xc = (xbins[1:]+xbins[:-1])/2\n",
    "# yc = (ybins[1:]+ybins[:-1])/2\n",
    "\n",
    "# [X2,Y2] = np.meshgrid(xc,yc);\n",
    "\n",
    "f,ax = plt.subplots(1,3,sharex=True,sharey=True,figsize=(21,7),frameon=False)\n",
    "\n",
    "ax[0].contourf(X2,Y2,Z.T,40,origin='lower',cmap = plt.cm.get_cmap('bone_r'),linestyles='solid')\n",
    "ax[0].pcolormesh(X2,Y2,Z.T,cmap='bone_r')\n",
    "ax[0].contour(X2,Y2,Z.T,10,origin='lower',colors='k',linewidths=0.5)\n",
    "ax[0].set_xlim(-xl,xl)\n",
    "ax[0].set_ylim(-yl,yl)\n",
    "ax[0].add_patch(Rectangle((vmin[0],vmin[1]),n[0]*dv[0],n[0]*dv[0], fill=None,edgecolor='r',label='3D box size'))\n",
    "ax[0].legend()\n",
    "ax[0].set_title('Original fv')\n",
    "\n",
    "ax[1].contourf(X,Y,twodfv.T,40,origin='lower',cmap = plt.cm.get_cmap('bone_r'),linestyles='solid')\n",
    "ax[1].contour(X,Y,twodfv.T,10,origin='lower',colors='k',linewidths=0.5)\n",
    "ax[1].set_xlim(-xl,xl)\n",
    "ax[1].set_ylim(-yl,yl)\n",
    "ax[1].add_patch(Rectangle((vmin[0],vmin[1]),n[0]*dv[0],n[0]*dv[0], fill=None,edgecolor='r',label='3D box size'))\n",
    "ax[1].legend()\n",
    "ax[1].set_title('Deprojected fv')\n",
    "\n",
    "ax[2].contourf(X,Y,np.log10(twodfv.T),40,origin='lower',cmap = plt.cm.get_cmap('bone_r'),linestyles='solid')\n",
    "ax[2].contour(X,Y,np.log10(twodfv.T),10,origin='lower',colors='k',linewidths=0.5)\n",
    "ax[2].set_xlim(-xl,xl)\n",
    "ax[2].set_ylim(-yl,yl)\n",
    "ax[2].add_patch(Rectangle((vmin[0],vmin[1]),n[0]*dv[0],n[0]*dv[0], fill=None,edgecolor='r',label='3D box size'))\n",
    "ax[2].legend()\n",
    "ax[2].set_title('Deprojected log(fv)')\n",
    "\n",
    "plt.show()"
   ]
  },
  {
   "cell_type": "code",
   "execution_count": 411,
   "metadata": {},
   "outputs": [],
   "source": [
    "# L, gradL             - For each fmin_cg iteration\n",
    "# L_calls, gradL_calls - For each function and gradient call respectively\n",
    "# I_its, Ig_its        - Indices of L_calls and gradL_calls that match the iterations\n",
    "\n",
    "def plot_LanddL():\n",
    "    I_its = []\n",
    "    Ig_its = []\n",
    "\n",
    "    for i, call in enumerate(L_calls):\n",
    "        if call in L:\n",
    "            I_its.append(i)\n",
    "    \n",
    "    for i, call in enumerate(gradL_calls):\n",
    "        if call in gradL:\n",
    "            Ig_its.append(i)\n",
    "\n",
    "\n",
    "    f,ax = plt.subplots(2,2,figsize=(14,10),sharey='row',frameon=False,gridspec_kw={'height_ratios':[3,1]})\n",
    "\n",
    "    ax[0,0].set_title('All iterations\\n$\\\\nabla\\mathscr{L}(\\\\varphi)$')\n",
    "    ax[0,0].plot(gradL_calls[Ig_its],'k-',marker='.',linewidth=1)\n",
    "    ax[0,0].set_yscale('log')\n",
    "\n",
    "    ax[1,0].set_title('$\\mathscr{L}(\\\\varphi)$')\n",
    "    ax[1,0].plot(L_calls[I_its],'k-',marker='.',linewidth=1)\n",
    "    ax[1,0].set_xlabel('Iterations')\n",
    "\n",
    "    ax[0,1].set_title('All calls\\n $\\\\nabla\\mathscr{L}(\\\\varphi)$')\n",
    "    ax[0,1].plot(gradL_calls,'r-',linewidth=1)\n",
    "    ax[0,1].plot(Ig_its,gradL_calls[Ig_its],'k.')\n",
    "    ax[0,1].set_yscale('log')\n",
    "    ax[0,1].set_ylim(gradL_calls.min()*0.1, gradL_calls.max()*1.1)\n",
    "\n",
    "    # inset axes....\n",
    "    axins = ax[0,1].inset_axes([0.05, 0.01, 0.90, 0.3])\n",
    "    axins.plot(gradL_calls,'r-',marker='.',linewidth=1,label='$\\\\nabla\\mathscr{L}(\\\\varphi)$ calls')\n",
    "    axins.plot(Ig_its,gradL_calls[Ig_its],'k.',label='$\\mathrm{\\\\tt fmin\\_cg()}}$ iterations')\n",
    "\n",
    "    # sub region of the original image\n",
    "    x1, x2, y1, y2 = Ig_its[-10], len(gradL_calls), 0.9*gradL_calls[Ig_its[-10]:].min(), 1.1*gradL_calls[Ig_its[-10]:].max()\n",
    "    axins.set_xlim(x1, x2)\n",
    "    axins.set_ylim(y1, y2)\n",
    "    axins.set_yticklabels('')\n",
    "    axins.set_xticks([x1,x2])\n",
    "    axins.xaxis.tick_top()\n",
    "    #axins.legend(fontsize=14)\n",
    "    ax[0,1].indicate_inset_zoom(axins)\n",
    "\n",
    "\n",
    "\n",
    "    ax[1,1].set_title('$\\mathscr{L}(\\mathscr{\\phi})$')\n",
    "    ax[1,1].plot(L_calls,'r-',linewidth=1,label='$\\mathscr{L}(\\\\varphi)$ calls')\n",
    "    ax[1,1].plot(I_its,L_calls[I_its],'k.',label='$\\mathrm{\\\\tt fmin\\_cg()}}$ iterations')\n",
    "    ax[1,1].set_xlabel('function calls')\n",
    "    ax[1,1].legend(fontsize=14)\n",
    "    plt.show()\n",
    "    return "
   ]
  },
  {
   "cell_type": "markdown",
   "metadata": {},
   "source": [
    "# End of non-testing lines"
   ]
  },
  {
   "cell_type": "code",
   "execution_count": null,
   "metadata": {
    "scrolled": false
   },
   "outputs": [],
   "source": [
    "import inspect\n",
    "lines = inspect.getsource(fmin_cg)\n",
    "%rm fmin_cg_read.py\n",
    "with open('fmin_cg_read.py','a') as writer:\n",
    "    writer.write(lines)\n",
    "os.system('atom fmin_cg_read.py')"
   ]
  },
  {
   "cell_type": "markdown",
   "metadata": {},
   "source": [
    "Investigating grad_L"
   ]
  },
  {
   "cell_type": "markdown",
   "metadata": {},
   "source": [
    "## Alternative sec_der"
   ]
  },
  {
   "cell_type": "code",
   "execution_count": null,
   "metadata": {},
   "outputs": [],
   "source": [
    "def plotphi(phi):\n",
    "    plt.figure(figsize=(4,3))\n",
    "    im = plt.pcolormesh(phi.T,cmap = plt.cm.get_cmap('viridis'))\n",
    "    plt.colorbar(im)\n",
    "    plt.show()"
   ]
  },
  {
   "cell_type": "code",
   "execution_count": null,
   "metadata": {},
   "outputs": [],
   "source": [
    "%cd DATA/\n",
    "pvals = np.load('TEST/pvals.npy')\n",
    "rhatvals = np.load('TEST/rhatvals.npy')\n",
    "mxl = np.load('TEST/mxl.npy')"
   ]
  },
  {
   "cell_type": "markdown",
   "metadata": {},
   "source": [
    "## Check eq 30 on 1d Gaussian\n",
    "\n",
    "$$ \\Xi_{\\pmb{n}\\pmb{l}} \\propto -2\\delta_{\\pmb{n},\\pmb{l}} + \\delta_{\\pmb{n},\\pmb{l} + \\pmb{\\hat{e}}_i} + \\delta_{\\pmb{n},\\pmb{l} - \\pmb{\\hat{e}}_i}$$\n",
    "\n",
    "$$f(x) = \\frac{1}{\\sigma\\sqrt{2\\pi}} e^{-\\frac{1}{2}\\left(\\frac{x-\\mu}{\\sigma}\\right)^2} \\rightarrow \\frac{1}{\\sqrt{2\\pi}} e^{-\\frac{1}{2}x^2}$$\n",
    "\n",
    "$$f'(x) =  -\\frac{x}{\\sqrt{2\\pi}} e^{-\\frac{1}{2}x^2}$$\n",
    "\n",
    "$$f\"(x) =  \\frac{x^2 - 1}{\\sqrt{2\\pi}} e^{-\\frac{1}{2}x^2}$$"
   ]
  },
  {
   "cell_type": "code",
   "execution_count": null,
   "metadata": {},
   "outputs": [],
   "source": [
    "%matplotlib inline\n",
    "from ipywidgets import *\n",
    "\n",
    "def f_gauss(x):\n",
    "    return np.exp(-0.5*x**2) / np.sqrt(2*np.pi)\n",
    "\n",
    "def f_gauss_bis(x):\n",
    "    return (x**2 - 1)*f_gauss(x)\n",
    "\n",
    "# def xi_vals(x):\n",
    "#     phi = np.log(f_gauss(x))\n",
    "#     sec_vals = (vals[2:] + vals[:-2] - 2*vals[1:-1])\n",
    "#     return \n",
    "\n",
    "def x_vals(N):\n",
    "    return np.linspace(-5,5,N)\n",
    "\n",
    "def plot_func(N):\n",
    "    x = x_vals(int(N))\n",
    "\n",
    "    plt.plot(x,f_gauss(x),'b')\n",
    "    plt.plot(x,f_gauss_bis(x),'r')\n",
    "    #plt.plot(x[1:-1],xi_vals(f_gauss(x)),'g')\n",
    "    plt.show()\n",
    "\n",
    "interact(plot_func, N = widgets.FloatSlider(value=50,\n",
    "                                               min=5,\n",
    "                                               max=100,\n",
    "                                               step=5))"
   ]
  },
  {
   "cell_type": "code",
   "execution_count": 13,
   "metadata": {},
   "outputs": [
    {
     "name": "stdout",
     "output_type": "stream",
     "text": [
      "892 ns ± 9 ns per loop (mean ± std. dev. of 7 runs, 1000000 loops each)\n",
      "548 ns ± 14.9 ns per loop (mean ± std. dev. of 7 runs, 1000000 loops each)\n",
      "3.31 µs ± 116 ns per loop (mean ± std. dev. of 7 runs, 100000 loops each)\n"
     ]
    }
   ],
   "source": [
    "%timeit dvx, dvy, dvz = dv; dvx * dvy * dvz\n",
    "%timeit dv[0] * dv[1] * dv[2]\n",
    "%timeit np.prod(dv)"
   ]
  },
  {
   "cell_type": "code",
   "execution_count": 26,
   "metadata": {},
   "outputs": [
    {
     "name": "stdout",
     "output_type": "stream",
     "text": [
      "1.57 µs ± 7.18 ns per loop (mean ± std. dev. of 7 runs, 1000000 loops each)\n",
      "1.7 µs ± 18.9 ns per loop (mean ± std. dev. of 7 runs, 1000000 loops each)\n"
     ]
    }
   ],
   "source": [
    "%timeit dv2 = np.square(dv); (dv2[0]*dv2[0]); (dv2[1]*dv2[1]); (dv2[2]*dv2[2])\n",
    "%timeit dv2 = np.square(dv); dvx, dvy, dvz = dv2; dvx*dvx; dvy*dvy; dvz*dvz"
   ]
  },
  {
   "cell_type": "code",
   "execution_count": 21,
   "metadata": {},
   "outputs": [],
   "source": [
    "def xi_calc(phi, sigma2, dv):\n",
    "    '''This function calculates eq. 29 (and in turn eq. 30) of WD98. Each cell m has a contribution \n",
    "    of -2*phi_m, phi_(m+e_i), and phi_(m-e_i) from itself, its neighbor one step up in the i \n",
    "    direction and one step down in the i direction respectively. The direction i loops over\n",
    "    the x, y, and z directions.\n",
    "    \n",
    "    The contributions are added onto a zero array of the same shape as phi and only when \n",
    "    both neighbours are available in the given dimension. e.g. there is no x term when\n",
    "    treating on [1, :, :] or [:, :, -1]\n",
    "    \n",
    "    Inputs are:\n",
    "    \n",
    "    phi - log of the distribution [nx,ny,nz]\n",
    "    \n",
    "    sigma2 - squared dispersion in each direction [array of len 3]\n",
    "    \n",
    "    dv - cell widths [array of len 3]\n",
    "    \n",
    "    ----\n",
    "    \n",
    "    Output is:\n",
    "    \n",
    "    phi_arr - The contributions to each cell, equiv. to eq 29 in WD98'''\n",
    "\n",
    "    phi_arr = np.zeros(phi.shape)\n",
    "\n",
    "    phi_arr[1:-1,:,:] += (sigma2[0] / (dv[0]*dv[0])) * (-2*phi[1:-1, :, :] + phi[2:, :, :] + phi[:-2, :, :])\n",
    "    phi_arr[:,1:-1,:] += (sigma2[1] / (dv[1]*dv[1])) * (-2*phi[:, 1:-1, :] + phi[:, 2:, :] + phi[:, :-2, :])\n",
    "    phi_arr[:,:,1:-1] += (sigma2[2] / (dv[2]*dv[2])) * (-2*phi[:, :, 1:-1] + phi[:, :, 2:] + phi[:, :, :-2])\n",
    "\n",
    "    return phi_arr"
   ]
  },
  {
   "cell_type": "code",
   "execution_count": 380,
   "metadata": {},
   "outputs": [],
   "source": [
    "def sec_der(phi, sigma2, dv):\n",
    "    '''This function calculates eq. 29 (and in turn eq. 30) of WD98. Each cell m has a contribution \n",
    "    of -2*phi_m, phi_(m+e_i), and phi_(m-e_i) from itself, its neighbor one step up in the i \n",
    "    direction and one step down in the i direction respectively. The direction i loops over\n",
    "    the x, y, and z directions.\n",
    "    \n",
    "    The contributions are added onto a zero array of the same shape as phi and only when \n",
    "    both neighbours are available in the given dimension. e.g. there is no x term when\n",
    "    treating on [1, :, :] or [:, :, -1]\n",
    "    \n",
    "    Inputs are:\n",
    "    \n",
    "    phi - log of the distribution [nx,ny,nz]\n",
    "    \n",
    "    sigma2 - squared dispersion in each direction [array of len 3]\n",
    "    \n",
    "    dv - cell widths [array of len 3]\n",
    "    \n",
    "    ----\n",
    "    \n",
    "    Output is:\n",
    "    \n",
    "    phi_arr - The contributions to each cell, equiv. to eq 29 in WD98'''\n",
    "\n",
    "    phi_arr = np.zeros(phi.shape)\n",
    "\n",
    "    phi_arr[1:-1,:,:] += (sigma2[0] / (dv[0]*dv[0])) * (-2*phi[1:-1, :, :] + phi[2:, :, :] + phi[:-2, :, :])\n",
    "    phi_arr[:,1:-1,:] += (sigma2[1] / (dv[1]*dv[1])) * (-2*phi[:, 1:-1, :] + phi[:, 2:, :] + phi[:, :-2, :])\n",
    "    phi_arr[:,:,1:-1] += (sigma2[2] / (dv[2]*dv[2])) * (-2*phi[:, :, 1:-1] + phi[:, :, 2:] + phi[:, :, :-2])\n",
    "\n",
    "    return phi_arr\n",
    "\n",
    "def grad_sec_der(phi, sigma2, dv):\n",
    "    '''Here we calculate the equivalent factor to sec_der for the gradients third term'''\n",
    "    \n",
    "    phi_arr = np.zeros(phi.shape)\n",
    "    \n",
    "    phi_arr_loc = sec_der(phi, sigma2, dv) # This gives us the matrix A_m for all m = (i,j,k) cells\n",
    "    \n",
    "    # The x contribution\n",
    "    phi_arr[:-2,:,:]  += 2 * (phi_arr_loc[1:-1,:,:]) * sigma2[0]/(dv[0]*dv[0]) # Adds A_(m-1) contribution\n",
    "    phi_arr[2:,:,:]   += 2 * (phi_arr_loc[1:-1,:,:]) * sigma2[0]/(dv[0]*dv[0]) # Adds A_(m+1) contribution\n",
    "    phi_arr[1:-1,:,:] -= 4 * (phi_arr_loc[1:-1,:,:]) * sigma2[0]/(dv[0]*dv[0]) # Adds A_m contribution\n",
    "\n",
    "    # The y contribution\n",
    "    phi_arr[:,:-2,:]  += 2 * (phi_arr_loc[:,1:-1,:]) * sigma2[1]/(dv[1]*dv[1]) # Adds A_(m-1) contribution\n",
    "    phi_arr[:,2:,:]   += 2 * (phi_arr_loc[:,1:-1,:]) * sigma2[1]/(dv[1]*dv[1]) # Adds A_(m+1) contribution\n",
    "    phi_arr[:,1:-1,:] -= 4 * (phi_arr_loc[:,1:-1,:]) * sigma2[1]/(dv[1]*dv[1]) # Adds A_m contribution\n",
    "\n",
    "    # The z contribution\n",
    "    phi_arr[:,:,:-2]  += 2 * (phi_arr_loc[:,:,1:-1]) * sigma2[2]/(dv[2]*dv[2]) # Adds A_(m-1) contribution\n",
    "    phi_arr[:,:,2:]   += 2 * (phi_arr_loc[:,:,1:-1]) * sigma2[2]/(dv[2]*dv[2]) # Adds A_(m+1) contribution\n",
    "    phi_arr[:,:,1:-1] -= 4 * (phi_arr_loc[:,:,1:-1]) * sigma2[2]/(dv[2]*dv[2]) # Adds A_m contribution\n",
    "    \n",
    "    return phi_arr\n",
    "    \n",
    "    \n",
    "\n",
    "def neg_L_calc(phi, *args):\n",
    "    \"\"\"The function that we wish to optimise. Corresponds to eq. 31 in D98.\n",
    "\n",
    "    N: Number of stars in our sample\n",
    "\n",
    "    Kvals: Array of dimensions (N,nx,ny,nz) containing the K-values for each star in our sample.\n",
    "\n",
    "    alpha: Smoothing parameter that can be found using the function opt_alpha\n",
    "   \n",
    "    We use sparse matrices in our computation of L_tilde because our K- arrays have low\n",
    "    density. Therefore we use the scipy.sparse package to convert our arrays to sparse arrays.\n",
    "    Using coo-matrices is faster when building the matrix, but the csc-matrices are faster for\n",
    "    arithmetic operations\n",
    "    \n",
    "    phi_unr regains the original shape of our phi guess and is used to compute the\n",
    "    third term of L_tilde.\"\"\"\n",
    "    \n",
    "    Kvals, N, alpha, dv, n, sigma2 = args\n",
    "    \n",
    "    exphir = np.exp(phi)\n",
    "    exphi_csc = scisp.coo_matrix(exphir).tocsc()\n",
    "    \n",
    "    Kphi = Kvals.multiply(exphi_csc).sum(axis=1) # Order all Kphi values in 1D arrays and compute the sum of exp(phi)*K(k|l) for each star\n",
    "    Kphi_sum_tot = np.log(Kphi[Kphi != 0]).sum() # To make sure we don't get infinities and .sum() gives the double sum in the first term\n",
    "    \n",
    "    phi_unr = np.reshape(phi, n)\n",
    "    phixhi_sum = (sec_der(phi_unr, sigma2, dv) ** 2).sum()\n",
    "    \n",
    "    t1 = Kphi_sum_tot / N\n",
    "    t2 = exphi_csc.sum()\n",
    "    t3 = ((alpha * dv[0] * dv[1] * dv[2]) / 2) * phixhi_sum\n",
    "    \n",
    "    L_tilde = t1 - t2 - t3 # eq. 31 in DB98\n",
    "        \n",
    "    neg_L = -1 * L_tilde  # Since we want to maximize L_tilde, we should minimize -L_tilde\n",
    "    return neg_L\n",
    "\n",
    "def grad_neg_L_calc(phi, *args):\n",
    "    \"\"\"In this function we compute the gradient of L. We compute the derivative for each cell and return a\n",
    "    1D array of length (nx*ny*nz).\n",
    "\n",
    "    args: see get_L\n",
    "\n",
    "    \"\"\"\n",
    "    Kvals, N, alpha, dv, n, sigma2 = args\n",
    "    \n",
    "    \n",
    "    exphir = np.exp(phi)\n",
    "    exphi_csc = scisp.coo_matrix(exphir).tocsc()\n",
    "    \n",
    "    Kphi = exphi_csc.multiply(Kvals)\n",
    "    Kphi_sum = Kphi.sum(axis=1)\n",
    "    Kphi_sum[Kphi_sum.nonzero()] = 1 / Kphi_sum[Kphi_sum.nonzero()] # We compute the sum of exp(phi)*K(k|l) for each star\n",
    "    K_term0 = Kphi.multiply(Kphi_sum)\n",
    "    K_term = K_term0.sum(axis=0) # The final array with the first term for each cell\n",
    "    \n",
    "    phi_unr = np.reshape(phi,n)\n",
    "    dphixhi = grad_sec_der(phi_unr, sigma2, dv)   \n",
    "    \n",
    "    t1 = K_term/N\n",
    "    t2 = exphi_csc\n",
    "    t3 = ((alpha * dv[0] * dv[1] * dv[2]) / 2) * dphixhi.ravel()\n",
    "    \n",
    "    grad_L = np.asarray(t1 - t2 - t3).reshape(len(phi), )\n",
    "    \n",
    "    neg_grad_L = -1 * grad_L\n",
    "    return neg_grad_L"
   ]
  },
  {
   "cell_type": "code",
   "execution_count": 397,
   "metadata": {},
   "outputs": [],
   "source": [
    "N = 5000 #Number of stars we want to use in our sample\n",
    "sample, vx, vy, vz = Deproject_v1_0.model_sample(N)\n",
    "\n",
    "pvals, rhatvals = Deproject_v1_0.calc_p_rhat(sample)\n",
    "sigma2, vmean0 = Deproject_v1_0.calc_sigma2(pvals,rhatvals,True)\n",
    "sigma = np.sqrt(sigma2)\n",
    "\n",
    "n = np.array([20,20,20])\n",
    "dv = np.array([10,10,10])\n",
    "vmin = np.array([-100,-100,-100])\n",
    "\n",
    "alpha_guess = 1e-9\n",
    "v_guess = np.array([1,1,1])\n",
    "disp_guess = np.array([22,17,30])\n",
    "\n",
    "Kvals = KvalsNumpyMethod(pvals, rhatvals, vmin, dv, n)\n",
    "\n",
    "nx, ny, nz = n\n",
    "phi0 = phi_guess(vmean0,sigma,vmin,dv,n)  \n",
    "phi0r = np.ravel(phi0)\n",
    "\n",
    "args = (Kvals, N, alpha_guess, dv, n, sigma2)"
   ]
  },
  {
   "cell_type": "code",
   "execution_count": 398,
   "metadata": {},
   "outputs": [
    {
     "name": "stdout",
     "output_type": "stream",
     "text": [
      "Started fmin_cg... \u001b[4m\u001b[1m\u001b[32mFinished!\u001b[0m\n",
      "Optimization terminated sucessfully.\n",
      "         Current function value : 10.177883\n",
      "         Iterations             : 1606\n",
      "         Function evaluations   : 8035\n",
      "         Gradient evaluations   : 8035\n",
      "\n"
     ]
    }
   ],
   "source": [
    "print('Started fmin_cg... ',end='')\n",
    "mxl, fopt, fcalls, gcalls, flag, phi_all = fmin_cg(neg_L_calc, phi0r, fprime=grad_neg_L_calc, gtol=1e-8, args=args, retall=True, disp=False, full_output=True)\n",
    "print(colored('Finished!','green',attrs=['bold','underline']))\n",
    "fmin_it = np.shape(phi_all)[0] - 1\n",
    "fmin_cg_output(fopt, fcalls, gcalls, flag, fmin_it)"
   ]
  },
  {
   "cell_type": "code",
   "execution_count": 401,
   "metadata": {},
   "outputs": [],
   "source": [
    "def nonp():\n",
    "    x = []\n",
    "    for i in range(1000):\n",
    "        x.append(i)\n",
    "    x = np.asarray(x)\n",
    "    return x\n",
    "\n",
    "def withnp():\n",
    "    x = np.array([])\n",
    "    for i in range(1000):\n",
    "        x = np.append(x,i)\n",
    "    return x"
   ]
  },
  {
   "cell_type": "code",
   "execution_count": 407,
   "metadata": {},
   "outputs": [],
   "source": [
    "x_a = nonp()\n",
    "x_b = withnp()"
   ]
  },
  {
   "cell_type": "code",
   "execution_count": 409,
   "metadata": {},
   "outputs": [
    {
     "name": "stdout",
     "output_type": "stream",
     "text": [
      "510 µs ± 8.76 µs per loop (mean ± std. dev. of 7 runs, 1000 loops each)\n"
     ]
    }
   ],
   "source": [
    "%%timeit\n",
    "x = []\n",
    "for i in range(1000):\n",
    "    x.append((((i**2)**0.5)**2)**0.5)\n",
    "x = np.asarray(x)"
   ]
  },
  {
   "cell_type": "code",
   "execution_count": 410,
   "metadata": {},
   "outputs": [
    {
     "name": "stdout",
     "output_type": "stream",
     "text": [
      "4.97 ms ± 91.5 µs per loop (mean ± std. dev. of 7 runs, 100 loops each)\n"
     ]
    }
   ],
   "source": [
    "%%timeit\n",
    "x = np.array([])\n",
    "for i in range(1000):\n",
    "    x = np.append(x,(((i**2)**0.5)**2)**0.5)"
   ]
  },
  {
   "cell_type": "code",
   "execution_count": 408,
   "metadata": {},
   "outputs": [
    {
     "name": "stdout",
     "output_type": "stream",
     "text": [
      "<class 'numpy.ndarray'> (1000,)\n",
      "<class 'numpy.ndarray'> (1000,)\n"
     ]
    }
   ],
   "source": [
    "print(type(x_a),x_a.shape)\n",
    "print(type(x_b),x_b.shape)"
   ]
  },
  {
   "cell_type": "code",
   "execution_count": null,
   "metadata": {},
   "outputs": [],
   "source": []
  }
 ],
 "metadata": {
  "kernelspec": {
   "display_name": "Python 3",
   "language": "python",
   "name": "python3"
  },
  "language_info": {
   "codemirror_mode": {
    "name": "ipython",
    "version": 3
   },
   "file_extension": ".py",
   "mimetype": "text/x-python",
   "name": "python",
   "nbconvert_exporter": "python",
   "pygments_lexer": "ipython3",
   "version": "3.7.3"
  }
 },
 "nbformat": 4,
 "nbformat_minor": 4
}
