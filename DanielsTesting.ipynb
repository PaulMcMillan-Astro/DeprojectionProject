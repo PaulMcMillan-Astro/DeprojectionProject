{
 "cells": [
  {
   "cell_type": "code",
   "execution_count": 1,
   "metadata": {},
   "outputs": [],
   "source": [
    "%load_ext autoreload\n",
    "%autoreload 2"
   ]
  },
  {
   "cell_type": "code",
   "execution_count": 2,
   "metadata": {},
   "outputs": [],
   "source": [
    "%reset -sf"
   ]
  },
  {
   "cell_type": "code",
   "execution_count": 381,
   "metadata": {},
   "outputs": [],
   "source": [
    "#### import importlib\n",
    "import Deproject_v1_0 \n",
    "from Deproject_test import *\n",
    "from Deproject_plots import DM_plt_prefs\n",
    "DM_plt_prefs()\n",
    "import matplotlib.pyplot as plt\n",
    "import os\n",
    "import cProfile\n",
    "import numpy as np\n",
    "import builtins\n",
    "from scipy import sparse as scisp\n",
    "from scipy import optimize as sopt\n",
    "from scipy.ndimage import zoom\n",
    "from matplotlib.colors import LogNorm\n",
    "from matplotlib.patches import Rectangle\n",
    "from timeit import default_timer as timer\n",
    "from fast_kde import fast_kde\n",
    "from astropy.table import QTable\n",
    "from astropy.io.ascii import read as tableread\n",
    "import astropy.units as u\n",
    "import astropy.coordinates as coord\n",
    "np.random.seed(0)\n",
    "path = '/home/daniel/DeprojectionProject'"
   ]
  },
  {
   "cell_type": "code",
   "execution_count": 4,
   "metadata": {
    "scrolled": true
   },
   "outputs": [
    {
     "name": "stdout",
     "output_type": "stream",
     "text": [
      "/home/daniel/DeprojectionProject/DATA\n"
     ]
    }
   ],
   "source": [
    "from Deproject_v1_0 import *\n",
    "\n",
    "%cd ~/DeprojectionProject/DATA"
   ]
  },
  {
   "cell_type": "code",
   "execution_count": 388,
   "metadata": {},
   "outputs": [],
   "source": [
    "def get_vars(folder):\n",
    "    with open(f'{folder}/log.txt') as log:\n",
    "        lines = log.readlines()\n",
    "        n = np.array([int(i) for i in lines[4].split(',')[0][14:][1:-1].split()])\n",
    "        vmin = np.array([float(i) for i in lines[4].split(',')[1][2:-1].split()])\n",
    "        dv = np.array([float(i) for i in lines[4].split(',')[2][2:-1].split()])\n",
    "        vmax = vmin + n*dv\n",
    "\n",
    "    xbins = np.linspace(vmin[0], vmax[0], n[0]+1)\n",
    "    ybins = np.linspace(vmin[1], vmax[1], n[1]+1)\n",
    "    zbins = np.linspace(vmin[2], vmax[2], n[2]+1)\n",
    "\n",
    "    xc = (xbins[1:] + xbins[:-1])/2\n",
    "    yc = (ybins[1:] + ybins[:-1])/2\n",
    "    zc = (zbins[1:] + zbins[:-1])/2\n",
    "\n",
    "    centers = np.array([xc, yc, zc], dtype=object)\n",
    "\n",
    "    return n, vmin, dv, vmax, centers"
   ]
  },
  {
   "cell_type": "markdown",
   "metadata": {},
   "source": [
    "## Create true five_gauss distribution"
   ]
  },
  {
   "cell_type": "code",
   "execution_count": null,
   "metadata": {},
   "outputs": [],
   "source": [
    "vx_bins = np.linspace(vmin[0], vmax[0], n[0]+1)\n",
    "vy_bins = np.linspace(vmin[1], vmax[1], n[1]+1)\n",
    "vz_bins = np.linspace(vmin[2], vmax[2], n[2]+1)\n",
    "\n",
    "vxc = (vx_bins[1:] + vx_bins[:-1]) / 2\n",
    "vyc = (vy_bins[1:] + vy_bins[:-1]) / 2\n",
    "vzc = (vz_bins[1:] + vz_bins[:-1]) / 2\n",
    "\n",
    "\"\"\"Given the velocities of each bin we compute the 3D Gaussian value.\"\"\"\n",
    "\n",
    "pos = np.stack(np.meshgrid(vxc,vyc,vzc, indexing='ij'),axis=3)\n",
    "\n",
    "f1 = st.multivariate_normal(mean=np.array([200,     0, 0]), cov=np.diag(np.array([30, 30, 30])**2))\n",
    "f2 = st.multivariate_normal(mean=np.array([200,  -400, 0]), cov=np.diag(np.array([30, 30, 30])**2))\n",
    "f3 = st.multivariate_normal(mean=np.array([-200,    0, 0]), cov=np.diag(np.array([30, 30, 30])**2))\n",
    "f4 = st.multivariate_normal(mean=np.array([-200, -400, 0]), cov=np.diag(np.array([30, 30, 30])**2))\n",
    "f5 = st.multivariate_normal(mean=np.array([0,    -200, 0]), cov=np.diag(np.array([30, 30, 30])**2))\n",
    "\n",
    "fv_true = np.prod(dv)*(f1.pdf(pos) + f2.pdf(pos) + f3.pdf(pos) + f4.pdf(pos) + f5.pdf(pos))/5"
   ]
  },
  {
   "cell_type": "code",
   "execution_count": null,
   "metadata": {},
   "outputs": [],
   "source": [
    "plt.pcolormesh(vxc, vyc, fv_true.sum(axis=2).T)"
   ]
  },
  {
   "cell_type": "markdown",
   "metadata": {},
   "source": [
    "## Load derived five_gauss distribution"
   ]
  },
  {
   "cell_type": "code",
   "execution_count": null,
   "metadata": {},
   "outputs": [],
   "source": [
    "fv_dict = np.load(f'{path}/RUNS/2022-04-29a/mxl_data.npy', allow_pickle=True).item()\n",
    "# get_fv(fv_dict[list(fv_dict.keys())[-1]], 'xy')"
   ]
  },
  {
   "cell_type": "code",
   "execution_count": null,
   "metadata": {},
   "outputs": [],
   "source": [
    "plt.pcolormesh(vxc,\n",
    "               vyc,\n",
    "               np.exp(fv_dict[list(fv_dict.keys())[-1]]).sum(axis=2).T)"
   ]
  },
  {
   "cell_type": "code",
   "execution_count": null,
   "metadata": {},
   "outputs": [],
   "source": [
    "phi_true = np.log(fv_true).ravel()\n",
    "phi_est = fv_dict[list(fv_dict.keys())[-1]].ravel()"
   ]
  },
  {
   "cell_type": "code",
   "execution_count": 549,
   "metadata": {},
   "outputs": [],
   "source": [
    "data[:20000].write('wds_small.vot', format='votable')"
   ]
  },
  {
   "cell_type": "markdown",
   "metadata": {},
   "source": [
    "## Calculate the kvals of five_gauss sample"
   ]
  },
  {
   "cell_type": "code",
   "execution_count": 536,
   "metadata": {},
   "outputs": [
    {
     "name": "stdout",
     "output_type": "stream",
     "text": [
      "Sample has 129675 stars\n",
      "\n"
     ]
    }
   ],
   "source": [
    "data = QTable.read('500pc/3sigma/wds.vot', format='votable')\n",
    "#data = data[data['parallax'] > 0.5*u.mas]\n",
    "dist = coord.Distance(parallax=data['parallax']*1000)\n",
    "RA = data['ra']\n",
    "DEC = data['dec']\n",
    "plx = data['parallax']\n",
    "pm_RA = data['pmra'].value*u.mas/u.yr*1000\n",
    "pm_DEC = data['pmdec'].value*u.mas/u.yr*1000\n",
    "print(\"Sample has \" + str(len(dist)) + \" stars\\n\")\n",
    "sample = coord.SkyCoord(ra=RA,\n",
    "                       dec=DEC,\n",
    "                       distance=dist,\n",
    "                       pm_ra_cosdec=pm_RA,\n",
    "                       pm_dec=pm_DEC,\n",
    "                       radial_velocity=np.zeros(len(RA))*u.km/u.s,\n",
    "                       frame='icrs').galactic"
   ]
  },
  {
   "cell_type": "code",
   "execution_count": 508,
   "metadata": {},
   "outputs": [],
   "source": [
    "rhat = sample.spherical.unit_vectors()['distance'].xyz.T\n",
    "pvals = sample.velocity.d_xyz.T.unmasked.value"
   ]
  },
  {
   "cell_type": "code",
   "execution_count": 528,
   "metadata": {},
   "outputs": [],
   "source": [
    "sample_polar = sample.galactocentric\n",
    "sample_polar.representation_type = 'spherical'\n",
    "sample_polar.differential_type = 'spherical'\n",
    "\n",
    "theta = 90*u.deg - sample_polar.lat\n",
    "phi = sample_polar.lon\n",
    "r = sample_polar.distance\n",
    "\n",
    "vr = sample_polar.radial_velocity\n",
    "vtheta = r*sample_polar.pm_lat.to(u.km / (u.s * u.pc), equivalencies=u.dimensionless_angles())\n",
    "vphi = r*np.sin(theta)*sample_polar.pm_lon.to(u.km / (u.s * u.pc), equivalencies=u.dimensionless_angles())\n",
    "pvals_polar = (np.array([vr.to(u.km/u.s).value, vtheta.to(u.km/u.s).value, vphi.to(u.km/u.s).value])*u.km/u.s).T"
   ]
  },
  {
   "cell_type": "code",
   "execution_count": 535,
   "metadata": {},
   "outputs": [
    {
     "data": {
      "text/plain": [
       "array([-0.79583631, -0.03490539, -0.60450491])"
      ]
     },
     "execution_count": 535,
     "metadata": {},
     "output_type": "execute_result"
    }
   ],
   "source": [
    "rhat_polar[20]"
   ]
  },
  {
   "cell_type": "code",
   "execution_count": 511,
   "metadata": {},
   "outputs": [],
   "source": [
    "rhat_polar = np.array([[np.sin(theta)*np.cos(phi)*rhat[:, 0] + np.sin(theta)*np.sin(phi)*rhat[:, 1] + np.cos(theta)*rhat[:, 2]],\n",
    "                       [np.cos(theta)*np.cos(phi)*rhat[:, 0] + np.cos(theta)*np.sin(phi)*rhat[:, 1] - np.sin(theta)*rhat[:, 2]],\n",
    "                       [-np.sin(phi)*rhat[:, 0] + np.cos(phi)*rhat[:, 1]]]).squeeze().T"
   ]
  },
  {
   "cell_type": "code",
   "execution_count": null,
   "metadata": {},
   "outputs": [],
   "source": [
    "rng = np.random.default_rng()\n",
    "uu, vv, ww = rng.multivariate_normal(mean=[0, 0, 0], \n",
    "                                     cov=np.identity(3)*np.array([10, 10, 10])**2,\n",
    "                                     size=100_000).T\n",
    "\n",
    "costheta = np.random.uniform(-1,1, len(uu))\n",
    "phi = np.random.uniform(0,2*np.pi,len(uu))\n",
    "r = 2 * np.random.uniform(0,1,len(uu))**(1/3)\n",
    "\n",
    "theta = np.arccos(costheta)\n",
    "\n",
    "x = rho*np.cos(phi)*np.sin(theta)\n",
    "y = rho*np.sin(phi)*np.sin(theta)\n",
    "z = rho*np.cos(theta)\n",
    "\n",
    "sample = coord.Galactic(u=x*u.pc,\n",
    "                        v=y*u.pc,\n",
    "                        w=z*u.pc,\n",
    "                        U=uu*u.km/u.s,\n",
    "                        V=vv*u.km/u.s,\n",
    "                        W=ww*u.km/u.s,\n",
    "                        representation_type=coord.CartesianRepresentation,\n",
    "                        differential_type=coord.CartesianDifferential)\n",
    "sample_sc = coord.SkyCoord(sample)\n",
    "sample_sc.representation_type = 'spherical' \n",
    "sample_sc.differential_type = 'sphericalcoslat' "
   ]
  },
  {
   "cell_type": "code",
   "execution_count": null,
   "metadata": {},
   "outputs": [],
   "source": [
    "b = sample_sc.b[0]\n",
    "l = sample_sc.l[0]\n",
    "cosl = np.cos(l)\n",
    "cosb = np.cos(b)\n",
    "sinl = np.sin(l)\n",
    "sinb = np.sin(b)\n",
    "rhatvals = np.array([cosb * cosl, cosb * sinl, sinb]).T\n",
    "rhatvals"
   ]
  },
  {
   "cell_type": "code",
   "execution_count": null,
   "metadata": {},
   "outputs": [],
   "source": [
    "pvals.shape"
   ]
  },
  {
   "cell_type": "code",
   "execution_count": null,
   "metadata": {},
   "outputs": [],
   "source": [
    "sample_reverse.representation_type = 'cartesian'\n",
    "sample_reverse.differential_type = 'cartesian'"
   ]
  },
  {
   "cell_type": "code",
   "execution_count": null,
   "metadata": {},
   "outputs": [],
   "source": [
    "pvals_polar, rhat_polar = calc_p_rhat(sample_sc, polar=True)\n",
    "pvals, rhat = calc_p_rhat(sample_sc)"
   ]
  },
  {
   "cell_type": "code",
   "execution_count": 38,
   "metadata": {},
   "outputs": [
    {
     "data": {
      "text/plain": [
       "(129675, 3)"
      ]
     },
     "execution_count": 38,
     "metadata": {},
     "output_type": "execute_result"
    }
   ],
   "source": [
    "pvals.shape"
   ]
  },
  {
   "cell_type": "code",
   "execution_count": 9,
   "metadata": {},
   "outputs": [],
   "source": [
    "vmin_polar = np.array([-150, -150, -150-245])\n",
    "vmax_polar = np.array([150, 150, 150-245])\n",
    "n_polar = np.array([100, 100, 100])\n",
    "dv_polar = (vmax_polar - vmin_polar)/n_polar\n",
    "\n",
    "vmin = np.array([-150, -150, -150])\n",
    "vmax = np.array([150, 150, 150])\n",
    "n = np.array([100, 100, 100])\n",
    "dv = (vmax - vmin)/n"
   ]
  },
  {
   "cell_type": "code",
   "execution_count": 49,
   "metadata": {},
   "outputs": [],
   "source": [
    "Kvals_A = KvalsSparseMethod(pvals, rhat.unmasked.value, vmin, dv, n)\n",
    "\n",
    "pvalsb = pvals.copy()\n",
    "pvalsb[:, 1] -= 245\n",
    "vminb = vmin - np.array([0, 245, 0])\n",
    "vmaxb = vmax - np.array([0, 245, 0])\n",
    "\n",
    "Kvals_B = KvalsSparseMethod(pvalsb, rhat.unmasked.value, vminb, dv, n)"
   ]
  },
  {
   "cell_type": "code",
   "execution_count": 24,
   "metadata": {},
   "outputs": [],
   "source": [
    "Kvals_polar = KvalsSparseMethod(pvals_polar.value, rhat_polar, vmin_polar, dv_polar, n_polar)"
   ]
  },
  {
   "cell_type": "code",
   "execution_count": 50,
   "metadata": {},
   "outputs": [],
   "source": [
    "Kvals_A = np.array(Kvals_A.sum(axis=0)).reshape(n)\n",
    "Kvals_B = np.array(Kvals_B.sum(axis=0)).reshape(n)\n",
    "#Kvals_polar = np.array(Kvals_polar.sum(axis=0)).reshape(n_polar)"
   ]
  },
  {
   "cell_type": "code",
   "execution_count": null,
   "metadata": {},
   "outputs": [],
   "source": [
    "Rs = np.array([[np.sin(thetas)*np.cos(phis), np.sin(thetas)*np.sin(phis), np.cos(thetas)],\n",
    "             [np.cos(thetas)*np.cos(phis), np.cos(thetas)*np.sin(phis), -np.sin(thetas)],\n",
    "             [-np.sin(phis), np.cos(phis), np.zeros_like(phis)]])"
   ]
  },
  {
   "cell_type": "code",
   "execution_count": 374,
   "metadata": {},
   "outputs": [
    {
     "data": {
      "image/png": "[encoded data removed]",
      "text/plain": [
       "<Figure size 432x432 with 1 Axes>"
      ]
     },
     "metadata": {
      "needs_background": "light"
     },
     "output_type": "display_data"
    }
   ],
   "source": [
    "plt.figure()\n",
    "plt.pcolor(np.flip(Kvals_polar.sum(axis=1)) - Kvals.sum(axis=2))\n",
    "plt.show()"
   ]
  },
  {
   "cell_type": "code",
   "execution_count": 524,
   "metadata": {},
   "outputs": [],
   "source": [
    "Kvals_c = np.array(Kvals_cart.sum(axis=0)).reshape(n_cart)\n",
    "Kvals_s = np.array(Kvals_spher.sum(axis=0)).reshape(n_spher)"
   ]
  },
  {
   "cell_type": "code",
   "execution_count": 554,
   "metadata": {},
   "outputs": [
    {
     "data": {
      "image/png": "[encoded data removed]",
      "text/plain": [
       "<Figure size 432x432 with 1 Axes>"
      ]
     },
     "metadata": {
      "needs_background": "light"
     },
     "output_type": "display_data"
    },
    {
     "data": {
      "image/png": "[encoded data removed]",
      "text/plain": [
       "<Figure size 432x432 with 1 Axes>"
      ]
     },
     "metadata": {
      "needs_background": "light"
     },
     "output_type": "display_data"
    }
   ],
   "source": [
    "plt.figure()\n",
    "plt.imshow(np.flip(Kvals_s.sum(axis=1).T, axis=1)**2**2)\n",
    "plt.show()\n",
    "\n",
    "plt.figure()\n",
    "plt.imshow(np.flip(Kvals_c.sum(axis=2), axis=1).T**2**2)\n",
    "plt.show()"
   ]
  },
  {
   "cell_type": "markdown",
   "metadata": {},
   "source": [
    "## Investigate terms"
   ]
  },
  {
   "cell_type": "code",
   "execution_count": 521,
   "metadata": {},
   "outputs": [],
   "source": [
    "n_cart, vmin_cart, dv_cart, vmax_cart, centers_cart = get_vars(f'{path}/RUNS/2022-05-23b')\n",
    "n_spher, vmin_spher, dv_spher, vmax_spher, centers_spher = get_vars(f'{path}/RUNS/2022-05-23c')"
   ]
  },
  {
   "cell_type": "code",
   "execution_count": 522,
   "metadata": {},
   "outputs": [],
   "source": [
    "Kvals_cart = KvalsSparseMethod(pvals, rhat.unmasked.value, vmin_cart, dv_cart, n_cart)\n",
    "Kvals_spher = KvalsSparseMethod(pvals_polar.value, rhat_polar, vmin_spher, dv_spher, n_spher)"
   ]
  },
  {
   "cell_type": "code",
   "execution_count": 401,
   "metadata": {},
   "outputs": [],
   "source": [
    "mxl_cart = np.load(f'{path}/RUNS/2022-05-23b/mxl_data.npy', allow_pickle=True).item()\n",
    "mxl_spher = np.load(f'{path}/RUNS/2022-05-23c/mxl_data.npy', allow_pickle=True).item()"
   ]
  },
  {
   "cell_type": "code",
   "execution_count": 408,
   "metadata": {},
   "outputs": [],
   "source": [
    "phi0r_cart = (mxl_cart[list(mxl_cart.keys())[-1]].ravel())\n",
    "phi0r_spher = (mxl_spher[list(mxl_spher.keys())[-1]].ravel())"
   ]
  },
  {
   "cell_type": "code",
   "execution_count": 403,
   "metadata": {},
   "outputs": [],
   "source": [
    "N = len(pvals)"
   ]
  },
  {
   "cell_type": "code",
   "execution_count": 404,
   "metadata": {},
   "outputs": [],
   "source": [
    "sigma2_cart = np.array([36.84870706447867, 27.271948256861982, 19.519166693304086])**2\n",
    "sigma2_spher = np.array([36.76545062433692, 19.51744627671726, 27.271755387816768])**2"
   ]
  },
  {
   "cell_type": "code",
   "execution_count": 417,
   "metadata": {},
   "outputs": [
    {
     "data": {
      "text/plain": [
       "-10.11602325951665"
      ]
     },
     "execution_count": 417,
     "metadata": {},
     "output_type": "execute_result"
    }
   ],
   "source": [
    "-9.108254966513236 - 1.00210873815844 - 0.00565955484497322"
   ]
  },
  {
   "cell_type": "code",
   "execution_count": 423,
   "metadata": {},
   "outputs": [
    {
     "name": "stdout",
     "output_type": "stream",
     "text": [
      "-9.32311105442553 1.00210873815844 0.005843879434705164\n",
      "10.331063672018674\n",
      "-9.108254966513236 0.9992852779305849 0.00565955484497322\n",
      "10.113199799288795\n"
     ]
    }
   ],
   "source": [
    "print(get_neg_L(phi0r_cart, Kvals_cart, N, 1e-11, dv_cart, n_cart, sigma2_cart))\n",
    "print(get_neg_L(phi0r_spher, Kvals_spher, N, 1e-11, dv_spher, n_spher, sigma2_spher))"
   ]
  },
  {
   "cell_type": "code",
   "execution_count": 413,
   "metadata": {},
   "outputs": [
    {
     "name": "stdout",
     "output_type": "stream",
     "text": [
      "4.403378203819359e-05\n",
      "1.9377894055547773e-05\n"
     ]
    }
   ],
   "source": [
    "print(np.linalg.norm(get_grad_neg_L(phi0r_cart, Kvals_cart, N, 1e-11, dv_cart, n_cart, sigma2_cart)))\n",
    "print(np.linalg.norm(get_grad_neg_L(phi0r_spher, Kvals_spher, N, 1e-11, dv_spher, n_spher, sigma2_spher)))"
   ]
  },
  {
   "cell_type": "code",
   "execution_count": 548,
   "metadata": {},
   "outputs": [
    {
     "data": {
      "text/plain": [
       "array([ 150.,  100., -100.])"
      ]
     },
     "execution_count": 548,
     "metadata": {},
     "output_type": "execute_result"
    }
   ],
   "source": [
    "vmax_spher"
   ]
  },
  {
   "cell_type": "markdown",
   "metadata": {},
   "source": [
    "## Calculate Pvals_polar from scratch"
   ]
  },
  {
   "cell_type": "code",
   "execution_count": 445,
   "metadata": {},
   "outputs": [],
   "source": [
    "l = sample.l\n",
    "b = sample.b\n",
    "mul = sample.pm_l_cosb.to(u.km / (u.s * u.kpc), equivalencies=u.dimensionless_angles())\n",
    "mub = sample.pm_b.to(u.km / (u.s * u.kpc), equivalencies=u.dimensionless_angles())\n",
    "p = sample.distance.to(u.kpc)"
   ]
  },
  {
   "cell_type": "code",
   "execution_count": 448,
   "metadata": {},
   "outputs": [],
   "source": [
    "pvals = p.value * np.array([-np.sin(l)*np.cos(b)*mul - np.cos(l)*np.sin(b)*mub,\n",
    "                      np.cos(l)*np.cos(b)*mul - np.sin(l)*np.sin(b)*mub,\n",
    "                      np.cos(b)*mub])\n",
    "rhatvals = np.array([np.cos(b)*np.sin(l), np.cos(b)*np.sin(l), np.sin(b)])"
   ]
  },
  {
   "cell_type": "code",
   "execution_count": 478,
   "metadata": {},
   "outputs": [
    {
     "data": {
      "text/plain": [
       "(129675, 3)"
      ]
     },
     "execution_count": 478,
     "metadata": {},
     "output_type": "execute_result"
    }
   ],
   "source": [
    "pvals.shape"
   ]
  },
  {
   "cell_type": "code",
   "execution_count": 499,
   "metadata": {},
   "outputs": [
    {
     "data": {
      "image/png": "[encoded data removed]",
      "text/plain": [
       "<Figure size 432x432 with 1 Axes>"
      ]
     },
     "metadata": {
      "needs_background": "light"
     },
     "output_type": "display_data"
    }
   ],
   "source": [
    "plt.hist2d(pvals[:, 1], pvals[:, 2], bins=50, range=[[-50, 50], [-50, 50]])\n",
    "plt.show()"
   ]
  },
  {
   "cell_type": "code",
   "execution_count": 500,
   "metadata": {},
   "outputs": [
    {
     "data": {
      "image/png": "[encoded data removed]",
      "text/plain": [
       "<Figure size 432x432 with 1 Axes>"
      ]
     },
     "metadata": {
      "needs_background": "light"
     },
     "output_type": "display_data"
    }
   ],
   "source": [
    "plt.hist2d(-pvals_polar[:, 2].value, pvals_polar[:, 1].value, bins=50, range=[[200, 300], [-50, 50]])\n",
    "plt.show()"
   ]
  },
  {
   "cell_type": "code",
   "execution_count": 520,
   "metadata": {},
   "outputs": [
    {
     "data": {
      "image/png": "[encoded data removed]",
      "text/plain": [
       "<Figure size 432x432 with 1 Axes>"
      ]
     },
     "metadata": {
      "needs_background": "light"
     },
     "output_type": "display_data"
    }
   ],
   "source": [
    "plt.hist(pvals[:, 2] - pvals_polar[:, 1].value, bins=100)\n",
    "plt.show()"
   ]
  },
  {
   "cell_type": "code",
   "execution_count": 515,
   "metadata": {},
   "outputs": [
    {
     "data": {
      "text/plain": [
       "array([-12.87613923, -12.87836029, -12.87500107, ..., -12.87303865,\n",
       "       -12.8824299 , -12.88887194])"
      ]
     },
     "execution_count": 515,
     "metadata": {},
     "output_type": "execute_result"
    }
   ],
   "source": [
    "pvals[:, 1] + pvals_polar[:, 0].value"
   ]
  },
  {
   "cell_type": "code",
   "execution_count": null,
   "metadata": {},
   "outputs": [],
   "source": []
  },
  {
   "cell_type": "code",
   "execution_count": 282,
   "metadata": {
    "scrolled": false
   },
   "outputs": [
    {
     "data": {
      "image/png": "[encoded data removed]",
      "text/plain": [
       "<Figure size 720x720 with 1 Axes>"
      ]
     },
     "metadata": {
      "needs_background": "light"
     },
     "output_type": "display_data"
    }
   ],
   "source": [
    "vx = np.linspace(vmin[0], vmax[0], n[0])\n",
    "vy = np.linspace(vmin[1], vmax[1], n[1])\n",
    "\n",
    "plt.figure(figsize=(10, 10))\n",
    "plt.pcolormesh(vx, vy, (Kvals.sum(axis=2).T)**2)\n",
    "plt.gca().set_aspect('equal')\n",
    "plt.xlabel('$v_x$')\n",
    "plt.ylabel('$v_y$')\n",
    "plt.show()"
   ]
  },
  {
   "cell_type": "code",
   "execution_count": 257,
   "metadata": {},
   "outputs": [
    {
     "data": {
      "text/latex": [
       "$[12.9,~245.6,~7.78] \\; \\mathrm{\\frac{km}{s}}$"
      ],
      "text/plain": [
       "<Quantity [ 12.9 , 245.6 ,   7.78] km / s>"
      ]
     },
     "execution_count": 257,
     "metadata": {},
     "output_type": "execute_result"
    }
   ],
   "source": [
    "vsun = coord.Galactocentric().galcen_v_sun.d_xyz"
   ]
  },
  {
   "cell_type": "code",
   "execution_count": 258,
   "metadata": {},
   "outputs": [],
   "source": [
    "theta = 90*u.deg - sample_polar.lat\n",
    "phi = sample_polar.lon"
   ]
  },
  {
   "cell_type": "code",
   "execution_count": 262,
   "metadata": {},
   "outputs": [],
   "source": [
    "R = np.array([[np.sin(theta)*np.cos(phi), np.sin(theta)*np.sin(phi), np.cos(theta)],\n",
    "              [np.cos(theta)*np.cos(phi), np.cos(theta)*np.sin(phi), -np.sin(theta)],\n",
    "              [-np.sin(phi), np.cos(phi), np.zeros(len(phi))]]).transpose(2, 0, 1)"
   ]
  },
  {
   "cell_type": "code",
   "execution_count": 266,
   "metadata": {},
   "outputs": [],
   "source": [
    "vsun_polar = np.einsum('...ikj,...j->...ik', R, vsun)"
   ]
  },
  {
   "cell_type": "code",
   "execution_count": 274,
   "metadata": {},
   "outputs": [],
   "source": [
    "p = (pvals_polar - vsun_polar)\n",
    "A = np.identity(3) - rhat_polar[..., np.newaxis] * rhat_polar[..., np.newaxis, :]"
   ]
  },
  {
   "cell_type": "code",
   "execution_count": 276,
   "metadata": {},
   "outputs": [],
   "source": [
    "phat = p + np.einsum('...ikj,...ij->...ik', A, vsun_polar)"
   ]
  },
  {
   "cell_type": "code",
   "execution_count": 278,
   "metadata": {},
   "outputs": [],
   "source": [
    "v_mean_polar = np.einsum('...ij,...j->...i', np.linalg.inv(A.mean(axis=-3)), phat.mean(axis=0))"
   ]
  },
  {
   "cell_type": "code",
   "execution_count": 279,
   "metadata": {},
   "outputs": [
    {
     "data": {
      "text/latex": [
       "$[-3.5167311,~9.4844027,~-221.55998] \\; \\mathrm{\\frac{km}{s}}$"
      ],
      "text/plain": [
       "<Quantity [  -3.51673112,    9.48440268, -221.55998276] km / s>"
      ]
     },
     "execution_count": 279,
     "metadata": {},
     "output_type": "execute_result"
    }
   ],
   "source": [
    "v_mean_polar"
   ]
  },
  {
   "cell_type": "code",
   "execution_count": 280,
   "metadata": {},
   "outputs": [
    {
     "data": {
      "text/plain": [
       "array([ -9.33968667, -23.51585739,  -7.68871402])"
      ]
     },
     "execution_count": 280,
     "metadata": {},
     "output_type": "execute_result"
    }
   ],
   "source": [
    "v_mean_A"
   ]
  },
  {
   "cell_type": "code",
   "execution_count": 244,
   "metadata": {},
   "outputs": [],
   "source": [
    "sun_gal.representation_type = 'spherical'\n",
    "sun_gal.differential_type = 'spherical'\n",
    "\n",
    "theta = 90*u.deg - sun_gal.lat\n",
    "r = sun_gal.cartesian.x\n",
    "\n",
    "vr = sun_gal.radial_velocity\n",
    "vtheta = r*sun_gal.pm_lat.to(u.km / (u.s * u.pc), equivalencies=u.dimensionless_angles())\n",
    "vphi = r*np.sin(np.deg2rad(theta))*sun_gal.pm_lon.to(u.km / (u.s * u.pc), equivalencies=u.dimensionless_angles())\n",
    "vsun_polar = (np.array([vr.to(u.km/u.s).value, vtheta.to(u.km/u.s).value, vphi.to(u.km/u.s).value])*u.km/u.s).T"
   ]
  },
  {
   "cell_type": "code",
   "execution_count": 127,
   "metadata": {},
   "outputs": [],
   "source": [
    "A = np.identity(3) - rhat[..., np.newaxis] * rhat[..., np.newaxis, :]\n",
    "A_mean_inv = np.linalg.inv(A.mean(axis=-3))\n",
    "\n",
    "pvals_B = pvals + np.einsum('...ikj,...j->...ik', A, vsun)\n",
    "\n",
    "pmean_A = pvals.mean(axis=-2)\n",
    "pmean_B = pvals_B.mean(axis=-2)\n",
    "\n",
    "v_mean_A = np.einsum('...ij,...j->...i', A_mean_inv, pmean_A)\n",
    "v_mean_B = np.einsum('...ij,...j->...i', A_mean_inv, pmean_B)\n",
    "\n",
    "pp_A = pvals - np.einsum('...ikj,...j->...ik', A, v_mean_A)\n",
    "pp_B = pvalsb - np.einsum('...ikj,...j->...ik', A, v_mean_B)\n",
    "\n",
    "pp2mean_A = np.mean(np.square(np.abs(pp_A)), axis=-2)\n",
    "pp2mean_B = np.mean(np.square(np.abs(pp_B)), axis=-2)"
   ]
  },
  {
   "cell_type": "code",
   "execution_count": 128,
   "metadata": {},
   "outputs": [
    {
     "data": {
      "text/plain": [
       "(array([ -9.33968667, -23.51585739,  -7.68871402]),\n",
       " array([  -9.33968667, -268.51585739,   -7.68871402]))"
      ]
     },
     "execution_count": 128,
     "metadata": {},
     "output_type": "execute_result"
    }
   ],
   "source": [
    "v_mean_A, v_mean_B"
   ]
  },
  {
   "cell_type": "code",
   "execution_count": 107,
   "metadata": {
    "scrolled": true
   },
   "outputs": [
    {
     "data": {
      "image/png": "[encoded data removed]",
      "text/plain": [
       "<Figure size 432x432 with 1 Axes>"
      ]
     },
     "metadata": {
      "needs_background": "light"
     },
     "output_type": "display_data"
    }
   ],
   "source": [
    "plt.hist(pp_A[:, 0], bins=100)\n",
    "plt.hist(pp_A[:, 1], bins=100)\n",
    "plt.hist(pp_A[:, 2], bins=100)\n",
    "plt.show()"
   ]
  },
  {
   "cell_type": "code",
   "execution_count": null,
   "metadata": {},
   "outputs": [],
   "source": []
  },
  {
   "cell_type": "code",
   "execution_count": 108,
   "metadata": {},
   "outputs": [
    {
     "data": {
      "image/png": "[encoded data removed]",
      "text/plain": [
       "<Figure size 432x432 with 1 Axes>"
      ]
     },
     "metadata": {
      "needs_background": "light"
     },
     "output_type": "display_data"
    }
   ],
   "source": [
    "plt.hist(pp_B[:, 0], bins=100)\n",
    "plt.hist(pp_B[:, 1], bins=100)\n",
    "plt.hist(pp_B[:, 2], bins=100)\n",
    "plt.show()"
   ]
  },
  {
   "cell_type": "code",
   "execution_count": null,
   "metadata": {},
   "outputs": [],
   "source": [
    "(Rs * (np.array([50, 50, 50])*v_sun.unit - v_sun)).sum(axis=1)"
   ]
  },
  {
   "cell_type": "code",
   "execution_count": 349,
   "metadata": {},
   "outputs": [
    {
     "data": {
      "image/png": "[encoded data removed]",
      "text/plain": [
       "<Figure size 864x864 with 1 Axes>"
      ]
     },
     "metadata": {
      "needs_background": "light"
     },
     "output_type": "display_data"
    }
   ],
   "source": [
    "vr = np.linspace(vmin_polar[0], vmax_polar[0], n_polar[0])\n",
    "vtheta = np.linspace(vmin_polar[1], vmax_polar[1], n_polar[1])\n",
    "vphi = np.linspace(vmin_polar[2], vmax_polar[2], n_polar[2])\n",
    "\n",
    "plt.figure(figsize=(12, 12))\n",
    "plt.pcolormesh(vphi, vr, Kvals_polar.sum(axis=1))\n",
    "plt.gca().set_aspect('equal')\n",
    "plt.ylabel('$v_r$')\n",
    "plt.xlabel('$v_\\phi$')\n",
    "plt.show()"
   ]
  },
  {
   "cell_type": "code",
   "execution_count": null,
   "metadata": {},
   "outputs": [],
   "source": [
    "(np.array([50, 50, 50])*v_sun.unit - v_sun).shape"
   ]
  },
  {
   "cell_type": "code",
   "execution_count": null,
   "metadata": {},
   "outputs": [],
   "source": [
    "gauss_data['ra'] = revert_gauss_sample.ra\n",
    "gauss_data['dec'] = revert_gauss_sample.dec\n",
    "gauss_data['parallax'] = revert_gauss_sample.distance.to(u.mas, equivalencies=u.parallax())\n",
    "gauss_data['dist'] = revert_gauss_sample.distance\n",
    "gauss_data['pmra'] = revert_gauss_sample.pm_ra_cosdec\n",
    "gauss_data['pmdec'] = revert_gauss_sample.pm_dec\n",
    "gauss_data['dr2_radial_velocity'] = revert_gauss_sample.radial_velocity"
   ]
  },
  {
   "cell_type": "code",
   "execution_count": null,
   "metadata": {},
   "outputs": [],
   "source": [
    "vmax = vmin + n*dv"
   ]
  },
  {
   "cell_type": "code",
   "execution_count": null,
   "metadata": {},
   "outputs": [],
   "source": [
    "sample_galcen = sample.transform_to(frame='galactocentric')\n",
    "x = sample_galcen.cartesian.x.value\n",
    "y = sample_galcen.cartesian.y.value\n",
    "z = sample_galcen.cartesian.z.value\n",
    "\n",
    "# Get solar velocity in Galactocentric frame\n",
    "v_sun = np.array([sample_galcen.galcen_v_sun.d_x.value,\n",
    "                  sample_galcen.galcen_v_sun.d_y.value,\n",
    "                  sample_galcen.galcen_v_sun.d_z.value])*u.km/u.s\n",
    "\n",
    "r = np.sqrt(x**2 + y**2 + z**2)\n",
    "theta = np.arccos(z/r)\n",
    "phi = np.arctan2(y, x)\n",
    "\n",
    "p += v_sun\n",
    "\n",
    "pp = np.array([[np.sin(theta)*np.cos(phi)*p[:, 0] + np.sin(theta)*np.sin(phi)*p[:, 1] + np.cos(theta)*p[:, 2]],\n",
    "              [np.cos(theta)*np.cos(phi)*p[:, 0] + np.cos(theta)*np.sin(phi)*p[:, 1] + -np.sin(theta)*p[:, 2]],\n",
    "              [-np.sin(phi)*p[:, 0] + np.cos(phi)*p[:, 1]]]).squeeze().T\n",
    "rp = np.array([[np.sin(theta)*np.cos(phi)*rh[:, 0] + np.sin(theta)*np.sin(phi)*rh[:, 1] + np.cos(theta)*rh[:, 2]],\n",
    "               [np.cos(theta)*np.cos(phi)*rh[:, 0] + np.cos(theta)*np.sin(phi)*rh[:, 1] + -np.sin(theta)*rh[:, 2]],\n",
    "               [-np.sin(phi)*rh[:, 0] + np.cos(phi)*rh[:, 1]]]).squeeze().T"
   ]
  },
  {
   "cell_type": "code",
   "execution_count": null,
   "metadata": {},
   "outputs": [],
   "source": [
    "revert_gauss_sample = coord.Galactic(u=x*u.pc,\n",
    "                                     v=y*u.pc,\n",
    "                                     w=z*u.pc,\n",
    "                                     U=uu*u.km/u.s,\n",
    "                                     V=vv*u.km/u.s,\n",
    "                                     W=ww*u.km/u.s,\n",
    "                                     representation_type=coord.CartesianRepresentation,\n",
    "                                     differential_type=coord.CartesianDifferential)\n",
    "revert_gauss_sample = revert_gauss_sample.transform_to(coord.ICRS)"
   ]
  },
  {
   "cell_type": "code",
   "execution_count": null,
   "metadata": {},
   "outputs": [],
   "source": [
    "plt.hist2d(uu, vv, bins=50)"
   ]
  },
  {
   "cell_type": "code",
   "execution_count": null,
   "metadata": {},
   "outputs": [],
   "source": [
    "%timeit np.min(pvals[:50, 0])"
   ]
  },
  {
   "cell_type": "code",
   "execution_count": null,
   "metadata": {},
   "outputs": [],
   "source": [
    "%timeit min(pvals[:50, 0])"
   ]
  },
  {
   "cell_type": "code",
   "execution_count": null,
   "metadata": {},
   "outputs": [],
   "source": [
    "sigma2, vmean = calc_sigma2(pvals.value, rhat, True, noniso=True)\n",
    "phi0r = phi_guess(np.array([0, -200, 0]), np.array([50, 50, 50]), vmin, dv,n).ravel()"
   ]
  },
  {
   "cell_type": "code",
   "execution_count": null,
   "metadata": {},
   "outputs": [],
   "source": [
    "A = np.array([[1, 1, 1], [10, 10, 10], [100, 100, 100]])*np.ones((100, 3, 3))\n",
    "B = np.array([1, 2, 3])*np.ones((100, 3))"
   ]
  },
  {
   "cell_type": "code",
   "execution_count": 290,
   "metadata": {},
   "outputs": [
    {
     "data": {
      "text/plain": [
       "array([[[1.60228019, 1.3867178 , 1.35393863, ..., 1.35302112,\n",
       "         1.24971741, 1.5007625 ],\n",
       "        [1.35701634, 1.37086179, 1.56265692, ..., 1.62869246,\n",
       "         1.53068249, 1.25353968],\n",
       "        [1.1420367 , 1.14411661, 1.39334674, ..., 1.6191644 ,\n",
       "         1.52582699, 1.29061255],\n",
       "        ...,\n",
       "        [1.41219951, 1.59645442, 1.40267234, ..., 1.51341487,\n",
       "         1.40188733, 1.31722463],\n",
       "        [1.68312188, 1.66946747, 1.63335467, ..., 1.00623589,\n",
       "         1.55286564, 1.3010123 ],\n",
       "        [1.56803977, 1.310731  , 1.51141771, ..., 1.14224816,\n",
       "         1.0360311 , 1.36854907]],\n",
       "\n",
       "       [[1.29172184, 1.29786124, 1.19348763, ..., 1.40675803,\n",
       "         1.6398152 , 1.24869949],\n",
       "        [1.46655442, 1.45439465, 1.20447706, ..., 1.26227993,\n",
       "         1.55521112, 1.16992693],\n",
       "        [1.2046617 , 1.54502775, 1.41994638, ..., 1.49272018,\n",
       "         1.21078665, 1.34161075],\n",
       "        ...,\n",
       "        [1.54896042, 1.67943747, 1.66999333, ..., 1.41879871,\n",
       "         1.43862033, 1.0349294 ],\n",
       "        [1.46582879, 1.43617695, 1.28578652, ..., 0.99364808,\n",
       "         1.35895449, 1.16390699],\n",
       "        [1.38688434, 1.29266478, 1.43067898, ..., 1.43616517,\n",
       "         1.54355259, 1.26449648]],\n",
       "\n",
       "       [[1.523327  , 1.42050569, 1.38043143, ..., 1.24646244,\n",
       "         1.59194712, 1.43094294],\n",
       "        [1.57535839, 1.31545745, 1.33035442, ..., 1.53759148,\n",
       "         1.27928369, 1.10854329],\n",
       "        [1.54971033, 1.47594138, 1.30816909, ..., 1.53237652,\n",
       "         1.3423346 , 1.11790434],\n",
       "        ...,\n",
       "        [1.1227263 , 1.37374265, 1.35700708, ..., 1.3305482 ,\n",
       "         1.06882955, 1.05888411],\n",
       "        [1.45056513, 1.49467151, 1.25104655, ..., 1.49748338,\n",
       "         1.44275926, 1.02402782],\n",
       "        [1.48854957, 1.28139936, 1.4324121 , ..., 1.63203456,\n",
       "         1.49614572, 1.62499705]],\n",
       "\n",
       "       ...,\n",
       "\n",
       "       [[1.05578367, 1.3912141 , 1.48639266, ..., 1.38839206,\n",
       "         1.54508718, 1.4727389 ],\n",
       "        [1.39456723, 1.33132415, 1.13981006, ..., 1.25099826,\n",
       "         1.55475634, 1.28868634],\n",
       "        [1.51336053, 1.3103907 , 1.66978244, ..., 1.23212276,\n",
       "         1.2137842 , 1.47139536],\n",
       "        ...,\n",
       "        [1.15459725, 1.30530123, 1.45906374, ..., 1.53224321,\n",
       "         1.49210185, 1.5323542 ],\n",
       "        [1.42222814, 1.70882974, 1.46559972, ..., 1.30200574,\n",
       "         1.47676425, 1.25799319],\n",
       "        [1.71040573, 1.71628142, 1.34776448, ..., 1.1668441 ,\n",
       "         1.02960875, 1.50122335]],\n",
       "\n",
       "       [[1.49798859, 1.14185165, 1.40058757, ..., 1.21905576,\n",
       "         1.50377845, 1.46698531],\n",
       "        [1.41659121, 1.5820785 , 1.50284159, ..., 0.9646045 ,\n",
       "         1.33237385, 1.3057603 ],\n",
       "        [1.24498765, 1.28709173, 0.69767759, ..., 1.03379461,\n",
       "         1.127053  , 1.35866945],\n",
       "        ...,\n",
       "        [1.68012863, 1.52067642, 1.69718021, ..., 1.59475012,\n",
       "         1.42577373, 1.52147957],\n",
       "        [1.41456843, 1.53584932, 1.57128728, ..., 1.15730145,\n",
       "         1.58534691, 1.4453213 ],\n",
       "        [1.67671859, 1.47101237, 1.28794568, ..., 0.82656939,\n",
       "         1.20667322, 1.50297383]],\n",
       "\n",
       "       [[1.38014969, 1.47000651, 1.28890964, ..., 1.27431135,\n",
       "         1.04794102, 1.37465501],\n",
       "        [1.22408094, 0.78639187, 1.25348289, ..., 1.57766743,\n",
       "         0.85791735, 1.02694071],\n",
       "        [1.51466277, 1.46408328, 1.35748144, ..., 1.31630632,\n",
       "         1.21641193, 1.34854134],\n",
       "        ...,\n",
       "        [1.47058332, 1.68269364, 1.72641357, ..., 1.15332359,\n",
       "         1.28314531, 1.23926646],\n",
       "        [1.6260844 , 1.69206157, 1.71435235, ..., 0.89931654,\n",
       "         1.65984936, 1.5765208 ],\n",
       "        [1.61263489, 1.53657793, 1.18795059, ..., 1.15749836,\n",
       "         1.40044858, 1.61007168]]])"
      ]
     },
     "execution_count": 290,
     "metadata": {},
     "output_type": "execute_result"
    }
   ],
   "source": [
    "np.abs(Kvals_polar - Kvals_polar.mean()) "
   ]
  },
  {
   "cell_type": "code",
   "execution_count": null,
   "metadata": {},
   "outputs": [],
   "source": [
    "vbins = [np.linspace(vmin[i], vmax[i], n[i] + 1) for i in range(3)]"
   ]
  },
  {
   "cell_type": "code",
   "execution_count": null,
   "metadata": {},
   "outputs": [],
   "source": [
    "B.shape"
   ]
  },
  {
   "cell_type": "code",
   "execution_count": null,
   "metadata": {},
   "outputs": [],
   "source": [
    "phi_str = ['phi_true', 'phi_est']\n",
    "alpha = 1e-20\n",
    "N = len(pvals)\n",
    "for i, phi in enumerate([phi_true, phi_est]):\n",
    "\n",
    "    exphi = np.exp(phi)\n",
    "    Kphi = (Kvals @ exphi.T) # Order all Kphi values in 1D arrays and compute the sum of exp(phi)*K(k|l) for each star\n",
    "    Kphi_sum_tot = np.log(Kphi[Kphi != 0]).sum() # To make sure we don't get infinities and .sum() gives the double sum in the first term\n",
    "\n",
    "    phi_unr = np.reshape(phi, n)\n",
    "    phixhi_sum = (sec_der(phi_unr, sigma2, dv) ** 2).sum()\n",
    "\n",
    "    t1 = Kphi_sum_tot / N\n",
    "    t2 = exphi.sum()\n",
    "    t3 = ((alpha * dv[0] * dv[1] * dv[2]) / 2) * phixhi_sum\n",
    "\n",
    "    L_tilde = t1 - t2 - t3 # eq. 31 in DB98\n",
    "    print(f'With {phi_str[i]} : {L_tilde=:.6f}: {t1=:.6f}, {t2=:.6f}, {t3=:.6f}')"
   ]
  },
  {
   "cell_type": "code",
   "execution_count": null,
   "metadata": {},
   "outputs": [],
   "source": [
    "phi = phi_true\n",
    "exphi = np.exp(phi)\n",
    "Kphi = (Kvals @ exphi.T)\n",
    "Kphi_sum_tot = np.log(Kphi[Kphi != 0]).sum()\n",
    "t1 = Kphi_sum_tot / N"
   ]
  },
  {
   "cell_type": "code",
   "execution_count": null,
   "metadata": {},
   "outputs": [],
   "source": [
    "phi = phi_est\n",
    "exphi = np.exp(phi)\n",
    "Kphi = (Kvals @ exphi.T)\n",
    "Kphi_sum_tot = np.log(Kphi[Kphi != 0]).sum()\n",
    "t1 = Kphi_sum_tot / N"
   ]
  },
  {
   "cell_type": "code",
   "execution_count": null,
   "metadata": {},
   "outputs": [],
   "source": [
    "pvals_copy = np.zeros_like(pvals)\n",
    "rhat_copy = np.zeros_like(rhat)\n",
    "pvals_copy[:, 0], pvals_copy[:, 1], pvals_copy[:, 2] = pvals[:, 1], pvals[:, 0], pvals[:, 2]\n",
    "rhat_copy[:, 0], rhat_copy[:, 1], rhat_copy[:, 2] = rhat[:, 1], rhat[:, 0], rhat[:, 2]\n",
    "\n",
    "Kvals = KvalsSparseMethod(pvals.value, rhat, vmin, dv, n)\n",
    "Karr = np.array(Kvals.sum(axis=0)).reshape(n)\n",
    "\n",
    "Kvals_copy = KvalsSparseMethod(pvals_copy.value, rhat_copy, vmin, dv, n)\n",
    "Karr_copy = np.array(Kvals.sum(axis=0)).reshape(n)"
   ]
  },
  {
   "cell_type": "code",
   "execution_count": null,
   "metadata": {},
   "outputs": [],
   "source": [
    "plt.figure()\n",
    "plt.hist2d(sample.velocity.d_x.value, sample.velocity.d_y.value, bins=n[:-1], range=[[-400, 400], [-400, 400]])\n",
    "plt.gca().set_aspect('equal')\n",
    "plt.show()"
   ]
  },
  {
   "cell_type": "code",
   "execution_count": null,
   "metadata": {},
   "outputs": [],
   "source": [
    "plt.figure()\n",
    "plt.scatter(sample.l, sample.b, s=0.01)\n",
    "plt.gca().set_aspect('equal')\n",
    "plt.axis([0, 360, -90, 90])\n",
    "plt.xlabel('l')\n",
    "plt.ylabel('b')"
   ]
  },
  {
   "cell_type": "code",
   "execution_count": null,
   "metadata": {},
   "outputs": [],
   "source": [
    "def add_gaussian():\n",
    "    U1, V1, W1 = rng.multivariate_normal(mean=[200, 200, 0], \n",
    "                                         cov=np.identity(3)*np.array([30, 30, 30])**2, \n",
    "                                         size=20_000).T\n",
    "    U2, V2, W2 = rng.multivariate_normal(mean=[200, -200, 0], \n",
    "                                         cov=np.identity(3)*np.array([30, 30, 30])**2,\n",
    "                                         size=20_000).T\n",
    "    U3, V3, W3 = rng.multivariate_normal(mean=[-200, 200, 0], \n",
    "                                         cov=np.identity(3)*np.array([30, 30, 30])**2, \n",
    "                                         size=20_000).T\n",
    "    U4, V4, W4 = rng.multivariate_normal(mean=[-200, -200, 0], \n",
    "                                         cov=np.identity(3)*np.array([30, 30, 30])**2, \n",
    "                                         size=20_000).T\n",
    "    U5, V5, W5 = rng.multivariate_normal(mean=[0, 0, 0], \n",
    "                                         cov=np.identity(3)*np.array([30, 30, 30])**2,\n",
    "                                         size=20_000).T\n",
    "\n",
    "    return np.hstack([U1, U2, U3, U4, U5]), np.hstack([V1, V2, V3, V4, V5]), np.hstack([W1, W2, W3, W4, W5])\n",
    "\n",
    "uu, vv, ww = add_gaussian()\n",
    "uu, vv, ww = rng.multivariate_normal(mean=[0, 0, 0], \n",
    "                                     cov=np.identity(3)*np.array([30, 30, 30])**2,\n",
    "                                     size=100_000).T"
   ]
  },
  {
   "cell_type": "code",
   "execution_count": null,
   "metadata": {},
   "outputs": [],
   "source": [
    "theta = np.random.uniform(0, np.pi, len(uu))\n",
    "phi = np.random.uniform(0,2*np.pi,len(uu))\n",
    "rho = np.random.uniform(-2000,2000,len(uu))\n",
    "\n",
    "x = rho*np.cos(phi)*np.sin(theta)\n",
    "y = rho*np.sin(phi)*np.sin(theta)\n",
    "z = rho*np.cos(theta)\n",
    "\n",
    "x = np.random.uniform(-2000,2000,len(uu))\n",
    "y = np.random.uniform(-2000,2000,len(uu))\n",
    "z = np.random.uniform(-2000,2000,len(uu))"
   ]
  },
  {
   "cell_type": "code",
   "execution_count": null,
   "metadata": {},
   "outputs": [],
   "source": [
    "gauss_data = QTable()"
   ]
  },
  {
   "cell_type": "code",
   "execution_count": null,
   "metadata": {},
   "outputs": [],
   "source": [
    "C = (A @ B[..., np.newaxis])"
   ]
  },
  {
   "cell_type": "code",
   "execution_count": null,
   "metadata": {},
   "outputs": [],
   "source": [
    "C[1]"
   ]
  },
  {
   "cell_type": "code",
   "execution_count": null,
   "metadata": {},
   "outputs": [],
   "source": [
    "    vr = [(np.array(vbins[i]) - pk[i])/rhat[i] for i in range(3)]"
   ]
  },
  {
   "cell_type": "code",
   "execution_count": null,
   "metadata": {},
   "outputs": [],
   "source": [
    "np.array([])"
   ]
  },
  {
   "cell_type": "code",
   "execution_count": null,
   "metadata": {},
   "outputs": [],
   "source": [
    "ra = range(10)"
   ]
  },
  {
   "cell_type": "code",
   "execution_count": null,
   "metadata": {},
   "outputs": [],
   "source": [
    "lil = scisp.lil_matrix((10, 10))"
   ]
  },
  {
   "cell_type": "code",
   "execution_count": null,
   "metadata": {},
   "outputs": [],
   "source": [
    "lil[0, np.array([])] = np.array([])"
   ]
  },
  {
   "cell_type": "code",
   "execution_count": null,
   "metadata": {},
   "outputs": [],
   "source": [
    "lil"
   ]
  },
  {
   "cell_type": "code",
   "execution_count": null,
   "metadata": {},
   "outputs": [],
   "source": [
    "raise MemoryError('OOM')"
   ]
  },
  {
   "cell_type": "code",
   "execution_count": 200,
   "metadata": {},
   "outputs": [
    {
     "data": {
      "text/plain": [
       "(<Quantity [ 12.9 , 245.6 ,   7.78] km / s>,\n",
       " <Quantity [ 12.91988179,   7.74691299, 245.59919463] km / s>)"
      ]
     },
     "execution_count": 200,
     "metadata": {},
     "output_type": "execute_result"
    }
   ],
   "source": [
    "vsun, vsun_polar"
   ]
  },
  {
   "cell_type": "code",
   "execution_count": 242,
   "metadata": {},
   "outputs": [
    {
     "data": {
      "text/plain": [
       "(<Quantity [-12.91988179,  -7.74691299, 245.59919463] km / s>,\n",
       " <Angle 90.14673105 deg>)"
      ]
     },
     "execution_count": 242,
     "metadata": {},
     "output_type": "execute_result"
    }
   ],
   "source": [
    "vsun_polar, theta"
   ]
  },
  {
   "cell_type": "code",
   "execution_count": null,
   "metadata": {},
   "outputs": [],
   "source": [
    "5//3"
   ]
  },
  {
   "cell_type": "code",
   "execution_count": null,
   "metadata": {},
   "outputs": [],
   "source": [
    "%timeit np.floor(n/dv)"
   ]
  },
  {
   "cell_type": "code",
   "execution_count": 275,
   "metadata": {},
   "outputs": [
    {
     "data": {
      "text/plain": [
       "(129675, 3, 3)"
      ]
     },
     "execution_count": 275,
     "metadata": {},
     "output_type": "execute_result"
    }
   ],
   "source": [
    "A.shape"
   ]
  },
  {
   "cell_type": "code",
   "execution_count": null,
   "metadata": {},
   "outputs": [],
   "source": [
    "pk = pvals[0].value\n",
    "rh = rhat[0].value"
   ]
  },
  {
   "cell_type": "code",
   "execution_count": null,
   "metadata": {},
   "outputs": [],
   "source": [
    "vbins = (np.linspace(vmin[i], vmax[i], n[i] + 1) for i in range(3))\n",
    "\n",
    "vr = [(np.array(vb) - pk[i])/rh[i] for i, vb in enumerate(vbins)]"
   ]
  },
  {
   "cell_type": "code",
   "execution_count": null,
   "metadata": {},
   "outputs": [],
   "source": [
    "vrmax = min(map(np.max, vr))\n",
    "vrmin = max(map(np.min, vr))"
   ]
  },
  {
   "cell_type": "code",
   "execution_count": null,
   "metadata": {},
   "outputs": [],
   "source": [
    "vrmax, vrmin"
   ]
  },
  {
   "cell_type": "code",
   "execution_count": null,
   "metadata": {},
   "outputs": [],
   "source": [
    "vr = np.concatenate(vr)\n",
    "vr.sort()"
   ]
  },
  {
   "cell_type": "code",
   "execution_count": 229,
   "metadata": {},
   "outputs": [
    {
     "data": {
      "text/latex": [
       "$[12.9,~245.6,~7.78] \\; \\mathrm{\\frac{km}{s}}$"
      ],
      "text/plain": [
       "<Quantity [ 12.9 , 245.6 ,   7.78] km / s>"
      ]
     },
     "execution_count": 229,
     "metadata": {},
     "output_type": "execute_result"
    }
   ],
   "source": [
    "vsun"
   ]
  },
  {
   "cell_type": "code",
   "execution_count": null,
   "metadata": {},
   "outputs": [],
   "source": [
    "vr_prime = (vr[:-1] + vr[1:]) / 2"
   ]
  },
  {
   "cell_type": "code",
   "execution_count": null,
   "metadata": {},
   "outputs": [],
   "source": [
    "pks = np.ones((len(vr_prime), len(pk))) * pk[np.newaxis]\n",
    "rhats = np.ones((len(vr_prime), len(rh))) * rh[np.newaxis]\n",
    "vmins = np.ones((len(vr_prime), len(vmin))) * vmin[np.newaxis]\n",
    "vr_primestack = np.ones((len(vr_prime), 3))*vr_prime[:, np.newaxis]"
   ]
  },
  {
   "cell_type": "code",
   "execution_count": null,
   "metadata": {},
   "outputs": [],
   "source": [
    "v_prime - vmin"
   ]
  },
  {
   "cell_type": "code",
   "execution_count": null,
   "metadata": {},
   "outputs": [],
   "source": []
  }
 ],
 "metadata": {
  "kernelspec": {
   "display_name": "Python 3 (ipykernel)",
   "language": "python",
   "name": "python3"
  },
  "language_info": {
   "codemirror_mode": {
    "name": "ipython",
    "version": 3
   },
   "file_extension": ".py",
   "mimetype": "text/x-python",
   "name": "python",
   "nbconvert_exporter": "python",
   "pygments_lexer": "ipython3",
   "version": "3.8.13"
  }
 },
 "nbformat": 4,
 "nbformat_minor": 4
}
