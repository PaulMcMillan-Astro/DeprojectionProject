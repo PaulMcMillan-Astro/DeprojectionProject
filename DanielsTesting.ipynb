{
 "cells": [
  {
   "cell_type": "code",
   "execution_count": 1,
   "metadata": {},
   "outputs": [],
   "source": [
    "%load_ext autoreload\n",
    "%autoreload 2"
   ]
  },
  {
   "cell_type": "code",
   "execution_count": 2,
   "metadata": {},
   "outputs": [],
   "source": [
    "%reset -sf"
   ]
  },
  {
   "cell_type": "code",
   "execution_count": 3,
   "metadata": {
    "scrolled": true
   },
   "outputs": [
    {
     "name": "stdout",
     "output_type": "stream",
     "text": [
      "[Errno 2] No such file or directory: '/home/mikkola/DeprojectionProject/'\n",
      "/home/mikkola/Documents/DeprojectionProject\n"
     ]
    }
   ],
   "source": [
    "import importlib\n",
    "import Deproject_v1_0 \n",
    "from Deproject_test import *\n",
    "from Deproject_plots import *\n",
    "import matplotlib.pyplot as plt\n",
    "from scipy import sparse as scisp\n",
    "from scipy.optimize import approx_fprime\n",
    "import os\n",
    "import cProfile\n",
    "import numpy as np\n",
    "from matplotlib.colors import LogNorm\n",
    "from matplotlib.patches import Rectangle\n",
    "from timeit import default_timer as timer\n",
    "\n",
    "from astropy.io.ascii import read as tableread\n",
    "import astropy.units as u\n",
    "import astropy.coordinates as coord\n",
    "\n",
    "coord.Galactic()\n",
    "%cd ~/DeprojectionProject/"
   ]
  },
  {
   "cell_type": "code",
   "execution_count": 4,
   "metadata": {},
   "outputs": [
    {
     "name": "stdout",
     "output_type": "stream",
     "text": [
      "[Errno 2] No such file or directory: '/home/mikkola/Documents/faststats/faststats/'\n",
      "/home/mikkola/Documents/DeprojectionProject\n"
     ]
    },
    {
     "ename": "ModuleNotFoundError",
     "evalue": "No module named 'fkde'",
     "output_type": "error",
     "traceback": [
      "\u001b[0;31m---------------------------------------------------------------------------\u001b[0m",
      "\u001b[0;31mModuleNotFoundError\u001b[0m                       Traceback (most recent call last)",
      "\u001b[0;32m<ipython-input-4-674a17fd6646>\u001b[0m in \u001b[0;36m<module>\u001b[0;34m\u001b[0m\n\u001b[1;32m      1\u001b[0m \u001b[0mget_ipython\u001b[0m\u001b[0;34m(\u001b[0m\u001b[0;34m)\u001b[0m\u001b[0;34m.\u001b[0m\u001b[0mrun_line_magic\u001b[0m\u001b[0;34m(\u001b[0m\u001b[0;34m'cd'\u001b[0m\u001b[0;34m,\u001b[0m \u001b[0;34m'~/Documents/faststats/faststats/'\u001b[0m\u001b[0;34m)\u001b[0m\u001b[0;34m\u001b[0m\u001b[0;34m\u001b[0m\u001b[0m\n\u001b[0;32m----> 2\u001b[0;31m \u001b[0;32mfrom\u001b[0m \u001b[0mfkde\u001b[0m \u001b[0;32mimport\u001b[0m \u001b[0;34m*\u001b[0m\u001b[0;34m\u001b[0m\u001b[0;34m\u001b[0m\u001b[0m\n\u001b[0m\u001b[1;32m      3\u001b[0m \u001b[0;32mdef\u001b[0m \u001b[0mkdeplot\u001b[0m\u001b[0;34m(\u001b[0m\u001b[0mx\u001b[0m\u001b[0;34m,\u001b[0m\u001b[0my\u001b[0m\u001b[0;34m,\u001b[0m\u001b[0mgrid\u001b[0m\u001b[0;34m,\u001b[0m\u001b[0mno_c\u001b[0m\u001b[0;34m,\u001b[0m\u001b[0mbw_a\u001b[0m\u001b[0;34m)\u001b[0m\u001b[0;34m:\u001b[0m\u001b[0;34m\u001b[0m\u001b[0;34m\u001b[0m\u001b[0m\n\u001b[1;32m      4\u001b[0m     \u001b[0mZ\u001b[0m\u001b[0;34m,\u001b[0m\u001b[0max\u001b[0m \u001b[0;34m=\u001b[0m \u001b[0mfastkde\u001b[0m\u001b[0;34m(\u001b[0m\u001b[0mx\u001b[0m\u001b[0;34m,\u001b[0m\u001b[0my\u001b[0m\u001b[0;34m,\u001b[0m\u001b[0mgridsize\u001b[0m\u001b[0;34m=\u001b[0m\u001b[0mgrid\u001b[0m\u001b[0;34m,\u001b[0m\u001b[0mnocorrelation\u001b[0m\u001b[0;34m=\u001b[0m\u001b[0mno_c\u001b[0m\u001b[0;34m,\u001b[0m\u001b[0madjust\u001b[0m\u001b[0;34m=\u001b[0m\u001b[0mbw_a\u001b[0m\u001b[0;34m)\u001b[0m\u001b[0;31m#,weights,adjust)\u001b[0m\u001b[0;34m\u001b[0m\u001b[0;34m\u001b[0m\u001b[0m\n\u001b[1;32m      5\u001b[0m     \u001b[0mxlen\u001b[0m\u001b[0;34m,\u001b[0m\u001b[0mylen\u001b[0m \u001b[0;34m=\u001b[0m \u001b[0mnp\u001b[0m\u001b[0;34m.\u001b[0m\u001b[0mshape\u001b[0m\u001b[0;34m(\u001b[0m\u001b[0mZ\u001b[0m\u001b[0;34m)\u001b[0m\u001b[0;34m\u001b[0m\u001b[0;34m\u001b[0m\u001b[0m\n",
      "\u001b[0;31mModuleNotFoundError\u001b[0m: No module named 'fkde'"
     ]
    }
   ],
   "source": [
    "%cd ~/Documents/faststats/faststats/\n",
    "from fkde import *\n",
    "def kdeplot(x,y,grid,no_c,bw_a):\n",
    "    Z,ax = fastkde(x,y,gridsize=grid,nocorrelation=no_c,adjust=bw_a)#,weights,adjust)\n",
    "    xlen,ylen = np.shape(Z)\n",
    "    X,Y = np.meshgrid(np.linspace(ax[0],ax[1],xlen),np.linspace(ax[0],ax[1],ylen))\n",
    "    return X,Y,Z\n",
    "%cd ~/DeprojectionProject/"
   ]
  },
  {
   "cell_type": "code",
   "execution_count": 5,
   "metadata": {},
   "outputs": [],
   "source": [
    "def rot(x,y,deg):\n",
    "    xf = x.flatten(); xf = xf.reshape(len(xf),1)\n",
    "    yf = y.flatten(); yf = yf.reshape(len(yf),1)\n",
    "    pos = np.hstack((xf,yf))\n",
    "    \n",
    "    theta = np.radians(deg)\n",
    "    c, s = np.cos(theta), np.sin(theta)\n",
    "    R = np.array(((c, -s), (s, c)))\n",
    "    pos = np.dot(pos, R.T)\n",
    "    \n",
    "    x = pos[:,0].reshape(x.shape)\n",
    "    y = pos[:,1].reshape(y.shape)\n",
    "    return x,y\n",
    "\n",
    "def f(x,y,z,lim):\n",
    "    x,y = rot(x,y,45)\n",
    "    val = (lim-np.abs(x))**4 + (lim-np.abs(y))**4 + (lim-np.abs(z))**4\n",
    "    return val/np.sum(val)\n",
    "\n",
    "\n",
    "def pyramid_sample(N_sample,r,c):\n",
    "    # Velocities\n",
    "    xc,yc,zc = c\n",
    "    N = 100\n",
    "    X = np.linspace(-r,r,N)\n",
    "    Y = np.linspace(-r,r,N)\n",
    "    Z = np.linspace(-r,r,N)\n",
    "    \n",
    "    XX = X.reshape(1,N,1)*np.ones((N,1,N))\n",
    "    YY = Y.reshape(N,1,1)*np.ones((1,N,N))\n",
    "    ZZ = Z.reshape(1,1,N)*np.ones((N,N,1))\n",
    "    \n",
    "    P = f(XX,YY,ZZ,r+np.max(c))\n",
    "    \n",
    "    rrind = np.ravel_multi_index(np.indices(XX.shape), XX.shape).ravel()\n",
    "    prob = np.ravel(P)\n",
    "    smp = np.random.choice(rrind, size=N_sample, p=prob)\n",
    "    smpx, smpy, smpz = np.asarray(np.unravel_index(smp, XX.shape))\n",
    "    \n",
    "    XX = XX + xc\n",
    "    ZZ = YY + yc\n",
    "    YY = ZZ + zc\n",
    "    \n",
    "    vxvals = XX[smpx, smpy, smpz]\n",
    "    vyvals = YY[smpx, smpy, smpz]\n",
    "    vzvals = ZZ[smpx, smpy, smpz]\n",
    "    \n",
    "    # Positions\n",
    "    xmax, ymax, zmax = np.array([100,100,100])/np.sqrt(3)    \n",
    "    xmin, ymin, zmin = -xmax,-ymax,-zmax\n",
    "    \n",
    "    xvals = (np.random.rand(N_sample) * (xmax - xmin) + xmin)\n",
    "    yvals = (np.random.rand(N_sample) * (ymax - ymin) + ymin)\n",
    "    zvals = (np.random.rand(N_sample) * (zmax - zmin) + zmin)\n",
    "    return xvals, yvals, zvals, vxvals, vyvals, vzvals"
   ]
  },
  {
   "cell_type": "markdown",
   "metadata": {},
   "source": [
    "## Generate gaussian sample"
   ]
  },
  {
   "cell_type": "code",
   "execution_count": null,
   "metadata": {},
   "outputs": [],
   "source": [
    "N = 5000 #Number of stars we want to use in our sample\n",
    "sample, vx, vy, vz = Deproject_v1_0.model_sample(N)"
   ]
  },
  {
   "cell_type": "code",
   "execution_count": null,
   "metadata": {},
   "outputs": [],
   "source": [
    "pvals, rhatvals = Deproject_v1_0.calc_p_rhat(sample)\n",
    "sigma2, vmean0 = Deproject_v1_0.calc_sigma2(pvals,rhatvals,True)"
   ]
  },
  {
   "cell_type": "markdown",
   "metadata": {},
   "source": [
    "## Generate pyramid-like sample from distribution"
   ]
  },
  {
   "cell_type": "code",
   "execution_count": null,
   "metadata": {},
   "outputs": [],
   "source": [
    "np.random.seed(0)\n",
    "x, y, z, vx, vy, vz = pyramid_sample(int(1e4),100, c=(0,0,0))"
   ]
  },
  {
   "cell_type": "code",
   "execution_count": null,
   "metadata": {},
   "outputs": [],
   "source": [
    "x,y,z          = (x,y,z)* u.pc\n",
    "vx,vy,vz       = (vx,vy,vz) * (u.km / u.s)"
   ]
  },
  {
   "cell_type": "code",
   "execution_count": null,
   "metadata": {},
   "outputs": [],
   "source": [
    "# We use Astropy's coord class which makes it easy to keep track of units and conversions\n",
    "\n",
    "sample = coord.Galactic(u=x,\n",
    "                         v=y, \n",
    "                         w=z,\n",
    "                         U=vx,\n",
    "                         V=vy,\n",
    "                         W=vz,\n",
    "                         representation_type=coord.CartesianRepresentation,\n",
    "                         differential_type=coord.CartesianDifferential)\n",
    "sample.set_representation_cls(coord.SphericalRepresentation, coord.SphericalCosLatDifferential)\n",
    "\n"
   ]
  },
  {
   "cell_type": "code",
   "execution_count": null,
   "metadata": {},
   "outputs": [],
   "source": [
    "pvals, rhatvals = Deproject_v1_0.calc_p_rhat(sample)\n",
    "sigma2, vmean0 = Deproject_v1_0.calc_sigma2(pvals,rhatvals,True)"
   ]
  },
  {
   "cell_type": "markdown",
   "metadata": {},
   "source": [
    "## Generate  fake Galactic samples\n",
    "\n",
    "From simulated galaxy:"
   ]
  },
  {
   "cell_type": "markdown",
   "metadata": {},
   "source": [
    "Loading data"
   ]
  },
  {
   "cell_type": "code",
   "execution_count": null,
   "metadata": {},
   "outputs": [],
   "source": [
    "N = 5000 #Number of stars we want to use in our sample\n",
    "dat = np.load('DATA/simgal.npy')"
   ]
  },
  {
   "cell_type": "markdown",
   "metadata": {},
   "source": [
    "Select a sample around with radius 2 kpc around 8 kpc"
   ]
  },
  {
   "cell_type": "code",
   "execution_count": null,
   "metadata": {
    "scrolled": true
   },
   "outputs": [],
   "source": [
    "x,y,z,vx,vy,vz = dat\n",
    "R = np.sqrt((x-8)**2 + y**2)\n",
    "snbh = R < 2\n",
    "dat = dat[:,snbh]\n",
    "I = np.random.randint(low=0,high=np.sum(snbh),size=N)\n",
    "\n",
    "x,y,z,vx,vy,vz = dat[:,I]\n",
    "\n",
    "# Center x, y and vy, so they look like they're relative to the LSR\n",
    "x = x - np.median(x)\n",
    "y = y - np.median(y)\n",
    "vy = vy - np.median(vy)"
   ]
  },
  {
   "cell_type": "markdown",
   "metadata": {},
   "source": [
    "Prepare for astropy"
   ]
  },
  {
   "cell_type": "code",
   "execution_count": null,
   "metadata": {},
   "outputs": [],
   "source": [
    "x,y,z          = (x,y,z)* u.pc\n",
    "vx,vy,vz       = (vx,vy,vz) * (u.km / u.s)"
   ]
  },
  {
   "cell_type": "code",
   "execution_count": null,
   "metadata": {},
   "outputs": [],
   "source": [
    "# We use Astropy's coord class which makes it easy to keep track of units and conversions\n",
    "\n",
    "sample = coord.Galactic(u=x,\n",
    "                         v=y, \n",
    "                         w=z,\n",
    "                         U=vx,\n",
    "                         V=vy,\n",
    "                         W=vz,\n",
    "                         representation_type=coord.CartesianRepresentation,\n",
    "                         differential_type=coord.CartesianDifferential)\n",
    "sample.set_representation_cls(coord.SphericalRepresentation, coord.SphericalCosLatDifferential)\n"
   ]
  },
  {
   "cell_type": "code",
   "execution_count": null,
   "metadata": {},
   "outputs": [],
   "source": [
    "pvals, rhatvals = Deproject_v1_0.calc_p_rhat(sample)\n",
    "sigma2, vmean0 = Deproject_v1_0.calc_sigma2(pvals,rhatvals,True)"
   ]
  },
  {
   "cell_type": "markdown",
   "metadata": {},
   "source": [
    "## Inspect sample"
   ]
  },
  {
   "cell_type": "code",
   "execution_count": null,
   "metadata": {
    "scrolled": false
   },
   "outputs": [],
   "source": [
    "plt.hist2d(np.array(sample.l),np.array(sample.b),100)\n",
    "plt.show()"
   ]
  },
  {
   "cell_type": "markdown",
   "metadata": {},
   "source": [
    "True distribution"
   ]
  },
  {
   "cell_type": "code",
   "execution_count": null,
   "metadata": {},
   "outputs": [],
   "source": [
    "n = np.array([20,20,20])\n",
    "dv = np.array([10,10,10])\n",
    "vmin = np.array([-100,-100,-100])"
   ]
  },
  {
   "cell_type": "code",
   "execution_count": null,
   "metadata": {
    "scrolled": false
   },
   "outputs": [],
   "source": [
    "sigma2, vmean0 = Deproject_v1_0.calc_sigma2(pvals,rhatvals,True)\n",
    "\n",
    "sigma = np.sqrt(sigma2)\n",
    "phi0 = phi_guess(vmean0,sigma,vmin,dv,n)\n",
    "\n",
    "sanity_check(pvals,rhatvals,phi0,vmin,dv,n)"
   ]
  },
  {
   "cell_type": "code",
   "execution_count": null,
   "metadata": {},
   "outputs": [],
   "source": [
    "alpha_guess = 1e-8\n",
    "\n",
    "v_guess = np.array([1,1,1])\n",
    "disp_guess = np.array([22,17,30])\n",
    "\n",
    "t0 = timer()\n",
    "mxl, phi_all, fmin_it = max_L(alpha_guess, pvals, rhatvals, vmin, dv, n, v0_guess = v_guess, disp_guess = disp_guess)\n",
    "time = str((timer() - t0)/60)\n",
    "print(time + ' mins')\n",
    "\n",
    "sanity_check(pvals,rhatvals,mxl,vmin,dv,n)"
   ]
  },
  {
   "cell_type": "code",
   "execution_count": null,
   "metadata": {
    "scrolled": false
   },
   "outputs": [],
   "source": [
    "dx, dy = dv[0], dv[1]\n",
    "vxmin, vymin = vmin[0], vmin[1]\n",
    "nx, ny = n[0], n[1]\n",
    "vxmax, vymax = vxmin+nx*dx,vymin+ny*dy\n",
    "\n",
    "x0, y0 = vxmin, vymin\n",
    "x1, y1 = vxmax, vymax\n",
    "\n",
    "xbins = np.arange(x0,x1+dx,dx)\n",
    "ybins = np.arange(y0,y1+dy,dy)\n",
    "\n",
    "xc = (xbins[1:]+xbins[:-1])/2\n",
    "yc = (ybins[1:]+ybins[:-1])/2\n",
    "\n",
    "[X,Y] = np.meshgrid(xc,yc);\n",
    "\n",
    "fv = np.exp(mxl)\n",
    "\n",
    "fvlog = np.log10(fv+1)\n",
    "xl = 120\n",
    "yl = 120\n",
    "twodfv = np.sum(fv,axis=2)\n",
    "plt.figure()\n",
    "plt.contourf(X,Y,twodfv.T,40,origin='lower',cmap = plt.cm.get_cmap('bone_r'),linestyles='solid')\n",
    "plt.contour(X,Y,twodfv.T,10,origin='lower',colors='k',linewidths=0.5)\n",
    "plt.xlim(-xl,xl)\n",
    "plt.ylim(-yl,yl)\n",
    "plt.gca().add_patch(Rectangle((vmin[0],vmin[1]),n[0]*dv[0],n[0]*dv[0], fill=None,edgecolor='r',label='3D box size'))\n",
    "plt.legend()\n",
    "plt.title('Deprojected fv')\n",
    "\n",
    "X2,Y2,Z = kdeplot(np.array(vx),np.array(vy),(50,50),False,2)\n",
    "Z,xbins,ybins = np.histogram2d(np.array(vx),np.array(vy),20)\n",
    "xc = (xbins[1:]+xbins[:-1])/2\n",
    "yc = (ybins[1:]+ybins[:-1])/2\n",
    "\n",
    "[X2,Y2] = np.meshgrid(xc,yc);\n",
    "\n",
    "plt.figure()\n",
    "#plt.contourf(X2,Y2,Z.T,40,origin='lower',cmap = plt.cm.get_cmap('bone_r'),linestyles='solid')\n",
    "plt.pcolormesh(X2,Y2,Z.T,cmap='bone_r')\n",
    "plt.contour(X2,Y2,Z.T,10,origin='lower',colors='k',linewidths=0.5)\n",
    "plt.xlim(-xl,xl)\n",
    "plt.ylim(-yl,yl)\n",
    "plt.gca().add_patch(Rectangle((vmin[0],vmin[1]),n[0]*dv[0],n[0]*dv[0], fill=None,edgecolor='r',label='3D box size'))\n",
    "plt.legend()\n",
    "plt.title('Original fv')\n",
    "\n",
    "plt.figure()\n",
    "plt.contourf(X,Y,np.log10(twodfv.T),40,origin='lower',cmap = plt.cm.get_cmap('bone_r'),linestyles='solid')\n",
    "plt.contour(X,Y,np.log10(twodfv.T),10,origin='lower',colors='k',linewidths=0.5)\n",
    "plt.xlim(-xl,xl)\n",
    "plt.ylim(-yl,yl)\n",
    "plt.gca().add_patch(Rectangle((vmin[0],vmin[1]),n[0]*dv[0],n[0]*dv[0], fill=None,edgecolor='r',label='3D box size'))\n",
    "plt.legend()\n",
    "plt.title('Deprojected log(fv)')\n",
    "plt.show()"
   ]
  },
  {
   "cell_type": "markdown",
   "metadata": {},
   "source": [
    "Investigating grad_L"
   ]
  },
  {
   "cell_type": "code",
   "execution_count": null,
   "metadata": {
    "scrolled": false
   },
   "outputs": [],
   "source": [
    "f,ax = plt.subplots(5,4,sharex=True,sharey=True,figsize=(20,20),frameon=False)\n",
    "\n",
    "k = 0\n",
    "for i in range(5):\n",
    "    for j in range(4):\n",
    "        ax[i,j].pcolormesh(mxl[:,:,k],cmap = plt.cm.get_cmap('viridis'))\n",
    "        ax[i,j].set_title('z sheet %s' % k)\n",
    "        k += 1\n",
    "plt.show()"
   ]
  },
  {
   "cell_type": "markdown",
   "metadata": {},
   "source": [
    "## Alternative sec_der"
   ]
  },
  {
   "cell_type": "code",
   "execution_count": null,
   "metadata": {},
   "outputs": [],
   "source": [
    "from scipy.interpolate import interpn\n",
    "\n",
    "def plotphi(phi):\n",
    "    plt.figure(figsize=(4,3))\n",
    "    im = plt.pcolormesh(phi.T,cmap = plt.cm.get_cmap('viridis'))\n",
    "    plt.colorbar(im)\n",
    "    plt.show()\n",
    "\n",
    "def extrapolate_box(box):\n",
    "    (nx,ny,nz) = box.shape\n",
    "\n",
    "    points = (np.arange(1,nx-1), \n",
    "              np.arange(1,ny-1),\n",
    "              np.arange(1,nz-1))\n",
    "\n",
    "    IA = np.indices(box.shape).transpose(3,1,2,0)\n",
    "\n",
    "    xedges = np.concatenate((IA[:,0,:,:].reshape(nx**2,3), IA[:,-1,:,:].reshape(nx**2,3)), axis=0)\n",
    "    yedges = np.concatenate((IA[:,:,0,:].reshape(ny**2,3), IA[:,:,-1,:].reshape(ny**2,3)), axis=0)\n",
    "    zedges = np.concatenate((IA[0,:,:,:].reshape(nz**2,3), IA[-1,:,:,:].reshape(nz**2,3)), axis=0)\n",
    "    edge_coords = np.concatenate((xedges,yedges,zedges),axis=0)\n",
    "    edge_coords = np.unique(edge_coords,axis=0) # remove duplicate entries\n",
    "\n",
    "    I_edges = np.ones((nx,ny,nz),dtype=bool)\n",
    "    I_edges[1:-1,1:-1,1:-1] = np.zeros((nx-2,ny-2,nz-2),dtype=bool)\n",
    "    edge_vals = interpn(points, box[1:-1, 1:-1, 1:-1], edge_coords, method='linear', bounds_error=False, fill_value=None)\n",
    "    box[I_edges] = edge_vals\n",
    "    return box\n",
    "\n",
    "\n",
    "\n",
    "def sec_der(phi, sigma2, dv):\n",
    "\n",
    "    nx, ny, nz = phi.shape\n",
    "    dvx, dvy, dvz = dv\n",
    "    dv2 = dv ** 2\n",
    "    sigma2x, sigma2y, sigma2z = sigma2\n",
    "\n",
    "    nxx, nyy, nzz = nx + 2, ny + 2, nz + 2\n",
    "\n",
    "    phip = np.zeros((nxx, nyy, nzz))  # new larger box\n",
    "    plotphi(phi[:,:,9])\n",
    "    phip[1:-1, 1:-1, 1:-1] = phi  # puts the phi-box in the centre of our larger box\n",
    "    extrapolate_box(phip)\n",
    "    plotphi(phip[:,:,9])\n",
    "\n",
    "\n",
    "    phi_fac = np.array([phip[0:nxx - 2, 1:-1, 1:-1] + phip[2:nxx, 1:-1, 1:-1],\n",
    "                        phip[1:-1, 0:nyy - 2, 1:-1] + phip[1:-1, 2:nyy, 1:-1],\n",
    "                        phip[1:-1, 1:-1, 0:nzz - 2] + phip[1:-1, 1:-1, 2:nzz]])\n",
    "\n",
    "    phi_arrx = (sigma2[0] / dv2[0]) * (phi_fac[0] - 2 * phi)\n",
    "    phi_arry = (sigma2[1] / dv2[1]) * (phi_fac[1] - 2 * phi)\n",
    "    phi_arrz = (sigma2[2] / dv2[2]) * (phi_fac[2] - 2 * phi)\n",
    "    plotphi(phi_arrx[1:-1, 1:-1,9])\n",
    "\n",
    "    phi_arr = phi_arrx + phi_arry + phi_arrz\n",
    "    plotphi(phi_arr[:,:,9])\n",
    "    extrapolate_box(phi_arr)\n",
    "    plotphi(phi_arr[:,:,9])\n",
    "    return phi_arr"
   ]
  },
  {
   "cell_type": "code",
   "execution_count": null,
   "metadata": {},
   "outputs": [],
   "source": [
    "%cd DATA/\n",
    "pvals = np.load('TEST/pvals.npy')\n",
    "rhatvals = np.load('TEST/rhatvals.npy')\n",
    "mxl = np.load('TEST/mxl.npy')"
   ]
  },
  {
   "cell_type": "code",
   "execution_count": null,
   "metadata": {},
   "outputs": [],
   "source": [
    "Kvals = KvalsNumpyMethod(pvals, rhatvals, vmin, dv, n)"
   ]
  },
  {
   "cell_type": "code",
   "execution_count": null,
   "metadata": {},
   "outputs": [],
   "source": [
    "args = (Kvals, len(pvals), alpha_guess, dv, n, sigma2)"
   ]
  },
  {
   "cell_type": "code",
   "execution_count": null,
   "metadata": {},
   "outputs": [],
   "source": [
    "get_negL(mxl.ravel(),Kvals, len(pvals), alpha_guess, dv, n, sigma2)"
   ]
  },
  {
   "cell_type": "code",
   "execution_count": null,
   "metadata": {},
   "outputs": [],
   "source": [
    "Kvals, N, alpha, dv, n, sigma2 = args\n",
    "nx, ny, nz = n\n",
    "dvx, dvy, dvz = dv\n",
    "phi = np.ravel(mxl)"
   ]
  },
  {
   "cell_type": "code",
   "execution_count": null,
   "metadata": {},
   "outputs": [],
   "source": [
    "plotphi(phi_arr[1:-1, 1:-1,9])\n",
    "phi_arr[1:-1, 1:-1, 1:-1] = np.min(phi_arr)\n",
    "plotphi(phi_arr[1:-1, 1:-1,9])\n",
    "extrapolate_box(phi_arr)\n",
    "plotphi(phi_arr[1:-1, 1:-1,9])"
   ]
  },
  {
   "cell_type": "code",
   "execution_count": null,
   "metadata": {},
   "outputs": [],
   "source": [
    "phi_arr = sec_der(phi0, sigma2, dv)"
   ]
  },
  {
   "cell_type": "code",
   "execution_count": null,
   "metadata": {},
   "outputs": [],
   "source": [
    "1e-12-3"
   ]
  },
  {
   "cell_type": "code",
   "execution_count": null,
   "metadata": {},
   "outputs": [],
   "source": [
    "f,ax = plt.subplots(5,8,sharex=True,sharey=True,figsize=(12,8),frameon=False)\n",
    "\n",
    "k = 0\n",
    "for i in range(5):\n",
    "    k = [z+i for z in range(0,20,5)]\n",
    "    for j in range(4):\n",
    "        ax[i,j*2].pcolormesh(phi_arr[:,:,k[j]].T,cmap = plt.cm.get_cmap('viridis'))\n",
    "        ax[i,j*2].set_title('z sheet %s' % k[j])\n",
    "\n",
    "        ax[i,j*2+1].pcolormesh(phi0[:,:,k[j]].T,cmap = plt.cm.get_cmap('viridis'))\n",
    "        ax[i,j*2+1].set_title('z sheet %s' % k[j])\n",
    "plt.tight_layout()\n",
    "plt.show()"
   ]
  },
  {
   "cell_type": "code",
   "execution_count": 6,
   "metadata": {},
   "outputs": [],
   "source": [
    "def plotphi(phi):\n",
    "    plt.figure(figsize=(4,3))\n",
    "    im = plt.pcolormesh(phi.T,cmap='bone_r')\n",
    "    plt.contour(phi.T,10,origin='lower',colors='k',linewidths=0.5)\n",
    "    plt.colorbar(im)\n",
    "    plt.show()\n",
    "#phip[1:-1, 1:-1] = phi2d "
   ]
  },
  {
   "cell_type": "code",
   "execution_count": null,
   "metadata": {},
   "outputs": [],
   "source": [
    "def model_sample_2(N):\n",
    "    \"\"\"Generates a simple model solar neighbourhood star sample in a Galactic frame of reference assuming a\n",
    "    velocity distribution that is a sum of three predefined 3DGaussians.\n",
    "\n",
    "    If one wishes to use other mean velocities, change these in mu0, mu1 and mu2, while the dispersions are changed\n",
    "    in disp0, disp1 and disp2. The relative weights, w1, w2, w3 determine how many of the stars that belong to\n",
    "    each Gaussian. As for now, they're just set to be ~1/3.\n",
    "\n",
    "    The stars have distances from the Sun that are in the range [10,100] pc.\n",
    "\n",
    "    Takes the following arguments:\n",
    "\n",
    "    N: Number of stars in the sample\"\"\"\n",
    "\n",
    "    xmax, ymax, zmax = np.array([100,100,100])/np.sqrt(3)    \n",
    "    xmin, ymin, zmin = -xmax,-ymax,-zmax\n",
    "    #w0 = 1.\n",
    "    #w1 = 0.\n",
    "    w0 = w1 = 0.33\n",
    "    w2 = 1-(w0+w1)\n",
    "\n",
    "    #mu0 = np.array([0,0,0])\n",
    "    mu0 = np.array([30,30,30])\n",
    "    mu1 = np.array([-20,-20,-20])\n",
    "    mu2 = np.array([15,-15,15])\n",
    "\n",
    "    disp0 = np.array([25,23,27])\n",
    "    disp1 = np.array([13,17,15])\n",
    "    disp2 = np.array([9,14,12])\n",
    "\n",
    "    w_sample = np.random.random_sample(N)\n",
    "\n",
    "    psx = (np.random.rand(N) * (xmax - xmin) + xmin) * u.pc\n",
    "    psy = (np.random.rand(N) * (ymax - ymin) + ymin) * u.pc\n",
    "    psz = (np.random.rand(N) * (zmax - zmin) + zmin) * u.pc\n",
    "\n",
    "    from_g0 = np.where(w_sample < w0)  # We get the indices of the stars that belong to the first Gaussian\n",
    "    from_g1 = np.where((w0 <= w_sample) & (w_sample < (w0 + w1)))\n",
    "    from_g2 = np.where(w_sample > (1 - w2))\n",
    "\n",
    "    scale0 = np.random.randn(len(from_g0[0]), 3)\n",
    "    scale1 = np.random.randn(len(from_g1[0]), 3)\n",
    "    scale2 = np.random.randn(len(from_g2[0]), 3)\n",
    "\n",
    "    psvels = np.zeros((N, 3))\n",
    "\n",
    "    psvels[\n",
    "        from_g0] = mu0 + scale0 * disp0  # We exchange our empty velocity values with the ones obtained from each Gaussian\n",
    "    psvels[from_g1] = mu1 + scale1 * disp1\n",
    "    psvels[from_g2] = mu2 + scale2 * disp2\n",
    "\n",
    "    psvx, psvy, psvz = psvels.T\n",
    "    # We use Astropy's coord class which makes it easy to keep track of units and conversions\n",
    "\n",
    "    psample = coord.Galactic(u=psx, v=psy, w=psz, U=psvx * (u.km / u.s),\n",
    "                             V=psvy * (u.km / u.s), W=psvz * (u.km / u.s),\n",
    "                             representation_type=coord.CartesianRepresentation,\n",
    "                             differential_type=coord.CartesianDifferential)\n",
    "\n",
    "    psample.set_representation_cls(coord.SphericalRepresentation, coord.SphericalCosLatDifferential)\n",
    "    return psample, psvx, psvy, psvz"
   ]
  },
  {
   "cell_type": "code",
   "execution_count": null,
   "metadata": {},
   "outputs": [],
   "source": [
    "X2,Y2,Z = kdeplot(np.array(vx),np.array(vy),(50,50),False,2)\n",
    "Z,xbins,ybins = np.histogram2d(np.array(vx),np.array(vy),20)\n",
    "xc = (xbins[1:]+xbins[:-1])/2\n",
    "yc = (ybins[1:]+ybins[:-1])/2\n",
    "\n",
    "[X2,Y2] = np.meshgrid(xc,yc);\n",
    "\n",
    "plt.figure()\n",
    "plt.pcolormesh(X2,Y2,Z.T,cmap='bone_r')\n",
    "plt.contour(X2,Y2,Z.T,10,origin='lower',colors='k',linewidths=0.5)\n",
    "plt.xlim(-xl,xl)\n",
    "plt.ylim(-yl,yl)\n",
    "plt.gca().add_patch(Rectangle((vmin[0],vmin[1]),n[0]*dv[0],n[0]*dv[0], fill=None,edgecolor='r',label='3D box size'))\n",
    "plt.legend()\n",
    "plt.title('Original fv')"
   ]
  },
  {
   "cell_type": "markdown",
   "metadata": {},
   "source": [
    "## Check eq 30 on 1d Gaussian\n",
    "\n",
    "$$ \\Xi_{\\pmb{n}\\pmb{l}} \\propto -2\\delta_{\\pmb{n},\\pmb{l}} + \\delta_{\\pmb{n},\\pmb{l} + \\pmb{\\hat{e}}_i} + \\delta_{\\pmb{n},\\pmb{l} - \\pmb{\\hat{e}}_i}$$\n",
    "\n",
    "$$f(x) = \\frac{1}{\\sigma\\sqrt{2\\pi}} e^{-\\frac{1}{2}\\left(\\frac{x-\\mu}{\\sigma}\\right)^2} \\rightarrow \\frac{1}{\\sqrt{2\\pi}} e^{-\\frac{1}{2}x^2}$$\n",
    "\n",
    "$$f'(x) =  -\\frac{x}{\\sqrt{2\\pi}} e^{-\\frac{1}{2}x^2}$$\n",
    "\n",
    "$$f\"(x) =  \\frac{x^2 - 1}{\\sqrt{2\\pi}} e^{-\\frac{1}{2}x^2}$$"
   ]
  },
  {
   "cell_type": "code",
   "execution_count": null,
   "metadata": {},
   "outputs": [],
   "source": [
    "def f_gauss(x):\n",
    "    return np.exp(-0.5*x**2) / np.sqrt(2*np.pi)\n",
    "\n",
    "def f_gauss_bis(x):\n",
    "    return (x**2 - 1)*f_gauss(x)\n",
    "\n"
   ]
  },
  {
   "cell_type": "code",
   "execution_count": null,
   "metadata": {
    "scrolled": true
   },
   "outputs": [],
   "source": [
    "x = np.linspace(-5,5,15)\n",
    "vals = f_gauss(x)\n",
    "sec_der_vals = f_gauss_bis(x)\n",
    "xi_vals = vals[2:] + vals[:-2] - 2*vals[1:-1]\n",
    "\n",
    "plt.figure()\n",
    "plt.plot(x,vals,'b')\n",
    "plt.plot(x,sec_der_vals,'r')\n",
    "plt.plot(x[1:-1],xi_vals,'g')"
   ]
  },
  {
   "cell_type": "code",
   "execution_count": null,
   "metadata": {},
   "outputs": [],
   "source": [
    "%matplotlib inline\n",
    "from ipywidgets import *\n",
    "\n",
    "def f_gauss(x):\n",
    "    return np.exp(-0.5*x**2) / np.sqrt(2*np.pi)\n",
    "\n",
    "def f_gauss_bis(x):\n",
    "    return (x**2 - 1)*f_gauss(x)\n",
    "\n",
    "def xi_vals(vals):\n",
    "    return vals[2:] + vals[:-2] - 2*vals[1:-1]\n",
    "\n",
    "def x_vals(N):\n",
    "    return np.linspace(-5,5,N)\n",
    "\n",
    "def plot_func(N):\n",
    "    x = x_vals(int(N))\n",
    "\n",
    "    plt.plot(x,f_gauss(x),'b')\n",
    "    plt.plot(x,f_gauss_bis(x),'r')\n",
    "    plt.plot(x[1:-1],xi_vals(f_gauss(x)),'g')\n",
    "    plt.show()\n",
    "\n",
    "interact(plot_func, N = widgets.FloatSlider(value=10,\n",
    "                                               min=5,\n",
    "                                               max=50,\n",
    "                                               step=5))"
   ]
  },
  {
   "cell_type": "code",
   "execution_count": null,
   "metadata": {},
   "outputs": [],
   "source": [
    "def sec_der(phi, sigma2, dv):\n",
    "\n",
    "    nx, ny, nz = phi.shape\n",
    "    dvx, dvy, dvz = dv\n",
    "    dv2 = dv ** 2\n",
    "    sigma2x, sigma2y, sigma2z = sigma2\n",
    "\n",
    "    nxx, nyy, nzz = nx + 2, ny + 2, nz + 2\n",
    "\n",
    "    phip = np.zeros((nxx, nyy, nzz))  # new larger box\n",
    "    phip[1:-1, 1:-1, 1:-1] = phi  # puts the phi-box in the centre of our larger box\n",
    "    extrapolate_box(phip)\n",
    "\n",
    "\n",
    "    phi_fac = np.array([phip[0:nxx - 2, 1:-1, 1:-1] + phip[2:nxx, 1:-1, 1:-1],\n",
    "                        phip[1:-1, 0:nyy - 2, 1:-1] + phip[1:-1, 2:nyy, 1:-1],\n",
    "                        phip[1:-1, 1:-1, 0:nzz - 2] + phip[1:-1, 1:-1, 2:nzz]])\n",
    "\n",
    "    phi_arrx = (sigma2[0] / dv2[0]) * (phi_fac[0] - 2 * phi)\n",
    "    phi_arry = (sigma2[1] / dv2[1]) * (phi_fac[1] - 2 * phi)\n",
    "    phi_arrz = (sigma2[2] / dv2[2]) * (phi_fac[2] - 2 * phi)\n",
    "    plotphi(phi_arrx[1:-1, 1:-1,9])\n",
    "\n",
    "    phi_arr = phi_arrx + phi_arry + phi_arrz\n",
    "    extrapolate_box(phi_arr)\n",
    "    return phi_arr"
   ]
  },
  {
   "cell_type": "code",
   "execution_count": 35,
   "metadata": {},
   "outputs": [],
   "source": [
    "N = 5000 #Number of stars we want to use in our sample\n",
    "sample, vx, vy, vz = Deproject_v1_0.model_sample(N)\n",
    "pvals, rhatvals = Deproject_v1_0.calc_p_rhat(sample)\n",
    "sigma2, vmean0 = Deproject_v1_0.calc_sigma2(pvals,rhatvals,True)"
   ]
  },
  {
   "cell_type": "code",
   "execution_count": 46,
   "metadata": {
    "scrolled": true
   },
   "outputs": [
    {
     "name": "stdout",
     "output_type": "stream",
     "text": [
      "Run requires: 0.04 GB (120.0 GB available) | Block size = 15000000\n",
      "Fast Numpy Kvals run possible, running...\n",
      "\n",
      "Finished kvals.\n",
      "\n",
      "Started fmin_cg...\n",
      "0.47 mins\n",
      "Run requires: 0.32 GB (120.0 GB available) | Block size = 1875000\n",
      "Fast Numpy Kvals run possible, running...\n",
      "\n",
      "Finished kvals.\n",
      "\n",
      "Started fmin_cg...\n",
      "Run requires: 2.56 GB (120.0 GB available) | Block size = 234375\n",
      "Fast Numpy Kvals run possible, running...\n",
      "\n",
      "Finished kvals.\n",
      "\n",
      "Started fmin_cg...\n",
      "Run requires: 20.48 GB (120.0 GB available) | Block size = 29296\n",
      "Fast Numpy Kvals run possible, running...\n",
      "\n",
      "Finished kvals.\n",
      "\n",
      "Started fmin_cg...\n"
     ]
    }
   ],
   "source": [
    "from scipy.ndimage import zoom\n",
    "\n",
    "def params(N):\n",
    "    n = N\n",
    "    vmin = np.array([-150,-150,-150])\n",
    "    vmax = np.array([150,150,150])\n",
    "    dv = (vmax - vmin)/n\n",
    "    return vmin, dv, n\n",
    "\n",
    "def zoomed_mxl(mxl):\n",
    "    phi0_guess = zoom(mxl, zoom=2, order=3)\n",
    "    n = phi0_guess.shape\n",
    "    return phi0_guess, n\n",
    "\n",
    "alpha_guess = 1e-8\n",
    "v_guess = np.array([1,1,1])\n",
    "disp_guess = np.array([22,17,30])\n",
    "\n",
    "vmin, dv, n = params(np.array([10,10,10]))\n",
    "\n",
    "# duration = []\n",
    "\n",
    "t0 = timer()\n",
    "# 1st\n",
    "mxl1, phi_all, fmin_it = max_L(alpha_guess, pvals, rhatvals, vmin, dv, n, v0_guess = v_guess, disp_guess = disp_guess, disp=0)\n",
    "time_spent = np.around((timer() - t0)/60, 3).astype(str) + ' mins'; t0 = timer()\n",
    "print(str(time_spent))\n",
    "\n",
    "i_mxl2, N = zoomed_mxl(mxl1)\n",
    "vmin, dv, n = params(N)\n",
    "\n",
    "\n",
    "\n",
    "\n",
    "\n",
    "# duration.append([])\n",
    "####2nd\n",
    "mxl2, phi_all, fmin_it = max_L(alpha_guess, pvals, rhatvals, vmin, dv, n, v0_guess = v_guess, disp_guess = disp_guess, phi0_guess=i_mxl2, disp=0)\n",
    "time_spent = np.around((timer() - t0)/60, 3).astype(str) + ' mins'; t0 = timer()\n",
    "# duration[0].append(time_spent); print(str(time_spent))\n",
    "duration[0][0] = time_spent\n",
    "# ##2nd - b\n",
    "# mxl2b, phi_all, fmin_it = max_L(alpha_guess, pvals, rhatvals, vmin, dv, n, v0_guess = v_guess, disp_guess = disp_guess, disp=0)\n",
    "# time_spent = np.around((timer() - t0)/60, 3).astype(str) + ' mins'; t0 = timer()\n",
    "# duration[0].append(time_spent); print(str(time_spent))\n",
    "\n",
    "i_mxl3, N = zoomed_mxl(mxl2)\n",
    "vmin, dv, n = params(N)\n",
    "\n",
    "\n",
    "\n",
    "\n",
    "# duration.append([])\n",
    "####3rd\n",
    "mxl3, phi_all, fmin_it = max_L(alpha_guess, pvals, rhatvals, vmin, dv, n, v0_guess = v_guess, disp_guess = disp_guess, phi0_guess=i_mxl3, disp=0)\n",
    "time_spent = np.around((timer() - t0)/60, 3).astype(str) + ' mins'; t0 = timer()\n",
    "duration[1][0] = time_spent\n",
    "# duration[1].append(time_spent); print(str(time_spent))\n",
    "# ##3rd - b\n",
    "# mxl3, phi_all, fmin_it = max_L(alpha_guess, pvals, rhatvals, vmin, dv, n, v0_guess = v_guess, disp_guess = disp_guess, disp=0)\n",
    "# time_spent = np.around((timer() - t0)/60, 3).astype(str) + ' mins'; t0 = timer()\n",
    "# duration[1].append(time_spent); print(str(time_spent))\n",
    "\n",
    "i_mxl4, N = zoomed_mxl(mxl3)\n",
    "vmin, dv, n = params(N)\n",
    "   \n",
    "  \n",
    "\n",
    "\n",
    "# duration.append([])\n",
    "####4th\n",
    "mxl4, phi_all, fmin_it = max_L(alpha_guess, pvals, rhatvals, vmin, dv, n, v0_guess = v_guess, disp_guess = disp_guess, phi0_guess=i_mxl4, disp=0)\n",
    "time_spent = np.around((timer() - t0)/60, 3).astype(str) + ' mins'; t0 = timer()\n",
    "duration[2][0] = time_spent\n",
    "# duration[2].append(time_spent); print(str(time_spent))\n",
    "# ##4th - b\n",
    "# mxl4b, phi_all, fmin_it = max_L(alpha_guess, pvals, rhatvals, vmin, dv, n, v0_guess = v_guess, disp_guess = disp_guess, disp=0)\n",
    "# time_spent = np.around((timer() - t0)/60, 3).astype(str) + ' mins'; t0 = timer()\n",
    "# duration[2].append(time_spent); print(str(time_spent))\n"
   ]
  },
  {
   "cell_type": "code",
   "execution_count": 58,
   "metadata": {},
   "outputs": [
    {
     "data": {
      "text/plain": [
       "(10, 10, 10)"
      ]
     },
     "execution_count": 58,
     "metadata": {},
     "output_type": "execute_result"
    }
   ],
   "source": [
    "tuple([10*(2**i)]*3)"
   ]
  },
  {
   "cell_type": "code",
   "execution_count": 63,
   "metadata": {
    "scrolled": false
   },
   "outputs": [
    {
     "data": {
      "image/png": "[encoded data removed]",
      "text/plain": [
       "<Figure size 640x1280 with 7 Axes>"
      ]
     },
     "metadata": {},
     "output_type": "display_data"
    }
   ],
   "source": [
    "f,ax = plt.subplots(4,2,figsize=(8,16),frameon=False)\n",
    "\n",
    "Z = np.log10(np.exp(mxl1) +1).sum(axis=2) \n",
    "ax[0,0].pcolormesh(Z.T,cmap='bone_r')\n",
    "ax[0,0].contour(Z.T,10,origin='lower',colors='k',linewidths=0.5)\n",
    "ax[0,0].set_ylabel('n = (%s,%s,%s)' % tuple([10]*3))\n",
    "f.delaxes(ax[0,1])\n",
    "\n",
    "rows = [[mxl2,mxl2b],[mxl3,mxl3b],[mxl4,mxl4b]]\n",
    "for i, row in enumerate(rows):\n",
    "    \n",
    "    Z = np.log10(np.exp(row[0]) +1).sum(axis=2) \n",
    "    ax[i+1,0].pcolormesh(Z.T,cmap='bone_r')\n",
    "    ax[i+1,0].contour(Z.T,10,origin='lower',colors='k',linewidths=0.5)\n",
    "    ax[i+1,0].set_title('~' + duration[i][0])\n",
    "    ax[i+1,0].set_ylabel('n = (%s,%s,%s)' % tuple([10*(2**(i+1))]*3))\n",
    "    \n",
    "    Z = np.log10(np.exp(row[1]) +1).sum(axis=2)\n",
    "    ax[i+1,1].pcolormesh(Z.T,cmap='bone_r')\n",
    "    ax[i+1,1].contour(Z.T,10,origin='lower',colors='k',linewidths=0.5)\n",
    "    ax[i+1,1].set_title('~' + duration[i][1])\n",
    "\n",
    "\n",
    "plt.savefig('multigrid.pdf',format='pdf')\n",
    "# plotphi(np.log10(np.exp(mxl1) +1).sum(axis=2))\n",
    "# plotphi(np.log10(np.exp(mxl2) +1).sum(axis=2))\n",
    "# plotphi(np.log10(np.exp(mxl3) +1).sum(axis=2))\n",
    "# plotphi(np.log10(np.exp(mxl4) +1).sum(axis=2))"
   ]
  },
  {
   "cell_type": "code",
   "execution_count": null,
   "metadata": {},
   "outputs": [],
   "source": [
    "import psutil\n",
    "psutil.virtual_memory()"
   ]
  }
 ],
 "metadata": {
  "kernelspec": {
   "display_name": "Python 3",
   "language": "python",
   "name": "python3"
  },
  "language_info": {
   "codemirror_mode": {
    "name": "ipython",
    "version": 3
   },
   "file_extension": ".py",
   "mimetype": "text/x-python",
   "name": "python",
   "nbconvert_exporter": "python",
   "pygments_lexer": "ipython3",
   "version": "3.7.7"
  }
 },
 "nbformat": 4,
 "nbformat_minor": 4
}
