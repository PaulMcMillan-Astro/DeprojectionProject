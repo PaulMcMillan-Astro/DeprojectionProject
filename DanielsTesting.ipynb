{
 "cells": [
  {
   "cell_type": "code",
   "execution_count": 6,
   "metadata": {},
   "outputs": [],
   "source": [
    "%load_ext autoreload\n",
    "%autoreload 2"
   ]
  },
  {
   "cell_type": "code",
   "execution_count": 7,
   "metadata": {},
   "outputs": [],
   "source": [
    "%reset -sf"
   ]
  },
  {
   "cell_type": "code",
   "execution_count": 8,
   "metadata": {
    "scrolled": true
   },
   "outputs": [
    {
     "name": "stdout",
     "output_type": "stream",
     "text": [
      "/Users/danielmikkola/DeprojectionProject\n"
     ]
    }
   ],
   "source": [
    "import importlib\n",
    "import Deproject_v1_0 \n",
    "from Deproject_test import *\n",
    "from Deproject_plots import DM_plt_prefs\n",
    "DM_plt_prefs()\n",
    "import matplotlib.pyplot as plt\n",
    "import os\n",
    "import cProfile\n",
    "import numpy as np\n",
    "import builtins\n",
    "from scipy import sparse as scisp\n",
    "from scipy import optimize as sopt\n",
    "from matplotlib.colors import LogNorm\n",
    "from matplotlib.patches import Rectangle\n",
    "from timeit import default_timer as timer\n",
    "\n",
    "from astropy.io.ascii import read as tableread\n",
    "import astropy.units as u\n",
    "import astropy.coordinates as coord\n",
    "np.random.seed(0)\n",
    "coord.Galactic()\n",
    "%cd ~/DeprojectionProject/"
   ]
  },
  {
   "cell_type": "code",
   "execution_count": 100,
   "metadata": {},
   "outputs": [
    {
     "name": "stdout",
     "output_type": "stream",
     "text": [
      "/Users/danielmikkola/Documents/faststats/faststats\n",
      "/Users/danielmikkola/DeprojectionProject\n"
     ]
    }
   ],
   "source": [
    "%cd ~/Documents/faststats/faststats/\n",
    "from fkde import *\n",
    "def kdeplot(x,y,grid,no_c,bw_a):\n",
    "    Z,ax = fastkde(x,y,gridsize=grid,nocorrelation=no_c,adjust=bw_a)#,weights,adjust)\n",
    "    xlen,ylen = np.shape(Z)\n",
    "    X,Y = np.meshgrid(np.linspace(ax[0],ax[1],xlen),np.linspace(ax[0],ax[1],ylen))\n",
    "    return X,Y,Z\n",
    "%cd ~/DeprojectionProject/"
   ]
  },
  {
   "cell_type": "code",
   "execution_count": 101,
   "metadata": {},
   "outputs": [],
   "source": [
    "def rot(x,y,deg):\n",
    "    xf = x.flatten(); xf = xf.reshape(len(xf),1)\n",
    "    yf = y.flatten(); yf = yf.reshape(len(yf),1)\n",
    "    pos = np.hstack((xf,yf))\n",
    "    \n",
    "    theta = np.radians(deg)\n",
    "    c, s = np.cos(theta), np.sin(theta)\n",
    "    R = np.array(((c, -s), (s, c)))\n",
    "    pos = np.dot(pos, R.T)\n",
    "    \n",
    "    x = pos[:,0].reshape(x.shape)\n",
    "    y = pos[:,1].reshape(y.shape)\n",
    "    return x,y\n",
    "\n",
    "def f(x,y,z,lim):\n",
    "    x,y = rot(x,y,45)\n",
    "    val = (lim-np.abs(x))**4 + (lim-np.abs(y))**4 + (lim-np.abs(z))**4\n",
    "    return val/np.sum(val)\n",
    "\n",
    "\n",
    "def pyramid_sample(N_sample,r,c):\n",
    "    # Velocities\n",
    "    xc,yc,zc = c\n",
    "    N = 100\n",
    "    X = np.linspace(-r,r,N)\n",
    "    Y = np.linspace(-r,r,N)\n",
    "    Z = np.linspace(-r,r,N)\n",
    "    \n",
    "    XX = X.reshape(1,N,1)*np.ones((N,1,N))\n",
    "    YY = Y.reshape(N,1,1)*np.ones((1,N,N))\n",
    "    ZZ = Z.reshape(1,1,N)*np.ones((N,N,1))\n",
    "    \n",
    "    P = f(XX,YY,ZZ,r+np.max(c))\n",
    "    \n",
    "    rrind = np.ravel_multi_index(np.indices(XX.shape), XX.shape).ravel()\n",
    "    prob = np.ravel(P)\n",
    "    smp = np.random.choice(rrind, size=N_sample, p=prob)\n",
    "    smpx, smpy, smpz = np.asarray(np.unravel_index(smp, XX.shape))\n",
    "    \n",
    "    XX = XX + xc\n",
    "    ZZ = YY + yc\n",
    "    YY = ZZ + zc\n",
    "    \n",
    "    vxvals = XX[smpx, smpy, smpz]\n",
    "    vyvals = YY[smpx, smpy, smpz]\n",
    "    vzvals = ZZ[smpx, smpy, smpz]\n",
    "    \n",
    "    # Positions\n",
    "    xmax, ymax, zmax = np.array([100,100,100])/np.sqrt(3)    \n",
    "    xmin, ymin, zmin = -xmax,-ymax,-zmax\n",
    "    \n",
    "    xvals = (np.random.rand(N_sample) * (xmax - xmin) + xmin)\n",
    "    yvals = (np.random.rand(N_sample) * (ymax - ymin) + ymin)\n",
    "    zvals = (np.random.rand(N_sample) * (zmax - zmin) + zmin)\n",
    "    return xvals, yvals, zvals, vxvals, vyvals, vzvals"
   ]
  },
  {
   "cell_type": "markdown",
   "metadata": {},
   "source": [
    "## Generate gaussian sample"
   ]
  },
  {
   "cell_type": "code",
   "execution_count": 102,
   "metadata": {},
   "outputs": [],
   "source": [
    "N = 5000 #Number of stars we want to use in our sample\n",
    "sample, vx, vy, vz = Deproject_v1_0.model_sample(N)\n",
    "\n",
    "pvals, rhatvals = Deproject_v1_0.calc_p_rhat(sample)\n",
    "sigma2, vmean0 = Deproject_v1_0.calc_sigma2(pvals,rhatvals,True)"
   ]
  },
  {
   "cell_type": "markdown",
   "metadata": {},
   "source": [
    "## Generate pyramid-like sample from distribution"
   ]
  },
  {
   "cell_type": "code",
   "execution_count": null,
   "metadata": {},
   "outputs": [],
   "source": [
    "x, y, z, vx, vy, vz = pyramid_sample(int(1e4),100, c=(0,0,0))"
   ]
  },
  {
   "cell_type": "code",
   "execution_count": null,
   "metadata": {},
   "outputs": [],
   "source": [
    "x,y,z          = (x,y,z)* u.pc\n",
    "vx,vy,vz       = (vx,vy,vz) * (u.km / u.s)"
   ]
  },
  {
   "cell_type": "code",
   "execution_count": null,
   "metadata": {},
   "outputs": [],
   "source": [
    "# We use Astropy's coord class which makes it easy to keep track of units and conversions\n",
    "\n",
    "sample = coord.Galactic(u=x,\n",
    "                         v=y, \n",
    "                         w=z,\n",
    "                         U=vx,\n",
    "                         V=vy,\n",
    "                         W=vz,\n",
    "                         representation_type=coord.CartesianRepresentation,\n",
    "                         differential_type=coord.CartesianDifferential)\n",
    "sample.set_representation_cls(coord.SphericalRepresentation, coord.SphericalCosLatDifferential)\n",
    "\n"
   ]
  },
  {
   "cell_type": "code",
   "execution_count": null,
   "metadata": {},
   "outputs": [],
   "source": [
    "pvals, rhatvals = Deproject_v1_0.calc_p_rhat(sample)\n",
    "sigma2, vmean0 = Deproject_v1_0.calc_sigma2(pvals,rhatvals,True)"
   ]
  },
  {
   "cell_type": "markdown",
   "metadata": {},
   "source": [
    "## Generate  fake Galactic samples\n",
    "\n",
    "From simulated galaxy:"
   ]
  },
  {
   "cell_type": "markdown",
   "metadata": {},
   "source": [
    "Loading data"
   ]
  },
  {
   "cell_type": "code",
   "execution_count": null,
   "metadata": {},
   "outputs": [],
   "source": [
    "N = 5000 #Number of stars we want to use in our sample\n",
    "dat = np.load('DATA/simgal.npy')"
   ]
  },
  {
   "cell_type": "markdown",
   "metadata": {},
   "source": [
    "Select a sample around with radius 2 kpc around 8 kpc"
   ]
  },
  {
   "cell_type": "code",
   "execution_count": null,
   "metadata": {
    "scrolled": true
   },
   "outputs": [],
   "source": [
    "x,y,z,vx,vy,vz = dat\n",
    "R = np.sqrt((x-8)**2 + y**2)\n",
    "snbh = R < 2\n",
    "dat = dat[:,snbh]\n",
    "I = np.random.randint(low=0,high=np.sum(snbh),size=N)\n",
    "\n",
    "x,y,z,vx,vy,vz = dat[:,I]\n",
    "\n",
    "# Center x, y and vy, so they look like they're relative to the LSR\n",
    "x = x - np.median(x)\n",
    "y = y - np.median(y)\n",
    "vy = vy - np.median(vy)"
   ]
  },
  {
   "cell_type": "markdown",
   "metadata": {},
   "source": [
    "Prepare for astropy"
   ]
  },
  {
   "cell_type": "code",
   "execution_count": null,
   "metadata": {},
   "outputs": [],
   "source": [
    "x,y,z          = (x,y,z)* u.pc\n",
    "vx,vy,vz       = (vx,vy,vz) * (u.km / u.s)"
   ]
  },
  {
   "cell_type": "code",
   "execution_count": null,
   "metadata": {},
   "outputs": [],
   "source": [
    "# We use Astropy's coord class which makes it easy to keep track of units and conversions\n",
    "\n",
    "sample = coord.Galactic(u=x,\n",
    "                         v=y, \n",
    "                         w=z,\n",
    "                         U=vx,\n",
    "                         V=vy,\n",
    "                         W=vz,\n",
    "                         representation_type=coord.CartesianRepresentation,\n",
    "                         differential_type=coord.CartesianDifferential)\n",
    "sample.set_representation_cls(coord.SphericalRepresentation, coord.SphericalCosLatDifferential)\n"
   ]
  },
  {
   "cell_type": "code",
   "execution_count": null,
   "metadata": {},
   "outputs": [],
   "source": [
    "pvals, rhatvals = Deproject_v1_0.calc_p_rhat(sample)\n",
    "sigma2, vmean0 = Deproject_v1_0.calc_sigma2(pvals,rhatvals,True)"
   ]
  },
  {
   "cell_type": "markdown",
   "metadata": {},
   "source": [
    "## Inspect sample"
   ]
  },
  {
   "cell_type": "code",
   "execution_count": null,
   "metadata": {
    "scrolled": false
   },
   "outputs": [],
   "source": [
    "plt.hist2d(np.array(sample.l),np.array(sample.b),100)\n",
    "plt.show()"
   ]
  },
  {
   "cell_type": "code",
   "execution_count": 103,
   "metadata": {},
   "outputs": [],
   "source": [
    "n = np.array([20,20,20])\n",
    "dv = np.array([10,10,10])\n",
    "vmin = np.array([-100,-100,-100])\n",
    "\n",
    "alpha_guess = 1e-8\n",
    "v_guess = np.array([1,1,1])\n",
    "disp_guess = np.array([22,17,30])"
   ]
  },
  {
   "cell_type": "code",
   "execution_count": 104,
   "metadata": {
    "scrolled": true
   },
   "outputs": [
    {
     "name": "stdout",
     "output_type": "stream",
     "text": [
      "\n",
      "DB98 mean                  : ===> [ 9.243373 -0.868939  9.42836 ]\n",
      "computed f(v) mean         : ===> [-0.407224  4.752244  4.684499]\n",
      "DB98 dispersions           : ===> [27.232702 29.733462 28.126512]\n",
      "Computed f(v) dispersions  : ===> [49.957816 48.86752  49.277264]\n",
      "\n",
      "\n"
     ]
    }
   ],
   "source": [
    "sigma2, vmean0 = Deproject_v1_0.calc_sigma2(pvals,rhatvals,True)\n",
    "\n",
    "sigma = np.sqrt(sigma2)\n",
    "phi0 = phi_guess(vmean0,sigma,vmin,dv,n)\n",
    "\n",
    "sanity_check(pvals,rhatvals,phi0,vmin,dv,n)"
   ]
  },
  {
   "cell_type": "code",
   "execution_count": null,
   "metadata": {
    "scrolled": false
   },
   "outputs": [],
   "source": [
    "t0 = timer()\n",
    "mxl, phi_all, fmin_it = max_L(alpha_guess, pvals, rhatvals, vmin, dv, n, v0_guess = v_guess, disp_guess = disp_guess)\n",
    "time = str((timer() - t0)/60); print(time + ' mins')\n",
    "\n",
    "sanity_check(pvals,rhatvals,mxl,vmin,dv,n)"
   ]
  },
  {
   "cell_type": "code",
   "execution_count": null,
   "metadata": {
    "scrolled": false
   },
   "outputs": [],
   "source": [
    "def plot_L_and_dL():\n",
    "    f,ax = plt.subplots(2,1,figsize=(7,9),sharex=True,frameon=False,gridspec_kw={'height_ratios':[3,1]})\n",
    "\n",
    "    ax[0].plot(range(1,len(gradL)+1),gradL,'k-',linewidth=2)\n",
    "    ax[0].set_yscale('log')\n",
    "    ax[0].set_xscale('log')\n",
    "    #ax[0].set_ylabel('$|\\\\nabla\\tilde{\\mathscr{L}}_\\alpha(\\\\varphi)|$')\n",
    "    ax[0].set_ylabel('$|\\\\nabla\\\\widetilde{\\mathscr{L}}_\\\\alpha(\\\\varphi)|$')\n",
    "\n",
    "    ax[1].set_ylabel('$\\mathscr{L}_\\\\alpha(\\\\varphi)$')\n",
    "    ax[1].plot(range(1,len(L)+1),L,'k-',linewidth=2)\n",
    "    ax[1].set_xlabel('Iterations')\n",
    "    ax[1].set_xscale('log')\n",
    "    plt.subplots_adjust(hspace=0.02)\n",
    "    \n",
    "    if logging:\n",
    "        plt.savefig('RUNS/' + folder + '/LanddLplot' + '.pdf',format='pdf')\n",
    "    try:\n",
    "        autoplot\n",
    "    except NameError:\n",
    "        plt.show()\n",
    "\n",
    "    return"
   ]
  },
  {
   "cell_type": "code",
   "execution_count": null,
   "metadata": {},
   "outputs": [],
   "source": [
    "L"
   ]
  },
  {
   "cell_type": "code",
   "execution_count": null,
   "metadata": {
    "scrolled": false
   },
   "outputs": [],
   "source": [
    "dx, dy = dv[0], dv[1]\n",
    "vxmin, vymin = vmin[0], vmin[1]\n",
    "nx, ny = n[0], n[1]\n",
    "vxmax, vymax = vxmin+nx*dx,vymin+ny*dy\n",
    "\n",
    "x0, y0 = vxmin, vymin\n",
    "x1, y1 = vxmax, vymax\n",
    "\n",
    "xbins = np.arange(x0,x1+dx,dx)\n",
    "ybins = np.arange(y0,y1+dy,dy)\n",
    "\n",
    "xc = (xbins[1:]+xbins[:-1])/2\n",
    "yc = (ybins[1:]+ybins[:-1])/2\n",
    "\n",
    "[X,Y] = np.meshgrid(xc,yc);\n",
    "\n",
    "fv = np.exp(mxl)\n",
    "\n",
    "fvlog = np.log10(fv+1)\n",
    "xl = 120\n",
    "yl = 120\n",
    "twodfv = np.sum(fv,axis=2)\n",
    "\n",
    "\n",
    "X2,Y2,Z = kdeplot(np.array(vx),np.array(vy),(100,100),False,2)\n",
    "# Z,xbins,ybins = np.histogram2d(np.array(vx),np.array(vy),20)\n",
    "# xc = (xbins[1:]+xbins[:-1])/2\n",
    "# yc = (ybins[1:]+ybins[:-1])/2\n",
    "\n",
    "# [X2,Y2] = np.meshgrid(xc,yc);\n",
    "\n",
    "f,ax = plt.subplots(1,3,sharex=True,sharey=True,figsize=(21,7),frameon=False)\n",
    "\n",
    "ax[0].contourf(X2,Y2,Z.T,40,origin='lower',cmap = plt.cm.get_cmap('bone_r'),linestyles='solid')\n",
    "ax[0].pcolormesh(X2,Y2,Z.T,cmap='bone_r')\n",
    "ax[0].contour(X2,Y2,Z.T,10,origin='lower',colors='k',linewidths=0.5)\n",
    "ax[0].set_xlim(-xl,xl)\n",
    "ax[0].set_ylim(-yl,yl)\n",
    "ax[0].add_patch(Rectangle((vmin[0],vmin[1]),n[0]*dv[0],n[0]*dv[0], fill=None,edgecolor='r',label='3D box size'))\n",
    "ax[0].legend()\n",
    "ax[0].set_title('Original fv')\n",
    "\n",
    "ax[1].contourf(X,Y,twodfv.T,40,origin='lower',cmap = plt.cm.get_cmap('bone_r'),linestyles='solid')\n",
    "ax[1].contour(X,Y,twodfv.T,10,origin='lower',colors='k',linewidths=0.5)\n",
    "ax[1].set_xlim(-xl,xl)\n",
    "ax[1].set_ylim(-yl,yl)\n",
    "ax[1].add_patch(Rectangle((vmin[0],vmin[1]),n[0]*dv[0],n[0]*dv[0], fill=None,edgecolor='r',label='3D box size'))\n",
    "ax[1].legend()\n",
    "ax[1].set_title('Deprojected fv')\n",
    "\n",
    "ax[2].contourf(X,Y,np.log10(twodfv.T),40,origin='lower',cmap = plt.cm.get_cmap('bone_r'),linestyles='solid')\n",
    "ax[2].contour(X,Y,np.log10(twodfv.T),10,origin='lower',colors='k',linewidths=0.5)\n",
    "ax[2].set_xlim(-xl,xl)\n",
    "ax[2].set_ylim(-yl,yl)\n",
    "ax[2].add_patch(Rectangle((vmin[0],vmin[1]),n[0]*dv[0],n[0]*dv[0], fill=None,edgecolor='r',label='3D box size'))\n",
    "ax[2].legend()\n",
    "ax[2].set_title('Deprojected log(fv)')\n",
    "\n",
    "plt.show()"
   ]
  },
  {
   "cell_type": "code",
   "execution_count": null,
   "metadata": {},
   "outputs": [],
   "source": [
    "# L, gradL             - For each fmin_cg iteration\n",
    "# L_calls, gradL_calls - For each function and gradient call respectively\n",
    "# I_its, Ig_its        - Indices of L_calls and gradL_calls that match the iterations\n",
    "\n",
    "def plot_LanddL():\n",
    "    I_its = []\n",
    "    Ig_its = []\n",
    "\n",
    "    for i, call in enumerate(L_calls):\n",
    "        if call in L:\n",
    "            I_its.append(i)\n",
    "    \n",
    "    for i, call in enumerate(gradL_calls):\n",
    "        if call in gradL:\n",
    "            Ig_its.append(i)\n",
    "\n",
    "\n",
    "    f,ax = plt.subplots(2,2,figsize=(14,10),sharey='row',frameon=False,gridspec_kw={'height_ratios':[3,1]})\n",
    "\n",
    "    ax[0,0].set_title('All iterations\\n$\\\\nabla\\mathscr{L}(\\\\varphi)$')\n",
    "    ax[0,0].plot(gradL_calls[Ig_its],'k-',marker='.',linewidth=1)\n",
    "    ax[0,0].set_yscale('log')\n",
    "\n",
    "    ax[1,0].set_title('$\\mathscr{L}(\\\\varphi)$')\n",
    "    ax[1,0].plot(L_calls[I_its],'k-',marker='.',linewidth=1)\n",
    "    ax[1,0].set_xlabel('Iterations')\n",
    "\n",
    "    ax[0,1].set_title('All calls\\n $\\\\nabla\\mathscr{L}(\\\\varphi)$')\n",
    "    ax[0,1].plot(gradL_calls,'r-',linewidth=1)\n",
    "    ax[0,1].plot(Ig_its,gradL_calls[Ig_its],'k.')\n",
    "    ax[0,1].set_yscale('log')\n",
    "    ax[0,1].set_ylim(gradL_calls.min()*0.1, gradL_calls.max()*1.1)\n",
    "\n",
    "    # inset axes....\n",
    "    axins = ax[0,1].inset_axes([0.05, 0.01, 0.90, 0.3])\n",
    "    axins.plot(gradL_calls,'r-',marker='.',linewidth=1,label='$\\\\nabla\\mathscr{L}(\\\\varphi)$ calls')\n",
    "    axins.plot(Ig_its,gradL_calls[Ig_its],'k.',label='$\\mathrm{\\\\tt fmin\\_cg()}}$ iterations')\n",
    "\n",
    "    # sub region of the original image\n",
    "    x1, x2, y1, y2 = Ig_its[-10], len(gradL_calls), 0.9*gradL_calls[Ig_its[-10]:].min(), 1.1*gradL_calls[Ig_its[-10]:].max()\n",
    "    axins.set_xlim(x1, x2)\n",
    "    axins.set_ylim(y1, y2)\n",
    "    axins.set_yticklabels('')\n",
    "    axins.set_xticks([x1,x2])\n",
    "    axins.xaxis.tick_top()\n",
    "    #axins.legend(fontsize=14)\n",
    "    ax[0,1].indicate_inset_zoom(axins)\n",
    "\n",
    "\n",
    "\n",
    "    ax[1,1].set_title('$\\mathscr{L}(\\mathscr{\\phi})$')\n",
    "    ax[1,1].plot(L_calls,'r-',linewidth=1,label='$\\mathscr{L}(\\\\varphi)$ calls')\n",
    "    ax[1,1].plot(I_its,L_calls[I_its],'k.',label='$\\mathrm{\\\\tt fmin\\_cg()}}$ iterations')\n",
    "    ax[1,1].set_xlabel('function calls')\n",
    "    ax[1,1].legend(fontsize=14)\n",
    "    plt.show()\n",
    "    return "
   ]
  },
  {
   "cell_type": "markdown",
   "metadata": {},
   "source": [
    "# End of non-testing lines"
   ]
  },
  {
   "cell_type": "code",
   "execution_count": null,
   "metadata": {
    "scrolled": false
   },
   "outputs": [],
   "source": [
    "import inspect\n",
    "lines = inspect.getsource(fmin_cg)\n",
    "%rm fmin_cg_read.py\n",
    "with open('fmin_cg_read.py','a') as writer:\n",
    "    writer.write(lines)\n",
    "os.system('atom fmin_cg_read.py')"
   ]
  },
  {
   "cell_type": "markdown",
   "metadata": {},
   "source": [
    "Investigating grad_L"
   ]
  },
  {
   "cell_type": "markdown",
   "metadata": {},
   "source": [
    "## Alternative sec_der"
   ]
  },
  {
   "cell_type": "code",
   "execution_count": null,
   "metadata": {},
   "outputs": [],
   "source": [
    "def plotphi(phi):\n",
    "    plt.figure(figsize=(4,3))\n",
    "    im = plt.pcolormesh(phi.T,cmap = plt.cm.get_cmap('viridis'))\n",
    "    plt.colorbar(im)\n",
    "    plt.show()"
   ]
  },
  {
   "cell_type": "code",
   "execution_count": null,
   "metadata": {},
   "outputs": [],
   "source": [
    "%cd DATA/\n",
    "pvals = np.load('TEST/pvals.npy')\n",
    "rhatvals = np.load('TEST/rhatvals.npy')\n",
    "mxl = np.load('TEST/mxl.npy')"
   ]
  },
  {
   "cell_type": "markdown",
   "metadata": {},
   "source": [
    "## Check eq 30 on 1d Gaussian\n",
    "\n",
    "$$ \\Xi_{\\pmb{n}\\pmb{l}} \\propto -2\\delta_{\\pmb{n},\\pmb{l}} + \\delta_{\\pmb{n},\\pmb{l} + \\pmb{\\hat{e}}_i} + \\delta_{\\pmb{n},\\pmb{l} - \\pmb{\\hat{e}}_i}$$\n",
    "\n",
    "$$f(x) = \\frac{1}{\\sigma\\sqrt{2\\pi}} e^{-\\frac{1}{2}\\left(\\frac{x-\\mu}{\\sigma}\\right)^2} \\rightarrow \\frac{1}{\\sqrt{2\\pi}} e^{-\\frac{1}{2}x^2}$$\n",
    "\n",
    "$$f'(x) =  -\\frac{x}{\\sqrt{2\\pi}} e^{-\\frac{1}{2}x^2}$$\n",
    "\n",
    "$$f\"(x) =  \\frac{x^2 - 1}{\\sqrt{2\\pi}} e^{-\\frac{1}{2}x^2}$$"
   ]
  },
  {
   "cell_type": "code",
   "execution_count": null,
   "metadata": {},
   "outputs": [],
   "source": [
    "%matplotlib inline\n",
    "from ipywidgets import *\n",
    "\n",
    "def f_gauss(x):\n",
    "    return np.exp(-0.5*x**2) / np.sqrt(2*np.pi)\n",
    "\n",
    "def f_gauss_bis(x):\n",
    "    return (x**2 - 1)*f_gauss(x)\n",
    "\n",
    "# def xi_vals(x):\n",
    "#     phi = np.log(f_gauss(x))\n",
    "#     sec_vals = (vals[2:] + vals[:-2] - 2*vals[1:-1])\n",
    "#     return \n",
    "\n",
    "def x_vals(N):\n",
    "    return np.linspace(-5,5,N)\n",
    "\n",
    "def plot_func(N):\n",
    "    x = x_vals(int(N))\n",
    "\n",
    "    plt.plot(x,f_gauss(x),'b')\n",
    "    plt.plot(x,f_gauss_bis(x),'r')\n",
    "    #plt.plot(x[1:-1],xi_vals(f_gauss(x)),'g')\n",
    "    plt.show()\n",
    "\n",
    "interact(plot_func, N = widgets.FloatSlider(value=50,\n",
    "                                               min=5,\n",
    "                                               max=100,\n",
    "                                               step=5))"
   ]
  },
  {
   "cell_type": "code",
   "execution_count": null,
   "metadata": {},
   "outputs": [],
   "source": [
    "%timeit dvx, dvy, dvz = dv; dvx * dvy * dvz\n",
    "%timeit dv[0] * dv[1] * dv[2]\n",
    "%timeit np.prod(dv)"
   ]
  },
  {
   "cell_type": "code",
   "execution_count": null,
   "metadata": {},
   "outputs": [],
   "source": [
    "%timeit dv2 = np.square(dv); (dv2[0]*dv2[0]); (dv2[1]*dv2[1]); (dv2[2]*dv2[2])\n",
    "%timeit dv2 = np.square(dv); dvx, dvy, dvz = dv2; dvx*dvx; dvy*dvy; dvz*dvz"
   ]
  },
  {
   "cell_type": "code",
   "execution_count": null,
   "metadata": {},
   "outputs": [],
   "source": [
    "def xi_calc(phi, sigma2, dv):\n",
    "    '''This function calculates eq. 29 (and in turn eq. 30) of WD98. Each cell m has a contribution \n",
    "    of -2*phi_m, phi_(m+e_i), and phi_(m-e_i) from itself, its neighbor one step up in the i \n",
    "    direction and one step down in the i direction respectively. The direction i loops over\n",
    "    the x, y, and z directions.\n",
    "    \n",
    "    The contributions are added onto a zero array of the same shape as phi and only when \n",
    "    both neighbours are available in the given dimension. e.g. there is no x term when\n",
    "    treating on [1, :, :] or [:, :, -1]\n",
    "    \n",
    "    Inputs are:\n",
    "    \n",
    "    phi - log of the distribution [nx,ny,nz]\n",
    "    \n",
    "    sigma2 - squared dispersion in each direction [array of len 3]\n",
    "    \n",
    "    dv - cell widths [array of len 3]\n",
    "    \n",
    "    ----\n",
    "    \n",
    "    Output is:\n",
    "    \n",
    "    phi_arr - The contributions to each cell, equiv. to eq 29 in WD98'''\n",
    "\n",
    "    phi_arr = np.zeros(phi.shape)\n",
    "\n",
    "    phi_arr[1:-1,:,:] += (sigma2[0] / (dv[0]*dv[0])) * (-2*phi[1:-1, :, :] + phi[2:, :, :] + phi[:-2, :, :])\n",
    "    phi_arr[:,1:-1,:] += (sigma2[1] / (dv[1]*dv[1])) * (-2*phi[:, 1:-1, :] + phi[:, 2:, :] + phi[:, :-2, :])\n",
    "    phi_arr[:,:,1:-1] += (sigma2[2] / (dv[2]*dv[2])) * (-2*phi[:, :, 1:-1] + phi[:, :, 2:] + phi[:, :, :-2])\n",
    "\n",
    "    return phi_arr"
   ]
  },
  {
   "cell_type": "code",
   "execution_count": null,
   "metadata": {},
   "outputs": [],
   "source": [
    "def sec_der(phi, sigma2, dv):\n",
    "    '''This function calculates eq. 29 (and in turn eq. 30) of WD98. Each cell m has a contribution \n",
    "    of -2*phi_m, phi_(m+e_i), and phi_(m-e_i) from itself, its neighbor one step up in the i \n",
    "    direction and one step down in the i direction respectively. The direction i loops over\n",
    "    the x, y, and z directions.\n",
    "    \n",
    "    The contributions are added onto a zero array of the same shape as phi and only when \n",
    "    both neighbours are available in the given dimension. e.g. there is no x term when\n",
    "    treating on [1, :, :] or [:, :, -1]\n",
    "    \n",
    "    Inputs are:\n",
    "    \n",
    "    phi - log of the distribution [nx,ny,nz]\n",
    "    \n",
    "    sigma2 - squared dispersion in each direction [array of len 3]\n",
    "    \n",
    "    dv - cell widths [array of len 3]\n",
    "    \n",
    "    ----\n",
    "    \n",
    "    Output is:\n",
    "    \n",
    "    phi_arr - The contributions to each cell, equiv. to eq 29 in WD98'''\n",
    "\n",
    "    phi_arr = np.zeros(phi.shape)\n",
    "\n",
    "    phi_arr[1:-1,:,:] += (sigma2[0] / (dv[0]*dv[0])) * (-2*phi[1:-1, :, :] + phi[2:, :, :] + phi[:-2, :, :])\n",
    "    phi_arr[:,1:-1,:] += (sigma2[1] / (dv[1]*dv[1])) * (-2*phi[:, 1:-1, :] + phi[:, 2:, :] + phi[:, :-2, :])\n",
    "    phi_arr[:,:,1:-1] += (sigma2[2] / (dv[2]*dv[2])) * (-2*phi[:, :, 1:-1] + phi[:, :, 2:] + phi[:, :, :-2])\n",
    "\n",
    "    return phi_arr\n",
    "\n",
    "def grad_sec_der(phi, sigma2, dv):\n",
    "    '''Here we calculate the equivalent factor to sec_der for the gradients third term'''\n",
    "    \n",
    "    phi_arr = np.zeros(phi.shape)\n",
    "    \n",
    "    phi_arr_loc = sec_der(phi, sigma2, dv) # This gives us the matrix A_m for all m = (i,j,k) cells\n",
    "    \n",
    "    # The x contribution\n",
    "    phi_arr[:-2,:,:]  += 2 * (phi_arr_loc[1:-1,:,:]) * sigma2[0]/(dv[0]*dv[0]) # Adds A_(m-1) contribution\n",
    "    phi_arr[2:,:,:]   += 2 * (phi_arr_loc[1:-1,:,:]) * sigma2[0]/(dv[0]*dv[0]) # Adds A_(m+1) contribution\n",
    "    phi_arr[1:-1,:,:] -= 4 * (phi_arr_loc[1:-1,:,:]) * sigma2[0]/(dv[0]*dv[0]) # Adds A_m contribution\n",
    "\n",
    "    # The y contribution\n",
    "    phi_arr[:,:-2,:]  += 2 * (phi_arr_loc[:,1:-1,:]) * sigma2[1]/(dv[1]*dv[1]) # Adds A_(m-1) contribution\n",
    "    phi_arr[:,2:,:]   += 2 * (phi_arr_loc[:,1:-1,:]) * sigma2[1]/(dv[1]*dv[1]) # Adds A_(m+1) contribution\n",
    "    phi_arr[:,1:-1,:] -= 4 * (phi_arr_loc[:,1:-1,:]) * sigma2[1]/(dv[1]*dv[1]) # Adds A_m contribution\n",
    "\n",
    "    # The z contribution\n",
    "    phi_arr[:,:,:-2]  += 2 * (phi_arr_loc[:,:,1:-1]) * sigma2[2]/(dv[2]*dv[2]) # Adds A_(m-1) contribution\n",
    "    phi_arr[:,:,2:]   += 2 * (phi_arr_loc[:,:,1:-1]) * sigma2[2]/(dv[2]*dv[2]) # Adds A_(m+1) contribution\n",
    "    phi_arr[:,:,1:-1] -= 4 * (phi_arr_loc[:,:,1:-1]) * sigma2[2]/(dv[2]*dv[2]) # Adds A_m contribution\n",
    "    \n",
    "    return phi_arr\n",
    "    \n",
    "    \n",
    "\n",
    "def neg_L_calc(phi, *args):\n",
    "    \"\"\"The function that we wish to optimise. Corresponds to eq. 31 in D98.\n",
    "\n",
    "    N: Number of stars in our sample\n",
    "\n",
    "    Kvals: Array of dimensions (N,nx,ny,nz) containing the K-values for each star in our sample.\n",
    "\n",
    "    alpha: Smoothing parameter that can be found using the function opt_alpha\n",
    "   \n",
    "    We use sparse matrices in our computation of L_tilde because our K- arrays have low\n",
    "    density. Therefore we use the scipy.sparse package to convert our arrays to sparse arrays.\n",
    "    Using coo-matrices is faster when building the matrix, but the csc-matrices are faster for\n",
    "    arithmetic operations\n",
    "    \n",
    "    phi_unr regains the original shape of our phi guess and is used to compute the\n",
    "    third term of L_tilde.\"\"\"\n",
    "    \n",
    "    Kvals, N, alpha, dv, n, sigma2 = args\n",
    "    \n",
    "    exphir = np.exp(phi)\n",
    "    exphi_csc = scisp.coo_matrix(exphir).tocsc()\n",
    "    \n",
    "    Kphi = Kvals.multiply(exphi_csc).sum(axis=1) # Order all Kphi values in 1D arrays and compute the sum of exp(phi)*K(k|l) for each star\n",
    "    Kphi_sum_tot = np.log(Kphi[Kphi != 0]).sum() # To make sure we don't get infinities and .sum() gives the double sum in the first term\n",
    "    \n",
    "    phi_unr = np.reshape(phi, n)\n",
    "    phixhi_sum = (sec_der(phi_unr, sigma2, dv) ** 2).sum()\n",
    "    \n",
    "    t1 = Kphi_sum_tot / N\n",
    "    t2 = exphi_csc.sum()\n",
    "    t3 = ((alpha * dv[0] * dv[1] * dv[2]) / 2) * phixhi_sum\n",
    "    \n",
    "    L_tilde = t1 - t2 - t3 # eq. 31 in DB98\n",
    "        \n",
    "    neg_L = -1 * L_tilde  # Since we want to maximize L_tilde, we should minimize -L_tilde\n",
    "    return neg_L\n",
    "\n",
    "def grad_neg_L_calc(phi, *args):\n",
    "    \"\"\"In this function we compute the gradient of L. We compute the derivative for each cell and return a\n",
    "    1D array of length (nx*ny*nz).\n",
    "\n",
    "    args: see get_L\n",
    "\n",
    "    \"\"\"\n",
    "    Kvals, N, alpha, dv, n, sigma2 = args\n",
    "    \n",
    "    \n",
    "    exphir = np.exp(phi)\n",
    "    exphi_csc = scisp.coo_matrix(exphir).tocsc()\n",
    "    \n",
    "    Kphi = exphi_csc.multiply(Kvals)\n",
    "    Kphi_sum = Kphi.sum(axis=1)\n",
    "    Kphi_sum[Kphi_sum.nonzero()] = 1 / Kphi_sum[Kphi_sum.nonzero()] # We compute the sum of exp(phi)*K(k|l) for each star\n",
    "    K_term0 = Kphi.multiply(Kphi_sum)\n",
    "    K_term = K_term0.sum(axis=0) # The final array with the first term for each cell\n",
    "    \n",
    "    phi_unr = np.reshape(phi,n)\n",
    "    dphixhi = grad_sec_der(phi_unr, sigma2, dv)   \n",
    "    \n",
    "    t1 = K_term/N\n",
    "    t2 = exphi_csc\n",
    "    t3 = ((alpha * dv[0] * dv[1] * dv[2]) / 2) * dphixhi.ravel()\n",
    "    \n",
    "    grad_L = np.asarray(t1 - t2 - t3).reshape(len(phi), )\n",
    "    \n",
    "    neg_grad_L = -1 * grad_L\n",
    "    return neg_grad_L"
   ]
  },
  {
   "cell_type": "code",
   "execution_count": 105,
   "metadata": {},
   "outputs": [],
   "source": [
    "N = 5000 #Number of stars we want to use in our sample\n",
    "sample, vx, vy, vz = Deproject_v1_0.model_sample(N)\n",
    "\n",
    "pvals, rhatvals = Deproject_v1_0.calc_p_rhat(sample)\n",
    "sigma2, vmean0 = Deproject_v1_0.calc_sigma2(pvals,rhatvals,True)\n",
    "sigma = np.sqrt(sigma2)\n",
    "\n",
    "n = np.array([20,20,20])\n",
    "dv = np.array([10,10,10])\n",
    "vmin = np.array([-100,-100,-100])\n",
    "\n",
    "alpha_guess = 1e-9\n",
    "v_guess = np.array([1,1,1])\n",
    "disp_guess = np.array([22,17,30])\n",
    "\n",
    "Kvals = KvalsNumpyMethod(pvals, rhatvals, vmin, dv, n)\n",
    "\n",
    "nx, ny, nz = n\n",
    "phi0 = phi_guess(vmean0,sigma,vmin,dv,n)  \n",
    "phi0r = np.ravel(phi0)\n",
    "\n",
    "args = (Kvals, N, alpha_guess, dv, n, sigma2)"
   ]
  },
  {
   "cell_type": "code",
   "execution_count": null,
   "metadata": {},
   "outputs": [],
   "source": [
    "print('Started fmin_cg... ',end='')\n",
    "mxl, fopt, fcalls, gcalls, flag, phi_all = fmin_cg(neg_L_calc, phi0r, fprime=grad_neg_L_calc, gtol=1e-8, args=args, retall=True, disp=False, full_output=True)\n",
    "print(colored('Finished!','green',attrs=['bold','underline']))\n",
    "fmin_it = np.shape(phi_all)[0] - 1\n",
    "fmin_cg_output(fopt, fcalls, gcalls, flag, fmin_it)"
   ]
  },
  {
   "cell_type": "code",
   "execution_count": null,
   "metadata": {},
   "outputs": [],
   "source": [
    "def nonp():\n",
    "    x = []\n",
    "    for i in range(1000):\n",
    "        x.append(i)\n",
    "    x = np.asarray(x)\n",
    "    return x\n",
    "\n",
    "def withnp():\n",
    "    x = np.array([])\n",
    "    for i in range(1000):\n",
    "        x = np.append(x,i)\n",
    "    return x"
   ]
  },
  {
   "cell_type": "code",
   "execution_count": null,
   "metadata": {},
   "outputs": [],
   "source": [
    "x_a = nonp()\n",
    "x_b = withnp()"
   ]
  },
  {
   "cell_type": "code",
   "execution_count": null,
   "metadata": {},
   "outputs": [],
   "source": [
    "%%timeit\n",
    "x = []\n",
    "for i in range(1000):\n",
    "    x.append((((i**2)**0.5)**2)**0.5)\n",
    "x = np.asarray(x)"
   ]
  },
  {
   "cell_type": "code",
   "execution_count": null,
   "metadata": {},
   "outputs": [],
   "source": [
    "%%timeit\n",
    "x = np.array([])\n",
    "for i in range(1000):\n",
    "    x = np.append(x,(((i**2)**0.5)**2)**0.5)"
   ]
  },
  {
   "cell_type": "code",
   "execution_count": null,
   "metadata": {},
   "outputs": [],
   "source": [
    "print(type(x_a),x_a.shape)\n",
    "print(type(x_b),x_b.shape)"
   ]
  },
  {
   "cell_type": "code",
   "execution_count": null,
   "metadata": {},
   "outputs": [],
   "source": [
    "n_goal = (100,100,100)\n",
    "nx_goal, ny_goal, nz_goal = n_goal"
   ]
  },
  {
   "cell_type": "code",
   "execution_count": null,
   "metadata": {},
   "outputs": [],
   "source": [
    "n_start = (10,10,10)\n",
    "nx_start, ny_start, nz_start = n_start"
   ]
  },
  {
   "cell_type": "code",
   "execution_count": null,
   "metadata": {},
   "outputs": [],
   "source": [
    "np.array(n_start)*8"
   ]
  },
  {
   "cell_type": "code",
   "execution_count": null,
   "metadata": {},
   "outputs": [],
   "source": [
    "n_goal = (89,45,80)\n",
    "for i in range(1,5):\n",
    "    print(i,' : ',tuple(np.ceil(np.array(n_goal)/4*i).astype(int)))"
   ]
  },
  {
   "cell_type": "code",
   "execution_count": null,
   "metadata": {},
   "outputs": [],
   "source": [
    "80%4"
   ]
  },
  {
   "cell_type": "code",
   "execution_count": null,
   "metadata": {},
   "outputs": [],
   "source": [
    "from scipy.ndimage import zoom\n",
    "T = np.ones((23, 12, 20))\n",
    "T_zoom = zoom(T, zoom=2, order=3)\n",
    "print(T_zoom.shape)"
   ]
  },
  {
   "cell_type": "code",
   "execution_count": null,
   "metadata": {},
   "outputs": [],
   "source": []
  },
  {
   "cell_type": "code",
   "execution_count": null,
   "metadata": {},
   "outputs": [],
   "source": [
    "from scipy.ndimage import zoom\n",
    "\n",
    "def params(N):\n",
    "    n = N\n",
    "    vmin = np.array([-150,-150,-150])\n",
    "    vmax = np.array([150,150,150])\n",
    "    dv = (vmax - vmin)/n\n",
    "    return vmin, dv, n\n",
    "\n",
    "def zoomed_mxl(mxl):\n",
    "    phi0_guess = zoom(mxl, zoom=2, order=3)\n",
    "    n = phi0_guess.shape\n",
    "    return phi0_guess, n"
   ]
  },
  {
   "cell_type": "code",
   "execution_count": null,
   "metadata": {},
   "outputs": [],
   "source": [
    "n = (89,45,78)\n",
    "for multigrid_step in range(1,5):\n",
    "    n_step = tuple(np.ceil(np.array(n)/4*i).astype(int))\n",
    "    if n_step == 1:\n",
    "        phi0 = phi_guess(v0, disp0, vmin, dv, n)\n",
    "\n",
    "\n",
    "    mxl, phi_all, fmin_it = max_L(alpha, pvals, rhatvals, vmin, dv, n, phi0_guess=phi0, v0_guess=v_guess, disp_guess=disp_guess, noniso=non_iso)"
   ]
  },
  {
   "cell_type": "code",
   "execution_count": 16,
   "metadata": {},
   "outputs": [],
   "source": [
    "T = np.ones((100,87,98))\n",
    "\n",
    "steps = np.array([5,4,3])\n",
    "n0 = np.zeros(3)\n",
    "for dim,dim_size in enumerate(T.shape):\n",
    "    while steps[np.mod(dim_size,steps) == 0].size == 0:\n",
    "        dim_size +=1\n",
    "    step = steps[np.mod(dim_size,steps) == 0].max()\n",
    "    n0[dim] = int(dim_size/step)\n",
    "    n_steps[dim] = step"
   ]
  },
  {
   "cell_type": "code",
   "execution_count": 92,
   "metadata": {
    "scrolled": false
   },
   "outputs": [
    {
     "name": "stdout",
     "output_type": "stream",
     "text": [
      "2.0\n",
      "1.5\n",
      "1.3333333333333333\n"
     ]
    }
   ],
   "source": [
    "T = np.ones((100,87,98))\n",
    "n_final = np.array(T.shape)\n",
    "\n",
    "\n",
    "steps = [4,5]\n",
    "step = steps[np.argmin([np.sum(abs(np.ceil(n_final/step)*step - n_final)) for step in steps])]\n",
    "box_steps = np.linspace(1,step,step).reshape(step,1) * np.ceil(n_final/step)\n",
    "\n",
    "for grid_steps in range(1,step):\n",
    "    zoom_factor = (box_steps[grid_steps] / box_steps[grid_steps-1])[0]\n",
    "    "
   ]
  },
  {
   "cell_type": "code",
   "execution_count": null,
   "metadata": {},
   "outputs": [],
   "source": [
    "N = 5000 #Number of stars we want to use in our sample\n",
    "sample, vx, vy, vz = Deproject_v1_0.model_sample(N)\n",
    "\n",
    "pvals, rhatvals = Deproject_v1_0.calc_p_rhat(sample)\n",
    "sigma2, vmean0 = Deproject_v1_0.calc_sigma2(pvals,rhatvals,True)\n",
    "sigma = np.sqrt(sigma2)\n",
    "\n",
    "n = np.array([20,20,20])\n",
    "dv = np.array([10,10,10])\n",
    "vmin = np.array([-100,-100,-100])\n",
    "\n",
    "alpha = 1e-9\n",
    "v_guess = np.array([1,1,1])\n",
    "disp_guess = np.array([22,17,30])"
   ]
  },
  {
   "cell_type": "code",
   "execution_count": null,
   "metadata": {},
   "outputs": [],
   "source": [
    "box_steps, zoom_factor = multigrid_steps(n)\n",
    "\n",
    "\n",
    "n = box_steps[0]\n",
    "if use_guess:\n",
    "    mxl, phi_all, fmin_it = max_L(alpha, pvals, rhatvals, vmin, dv, n ,v0_guess=v_guess, disp_guess=disp_guess, noniso=non_iso)\n",
    "elif not use_guess:\n",
    "    mxl, phi_all, fmin_it = max_L(alpha, pvals, rhatvals, vmin, dv, n, noniso=non_iso)\n",
    "    \n",
    "for zoom_step,n in enumerate(box_steps[1:]):    \n",
    "    phi_guess = zoomed_mxl(mxl,zoom_factor[i])\n",
    "    if use_guess:\n",
    "        mxl, phi_all, fmin_it = max_L(alpha, pvals, rhatvals, vmin, dv, n, phi0_guess=phi_guess,v0_guess=v_guess, disp_guess=disp_guess, noniso=non_iso)\n",
    "    elif not use_guess:\n",
    "        mxl, phi_all, fmin_it = max_L(alpha, pvals, rhatvals, vmin, dv, n, phi0_guess=phi_guess, noniso=non_iso)\n",
    "        \n"
   ]
  },
  {
   "cell_type": "code",
   "execution_count": 117,
   "metadata": {},
   "outputs": [],
   "source": [
    "def multigrid_steps(n_final):\n",
    "    steps = [4,5]\n",
    "    step = steps[np.argmin([np.sum(abs(np.ceil(n_final/step)*step - n_final)) for step in steps])]\n",
    "    box_steps = np.linspace(1,step,step).reshape(step,1) * np.ceil(n_final/step)\n",
    "    \n",
    "    zoom_factor = (box_steps[1:] / box_steps[:-1])[:,0]\n",
    "    return box_steps.astype(int), zoom_factor\n",
    "\n",
    "def zoomed_mxl(mxl, zoom_factor):\n",
    "    phi0_guess = zoom(mxl, zoom=zoom_factor, order=3)\n",
    "    return phi0_guess"
   ]
  },
  {
   "cell_type": "code",
   "execution_count": null,
   "metadata": {},
   "outputs": [],
   "source": [
    "def max_L(alpha, pvals, rhatvals, vmin, dv, n, phi0_guess=[], v0_guess=[], disp_guess=[], noniso=False, printing=True):\n",
    "    \"\"\"Function that employs scipy.optimize.fmin_cg to maximise the function get_neg_L().\n",
    "    It takes guesses of the distribution (currently only supports Gaussian guesses) and the relevant data from the\n",
    "    star sample for which the velocity distribution is to be estimated.\"\"\"\n",
    "    \n",
    "    dvx, dvy, dvz = dv\n",
    "    nx, ny, nz = n\n",
    "    N = len(pvals)\n",
    "    \n",
    "    sigma2, vmean = calc_sigma2(pvals, rhatvals, True, noniso=noniso)\n",
    "    if np.size(v0_guess) == 0:\n",
    "        v0_guess = vmean\n",
    "    if np.size(disp_guess) == 0:\n",
    "        sigma = np.sqrt(sigma2)\n",
    "        disp_guess = sigma\n",
    "    if np.size(phi0_guess) == 0:\n",
    "        phi0 = phi_guess(v0_guess, disp_guess, vmin, dv,n)\n",
    "    else:\n",
    "        phi0 = phi0_guess\n",
    "     \n",
    "    Kvals_args = (pvals, rhatvals, vmin, dv, n, N, printing)\n",
    "    Kvals = Kvals_function_selector(Kvals_args)\n",
    "\n",
    "    args = (Kvals, N, alpha, dv, n, sigma2)\n",
    "    phi0r = np.ravel(phi0)  # fmin_cg only takes one-dimensional inputs for the initial guess\n",
    "    \n",
    "    print('Started fmin_cg... ',end='')\n",
    "    mxl, fopt, fcalls, gcalls, flag, phi_all = fmin_cg(get_neg_L, phi0r, fprime=get_grad_neg_L, gtol=1e-6, args=args, retall=True, disp=False, full_output=True)\n",
    "    print(colored('Finished!','green',attrs=['bold','underline']))\n",
    "    \n",
    "    fmin_it = np.shape(phi_all)[0] - 1\n",
    "    fmin_cg_output(fopt, fcalls, gcalls, flag, fmin_it)\n",
    "                \n",
    "    builtins.L     = []\n",
    "    builtins.gradL = []\n",
    "    for phi in phi_all:\n",
    "        builtins.L.append(-1*get_neg_L(phi,Kvals, N, alpha, dv, n, sigma2))\n",
    "        builtins.gradL.append(np.linalg.norm(get_grad_neg_L(phi,Kvals, N, alpha, dv, n, sigma2)))\n",
    "        \n",
    "    mxlnew = mxl.reshape(n)\n",
    "    return mxlnew, fmin_it\n",
    "\n",
    "def multigrid_max_L(alpha, pvals, rhatvals, vmin, dv, n, phi0_guess=[], v0_guess=[], disp_guess=[], noniso=False, printing=False):\n",
    "    \"\"\"Function that employs scipy.optimize.fmin_cg to maximise the function get_neg_L().\n",
    "    It takes guesses of the distribution (currently only supports Gaussian guesses) and the relevant data from the\n",
    "    star sample for which the velocity distribution is to be estimated.\n",
    "    \n",
    "    This function differs from max_L() in that it starts with a crude box (nx,ny,nz) and itertively increases size \n",
    "    to reach the final box size. This will significantly improve runtime\"\"\"\n",
    "    \n",
    "    dvx, dvy, dvz = dv\n",
    "    nx, ny, nz = n\n",
    "    N = len(pvals)\n",
    "    \n",
    "    box_steps, zoom_factor = multigrid_steps(n)\n",
    "    if np.prod(box_steps[-1] == n) != 1:\n",
    "        print('Not all box dimensions divisible by 4, change from (%s, %s, %s) to (%s, %s, %s)' \n",
    "              % (n[0],n[1],n[2],box_steps[-1,0],box_steps[-1,1],box_steps[-1,2]))\n",
    "    \n",
    "    sigma2, vmean = calc_sigma2(pvals, rhatvals, True, noniso=noniso)\n",
    "    if np.size(v0_guess) == 0:\n",
    "        v0_guess = vmean\n",
    "    if np.size(disp_guess) == 0:\n",
    "        sigma = np.sqrt(sigma2)\n",
    "        disp_guess = sigma\n",
    "    if np.size(phi0_guess) == 0:\n",
    "        phi0 = phi_guess(v0_guess, disp_guess, vmin, dv,n)\n",
    "    else:\n",
    "        phi0 = phi0_guess\n",
    "        \n",
    "    builtins.L     = [[] for _ in range(len(box_steps))]\n",
    "    builtins.gradL = [[] for _ in range(len(box_steps))]\n",
    "        \n",
    "    fmin_it = 0\n",
    "    for grid_step,n in enumerate(box_steps): \n",
    "        print('Started fmin_cg on (%s, %s, %s) grid... ' % (n[0],n[1],n[2]),end='')\n",
    "        if grid_step == len(box_steps):\n",
    "            printing = True\n",
    "            \n",
    "        Kvals_args = (pvals, rhatvals, vmin, dv, n, N, printing)\n",
    "        Kvals, callername = Kvals_function_selector(Kvals_args)\n",
    "        \n",
    "        args = (Kvals, N, alpha, dv, n, sigma2)\n",
    "        phi0r = np.ravel(phi0)  # fmin_cg only takes one-dimensional inputs for the initial guess\n",
    "        \n",
    "        mxl, fopt, fcalls, gcalls, flag, phi_all = fmin_cg(get_neg_L, phi0r, fprime=get_grad_neg_L, gtol=1e-6, args=args, retall=True, disp=False, full_output=True)\n",
    "        fmin_it += np.shape(phi_all)[0] - 1   \n",
    "\n",
    "        print(colored('Finished!','green',attrs=['bold','underline']))\n",
    "        if grid_step == len(box_steps):\n",
    "            fmin_cg_output(fopt, fcalls, gcalls, flag, fmin_it)\n",
    "        else:\n",
    "            phi0 = zoomed_mxl(mxl.reshape(n), zoom_factor[grid_step])\n",
    "            \n",
    "        for phi in phi_all:\n",
    "            builtins.L[grid_step].append(-1*get_neg_L(phi,Kvals, N, alpha, dv, n, sigma2))\n",
    "            builtins.gradL[grid_step].append(np.linalg.norm(get_grad_neg_L(phi,Kvals, N, alpha, dv, n, sigma2)))\n",
    "    \n",
    "    mxlnew = mxl.reshape(n)\n",
    "    return mxlnew, fmin_it"
   ]
  },
  {
   "cell_type": "code",
   "execution_count": null,
   "metadata": {},
   "outputs": [],
   "source": [
    "def max_L_alphaopt(alpha, pvals, rhatvals, vmin, dv, n, phi0_guess=[], v0_guess=[], disp_guess=[], noniso=False, printing=False):\n",
    "    \"\"\"Streamlined version ofmax_L() which prints nothing\"\"\"\n",
    "    \n",
    "    dvx, dvy, dvz = dv\n",
    "    nx, ny, nz = n\n",
    "    N = len(pvals)\n",
    "    \n",
    "    sigma2, vmean = calc_sigma2(pvals, rhatvals, True, noniso=noniso)\n",
    "    if np.size(v0_guess) == 0:\n",
    "        v0_guess = vmean\n",
    "    if np.size(disp_guess) == 0:\n",
    "        sigma = np.sqrt(sigma2)\n",
    "        disp_guess = sigma\n",
    "    if np.size(phi0_guess) == 0:\n",
    "        phi0 = phi_guess(v0_guess, disp_guess, vmin, dv,n)\n",
    "    else:\n",
    "        phi0 = phi0_guess\n",
    "     \n",
    "    Kvals_args = (pvals, rhatvals, vmin, dv, n, N, printing)\n",
    "    Kvals = Kvals_function_selector(Kvals_args)\n",
    "\n",
    "    args = (Kvals, N, alpha, dv, n, sigma2)\n",
    "    phi0r = np.ravel(phi0)  # fmin_cg only takes one-dimensional inputs for the initial guess\n",
    "    \n",
    "    mxl, phi_all = fmin_cg(get_neg_L, phi0r, fprime=get_grad_neg_L, gtol=1e-6, args=args, retall=True, disp=False)\n",
    "    fmin_it = np.shape(phi_all)[0] - 1\n",
    "        \n",
    "    mxlnew = mxl.reshape(n)\n",
    "    return mxlnew, fmin_it\n",
    "\n",
    "\n",
    "def multigrid_max_L_alphaopt(alpha, pvals, rhatvals, vmin, dv, n, phi0_guess=[], v0_guess=[], disp_guess=[], noniso=False, printing=False):\n",
    "    \"\"\"Streamlined version of multigrid_max_L() which prints nothing\"\"\"\n",
    "    \n",
    "    dvx, dvy, dvz = dv\n",
    "    nx, ny, nz = n\n",
    "    N = len(pvals)\n",
    "    \n",
    "    box_steps, zoom_factor = multigrid_steps(n)\n",
    "   \n",
    "    sigma2, vmean = calc_sigma2(pvals, rhatvals, True, noniso=noniso)\n",
    "    if np.size(v0_guess) == 0:\n",
    "        v0_guess = vmean\n",
    "    if np.size(disp_guess) == 0:\n",
    "        sigma = np.sqrt(sigma2)\n",
    "        disp_guess = sigma\n",
    "    if np.size(phi0_guess) == 0:\n",
    "        phi0 = phi_guess(v0_guess, disp_guess, vmin, dv,n)\n",
    "    else:\n",
    "        phi0 = phi0_guess\n",
    "        \n",
    "        \n",
    "    fmin_it = 0\n",
    "    for grid_step,n in enumerate(box_steps): \n",
    "\n",
    "        Kvals_args = (pvals, rhatvals, vmin, dv, n, N, printing)\n",
    "        Kvals, callername = Kvals_function_selector(Kvals_args)\n",
    "        \n",
    "        args = (Kvals, N, alpha, dv, n, sigma2)\n",
    "        phi0r = np.ravel(phi0)\n",
    "        \n",
    "        mxl, fopt, fcalls, gcalls, flag, phi_all = fmin_cg(get_neg_L, phi0r, fprime=get_grad_neg_L, gtol=1e-6, args=args, retall=True, disp=False, full_output=True)\n",
    "        fmin_it += np.shape(phi_all)[0] - 1   \n",
    "\n",
    "        if grid_step < len(box_steps):\n",
    "            phi0 = zoomed_mxl(mxl.reshape(n), zoom_factor[grid_step])\n",
    "            \n",
    "    mxlnew = mxl.reshape(n)\n",
    "    return mxlnew, fmin_it"
   ]
  },
  {
   "cell_type": "code",
   "execution_count": 41,
   "metadata": {},
   "outputs": [
    {
     "name": "stdout",
     "output_type": "stream",
     "text": [
      "0 [11 13 15]\n",
      "1 [22 26 30]\n",
      "2 [33 39 45]\n",
      "3 [44 52 60]\n",
      "4 [55 65 75]\n"
     ]
    }
   ],
   "source": [
    "for zoom_step,n in enumerate(box_steps): \n",
    "    print(zoom_step,n)"
   ]
  },
  {
   "cell_type": "code",
   "execution_count": 61,
   "metadata": {},
   "outputs": [],
   "source": [
    "L = [[] for _ in range(len(box_steps))]"
   ]
  },
  {
   "cell_type": "code",
   "execution_count": 62,
   "metadata": {},
   "outputs": [
    {
     "data": {
      "text/plain": [
       "[[], [], [], [], []]"
      ]
     },
     "execution_count": 62,
     "metadata": {},
     "output_type": "execute_result"
    }
   ],
   "source": [
    "builtins.L     = [[] for _ in range(len(box_steps))]\n",
    "builtins.gradL = [[] for _ in range(len(box_steps))]"
   ]
  },
  {
   "cell_type": "code",
   "execution_count": 65,
   "metadata": {},
   "outputs": [],
   "source": [
    "import Deproject_v1_0 "
   ]
  },
  {
   "cell_type": "code",
   "execution_count": 67,
   "metadata": {},
   "outputs": [],
   "source": [
    "from Deproject_v1_0 import *\n",
    "from Deproject_v1_0 import calc_sigma2 as test_F"
   ]
  },
  {
   "cell_type": "code",
   "execution_count": 72,
   "metadata": {},
   "outputs": [],
   "source": [
    "a = 'multigrid_max_L'"
   ]
  },
  {
   "cell_type": "code",
   "execution_count": 73,
   "metadata": {},
   "outputs": [],
   "source": [
    "if a == 'max_L':\n",
    "    from Deproject_v1_0 import max_L as max_func\n",
    "elif a == 'multigrid_max_L':\n",
    "    from Deproject_v1_0 import multigrid_max_L as max_func"
   ]
  },
  {
   "cell_type": "code",
   "execution_count": null,
   "metadata": {},
   "outputs": [],
   "source": []
  }
 ],
 "metadata": {
  "kernelspec": {
   "display_name": "Python 3",
   "language": "python",
   "name": "python3"
  },
  "language_info": {
   "codemirror_mode": {
    "name": "ipython",
    "version": 3
   },
   "file_extension": ".py",
   "mimetype": "text/x-python",
   "name": "python",
   "nbconvert_exporter": "python",
   "pygments_lexer": "ipython3",
   "version": "3.7.3"
  }
 },
 "nbformat": 4,
 "nbformat_minor": 4
}
