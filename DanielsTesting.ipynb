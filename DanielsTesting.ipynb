{
 "cells": [
  {
   "cell_type": "code",
   "execution_count": null,
   "metadata": {},
   "outputs": [],
   "source": [
    "%load_ext autoreload\n",
    "%autoreload 2"
   ]
  },
  {
   "cell_type": "code",
   "execution_count": null,
   "metadata": {},
   "outputs": [],
   "source": [
    "%reset -sf"
   ]
  },
  {
   "cell_type": "code",
   "execution_count": null,
   "metadata": {
    "scrolled": true
   },
   "outputs": [],
   "source": [
    "import importlib\n",
    "import Deproject_v1_0 \n",
    "from Deproject_test import *\n",
    "from Deproject_plots import DM_plt_prefs\n",
    "DM_plt_prefs()\n",
    "import matplotlib.pyplot as plt\n",
    "import os\n",
    "import cProfile\n",
    "import numpy as np\n",
    "import builtins\n",
    "from scipy import sparse as scisp\n",
    "from scipy import optimize as sopt\n",
    "from scipy.ndimage import zoom\n",
    "from matplotlib.colors import LogNorm\n",
    "from matplotlib.patches import Rectangle\n",
    "from timeit import default_timer as timer\n",
    "\n",
    "from astropy.io.ascii import read as tableread\n",
    "import astropy.units as u\n",
    "import astropy.coordinates as coord\n",
    "np.random.seed(0)\n",
    "coord.Galactic()\n",
    "%cd ~/Documents/DeprojectionProject/"
   ]
  },
  {
   "cell_type": "code",
   "execution_count": null,
   "metadata": {},
   "outputs": [],
   "source": [
    "%cd faststats/faststats/\n",
    "from fkde import *\n",
    "def kdeplot(x,y,grid,no_c,bw_a):\n",
    "    Z,ax = fastkde(x,y,gridsize=grid,nocorrelation=no_c,adjust=bw_a)#,weights,adjust)\n",
    "    xlen,ylen = np.shape(Z)\n",
    "    X,Y = np.meshgrid(np.linspace(ax[0],ax[1],xlen),np.linspace(ax[0],ax[1],ylen))\n",
    "    return X,Y,Z\n",
    "%cd ~/Documents/DeprojectionProject/"
   ]
  },
  {
   "cell_type": "code",
   "execution_count": null,
   "metadata": {},
   "outputs": [],
   "source": [
    "def rot(x,y,deg):\n",
    "    xf = x.flatten(); xf = xf.reshape(len(xf),1)\n",
    "    yf = y.flatten(); yf = yf.reshape(len(yf),1)\n",
    "    pos = np.hstack((xf,yf))\n",
    "    \n",
    "    theta = np.radians(deg)\n",
    "    c, s = np.cos(theta), np.sin(theta)\n",
    "    R = np.array(((c, -s), (s, c)))\n",
    "    pos = np.dot(pos, R.T)\n",
    "    \n",
    "    x = pos[:,0].reshape(x.shape)\n",
    "    y = pos[:,1].reshape(y.shape)\n",
    "    return x,y\n",
    "\n",
    "def f(x,y,z,lim):\n",
    "    x,y = rot(x,y,45)\n",
    "    val = (lim-np.abs(x))**4 + (lim-np.abs(y))**4 + (lim-np.abs(z))**4\n",
    "    return val/np.sum(val)\n",
    "\n",
    "\n",
    "def pyramid_sample(N_sample,r,c):\n",
    "    # Velocities\n",
    "    xc,yc,zc = c\n",
    "    N = 100\n",
    "    X = np.linspace(-r,r,N)\n",
    "    Y = np.linspace(-r,r,N)\n",
    "    Z = np.linspace(-r,r,N)\n",
    "    \n",
    "    XX = X.reshape(1,N,1)*np.ones((N,1,N))\n",
    "    YY = Y.reshape(N,1,1)*np.ones((1,N,N))\n",
    "    ZZ = Z.reshape(1,1,N)*np.ones((N,N,1))\n",
    "    \n",
    "    P = f(XX,YY,ZZ,r+np.max(c))\n",
    "    \n",
    "    rrind = np.ravel_multi_index(np.indices(XX.shape), XX.shape).ravel()\n",
    "    prob = np.ravel(P)\n",
    "    smp = np.random.choice(rrind, size=N_sample, p=prob)\n",
    "    smpx, smpy, smpz = np.asarray(np.unravel_index(smp, XX.shape))\n",
    "    \n",
    "    XX = XX + xc\n",
    "    ZZ = YY + yc\n",
    "    YY = ZZ + zc\n",
    "    \n",
    "    vxvals = XX[smpx, smpy, smpz]\n",
    "    vyvals = YY[smpx, smpy, smpz]\n",
    "    vzvals = ZZ[smpx, smpy, smpz]\n",
    "    \n",
    "    # Positions\n",
    "    xmax, ymax, zmax = np.array([100,100,100])/np.sqrt(3)    \n",
    "    xmin, ymin, zmin = -xmax,-ymax,-zmax\n",
    "    \n",
    "    xvals = (np.random.rand(N_sample) * (xmax - xmin) + xmin)\n",
    "    yvals = (np.random.rand(N_sample) * (ymax - ymin) + ymin)\n",
    "    zvals = (np.random.rand(N_sample) * (zmax - zmin) + zmin)\n",
    "    return xvals, yvals, zvals, vxvals, vyvals, vzvals"
   ]
  },
  {
   "cell_type": "markdown",
   "metadata": {},
   "source": [
    "## Generate gaussian sample"
   ]
  },
  {
   "cell_type": "code",
   "execution_count": null,
   "metadata": {},
   "outputs": [],
   "source": [
    "N = 5000 #Number of stars we want to use in our sample\n",
    "sample, vx, vy, vz = Deproject_v1_0.model_sample(N)\n",
    "\n",
    "pvals, rhatvals = Deproject_v1_0.calc_p_rhat(sample)\n",
    "sigma2, vmean0 = Deproject_v1_0.calc_sigma2(pvals,rhatvals,True)"
   ]
  },
  {
   "cell_type": "markdown",
   "metadata": {},
   "source": [
    "## Generate pyramid-like sample from distribution"
   ]
  },
  {
   "cell_type": "code",
   "execution_count": null,
   "metadata": {},
   "outputs": [],
   "source": [
    "x, y, z, vx, vy, vz = pyramid_sample(int(1e4),100, c=(0,0,0))"
   ]
  },
  {
   "cell_type": "code",
   "execution_count": null,
   "metadata": {},
   "outputs": [],
   "source": [
    "x,y,z          = (x,y,z)* u.pc\n",
    "vx,vy,vz       = (vx,vy,vz) * (u.km / u.s)"
   ]
  },
  {
   "cell_type": "code",
   "execution_count": null,
   "metadata": {},
   "outputs": [],
   "source": [
    "# We use Astropy's coord class which makes it easy to keep track of units and conversions\n",
    "\n",
    "sample = coord.Galactic(u=x,\n",
    "                         v=y, \n",
    "                         w=z,\n",
    "                         U=vx,\n",
    "                         V=vy,\n",
    "                         W=vz,\n",
    "                         representation_type=coord.CartesianRepresentation,\n",
    "                         differential_type=coord.CartesianDifferential)\n",
    "sample.set_representation_cls(coord.SphericalRepresentation, coord.SphericalCosLatDifferential)\n",
    "\n"
   ]
  },
  {
   "cell_type": "code",
   "execution_count": null,
   "metadata": {},
   "outputs": [],
   "source": [
    "pvals, rhatvals = Deproject_v1_0.calc_p_rhat(sample)\n",
    "sigma2, vmean0 = Deproject_v1_0.calc_sigma2(pvals,rhatvals,True)"
   ]
  },
  {
   "cell_type": "markdown",
   "metadata": {},
   "source": [
    "## Generate  fake Galactic samples\n",
    "\n",
    "From simulated galaxy:"
   ]
  },
  {
   "cell_type": "markdown",
   "metadata": {},
   "source": [
    "Loading data"
   ]
  },
  {
   "cell_type": "code",
   "execution_count": null,
   "metadata": {},
   "outputs": [],
   "source": [
    "N = 5000 #Number of stars we want to use in our sample\n",
    "dat = np.load('DATA/simgal.npy')"
   ]
  },
  {
   "cell_type": "markdown",
   "metadata": {},
   "source": [
    "Select a sample around with radius 2 kpc around 8 kpc"
   ]
  },
  {
   "cell_type": "code",
   "execution_count": null,
   "metadata": {
    "scrolled": true
   },
   "outputs": [],
   "source": [
    "x,y,z,vx,vy,vz = dat\n",
    "R = np.sqrt((x-8)**2 + y**2)\n",
    "snbh = R < 2\n",
    "dat = dat[:,snbh]\n",
    "I = np.random.randint(low=0,high=np.sum(snbh),size=N)\n",
    "\n",
    "x,y,z,vx,vy,vz = dat[:,I]\n",
    "\n",
    "# Center x, y and vy, so they look like they're relative to the LSR\n",
    "x = x - np.median(x)\n",
    "y = y - np.median(y)\n",
    "vy = vy - np.median(vy)"
   ]
  },
  {
   "cell_type": "markdown",
   "metadata": {},
   "source": [
    "Prepare for astropy"
   ]
  },
  {
   "cell_type": "code",
   "execution_count": null,
   "metadata": {},
   "outputs": [],
   "source": [
    "x,y,z          = (x,y,z)* u.pc\n",
    "vx,vy,vz       = (vx,vy,vz) * (u.km / u.s)"
   ]
  },
  {
   "cell_type": "code",
   "execution_count": null,
   "metadata": {},
   "outputs": [],
   "source": [
    "# We use Astropy's coord class which makes it easy to keep track of units and conversions\n",
    "\n",
    "sample = coord.Galactic(u=x,\n",
    "                         v=y, \n",
    "                         w=z,\n",
    "                         U=vx,\n",
    "                         V=vy,\n",
    "                         W=vz,\n",
    "                         representation_type=coord.CartesianRepresentation,\n",
    "                         differential_type=coord.CartesianDifferential)\n",
    "sample.set_representation_cls(coord.SphericalRepresentation, coord.SphericalCosLatDifferential)\n"
   ]
  },
  {
   "cell_type": "code",
   "execution_count": null,
   "metadata": {},
   "outputs": [],
   "source": [
    "pvals, rhatvals = Deproject_v1_0.calc_p_rhat(sample)\n",
    "sigma2, vmean0 = Deproject_v1_0.calc_sigma2(pvals,rhatvals,True)"
   ]
  },
  {
   "cell_type": "markdown",
   "metadata": {},
   "source": [
    "## Inspect sample"
   ]
  },
  {
   "cell_type": "code",
   "execution_count": null,
   "metadata": {
    "scrolled": false
   },
   "outputs": [],
   "source": [
    "plt.hist2d(np.array(sample.l),np.array(sample.b),100)\n",
    "plt.show()"
   ]
  },
  {
   "cell_type": "code",
   "execution_count": null,
   "metadata": {},
   "outputs": [],
   "source": [
    "n = np.array([20,20,20])\n",
    "dv = np.array([10,10,10])\n",
    "vmin = np.array([-100,-100,-100])\n",
    "\n",
    "alpha_guess = 1e-8\n",
    "v_guess = np.array([1,1,1])\n",
    "disp_guess = np.array([22,17,30])"
   ]
  },
  {
   "cell_type": "code",
   "execution_count": null,
   "metadata": {
    "scrolled": true
   },
   "outputs": [],
   "source": [
    "sigma2, vmean0 = Deproject_v1_0.calc_sigma2(pvals,rhatvals,True)\n",
    "\n",
    "sigma = np.sqrt(sigma2)\n",
    "phi0 = phi_guess(vmean0,sigma,vmin,dv,n)\n",
    "\n",
    "sanity_check(pvals,rhatvals,phi0,vmin,dv,n)"
   ]
  },
  {
   "cell_type": "code",
   "execution_count": null,
   "metadata": {
    "scrolled": false
   },
   "outputs": [],
   "source": [
    "t0 = timer()\n",
    "mxl, phi_all, fmin_it = max_L(alpha_guess, pvals, rhatvals, vmin, dv, n, v0_guess = v_guess, disp_guess = disp_guess)\n",
    "time = str((timer() - t0)/60); print(time + ' mins')\n",
    "\n",
    "sanity_check(pvals,rhatvals,mxl,vmin,dv,n)"
   ]
  },
  {
   "cell_type": "code",
   "execution_count": null,
   "metadata": {},
   "outputs": [],
   "source": [
    "# L, gradL             - For each fmin_cg iteration\n",
    "# L_calls, gradL_calls - For each function and gradient call respectively\n",
    "# I_its, Ig_its        - Indices of L_calls and gradL_calls that match the iterations\n",
    "\n",
    "def plot_LanddL():\n",
    "    I_its = []\n",
    "    Ig_its = []\n",
    "\n",
    "    for i, call in enumerate(L_calls):\n",
    "        if call in L:\n",
    "            I_its.append(i)\n",
    "    \n",
    "    for i, call in enumerate(gradL_calls):\n",
    "        if call in gradL:\n",
    "            Ig_its.append(i)\n",
    "\n",
    "\n",
    "    f,ax = plt.subplots(2,2,figsize=(14,10),sharey='row',frameon=False,gridspec_kw={'height_ratios':[3,1]})\n",
    "\n",
    "    ax[0,0].set_title('All iterations\\n$\\\\nabla\\mathscr{L}(\\\\varphi)$')\n",
    "    ax[0,0].plot(gradL_calls[Ig_its],'k-',marker='.',linewidth=1)\n",
    "    ax[0,0].set_yscale('log')\n",
    "\n",
    "    ax[1,0].set_title('$\\mathscr{L}(\\\\varphi)$')\n",
    "    ax[1,0].plot(L_calls[I_its],'k-',marker='.',linewidth=1)\n",
    "    ax[1,0].set_xlabel('Iterations')\n",
    "\n",
    "    ax[0,1].set_title('All calls\\n $\\\\nabla\\mathscr{L}(\\\\varphi)$')\n",
    "    ax[0,1].plot(gradL_calls,'r-',linewidth=1)\n",
    "    ax[0,1].plot(Ig_its,gradL_calls[Ig_its],'k.')\n",
    "    ax[0,1].set_yscale('log')\n",
    "    ax[0,1].set_ylim(gradL_calls.min()*0.1, gradL_calls.max()*1.1)\n",
    "\n",
    "    # inset axes....\n",
    "    axins = ax[0,1].inset_axes([0.05, 0.01, 0.90, 0.3])\n",
    "    axins.plot(gradL_calls,'r-',marker='.',linewidth=1,label='$\\\\nabla\\mathscr{L}(\\\\varphi)$ calls')\n",
    "    axins.plot(Ig_its,gradL_calls[Ig_its],'k.',label='$\\mathrm{\\\\tt fmin\\_cg()}}$ iterations')\n",
    "\n",
    "    # sub region of the original image\n",
    "    x1, x2, y1, y2 = Ig_its[-10], len(gradL_calls), 0.9*gradL_calls[Ig_its[-10]:].min(), 1.1*gradL_calls[Ig_its[-10]:].max()\n",
    "    axins.set_xlim(x1, x2)\n",
    "    axins.set_ylim(y1, y2)\n",
    "    axins.set_yticklabels('')\n",
    "    axins.set_xticks([x1,x2])\n",
    "    axins.xaxis.tick_top()\n",
    "    #axins.legend(fontsize=14)\n",
    "    ax[0,1].indicate_inset_zoom(axins)\n",
    "\n",
    "\n",
    "\n",
    "    ax[1,1].set_title('$\\mathscr{L}(\\mathscr{\\phi})$')\n",
    "    ax[1,1].plot(L_calls,'r-',linewidth=1,label='$\\mathscr{L}(\\\\varphi)$ calls')\n",
    "    ax[1,1].plot(I_its,L_calls[I_its],'k.',label='$\\mathrm{\\\\tt fmin\\_cg()}}$ iterations')\n",
    "    ax[1,1].set_xlabel('function calls')\n",
    "    ax[1,1].legend(fontsize=14)\n",
    "    plt.show()\n",
    "    return "
   ]
  },
  {
   "cell_type": "markdown",
   "metadata": {},
   "source": [
    "# End of non-testing lines"
   ]
  },
  {
   "cell_type": "code",
   "execution_count": null,
   "metadata": {},
   "outputs": [],
   "source": [
    "N = 5000 #Number of stars we want to use in our sample\n",
    "sample, vx, vy, vz = Deproject_v1_0.model_sample(N)\n",
    "\n",
    "pvals, rhatvals = Deproject_v1_0.calc_p_rhat(sample)\n",
    "sigma2, vmean0 = Deproject_v1_0.calc_sigma2(pvals,rhatvals,True)\n",
    "sigma = np.sqrt(sigma2)\n",
    "\n",
    "n = np.array([0,20,20])\n",
    "dv = np.array([10,10,10])\n",
    "vmin = np.array([-100,-100,-100])\n",
    "\n",
    "alpha_guess = 1e-9\n",
    "v_guess = np.array([1,1,1])\n",
    "disp_guess = np.array([22,17,30])\n",
    "\n",
    "Kvals = KvalsNumpyMethod(pvals, rhatvals, vmin, dv, n)\n",
    "\n",
    "nx, ny, nz = n\n",
    "phi0 = phi_guess(vmean0,sigma,vmin,dv,n)  \n",
    "phi0r = np.ravel(phi0)\n",
    "\n",
    "args = (Kvals, N, alpha_guess, dv, n, sigma2)"
   ]
  },
  {
   "cell_type": "code",
   "execution_count": null,
   "metadata": {},
   "outputs": [],
   "source": [
    "print('Started fmin_cg... ',end='')\n",
    "mxl, fopt, fcalls, gcalls, flag, phi_all = fmin_cg(neg_L_calc, phi0r, fprime=grad_neg_L_calc, gtol=1e-8, args=args, retall=True, disp=False, full_output=True)\n",
    "print(colored('Finished!','green',attrs=['bold','underline']))\n",
    "fmin_it = np.shape(phi_all)[0] - 1\n",
    "fmin_cg_output(fopt, fcalls, gcalls, flag, fmin_it)"
   ]
  },
  {
   "cell_type": "code",
   "execution_count": null,
   "metadata": {},
   "outputs": [],
   "source": [
    "def sample_calc(datafile):\n",
    "    os.chdir(\"/home/mikkola/Documents/DeprojectionProject/DATA\")\n",
    "    data_raw = tableread(str(datafile))\n",
    "    os.chdir(\"/home/mikkola/Documents/DeprojectionProject\")\n",
    "    \n",
    "    dist = 1000/data_raw['parallax']*u.pc        \n",
    "    RA = (data_raw['ra']*u.degree)\n",
    "    DEC = (data_raw['dec']*u.degree)\n",
    "    plx = (data_raw['parallax']*u.mas)\n",
    "    pm_RA = (data_raw['pmra']*u.mas/u.yr)\n",
    "    pm_DEC = (data_raw['pmdec']*u.mas/u.yr)\n",
    "    print(\"Sample has \" + str(len(dist)) + \" stars\\n\")\n",
    "\n",
    "    sample_icrs = coord.ICRS(ra = RA, dec = DEC, pm_ra_cosdec = pm_RA, pm_dec = pm_DEC,distance=dist)\n",
    "\n",
    "    sample = sample_icrs.transform_to(coord.Galactic)\n",
    "\n",
    "\n",
    "    pvals, rhatvals = calc_p_rhat(sample) \n",
    "    return pvals, rhatvals\n",
    "\n",
    "def get_args(pvals, rhatvals, phi0, vmean0, alpha_guess, sigma, vmin, dv, n):\n",
    "    Kvals = KvalsNumpyMethod(pvals, rhatvals, vmin, dv, n)  \n",
    "    phi0r = np.ravel(phi0)\n",
    "    args = (Kvals, N, alpha_guess, dv, n, sigma**2)\n",
    "    return args, phi0r\n",
    "\n",
    "def get_kvals(pvals, rhatvals, vmin, dv, n):\n",
    "    Kvals = KvalsNumpyMethod(pvals, rhatvals, vmin, dv, n)  \n",
    "    return Kvals"
   ]
  },
  {
   "cell_type": "code",
   "execution_count": null,
   "metadata": {},
   "outputs": [],
   "source": [
    "def callback_mg(x):\n",
    "    i = builtins.grid_step\n",
    "    builtins.L[i].append(builtins.current_L)\n",
    "    builtins.gradL[i].append(builtins.current_gradL)\n",
    "    \n",
    "def callback(x):\n",
    "    builtins.L.append(builtins.current_L)\n",
    "    builtins.gradL.append(builtins.current_gradL)\n",
    "\n",
    "def max_L(alpha, pvals, rhatvals, vmin, dv, n, phi0_guess=[], v0_guess=[], disp_guess=[], noniso=False, printing=True):\n",
    "    \"\"\"Function that employs scipy.optimize.fmin_cg to maximise the function get_neg_L().\n",
    "    It takes guesses of the distribution (currently only supports Gaussian guesses) and the relevant data from the\n",
    "    star sample for which the velocity distribution is to be estimated.\"\"\"\n",
    "    \n",
    "    builtins.L     = []\n",
    "    builtins.gradL = [] \n",
    "    \n",
    "    dvx, dvy, dvz = dv\n",
    "    nx, ny, nz = n\n",
    "    N = len(pvals)\n",
    "    \n",
    "    sigma2, vmean = calc_sigma2(pvals, rhatvals, True, noniso=noniso)\n",
    "    if np.size(v0_guess) == 0:\n",
    "        v0_guess = vmean\n",
    "    if np.size(disp_guess) == 0:\n",
    "        sigma = np.sqrt(sigma2)\n",
    "        disp_guess = sigma\n",
    "    if np.size(phi0_guess) == 0:\n",
    "        phi0 = phi_guess(v0_guess, disp_guess, vmin, dv,n)\n",
    "    else:\n",
    "        phi0 = phi0_guess\n",
    "     \n",
    "    Kvals_args = (pvals, rhatvals, vmin, dv, n, N, printing)\n",
    "    Kvals = Kvals_function_selector(Kvals_args)\n",
    "\n",
    "    args = (Kvals, N, alpha, dv, n, sigma2)\n",
    "    phi0r = np.ravel(phi0)  # fmin_cg only takes one-dimensional inputs for the initial guess\n",
    "    \n",
    "    print('Started fmin_cg... ',end='')\n",
    "    \n",
    "    builtins.L.append(-1*get_neg_L(phi0r,Kvals, N, alpha, dv, n, sigma2))\n",
    "    builtins.gradL.append(np.linalg.norm(get_grad_neg_L(phi0r,Kvals, N, alpha, dv, n, sigma2)))\n",
    "        \n",
    "    mxl, fopt, fcalls, gcalls, flag, phi_all = fmin_cg(get_neg_L, phi0r, fprime=get_grad_neg_L, gtol=1e-6, args=args, retall=True, disp=False, full_output=True, callback=callback)\n",
    "    print(colored('Finished!','green',attrs=['bold','underline']))\n",
    "    \n",
    "    fmin_it = np.shape(phi_all)[0] - 1\n",
    "    fmin_cg_output(fopt, fcalls, gcalls, flag, fmin_it)\n",
    "                \n",
    "        \n",
    "    mxlnew = mxl.reshape(n)\n",
    "    return mxlnew, fmin_it, phi_all\n",
    "    \n",
    "def multigrid_max_L(alpha, pvals, rhatvals, vmin, dv, n, phi0_guess=[], v0_guess=[], disp_guess=[], noniso=False, printing=False):\n",
    "    \"\"\"Function that employs scipy.optimize.fmin_cg to maximise the function get_neg_L().\n",
    "    It takes guesses of the distribution (currently only supports Gaussian guesses) and the relevant data from the\n",
    "    star sample for which the velocity distribution is to be estimated.\n",
    "    \n",
    "    This function differs from max_L() in that it starts with a crude box (nx,ny,nz) and itertively increases size \n",
    "    to reach the final box size. This will significantly improve runtime\"\"\"\n",
    "    \n",
    "    N = len(pvals)\n",
    "    vmax = vmin + dv*n\n",
    "    \n",
    "    box_steps = multigrid_steps(n)\n",
    "    \n",
    "    n = box_steps[0]\n",
    "    dv = (vmax-vmin)/n\n",
    "    \n",
    "    sigma2, vmean = calc_sigma2(pvals, rhatvals, True, noniso=noniso)\n",
    "    if np.size(v0_guess) == 0:\n",
    "        v0_guess = vmean\n",
    "    if np.size(disp_guess) == 0:\n",
    "        sigma = np.sqrt(sigma2)\n",
    "        disp_guess = sigma\n",
    "    if np.size(phi0_guess) == 0:\n",
    "        phi0 = phi_guess(v0_guess, disp_guess, vmin, dv,n)\n",
    "    else:\n",
    "        phi0 = phi0_guess\n",
    "        \n",
    "    builtins.L     = [[] for _ in range(len(box_steps))]\n",
    "    builtins.gradL = [[] for _ in range(len(box_steps))]\n",
    "    fmin_it = 0\n",
    "    for grid_step,n in enumerate(box_steps): \n",
    "        if grid_step == len(box_steps)-1:\n",
    "            printing = True\n",
    "        builtins.grid_step = grid_step    \n",
    "        dv = (vmax-vmin)/n\n",
    "            \n",
    "        Kvals_args = (pvals, rhatvals, vmin, dv, n, N, printing)\n",
    "        Kvals = Kvals_function_selector(Kvals_args)\n",
    "        \n",
    "        args = (Kvals, N, alpha, dv, n, sigma2)\n",
    "        phi0r = np.ravel(phi0)  # fmin_cg only takes one-dimensional inputs for the initial guess\n",
    "        \n",
    "        ### This is where the minimization occurs\n",
    "        print('Started fmin_cg on (%s, %s, %s) grid... ' % (n[0],n[1],n[2]),end='', flush=True)\n",
    "        builtins.L[grid_step].append(-1*get_neg_L(phi0r,Kvals, N, alpha, dv, n, sigma2))\n",
    "        builtins.gradL[grid_step].append(np.linalg.norm(get_grad_neg_L(phi0r,Kvals, N, alpha, dv, n, sigma2)))\n",
    "\n",
    "        mxl, fopt, fcalls, gcalls, flag, phi_all = fmin_cg(get_neg_L, phi0r, fprime=get_grad_neg_L, gtol=1e-6, args=args, retall=True, disp=False, full_output=True, callback=callback_mg)\n",
    "        fmin_it += np.shape(phi_all)[0] - 1   \n",
    "        \n",
    "        print(colored('Finished!','green',attrs=['bold','underline']),end='')\n",
    "        print(' fopt : %s' % fopt)\n",
    "        ##########################################\n",
    "        \n",
    "        if grid_step == len(box_steps)-1:\n",
    "            fmin_cg_output(fopt, fcalls, gcalls, flag, fmin_it)\n",
    "        else:\n",
    "            phi0 = zoomed_mxl(mxl.reshape(n))\n",
    "\n",
    "    mxlnew = mxl.reshape(n)\n",
    "    return mxlnew, fmin_it, phi_all\n",
    "\n",
    "# @profile\n",
    "def get_grad_neg_L(phi, *args):\n",
    "    \"\"\"In this function we compute the gradient of L. We compute the derivative for each cell and return a\n",
    "    1D array of length (nx*ny*nz).\n",
    "\n",
    "    args: see get_L\n",
    "\n",
    "    \"\"\"\n",
    "    Kvals, N, alpha, dv, n, sigma2 = args\n",
    "    \n",
    "    \n",
    "    exphir = np.exp(phi)\n",
    "    exphi_csc = scisp.coo_matrix(exphir).tocsc()\n",
    "    \n",
    "    Kphi = exphi_csc.multiply(Kvals)\n",
    "    Kphi_sum = Kphi.sum(axis=1)\n",
    "    Kphi_sum[Kphi_sum.nonzero()] = 1 / Kphi_sum[Kphi_sum.nonzero()] # We compute the sum of exp(phi)*K(k|l) for each star\n",
    "    K_term0 = Kphi.multiply(Kphi_sum)\n",
    "    K_term = K_term0.sum(axis=0) # The final array with the first term for each cell\n",
    "    \n",
    "    phi_unr = np.reshape(phi,n)\n",
    "    dphixhi = grad_sec_der(phi_unr, sigma2, dv)   \n",
    "    \n",
    "    t1 = K_term/N\n",
    "    t2 = exphi_csc\n",
    "    t3 = ((alpha * dv[0] * dv[1] * dv[2]) / 2) * dphixhi.ravel()\n",
    "    \n",
    "    grad_L = np.asarray(t1 - t2 - t3).reshape(len(phi), )\n",
    "    \n",
    "    neg_grad_L = -1 * grad_L\n",
    "    builtins.current_gradL = np.linalg.norm(neg_grad_L)\n",
    "    return neg_grad_L\n",
    "\n",
    "def get_neg_L(phi, *args):\n",
    "    \"\"\"The function that we wish to optimise. Corresponds to eq. 31 in D98.\n",
    "\n",
    "    N: Number of stars in our sample\n",
    "\n",
    "    Kvals: Array of dimensions (N,nx,ny,nz) containing the K-values for each star in our sample.\n",
    "\n",
    "    alpha: Smoothing parameter that can be found using the function opt_alpha\n",
    "   \n",
    "    We use sparse matrices in our computation of L_tilde because our K- arrays have low\n",
    "    density. Therefore we use the scipy.sparse package to convert our arrays to sparse arrays.\n",
    "    Using coo-matrices is faster when building the matrix, but the csc-matrices are faster for\n",
    "    arithmetic operations\n",
    "    \n",
    "    phi_unr regains the original shape of our phi guess and is used to compute the\n",
    "    third term of L_tilde.\"\"\"\n",
    "    \n",
    "    Kvals, N, alpha, dv, n, sigma2 = args\n",
    "    \n",
    "    exphir = np.exp(phi)\n",
    "    exphi_csc = scisp.coo_matrix(exphir).tocsc()\n",
    "    Kphi = Kvals.multiply(exphi_csc).sum(axis=1) # Order all Kphi values in 1D arrays and compute the sum of exp(phi)*K(k|l) for each star\n",
    "    Kphi_sum_tot = np.log(Kphi[Kphi != 0]).sum() # To make sure we don't get infinities and .sum() gives the double sum in the first term\n",
    "    \n",
    "    phi_unr = np.reshape(phi, n)\n",
    "    phixhi_sum = (sec_der(phi_unr, sigma2, dv) ** 2).sum()\n",
    "    \n",
    "    t1 = Kphi_sum_tot / N\n",
    "    t2 = exphi_csc.sum()\n",
    "    t3 = ((alpha * dv[0] * dv[1] * dv[2]) / 2) * phixhi_sum\n",
    "    \n",
    "    L_tilde = t1 - t2 - t3 # eq. 31 in DB98\n",
    "        \n",
    "    neg_L = -1 * L_tilde  # Since we want to maximize L_tilde, we should minimize -L_tilde\n",
    "    builtins.current_L = L_tilde\n",
    "    return neg_L"
   ]
  },
  {
   "cell_type": "code",
   "execution_count": null,
   "metadata": {},
   "outputs": [],
   "source": [
    "# Number of stars\n",
    "N = 10000\n",
    "\n",
    "# Number of bins\n",
    "n = np.array([96,96,96])\n",
    "\n",
    "# Minimum cartesian velocities\n",
    "vmin = np.array([-100,-140,-50])\n",
    "\n",
    "# Bin sizes\n",
    "dv = np.array([4,4,2])\n",
    "\n",
    "# Use guess|DB89 = 1|0\n",
    "use_guess = bool(1)\n",
    "\n",
    "# Use non-isotropic DB89 = 1|0\n",
    "non_iso = bool(1)\n",
    "\n",
    "# Mu guess\n",
    "v_guess = np.array([3,-10,-2])\n",
    "\n",
    "# Sigma guess\n",
    "disp_guess = np.array([30,20,15])\n",
    "\n",
    "# Alpha smoothing parameters\n",
    "alpha = 1.00000000e-10\n",
    "\n",
    "# Filename of data, for pseudodata set blank\n",
    "datafile = 'wd_sample.table'\n",
    "\n",
    "# Do you want to log this run (Produce logfiles and save plots)? 1|0\n",
    "logging = bool(0)"
   ]
  },
  {
   "cell_type": "code",
   "execution_count": null,
   "metadata": {},
   "outputs": [],
   "source": [
    "pvals, rhatvals = sample_calc(datafile)"
   ]
  },
  {
   "cell_type": "code",
   "execution_count": null,
   "metadata": {
    "scrolled": false
   },
   "outputs": [],
   "source": [
    "ti_a = time.time()\n",
    "mxl, fmin_it, phi_all = multigrid_max_L(alpha, pvals, rhatvals, vmin, dv, n ,v0_guess=v_guess, disp_guess=disp_guess, noniso=non_iso)\n",
    "tf_a = time.time()\n",
    "endtime = (tf_a - ti_a)/60\n",
    "print(\"\\nThe run took: \", endtime, 'mins')\n",
    "L_mg        = builtins.L\n",
    "gradL_mg    = builtins.gradL\n",
    "\n",
    "\n",
    "ti_a = time.time()\n",
    "mxl, fmin_it, phi_all = max_L(alpha, pvals, rhatvals, vmin, dv, n ,v0_guess=v_guess, disp_guess=disp_guess, noniso=non_iso)\n",
    "tf_a = time.time()\n",
    "endtime = (tf_a - ti_a)/60\n",
    "print(\"\\nThe run took: \", endtime, 'mins')\n",
    "L        = builtins.L\n",
    "gradL    = builtins.gradL"
   ]
  },
  {
   "cell_type": "code",
   "execution_count": null,
   "metadata": {
    "scrolled": true
   },
   "outputs": [],
   "source": [
    "s1 = 'vals'.ljust(10) + 'max_L'.ljust(7) + 'mg_max_L'\n",
    "s2 = 'L'.ljust(7) + ':'.ljust(3) + str(len(L)).ljust(7) + str(len(L_mg[0] + L_mg[1] + L_mg[2]))\n",
    "s3 = 'Grad L'.ljust(7) + ':'.ljust(3) + str(len(gradL)).ljust(7) + str(len(gradL_mg[0] + gradL_mg[1] + gradL_mg[2]))\n",
    "print(s1)\n",
    "print(s2)\n",
    "print(s3)"
   ]
  },
  {
   "cell_type": "code",
   "execution_count": null,
   "metadata": {
    "scrolled": false
   },
   "outputs": [],
   "source": [
    "\n",
    "np.arange\n",
    "\n",
    "plt.figure()\n",
    "\n",
    "plt.plot(np.arange(1,L1), L_mg[0],label='(12, 12, 12)')\n",
    "plt.plot(np.arange(L1+1,L2), L_mg[1],label='(24, 24, 24)')\n",
    "plt.plot(np.arange(L2+1,L3), L_mg[2],label='(48, 48, 48)')\n",
    "plt.plot(np.arange(L3+1,L4), L_mg[3],label='(96, 96, 96)')\n",
    "plt.plot(np.arange(1,len(L)+1),np.array(L),'k', label='max_L')\n",
    "        \n",
    "plt.legend(fontsize=12)\n",
    "plt.ylabel('L')\n",
    "plt.xlabel('Iterations')\n",
    "plt.xscale(\"log\")\n",
    "\n",
    "# inset axes....\n",
    "axins = plt.gca().inset_axes([0.25, 0.45, 0.70, 0.35])\n",
    "axins.plot(np.arange(1,L1), L_mg[0],label='(12, 12, 12)')\n",
    "axins.plot(np.arange(L1+1,L2), L_mg[1],label='(24, 24, 24)')\n",
    "axins.plot(np.arange(L2+1,L3), L_mg[2],label='(48, 48, 48)')\n",
    "axins.plot(np.arange(L3+1,L4), L_mg[3],label='(96, 96, 96)')\n",
    "axins.plot(np.arange(1,len(L)+1),np.array(L),'k', label='max_L')\n",
    "    \n",
    "# sub region of the original image\n",
    "x1, x2, y1, y2 = 1, L4, -15, -9.5\n",
    "axins.set_xlim(x1, x2)\n",
    "axins.set_ylim(y1, y2)\n",
    "axins.set_yticklabels('')\n",
    "axins.set_xticks([x1,x2])\n",
    "#axins.xaxis.tick_top()\n",
    "axins.set_xscale(\"log\")\n",
    "#axins.legend(fontsize=14)\n",
    "plt.gca().indicate_inset_zoom(axins)\n",
    "\n",
    "plt.show()"
   ]
  },
  {
   "cell_type": "code",
   "execution_count": null,
   "metadata": {},
   "outputs": [],
   "source": [
    "gradL = gradL_mg\n",
    "L = L_mg\n",
    "\n",
    "\n",
    "mg_string = \"Iterations per grid:\\n\" + \" -> \".join([str(len(L)) for L in L_mg])\n",
    "\n",
    "print(mg_string)"
   ]
  },
  {
   "cell_type": "code",
   "execution_count": null,
   "metadata": {},
   "outputs": [],
   "source": [
    "any(isinstance(el, list) for el in L)"
   ]
  },
  {
   "cell_type": "code",
   "execution_count": null,
   "metadata": {},
   "outputs": [],
   "source": [
    "\n",
    "L = L_mg\n",
    "print(any(isinstance(entry, list) for entry in L))\n",
    "L = sum(L,[])\n",
    "print(any(isinstance(entry, list) for entry in L))"
   ]
  },
  {
   "cell_type": "code",
   "execution_count": 1,
   "metadata": {},
   "outputs": [
    {
     "ename": "NameError",
     "evalue": "name 'gradL_mg' is not defined",
     "output_type": "error",
     "traceback": [
      "\u001b[0;31m---------------------------------------------------------------------------\u001b[0m",
      "\u001b[0;31mNameError\u001b[0m                                 Traceback (most recent call last)",
      "\u001b[0;32m<ipython-input-1-a8ab70c106e7>\u001b[0m in \u001b[0;36m<module>\u001b[0;34m\u001b[0m\n\u001b[0;32m----> 1\u001b[0;31m \u001b[0mgradL\u001b[0m \u001b[0;34m=\u001b[0m \u001b[0mgradL_mg\u001b[0m\u001b[0;34m\u001b[0m\u001b[0;34m\u001b[0m\u001b[0m\n\u001b[0m\u001b[1;32m      2\u001b[0m \u001b[0mL\u001b[0m \u001b[0;34m=\u001b[0m \u001b[0mL_mg\u001b[0m\u001b[0;34m\u001b[0m\u001b[0;34m\u001b[0m\u001b[0m\n\u001b[1;32m      3\u001b[0m \u001b[0;34m\u001b[0m\u001b[0m\n\u001b[1;32m      4\u001b[0m \u001b[0mmg_string\u001b[0m \u001b[0;34m=\u001b[0m \u001b[0;34m\"Iterations per grid:\\n\"\u001b[0m \u001b[0;34m+\u001b[0m \u001b[0;34m\" -> \"\u001b[0m\u001b[0;34m.\u001b[0m\u001b[0mjoin\u001b[0m\u001b[0;34m(\u001b[0m\u001b[0;34m[\u001b[0m\u001b[0mstr\u001b[0m\u001b[0;34m(\u001b[0m\u001b[0mlen\u001b[0m\u001b[0;34m(\u001b[0m\u001b[0mL\u001b[0m\u001b[0;34m)\u001b[0m\u001b[0;34m)\u001b[0m \u001b[0;32mfor\u001b[0m \u001b[0mL\u001b[0m \u001b[0;32min\u001b[0m \u001b[0mL_mg\u001b[0m\u001b[0;34m]\u001b[0m\u001b[0;34m)\u001b[0m\u001b[0;34m\u001b[0m\u001b[0;34m\u001b[0m\u001b[0m\n\u001b[1;32m      5\u001b[0m \u001b[0;34m\u001b[0m\u001b[0m\n",
      "\u001b[0;31mNameError\u001b[0m: name 'gradL_mg' is not defined"
     ]
    }
   ],
   "source": [
    "gradL = gradL_mg\n",
    "L = L_mg\n",
    "\n",
    "mg_string = \"Iterations per grid:\\n\" + \" -> \".join([str(len(L)) for L in L_mg])\n",
    "\n",
    "L = sum(L,[])\n",
    "gradL = sum(gradL,[])\n",
    "\n",
    "f,ax = plt.subplots(2,1,figsize=(7,9),sharex=True,frameon=False,gridspec_kw={'height_ratios':[3,1]})\n",
    "\n",
    "ax[0].plot(range(1,len(gradL)+1),gradL,'k-',linewidth=2)\n",
    "\n",
    "ax[0].set_yscale('log')\n",
    "ax[0].set_ylabel('$|\\\\nabla\\\\widetilde{\\mathscr{L}}_\\\\alpha(\\\\varphi)|$')\n",
    "\n",
    "bbox_props = dict(boxstyle=\"square\", fc=\"white\", ec=\"k\", lw=1)\n",
    "ax[0].text(0.012,1.02, mg_string, transform=ax[0].transAxes,fontsize=14, bbox=bbox_props)\n",
    "\n",
    "ax[1].set_ylabel('$\\mathscr{L}_\\\\alpha(\\\\varphi)$')\n",
    "ax[1].plot(range(1,len(L)+1),L,'k-',linewidth=2)\n",
    "ax[1].set_xlabel('Iterations')\n",
    "ax[1].set_xscale('log')\n",
    "plt.subplots_adjust(hspace=0.02)"
   ]
  },
  {
   "cell_type": "code",
   "execution_count": null,
   "metadata": {},
   "outputs": [],
   "source": [
    "plt.figure()\n",
    "\n",
    "start = 0\n",
    "for ni,grid_gradL in enumerate(gradL_mg):\n",
    "    x = np.arange(start, start + len(grid_gradL), 1)\n",
    "    start += len(x)\n",
    "    label='(%s, %s, %s)' % tuple([12*2**(ni)]*3)\n",
    "    plt.plot(x, np.array(grid_gradL),label=label)\n",
    "#plt.plot(gradL,'k', label='max_L')\n",
    "    \n",
    "plt.legend(fontsize=11, loc='upper center')\n",
    "plt.ylabel('$\\\\nabla$L')\n",
    "plt.xlabel('Iterations')\n",
    "plt.yscale(\"log\")\n",
    "plt.xscale(\"log\")\n",
    "\n",
    "plt.show()"
   ]
  },
  {
   "cell_type": "code",
   "execution_count": null,
   "metadata": {},
   "outputs": [],
   "source": [
    "L[0][:5]"
   ]
  },
  {
   "cell_type": "code",
   "execution_count": null,
   "metadata": {},
   "outputs": [],
   "source": [
    "extL[:5]"
   ]
  },
  {
   "cell_type": "code",
   "execution_count": null,
   "metadata": {},
   "outputs": [],
   "source": [
    "multigrid_steps(np.array([25,25,25]))"
   ]
  },
  {
   "cell_type": "code",
   "execution_count": null,
   "metadata": {},
   "outputs": [],
   "source": [
    "n = np.array([25,25,25])\n",
    "sigma2, vmean = calc_sigma2(pvals, rhatvals, True, noniso=non_iso)\n",
    "vmax = vmin + dv*n\n",
    "N = len(pvals)"
   ]
  },
  {
   "cell_type": "code",
   "execution_count": null,
   "metadata": {},
   "outputs": [],
   "source": [
    "n = np.array([12,12,12])\n",
    "dv = (vmax-vmin)/n\n",
    "\n",
    "phi = phi_guess(v_guess, disp_guess, vmin, dv,n)\n",
    "phi = phi.ravel()\n",
    "Kvals = KvalsNumpyMethod(pvals, rhatvals, vmin, dv, n)\n",
    "get_neg_L(phi,Kvals, N, alpha, dv, n, sigma2)"
   ]
  },
  {
   "cell_type": "code",
   "execution_count": null,
   "metadata": {},
   "outputs": [],
   "source": [
    "phi2 = zoom(phi.reshape(12,12,12), zoom=2, order=5) - np.log(8)\n",
    "phi2 = phi2.ravel()\n",
    "n = np.array([24,24,24])\n",
    "dv = (vmax-vmin)/n\n",
    "Kvals = KvalsNumpyMethod(pvals, rhatvals, vmin, dv, n)\n",
    "get_neg_L(phi2,Kvals, N, alpha, dv, n, sigma2)"
   ]
  },
  {
   "cell_type": "code",
   "execution_count": null,
   "metadata": {},
   "outputs": [],
   "source": [
    "phi2 = zoom(phi.reshape(12,12,12), zoom=2, order=3) - np.log(8)\n",
    "phi2 = phi2.ravel()\n",
    "n = np.array([24,24,24])\n",
    "dv = (vmax-vmin)/n\n",
    "Kvals = KvalsNumpyMethod(pvals, rhatvals, vmin, dv, n)\n",
    "get_neg_L(phi2,Kvals, N, alpha, dv, n, sigma2)"
   ]
  },
  {
   "cell_type": "code",
   "execution_count": null,
   "metadata": {},
   "outputs": [],
   "source": [
    "phi2 = zoom(phi.reshape(12,12,12), zoom=2, order=3)"
   ]
  },
  {
   "cell_type": "code",
   "execution_count": null,
   "metadata": {},
   "outputs": [],
   "source": [
    "\n",
    "\n",
    "np.exp(phi).sum(), np.exp(phi2-np.log(8)).sum(), (np.exp(phi2)/8).sum()"
   ]
  },
  {
   "cell_type": "code",
   "execution_count": null,
   "metadata": {},
   "outputs": [],
   "source": []
  }
 ],
 "metadata": {
  "kernelspec": {
   "display_name": "Python 3",
   "language": "python",
   "name": "python3"
  },
  "language_info": {
   "codemirror_mode": {
    "name": "ipython",
    "version": 3
   },
   "file_extension": ".py",
   "mimetype": "text/x-python",
   "name": "python",
   "nbconvert_exporter": "python",
   "pygments_lexer": "ipython3",
   "version": "3.7.7"
  }
 },
 "nbformat": 4,
 "nbformat_minor": 4
}
