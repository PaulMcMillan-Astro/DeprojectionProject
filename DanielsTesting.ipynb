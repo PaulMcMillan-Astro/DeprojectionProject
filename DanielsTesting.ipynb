{
 "cells": [
  {
   "cell_type": "code",
   "execution_count": 1,
   "metadata": {},
   "outputs": [],
   "source": [
    "%load_ext autoreload\n",
    "%autoreload 2"
   ]
  },
  {
   "cell_type": "code",
   "execution_count": 2,
   "metadata": {},
   "outputs": [],
   "source": [
    "%reset -sf"
   ]
  },
  {
   "cell_type": "code",
   "execution_count": 3,
   "metadata": {
    "scrolled": true
   },
   "outputs": [
    {
     "name": "stdout",
     "output_type": "stream",
     "text": [
      "/home/mikkola/Documents/DeprojectionProject\n"
     ]
    }
   ],
   "source": [
    "import importlib\n",
    "import Deproject_v1_0 \n",
    "from Deproject_test import *\n",
    "from Deproject_plots import DM_plt_prefs\n",
    "DM_plt_prefs()\n",
    "import matplotlib.pyplot as plt\n",
    "from scipy import sparse as scisp\n",
    "from scipy.optimize import approx_fprime\n",
    "import os\n",
    "import cProfile\n",
    "import numpy as np\n",
    "from matplotlib.colors import LogNorm\n",
    "from matplotlib.patches import Rectangle\n",
    "from timeit import default_timer as timer\n",
    "\n",
    "from astropy.io.ascii import read as tableread\n",
    "import astropy.units as u\n",
    "import astropy.coordinates as coord\n",
    "\n",
    "coord.Galactic()\n",
    "%cd ~/Documents/DeprojectionProject/"
   ]
  },
  {
   "cell_type": "code",
   "execution_count": 4,
   "metadata": {},
   "outputs": [
    {
     "name": "stdout",
     "output_type": "stream",
     "text": [
      "/home/mikkola/Documents/faststats/faststats\n",
      "/home/mikkola/Documents/DeprojectionProject\n"
     ]
    }
   ],
   "source": [
    "%cd ~/Documents/faststats/faststats/\n",
    "from fkde import *\n",
    "def kdeplot(x,y,grid,no_c,bw_a):\n",
    "    Z,ax = fastkde(x,y,gridsize=grid,nocorrelation=no_c,adjust=bw_a)#,weights,adjust)\n",
    "    xlen,ylen = np.shape(Z)\n",
    "    X,Y = np.meshgrid(np.linspace(ax[0],ax[1],xlen),np.linspace(ax[0],ax[1],ylen))\n",
    "    return X,Y,Z\n",
    "%cd ~/Documents/DeprojectionProject/"
   ]
  },
  {
   "cell_type": "code",
   "execution_count": null,
   "metadata": {},
   "outputs": [],
   "source": [
    "def rot(x,y,deg):\n",
    "    xf = x.flatten(); xf = xf.reshape(len(xf),1)\n",
    "    yf = y.flatten(); yf = yf.reshape(len(yf),1)\n",
    "    pos = np.hstack((xf,yf))\n",
    "    \n",
    "    theta = np.radians(deg)\n",
    "    c, s = np.cos(theta), np.sin(theta)\n",
    "    R = np.array(((c, -s), (s, c)))\n",
    "    pos = np.dot(pos, R.T)\n",
    "    \n",
    "    x = pos[:,0].reshape(x.shape)\n",
    "    y = pos[:,1].reshape(y.shape)\n",
    "    return x,y\n",
    "\n",
    "def f(x,y,z,lim):\n",
    "    x,y = rot(x,y,45)\n",
    "    val = (lim-np.abs(x))**4 + (lim-np.abs(y))**4 + (lim-np.abs(z))**4\n",
    "    return val/np.sum(val)\n",
    "\n",
    "\n",
    "def pyramid_sample(N_sample,r,c):\n",
    "    # Velocities\n",
    "    xc,yc,zc = c\n",
    "    N = 100\n",
    "    X = np.linspace(-r,r,N)\n",
    "    Y = np.linspace(-r,r,N)\n",
    "    Z = np.linspace(-r,r,N)\n",
    "    \n",
    "    XX = X.reshape(1,N,1)*np.ones((N,1,N))\n",
    "    YY = Y.reshape(N,1,1)*np.ones((1,N,N))\n",
    "    ZZ = Z.reshape(1,1,N)*np.ones((N,N,1))\n",
    "    \n",
    "    P = f(XX,YY,ZZ,r+np.max(c))\n",
    "    \n",
    "    rrind = np.ravel_multi_index(np.indices(XX.shape), XX.shape).ravel()\n",
    "    prob = np.ravel(P)\n",
    "    smp = np.random.choice(rrind, size=N_sample, p=prob)\n",
    "    smpx, smpy, smpz = np.asarray(np.unravel_index(smp, XX.shape))\n",
    "    \n",
    "    XX = XX + xc\n",
    "    ZZ = YY + yc\n",
    "    YY = ZZ + zc\n",
    "    \n",
    "    vxvals = XX[smpx, smpy, smpz]\n",
    "    vyvals = YY[smpx, smpy, smpz]\n",
    "    vzvals = ZZ[smpx, smpy, smpz]\n",
    "    \n",
    "    # Positions\n",
    "    xmax, ymax, zmax = np.array([100,100,100])/np.sqrt(3)    \n",
    "    xmin, ymin, zmin = -xmax,-ymax,-zmax\n",
    "    \n",
    "    xvals = (np.random.rand(N_sample) * (xmax - xmin) + xmin)\n",
    "    yvals = (np.random.rand(N_sample) * (ymax - ymin) + ymin)\n",
    "    zvals = (np.random.rand(N_sample) * (zmax - zmin) + zmin)\n",
    "    return xvals, yvals, zvals, vxvals, vyvals, vzvals"
   ]
  },
  {
   "cell_type": "markdown",
   "metadata": {},
   "source": [
    "## Generate gaussian sample"
   ]
  },
  {
   "cell_type": "code",
   "execution_count": null,
   "metadata": {},
   "outputs": [],
   "source": [
    "N = 5000 #Number of stars we want to use in our sample\n",
    "sample, vx, vy, vz = Deproject_v1_0.model_sample(N)"
   ]
  },
  {
   "cell_type": "code",
   "execution_count": null,
   "metadata": {},
   "outputs": [],
   "source": [
    "pvals, rhatvals = Deproject_v1_0.calc_p_rhat(sample)\n",
    "sigma2, vmean0 = Deproject_v1_0.calc_sigma2(pvals,rhatvals,True)"
   ]
  },
  {
   "cell_type": "markdown",
   "metadata": {},
   "source": [
    "## Generate pyramid-like sample from distribution"
   ]
  },
  {
   "cell_type": "code",
   "execution_count": null,
   "metadata": {},
   "outputs": [],
   "source": [
    "np.random.seed(0)\n",
    "x, y, z, vx, vy, vz = pyramid_sample(int(1e4),100, c=(0,0,0))"
   ]
  },
  {
   "cell_type": "code",
   "execution_count": null,
   "metadata": {},
   "outputs": [],
   "source": [
    "x,y,z          = (x,y,z)* u.pc\n",
    "vx,vy,vz       = (vx,vy,vz) * (u.km / u.s)"
   ]
  },
  {
   "cell_type": "code",
   "execution_count": null,
   "metadata": {},
   "outputs": [],
   "source": [
    "# We use Astropy's coord class which makes it easy to keep track of units and conversions\n",
    "\n",
    "sample = coord.Galactic(u=x,\n",
    "                         v=y, \n",
    "                         w=z,\n",
    "                         U=vx,\n",
    "                         V=vy,\n",
    "                         W=vz,\n",
    "                         representation_type=coord.CartesianRepresentation,\n",
    "                         differential_type=coord.CartesianDifferential)\n",
    "sample.set_representation_cls(coord.SphericalRepresentation, coord.SphericalCosLatDifferential)\n",
    "\n"
   ]
  },
  {
   "cell_type": "code",
   "execution_count": null,
   "metadata": {},
   "outputs": [],
   "source": [
    "pvals, rhatvals = Deproject_v1_0.calc_p_rhat(sample)\n",
    "sigma2, vmean0 = Deproject_v1_0.calc_sigma2(pvals,rhatvals,True)"
   ]
  },
  {
   "cell_type": "markdown",
   "metadata": {},
   "source": [
    "## Generate  fake Galactic samples\n",
    "\n",
    "From simulated galaxy:"
   ]
  },
  {
   "cell_type": "markdown",
   "metadata": {},
   "source": [
    "Loading data"
   ]
  },
  {
   "cell_type": "code",
   "execution_count": null,
   "metadata": {},
   "outputs": [],
   "source": [
    "N = 5000 #Number of stars we want to use in our sample\n",
    "dat = np.load('DATA/simgal.npy')"
   ]
  },
  {
   "cell_type": "markdown",
   "metadata": {},
   "source": [
    "Select a sample around with radius 2 kpc around 8 kpc"
   ]
  },
  {
   "cell_type": "code",
   "execution_count": null,
   "metadata": {
    "scrolled": true
   },
   "outputs": [],
   "source": [
    "x,y,z,vx,vy,vz = dat\n",
    "R = np.sqrt((x-8)**2 + y**2)\n",
    "snbh = R < 2\n",
    "dat = dat[:,snbh]\n",
    "I = np.random.randint(low=0,high=np.sum(snbh),size=N)\n",
    "\n",
    "x,y,z,vx,vy,vz = dat[:,I]\n",
    "\n",
    "# Center x, y and vy, so they look like they're relative to the LSR\n",
    "x = x - np.median(x)\n",
    "y = y - np.median(y)\n",
    "vy = vy - np.median(vy)"
   ]
  },
  {
   "cell_type": "markdown",
   "metadata": {},
   "source": [
    "Prepare for astropy"
   ]
  },
  {
   "cell_type": "code",
   "execution_count": null,
   "metadata": {},
   "outputs": [],
   "source": [
    "x,y,z          = (x,y,z)* u.pc\n",
    "vx,vy,vz       = (vx,vy,vz) * (u.km / u.s)"
   ]
  },
  {
   "cell_type": "code",
   "execution_count": null,
   "metadata": {},
   "outputs": [],
   "source": [
    "# We use Astropy's coord class which makes it easy to keep track of units and conversions\n",
    "\n",
    "sample = coord.Galactic(u=x,\n",
    "                         v=y, \n",
    "                         w=z,\n",
    "                         U=vx,\n",
    "                         V=vy,\n",
    "                         W=vz,\n",
    "                         representation_type=coord.CartesianRepresentation,\n",
    "                         differential_type=coord.CartesianDifferential)\n",
    "sample.set_representation_cls(coord.SphericalRepresentation, coord.SphericalCosLatDifferential)\n"
   ]
  },
  {
   "cell_type": "code",
   "execution_count": null,
   "metadata": {},
   "outputs": [],
   "source": [
    "pvals, rhatvals = Deproject_v1_0.calc_p_rhat(sample)\n",
    "sigma2, vmean0 = Deproject_v1_0.calc_sigma2(pvals,rhatvals,True)"
   ]
  },
  {
   "cell_type": "markdown",
   "metadata": {},
   "source": [
    "## Inspect sample"
   ]
  },
  {
   "cell_type": "code",
   "execution_count": null,
   "metadata": {
    "scrolled": false
   },
   "outputs": [],
   "source": [
    "plt.hist2d(np.array(sample.l),np.array(sample.b),100)\n",
    "plt.show()"
   ]
  },
  {
   "cell_type": "markdown",
   "metadata": {},
   "source": [
    "True distribution"
   ]
  },
  {
   "cell_type": "code",
   "execution_count": null,
   "metadata": {},
   "outputs": [],
   "source": [
    "n = np.array([20,20,20])\n",
    "dv = np.array([10,10,10])\n",
    "vmin = np.array([-100,-100,-100])"
   ]
  },
  {
   "cell_type": "code",
   "execution_count": null,
   "metadata": {
    "scrolled": false
   },
   "outputs": [],
   "source": [
    "sigma2, vmean0 = Deproject_v1_0.calc_sigma2(pvals,rhatvals,True)\n",
    "\n",
    "sigma = np.sqrt(sigma2)\n",
    "phi0 = phi_guess(vmean0,sigma,vmin,dv,n)\n",
    "\n",
    "sanity_check(pvals,rhatvals,phi0,vmin,dv,n)"
   ]
  },
  {
   "cell_type": "code",
   "execution_count": null,
   "metadata": {},
   "outputs": [],
   "source": [
    "alpha_guess = 1e-8\n",
    "\n",
    "v_guess = np.array([1,1,1])\n",
    "disp_guess = np.array([22,17,30])\n",
    "\n",
    "t0 = timer()\n",
    "mxl, phi_all, fmin_it = max_L(alpha_guess, pvals, rhatvals, vmin, dv, n, v0_guess = v_guess, disp_guess = disp_guess)\n",
    "time = str((timer() - t0)/60)\n",
    "print(time + ' mins')\n",
    "\n",
    "sanity_check(pvals,rhatvals,mxl,vmin,dv,n)"
   ]
  },
  {
   "cell_type": "code",
   "execution_count": null,
   "metadata": {
    "scrolled": false
   },
   "outputs": [],
   "source": [
    "dx, dy = dv[0], dv[1]\n",
    "vxmin, vymin = vmin[0], vmin[1]\n",
    "nx, ny = n[0], n[1]\n",
    "vxmax, vymax = vxmin+nx*dx,vymin+ny*dy\n",
    "\n",
    "x0, y0 = vxmin, vymin\n",
    "x1, y1 = vxmax, vymax\n",
    "\n",
    "xbins = np.arange(x0,x1+dx,dx)\n",
    "ybins = np.arange(y0,y1+dy,dy)\n",
    "\n",
    "xc = (xbins[1:]+xbins[:-1])/2\n",
    "yc = (ybins[1:]+ybins[:-1])/2\n",
    "\n",
    "[X,Y] = np.meshgrid(xc,yc);\n",
    "\n",
    "fv = np.exp(mxl)\n",
    "\n",
    "fvlog = np.log10(fv+1)\n",
    "xl = 120\n",
    "yl = 120\n",
    "twodfv = np.sum(fv,axis=2)\n",
    "\n",
    "\n",
    "X2,Y2,Z = kdeplot(np.array(vx),np.array(vy),(100,100),False,2)\n",
    "# Z,xbins,ybins = np.histogram2d(np.array(vx),np.array(vy),20)\n",
    "# xc = (xbins[1:]+xbins[:-1])/2\n",
    "# yc = (ybins[1:]+ybins[:-1])/2\n",
    "\n",
    "# [X2,Y2] = np.meshgrid(xc,yc);\n",
    "\n",
    "f,ax = plt.subplots(1,3,sharex=True,sharey=True,figsize=(21,7),frameon=False)\n",
    "\n",
    "ax[0].contourf(X2,Y2,Z.T,40,origin='lower',cmap = plt.cm.get_cmap('bone_r'),linestyles='solid')\n",
    "ax[0].pcolormesh(X2,Y2,Z.T,cmap='bone_r')\n",
    "ax[0].contour(X2,Y2,Z.T,10,origin='lower',colors='k',linewidths=0.5)\n",
    "ax[0].set_xlim(-xl,xl)\n",
    "ax[0].set_ylim(-yl,yl)\n",
    "ax[0].add_patch(Rectangle((vmin[0],vmin[1]),n[0]*dv[0],n[0]*dv[0], fill=None,edgecolor='r',label='3D box size'))\n",
    "ax[0].legend()\n",
    "ax[0].set_title('Original fv')\n",
    "\n",
    "ax[1].contourf(X,Y,twodfv.T,40,origin='lower',cmap = plt.cm.get_cmap('bone_r'),linestyles='solid')\n",
    "ax[1].contour(X,Y,twodfv.T,10,origin='lower',colors='k',linewidths=0.5)\n",
    "ax[1].set_xlim(-xl,xl)\n",
    "ax[1].set_ylim(-yl,yl)\n",
    "ax[1].add_patch(Rectangle((vmin[0],vmin[1]),n[0]*dv[0],n[0]*dv[0], fill=None,edgecolor='r',label='3D box size'))\n",
    "ax[1].legend()\n",
    "ax[1].set_title('Deprojected fv')\n",
    "\n",
    "ax[2].contourf(X,Y,np.log10(twodfv.T),40,origin='lower',cmap = plt.cm.get_cmap('bone_r'),linestyles='solid')\n",
    "ax[2].contour(X,Y,np.log10(twodfv.T),10,origin='lower',colors='k',linewidths=0.5)\n",
    "ax[2].set_xlim(-xl,xl)\n",
    "ax[2].set_ylim(-yl,yl)\n",
    "ax[2].add_patch(Rectangle((vmin[0],vmin[1]),n[0]*dv[0],n[0]*dv[0], fill=None,edgecolor='r',label='3D box size'))\n",
    "ax[2].legend()\n",
    "ax[2].set_title('Deprojected log(fv)')\n",
    "\n",
    "plt.show()"
   ]
  },
  {
   "cell_type": "markdown",
   "metadata": {},
   "source": [
    "## Alternative sec_der"
   ]
  },
  {
   "cell_type": "markdown",
   "metadata": {},
   "source": [
    "## Check eq 30 on 1d Gaussian\n",
    "\n",
    "$$ \\Xi_{\\pmb{n}\\pmb{l}} \\propto -2\\delta_{\\pmb{n},\\pmb{l}} + \\delta_{\\pmb{n},\\pmb{l} + \\pmb{\\hat{e}}_i} + \\delta_{\\pmb{n},\\pmb{l} - \\pmb{\\hat{e}}_i}$$\n",
    "\n",
    "$$f(x) = \\frac{1}{\\sigma\\sqrt{2\\pi}} e^{-\\frac{1}{2}\\left(\\frac{x-\\mu}{\\sigma}\\right)^2} \\rightarrow \\frac{1}{\\sqrt{2\\pi}} e^{-\\frac{1}{2}x^2}$$\n",
    "\n",
    "$$f'(x) =  -\\frac{x}{\\sqrt{2\\pi}} e^{-\\frac{1}{2}x^2}$$\n",
    "\n",
    "$$f\"(x) =  \\frac{x^2 - 1}{\\sqrt{2\\pi}} e^{-\\frac{1}{2}x^2}$$"
   ]
  },
  {
   "cell_type": "code",
   "execution_count": null,
   "metadata": {},
   "outputs": [],
   "source": [
    "def f_gauss(x):\n",
    "    return np.exp(-0.5*x**2) / np.sqrt(2*np.pi)\n",
    "\n",
    "def f_gauss_bis(x):\n",
    "    return (x**2 - 1)*f_gauss(x)\n",
    "\n"
   ]
  },
  {
   "cell_type": "code",
   "execution_count": null,
   "metadata": {
    "scrolled": true
   },
   "outputs": [],
   "source": [
    "x = np.linspace(-5,5,15)\n",
    "vals = f_gauss(x)\n",
    "sec_der_vals = f_gauss_bis(x)\n",
    "xi_vals = vals[2:] + vals[:-2] - 2*vals[1:-1]\n",
    "\n",
    "plt.figure()\n",
    "plt.plot(x,vals,'b')\n",
    "plt.plot(x,sec_der_vals,'r')\n",
    "plt.plot(x[1:-1],xi_vals,'g')"
   ]
  },
  {
   "cell_type": "code",
   "execution_count": null,
   "metadata": {},
   "outputs": [],
   "source": [
    "%matplotlib inline\n",
    "from ipywidgets import *\n",
    "\n",
    "def f_gauss(x):\n",
    "    return np.exp(-0.5*x**2) / np.sqrt(2*np.pi)\n",
    "\n",
    "def f_gauss_bis(x):\n",
    "    return (x**2 - 1)*f_gauss(x)\n",
    "\n",
    "def xi_vals(vals):\n",
    "    return vals[2:] + vals[:-2] - 2*vals[1:-1]\n",
    "\n",
    "def x_vals(N):\n",
    "    return np.linspace(-5,5,N)\n",
    "\n",
    "def plot_func(N):\n",
    "    x = x_vals(int(N))\n",
    "\n",
    "    plt.plot(x,f_gauss(x),'b')\n",
    "    plt.plot(x,f_gauss_bis(x),'r')\n",
    "    plt.plot(x[1:-1],xi_vals(f_gauss(x)),'g')\n",
    "    plt.show()\n",
    "\n",
    "interact(plot_func, N = widgets.FloatSlider(value=10,\n",
    "                                               min=5,\n",
    "                                               max=50,\n",
    "                                               step=5))"
   ]
  },
  {
   "cell_type": "code",
   "execution_count": null,
   "metadata": {
    "scrolled": true
   },
   "outputs": [],
   "source": [
    "f,ax = plt.subplots(4,2,figsize=(8,16),frameon=False)\n",
    "\n",
    "Z = np.log10(np.exp(mxl1) +1).sum(axis=2) \n",
    "ax[0,0].pcolormesh(Z.T,cmap='bone_r')\n",
    "ax[0,0].contour(Z.T,10,origin='lower',colors='k',linewidths=0.5)\n",
    "ax[0,0].set_ylabel('n = (%s,%s,%s)' % tuple([10]*3))\n",
    "f.delaxes(ax[0,1])\n",
    "\n",
    "rows = [[mxl2,mxl2b],[mxl3,mxl3b],[mxl4,mxl4b]]\n",
    "for i, row in enumerate(rows):\n",
    "    \n",
    "    Z = np.log10(np.exp(row[0]) +1).sum(axis=2) \n",
    "    ax[i+1,0].pcolormesh(Z.T,cmap='bone_r')\n",
    "    ax[i+1,0].contour(Z.T,10,origin='lower',colors='k',linewidths=0.5)\n",
    "    ax[i+1,0].set_title('~' + duration[i][0])\n",
    "    ax[i+1,0].set_ylabel('n = (%s,%s,%s)' % tuple([10*(2**(i+1))]*3))\n",
    "    \n",
    "    Z = np.log10(np.exp(row[1]) +1).sum(axis=2)\n",
    "    ax[i+1,1].pcolormesh(Z.T,cmap='bone_r')\n",
    "    ax[i+1,1].contour(Z.T,10,origin='lower',colors='k',linewidths=0.5)\n",
    "    ax[i+1,1].set_title('~' + duration[i][1])\n",
    "\n",
    "\n",
    "plt.savefig('multigrid.pdf',format='pdf')\n",
    "# plotphi(np.log10(np.exp(mxl1) +1).sum(axis=2))\n",
    "# plotphi(np.log10(np.exp(mxl2) +1).sum(axis=2))\n",
    "# plotphi(np.log10(np.exp(mxl3) +1).sum(axis=2))\n",
    "# plotphi(np.log10(np.exp(mxl4) +1).sum(axis=2))"
   ]
  },
  {
   "cell_type": "code",
   "execution_count": null,
   "metadata": {},
   "outputs": [],
   "source": [
    "from scipy.ndimage import zoom\n",
    "\n",
    "def params(N):\n",
    "    n = N\n",
    "    vmin = np.array([-150,-150,-150])\n",
    "    vmax = np.array([150,150,150])\n",
    "    dv = (vmax - vmin)/n\n",
    "    return vmin, dv, n\n",
    "\n",
    "def zoomed_mxl(mxl):\n",
    "    phi0_guess = zoom(mxl, zoom=2, order=3)\n",
    "    n = phi0_guess.shape\n",
    "    return phi0_guess, n\n",
    "\n",
    "alpha_guess = 1e-8\n",
    "v_guess = np.array([1,1,1])\n",
    "disp_guess = np.array([22,17,30])\n",
    "\n",
    "vmin, dv, n = params(np.array([10,10,10]))\n",
    "\n",
    "\n",
    "duration = []\n",
    "\n",
    "\n",
    "t0 = timer()\n",
    "# 1st\n",
    "mxl1, phi_all, fmin_it = max_L(alpha_guess, pvals, rhatvals, vmin, dv, n, v0_guess = v_guess, disp_guess = disp_guess, disp=0)\n",
    "time_spent = np.around((timer() - t0)/60, 3).astype(str) + ' mins'; t0 = timer()\n",
    "duration.append(time_spent)\n",
    "\n",
    "i_mxl2, N = zoomed_mxl(mxl1)\n",
    "vmin, dv, n = params(N)\n",
    "\n",
    "\n",
    "# 2nd\n",
    "mxl2, phi_all, fmin_it = max_L(alpha_guess, pvals, rhatvals, vmin, dv, n, v0_guess = v_guess, disp_guess = disp_guess, phi0_guess=i_mxl2, disp=0)\n",
    "time_spent = np.around((timer() - t0)/60, 3).astype(str) + ' mins'; t0 = timer()\n",
    "duration.append(time_spent)\n",
    "\n",
    "i_mxl3, N = zoomed_mxl(mxl2)\n",
    "vmin, dv, n = params(N)\n",
    "\n",
    "\n",
    "# 3rd\n",
    "mxl3, phi_all, fmin_it = max_L(alpha_guess, pvals, rhatvals, vmin, dv, n, v0_guess = v_guess, disp_guess = disp_guess, phi0_guess=i_mxl3, disp=0)\n",
    "time_spent = np.around((timer() - t0)/60, 3).astype(str) + ' mins'; t0 = timer()\n",
    "duration.append(time_spent)\n",
    "\n",
    "i_mxl4, N = zoomed_mxl(mxl3)\n",
    "vmin, dv, n = params(N)\n",
    "\n",
    "\n",
    "# duration.append([])\n",
    "####4th\n",
    "mxl4, phi_all, fmin_it = max_L(alpha_guess, pvals, rhatvals, vmin, dv, n, v0_guess = v_guess, disp_guess = disp_guess, phi0_guess=i_mxl4, disp=0)\n",
    "time_spent = np.around((timer() - t0)/60, 3).astype(str) + ' mins'; t0 = timer()\n",
    "duration.append(time_spent)"
   ]
  },
  {
   "cell_type": "code",
   "execution_count": null,
   "metadata": {
    "scrolled": false
   },
   "outputs": [],
   "source": [
    "f,ax = plt.subplots(4,1,figsize=(6,18),frameon=False)\n",
    "\n",
    "mxl_list = [mxl1,mxl2,mxl3,mxl4]\n",
    "for i, mxl in enumerate(mxl_list):\n",
    "    vmin = np.array([-150,-150,-150])\n",
    "    vmax = np.array([150,150,150])\n",
    "    Z = np.log10(np.exp(mxl) +1).sum(axis=2) \n",
    "    \n",
    "    ax[i].pcolormesh(np.linspace(vmin[0],vmax[0],Z.shape[0]),np.linspace(vmin[1],vmax[1],Z.shape[1]),Z.T,cmap='bone_r')\n",
    "    ax[i].contour(Z.T,10,origin='lower', extent=(vmin[0],vmax[0],vmin[1],vmax[1]), colors='k',linewidths=0.5)\n",
    "    ax[i].set_title('~' + duration[i] + ('\\nn = (%s,%s,%s)' % mxl.shape), fontsize=14)\n",
    "    ax[i].set_aspect('equal')\n",
    "    ax[i].set_ylabel('$v_y$')\n",
    "    ax[-1].set_xlabel('$v_x$')\n",
    "plt.subplots_adjust(hspace=0.4)\n",
    "plt.show()"
   ]
  },
  {
   "cell_type": "code",
   "execution_count": null,
   "metadata": {},
   "outputs": [],
   "source": [
    "N = 5000 #Number of stars we want to use in our sample\n",
    "sample, vx, vy, vz = Deproject_v1_0.model_sample(N)\n",
    "\n",
    "pvals, rhatvals = Deproject_v1_0.calc_p_rhat(sample)\n",
    "sigma2, vmean0 = Deproject_v1_0.calc_sigma2(pvals,rhatvals,True)\n",
    "sigma = np.sqrt(sigma2)\n",
    "\n",
    "n = np.array([20,20,20])\n",
    "dv = np.array([10,10,10])\n",
    "vmin = np.array([-100,-100,-100])\n",
    "\n",
    "phi0 = phi_guess(vmean0,sigma,vmin,dv,(nx+4,ny+4,nz+4))\n",
    "\n",
    "\n",
    "alpha_guess = 1e-6\n",
    "v_guess = np.array([1,1,1])\n",
    "disp_guess = np.array([22,17,30])\n",
    "\n",
    "Kvals = KvalsNumpyMethod(pvals, rhatvals, vmin, dv, n)\n",
    "args = (Kvals, N, alpha_guess, dv, n, sigma2)\n",
    "phi0r = np.ravel(phi0)"
   ]
  },
  {
   "cell_type": "code",
   "execution_count": null,
   "metadata": {
    "scrolled": false
   },
   "outputs": [],
   "source": [
    "mxl, phi_all = fmin_cg(get_negL, phi0r, fprime=get_grad_negL, gtol=1e-4, args=args, retall=True, disp=1, maxiter=1)"
   ]
  },
  {
   "cell_type": "markdown",
   "metadata": {},
   "source": [
    "### What difference does padding with zeros or extrapolated values make for L and dL?"
   ]
  },
  {
   "cell_type": "code",
   "execution_count": 8,
   "metadata": {},
   "outputs": [],
   "source": [
    "import inspect\n",
    "import scipy.optimize as sopt"
   ]
  },
  {
   "cell_type": "markdown",
   "metadata": {},
   "source": [
    "Get L and norm(grad_L) calculated with phi0 and compare it to a numerical approximation"
   ]
  },
  {
   "cell_type": "code",
   "execution_count": null,
   "metadata": {},
   "outputs": [],
   "source": [
    "val_L_zero      = neg_L_calc(phi0r, 'zeros', Kvals, N, 1e-6, dv, n, sigma2)\n",
    "norm_dL_zero    = np.linalg.norm(grad_neg_L_calc(phi0r, 'zeros', Kvals, N, 1e-6, dv, n, sigma2))\n",
    "grad_check_zero = sopt.check_grad(neg_L_calc,grad_neg_L_calc,phi0r, 'zeros', Kvals, N, 1e-6, dv, n, sigma2)"
   ]
  },
  {
   "cell_type": "markdown",
   "metadata": {},
   "source": [
    "Get L and norm(grad_L) calculated with phi0 and compare it to a numerical approximation"
   ]
  },
  {
   "cell_type": "code",
   "execution_count": null,
   "metadata": {},
   "outputs": [],
   "source": [
    "val_L_extr      = neg_L_calc(phi0r, 'extr', Kvals, N, 1e-6, dv, n, sigma2)\n",
    "norm_dL_extr    = np.linalg.norm(grad_neg_L_calc(phi0r, 'extr', Kvals, N, 1e-6, dv, n, sigma2))\n",
    "grad_check_extr = sopt.check_grad(neg_L_calc,grad_neg_L_calc,phi0r, 'extr', Kvals, N, 1e-6, dv, n, sigma2)"
   ]
  },
  {
   "cell_type": "markdown",
   "metadata": {},
   "source": [
    "### Comparison\n",
    "Which lines are different in dL and L between the two codes?\n",
    "\n",
    "L:"
   ]
  },
  {
   "cell_type": "code",
   "execution_count": null,
   "metadata": {},
   "outputs": [],
   "source": [
    "_ = [print('1' + line) for line in lines_L_zero if (line not in lines_L_extr)]\n",
    "_ = [print('2' + line) for line in lines_L_extr if (line not in lines_L_zero)]"
   ]
  },
  {
   "cell_type": "markdown",
   "metadata": {},
   "source": [
    "dL:"
   ]
  },
  {
   "cell_type": "code",
   "execution_count": null,
   "metadata": {},
   "outputs": [],
   "source": [
    "_ = [print('1' + line) for line in lines_dL_zero if (line not in lines_dL_extr)]\n",
    "_ = [print('2' + line) for line in lines_dL_extr if (line not in lines_dL_zero)]"
   ]
  },
  {
   "cell_type": "markdown",
   "metadata": {},
   "source": [
    "How does L compare?"
   ]
  },
  {
   "cell_type": "code",
   "execution_count": null,
   "metadata": {},
   "outputs": [],
   "source": [
    "print(val_L_zero)\n",
    "print(val_L_extr)"
   ]
  },
  {
   "cell_type": "markdown",
   "metadata": {},
   "source": [
    "How does the norm of dL compare?"
   ]
  },
  {
   "cell_type": "code",
   "execution_count": null,
   "metadata": {},
   "outputs": [],
   "source": [
    "print(norm_dL_zero)\n",
    "print(norm_dL_extr)"
   ]
  },
  {
   "cell_type": "markdown",
   "metadata": {},
   "source": [
    "How does dL compare to the numerical approximation?"
   ]
  },
  {
   "cell_type": "code",
   "execution_count": null,
   "metadata": {},
   "outputs": [],
   "source": [
    "print(grad_check_zero)\n",
    "print(grad_check_extr)\n",
    "print(sopt.check_grad(neg_L_calc,grad_neg_L_calc,phi0r, 'extr', Kvals, N, 1e-6, dv, n, sigma2))"
   ]
  },
  {
   "cell_type": "code",
   "execution_count": 16,
   "metadata": {},
   "outputs": [],
   "source": [
    "def xi_calc(phi, sigma2, dv):  \n",
    "    if builtins.method == 'extr':\n",
    "        phip = np.pad(phi,1)\n",
    "        extrapolate_box(phip)\n",
    "    elif builtins.method == 'zeros':\n",
    "        phip = np.pad(phi,1)\n",
    "    elif builtins.method == 'buffer':\n",
    "        phip = np.copy(phi)\n",
    "        phi = phi[1:-1, 1:-1, 1:-1]\n",
    "        \n",
    "    phi_fac = np.array([phip[0:-2, 1:-1, 1:-1] + phip[2:, 1:-1, 1:-1],\n",
    "                        phip[1:-1, 0:-2, 1:-1] + phip[1:-1, 2:, 1:-1],\n",
    "                        phip[1:-1, 1:-1, 0:-2] + phip[1:-1, 1:-1, 2:]])\n",
    "    \n",
    "    phi_arrx = (sigma2[0] / dv[0]**2) * (phi_fac[0] - 2 * phi)\n",
    "    phi_arry = (sigma2[1] / dv[1]**2) * (phi_fac[1] - 2 * phi)\n",
    "    phi_arrz = (sigma2[2] / dv[2]**2) * (phi_fac[2] - 2 * phi)\n",
    "    \n",
    "    phi_arr = phi_arrx + phi_arry + phi_arrz\n",
    "    \n",
    "    if builtins.method == 'extr':\n",
    "        extrapolate_box(phi_arr)\n",
    "    elif builtins.method == 'zeros' and builtins.called == 0:\n",
    "        phi_arr = np.pad(phi_arr[1:-1, 1:-1, 1:-1],1)\n",
    "        builtins.called += 1\n",
    "        \n",
    "    return phi_arr\n",
    "\n",
    "\n",
    "def neg_L_calc(phi, *args):\n",
    "    builtins.called = 0\n",
    "    Kvals, N, alpha, dv, n, sigma2 = args\n",
    "    nx, ny, nz = n\n",
    "    \n",
    "    if builtins.method == 'buffer':\n",
    "        phi_unr = np.reshape(phi,(nx+4, ny+4, nz+4))\n",
    "        phi = np.ravel(phi_unr[2:-2, 2:-2, 2:-2])\n",
    "        t3 = get_t3(phi_unr[1:-1, 1:-1, 1:-1], n, sigma2, dv, alpha)\n",
    "    else:\n",
    "        phi_unr = np.reshape(phi,(nx, ny, nz))\n",
    "        t3 = get_t3(phi_unr, n, sigma2, dv, alpha)\n",
    "                             \n",
    "    t2 = get_t2(phi)\n",
    "    t1 = get_t1(t2, Kvals, N)\n",
    "    t2 = t2.sum()\n",
    "    \n",
    "    L_tilde = t1 - t2 - t3\n",
    "        \n",
    "    neg_L = -1 * L_tilde\n",
    "    return neg_L\n",
    "\n",
    "\n",
    "def grad_neg_L_calc(phi, *args):\n",
    "    builtins.called = 0\n",
    "    Kvals, N, alpha, dv, n, sigma2 = args\n",
    "    nx, ny, nz = n\n",
    "    if builtins.method == 'buffer':\n",
    "        phi_unr = np.reshape(phi,(nx+4, ny+4, nz+4))\n",
    "        phi = np.ravel(phi_unr[2:-2, 2:-2, 2:-2])\n",
    "        t3 = get_grad_t3(phi_unr, n, sigma2, dv, alpha)\n",
    "    else:\n",
    "        phi_unr = np.reshape(phi,(nx, ny, nz))\n",
    "        t3 = get_grad_t3(phi_unr, n, sigma2, dv, alpha)\n",
    "    \n",
    "\n",
    "    t2 = get_grad_t2(phi)\n",
    "    t1 = get_grad_t1(t2, Kvals, N)\n",
    "    \n",
    "    grad_L = np.asarray(t1 - t2 - t3).reshape(len(phi), )\n",
    "    \n",
    "    neg_grad_L = -1 * grad_L\n",
    "    return neg_grad_L\n",
    "\n",
    "\n",
    "def get_grad_t1(exphi_csc, Kvals, N):\n",
    "    Kphi = exphi_csc.multiply(Kvals)\n",
    "\n",
    "    Kphi_sum = Kphi_suminv = Kphi.sum(axis=1)\n",
    "\n",
    "    Kphi_suminv[Kphi_sum.nonzero()] = 1 / Kphi_sum[Kphi_sum.nonzero()]\n",
    "\n",
    "    K_term0 = Kphi.multiply(Kphi_suminv)\n",
    "    K_term = K_term0.sum(axis=0)\n",
    "    return K_term/N\n",
    "    \n",
    "    \n",
    "def get_grad_t2(phi):\n",
    "    exphir = np.exp(phi)\n",
    "\n",
    "    exphi_coo = scisp.coo_matrix(exphir)\n",
    "    exphi_csc = exphi_coo.tocsc()\n",
    "\n",
    "    exphi_coo = scisp.coo_matrix(exphir)\n",
    "    exphi_csc = exphi_coo.tocsc()\n",
    "    return exphi_csc\n",
    "\n",
    "\n",
    "def get_grad_t3(phi_unr, n, sigma2, dv, alpha):\n",
    "    dvx, dvy, dvz = dv\n",
    "    \n",
    "    dphixhi = xi_calc(phi_unr, sigma2, dv)\n",
    "    dphixhi = np.ravel(2*xi_calc(dphixhi, sigma2, dv))\n",
    "    \n",
    "    dphixhi_rav = dphixhi.reshape(1, dphixhi.size)\n",
    "    dphixhi_coo = scisp.coo_matrix(dphixhi_rav)\n",
    "    dphixhi_csc = dphixhi_coo.tocsc()\n",
    "    return ((alpha * dvx * dvy * dvz) / 2) * dphixhi_csc\n",
    "\n",
    "\n",
    "def get_t1(exphi_csc, Kvals, N):\n",
    "    Kphi = Kvals.multiply(exphi_csc)\n",
    "    Kphi_sum = Kphi.sum(axis=1)\n",
    "\n",
    "    Kphi_sumlog = np.log(Kphi_sum[Kphi_sum != 0])\n",
    "    Kphi_sum_tot = np.sum(Kphi_sumlog)\n",
    "    return Kphi_sum_tot / N\n",
    "\n",
    "\n",
    "def get_t2(phi):\n",
    "    exphir = np.exp(phi)\n",
    "    exphi_coo = scisp.coo_matrix(exphir)\n",
    "    exphi_csc = exphi_coo.tocsc()\n",
    "    return exphi_csc\n",
    "\n",
    "\n",
    "def get_t3(phi_unr, n, sigma2, dv, alpha):\n",
    "    dvx, dvy, dvz = dv\n",
    "    phixhi = xi_calc(phi_unr, sigma2, dv) ** 2\n",
    "        \n",
    "    phixhi_sum = np.sum(phixhi)\n",
    "    return ((alpha * dvx * dvy * dvz) / 2) * phixhi_sum\n",
    "\n",
    "    "
   ]
  },
  {
   "cell_type": "code",
   "execution_count": 19,
   "metadata": {},
   "outputs": [],
   "source": [
    "def get_args():\n",
    "    N = 5000 #Number of stars we want to use in our sample\n",
    "    sample, vx, vy, vz = Deproject_v1_0.model_sample(N)\n",
    "\n",
    "    pvals, rhatvals = Deproject_v1_0.calc_p_rhat(sample)\n",
    "    sigma2, vmean0 = Deproject_v1_0.calc_sigma2(pvals,rhatvals,True)\n",
    "    sigma = np.sqrt(sigma2)\n",
    "\n",
    "    n = np.array([6,6,6])\n",
    "    dv = np.array([10,10,10])\n",
    "    vmin = np.array([-100,-100,-100])\n",
    "\n",
    "    alpha_guess = 1e-6\n",
    "    v_guess = np.array([1,1,1])\n",
    "    disp_guess = np.array([22,17,30])\n",
    "\n",
    "    Kvals = KvalsNumpyMethod(pvals, rhatvals, vmin, dv, n)\n",
    "\n",
    "    nx, ny, nz = n\n",
    "    phi0 = phi_guess(vmean0,sigma,vmin,dv,(nx+4,ny+4,nz+4))\n",
    "    if builtins.method == 'buffer':    \n",
    "        phi0r = np.ravel(phi0)\n",
    "    else:\n",
    "        phi0r = np.ravel(phi0[2:-2, 2:-2, 2:-2])\n",
    "    return phi0r, Kvals, N, alpha_guess, dv, n, sigma2"
   ]
  },
  {
   "cell_type": "code",
   "execution_count": 20,
   "metadata": {},
   "outputs": [
    {
     "name": "stdout",
     "output_type": "stream",
     "text": [
      "neg_L\n",
      "zeros: 1.0665358619083867\n",
      "extr: 1.1708693626955984\n",
      "buffer: 1.100315698489635\n",
      "\n",
      "|grad_L|\n",
      "zeros: 0.033497112974967144\n",
      "extr: 0.00685483257687065\n",
      "buffer: 0.007645423902062214\n"
     ]
    }
   ],
   "source": [
    "print('neg_L')\n",
    "for method in ['zeros', 'extr', 'buffer']:\n",
    "    builtins.method = method\n",
    "    phi0r, Kvals, N, alpha_guess, dv, n, sigma2 = get_args()\n",
    "    \n",
    "    builtins.method = method\n",
    "    val_L = neg_L_calc(phi0r, Kvals, N, alpha_guess, dv, n, sigma2)\n",
    "    print(method + ': ' + str(val_L))\n",
    "\n",
    "print('\\n|grad_L|')\n",
    "for method in ['zeros', 'extr', 'buffer']:\n",
    "    builtins.method = method\n",
    "    phi0r, Kvals, N, alpha_guess, dv, n, sigma2 = get_args()\n",
    "    \n",
    "    builtins.method = method\n",
    "    norm_dL = np.linalg.norm(grad_neg_L_calc(phi0r, Kvals, N, alpha_guess, dv, n, sigma2))\n",
    "    print(method + ': ' + str(norm_dL))"
   ]
  },
  {
   "cell_type": "code",
   "execution_count": 21,
   "metadata": {},
   "outputs": [
    {
     "name": "stdout",
     "output_type": "stream",
     "text": [
      "\n",
      "Gradient check\n",
      "zeros: 1.825056364085722e-07\n",
      "extr: 1.4041602411713587\n"
     ]
    }
   ],
   "source": [
    "print('\\nGradient check')\n",
    "for method in ['zeros', 'extr']:\n",
    "    builtins.method = method\n",
    "    phi0r, Kvals, N, alpha_guess, dv, n, sigma2 = get_args()\n",
    "    gcheck = sopt.check_grad(neg_L_calc,grad_neg_L_calc,phi0r, Kvals, N,alpha_guess, dv, n, sigma2)\n",
    "    print(method + ': ' + str(gcheck))"
   ]
  }
 ],
 "metadata": {
  "kernelspec": {
   "display_name": "Python 3",
   "language": "python",
   "name": "python3"
  },
  "language_info": {
   "codemirror_mode": {
    "name": "ipython",
    "version": 3
   },
   "file_extension": ".py",
   "mimetype": "text/x-python",
   "name": "python",
   "nbconvert_exporter": "python",
   "pygments_lexer": "ipython3",
   "version": "3.7.7"
  }
 },
 "nbformat": 4,
 "nbformat_minor": 4
}
