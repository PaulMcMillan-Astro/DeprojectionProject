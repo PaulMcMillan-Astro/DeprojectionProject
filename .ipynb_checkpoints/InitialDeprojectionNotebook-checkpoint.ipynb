{
 "cells": [
  {
   "cell_type": "code",
   "execution_count": 1,
   "metadata": {
    "collapsed": true
   },
   "outputs": [],
   "source": [
    "import numpy as np\n",
    "import matplotlib.pyplot as plt\n",
    "import pandas as pd"
   ]
  },
  {
   "cell_type": "code",
   "execution_count": 2,
   "metadata": {
    "collapsed": true
   },
   "outputs": [],
   "source": [
    "#Initiation of data\n",
    "\n"
   ]
  },
  {
   "cell_type": "code",
   "execution_count": 202,
   "metadata": {
    "collapsed": true
   },
   "outputs": [],
   "source": [
    "def calc_K(pk,rhat,vxmin,dvx,nx,vymin,dvy,ny,vzmin,dvz,nz) :\n",
    "    '''Calculate the values of K simultaneously for all bins'''\n",
    "    K = np.zeros((nx,ny,nz))\n",
    "    vmin = np.array([vxmin,vymin,vzmin])\n",
    "    dv = np.array([dvx,dvy,dvz])\n",
    "    \n",
    "    vxmax, vymax, vzmax = vxmin+nx*dvx,vymin+ny*dvy,vzmin+nz*dvz\n",
    "    # Find intersections along one dimension (say x)\n",
    "    \n",
    "    vx_bins = np.arange(vxmin, vxmax+dvx, dvx)\n",
    "    vy_bins = np.arange(vymin, vymax+dvy, dvy)\n",
    "    vz_bins = np.arange(vzmin, vzmax+dvz, dvz)\n",
    "    \n",
    "    #v_space = np.array([vx_bins,vy_bins,vz_bins])\n",
    "    \n",
    "    pkx, pky, pkz = pk\n",
    "    \n",
    "    if np.linalg.norm(rhat)!=1:\n",
    "        raise ValueError('rhat must be a unit vector')\n",
    "\n",
    "    rhatx, rhaty, rhatz = rhat\n",
    "    \n",
    "    vrx = (vx_bins-pkx)/rhatx\n",
    "    vry = (vy_bins-pky)/rhaty\n",
    "    vrz = (vz_bins-pkz)/rhatz\n",
    "    \n",
    "    vrmax = min(max(vrx),max(vry),max(vrz))\n",
    "    vrmin = max(min(vrx),min(vry),min(vrz))\n",
    "    \n",
    "    vrx = vrx[(vrx<=vrmax) & (vrx>=vrmin)]\n",
    "    vry = vry[(vry<=vrmax) & (vry>=vrmin)]\n",
    "    vrz = vrz[(vrz<=vrmax) & (vrz>=vrmin)]\n",
    "    vr = np.concatenate((vrx,vry,vrz))\n",
    "    #vr = np.sqrt(vrx**2+vry**2+vrz**2)\n",
    "    vr.sort()\n",
    "    \n",
    "    vr_prime =(vr[:-1] + vr[1:]) / 2\n",
    "    line_bins = np.zeros((len(vr_prime),3))\n",
    "    for i in range(len(vr_prime)):\n",
    "        v_prime = pk + vr_prime[i]*rhat\n",
    "        line_bins[i] += np.floor((v_prime-vmin)/ dv)\n",
    "    \n",
    "    \n",
    "    line_bins = line_bins.astype(int)\n",
    "    #line_bins, unique_ind = np.unique(line_bins,axis=0,return_index=True)\n",
    "    \n",
    "    #line_len = vr[1:]-vr[:-1]\n",
    "    line_len = vr[1:]-vr[:-1]\n",
    "    non_zero = np.nonzero(line_len)\n",
    "    line_len = line_len[non_zero]\n",
    "    line_bins = line_bins[non_zero]\n",
    "    #line_len = line_len[unique_ind]\n",
    "    \n",
    "    K[line_bins[:,0],line_bins[:,1],line_bins[:,2]] = line_len/(dvx*dvy*dvz)\n",
    "    \n",
    "    return K, line_bins, line_len, vr"
   ]
  },
  {
   "cell_type": "code",
   "execution_count": 203,
   "metadata": {},
   "outputs": [],
   "source": [
    "nx,ny,nz = 30,30,30\n",
    "hx,hy,hz = 10,10,10\n",
    "phi = np.zeros((nx,ny,nz)) # First test\n",
    "\n",
    "b = np.deg2rad(10.) # just a test\n",
    "l = np.deg2rad(30.)\n",
    "cosl = np.cos(l)\n",
    "cosb = np.cos(b)\n",
    "sinl = np.sin(l)\n",
    "sinb = np.sin(b)\n",
    "s = 0.1\n",
    "\n",
    "mul,mub=2,1\n",
    "\n",
    "rhat = np.array([cosb*cosl, cosb*sinl, sinb])\n",
    "\n",
    "#S = np.array([[-sinl,cosl,0],\n",
    "#              [-sinb*cosl,-sinb*sinl,cosb]])\n",
    "\n",
    "p = s*np.array([-sinl*cosb*mul - cosl*sinb*mub,\n",
    "                 cosl*cosb*mul - sinl*sinb*mub,\n",
    "                 cosb*mub])\n",
    "\n",
    "rhat = np.array([1,1,1])/np.sqrt(3)\n",
    "p = np.array([0,0,0])"
   ]
  },
  {
   "cell_type": "code",
   "execution_count": 204,
   "metadata": {},
   "outputs": [],
   "source": [
    "#Testing K\n",
    "\n",
    "K, lb, ll, vr = calc_K(p,rhat,0,hx,nx,0,hy,ny,0,hz,nz)\n",
    "\n",
    "print(K)\n",
    "print(ll)\n",
    "print(lb)\n",
    "print(vr)"
   ]
  },
  {
   "cell_type": "code",
   "execution_count": 207,
   "metadata": {},
   "outputs": [
    {
     "name": "stdout",
     "output_type": "stream",
     "text": [
      "[ 17.32050808  17.32050808  17.32050808  17.32050808  17.32050808\n",
      "  17.32050808  17.32050808  17.32050808  17.32050808  17.32050808\n",
      "  17.32050808  17.32050808  17.32050808  17.32050808  17.32050808\n",
      "  17.32050808  17.32050808  17.32050808  17.32050808  17.32050808\n",
      "  17.32050808  17.32050808  17.32050808  17.32050808  17.32050808\n",
      "  17.32050808  17.32050808  17.32050808  17.32050808  17.32050808]\n",
      "[[ 0  0  0]\n",
      " [ 1  1  1]\n",
      " [ 2  2  2]\n",
      " [ 3  3  3]\n",
      " [ 4  4  4]\n",
      " [ 5  5  5]\n",
      " [ 6  6  6]\n",
      " [ 7  7  7]\n",
      " [ 8  8  8]\n",
      " [ 9  9  9]\n",
      " [10 10 10]\n",
      " [11 11 11]\n",
      " [12 12 12]\n",
      " [13 13 13]\n",
      " [14 14 14]\n",
      " [15 15 15]\n",
      " [16 16 16]\n",
      " [17 17 17]\n",
      " [18 18 18]\n",
      " [19 19 19]\n",
      " [20 20 20]\n",
      " [21 21 21]\n",
      " [22 22 22]\n",
      " [23 23 23]\n",
      " [24 24 24]\n",
      " [25 25 25]\n",
      " [26 26 26]\n",
      " [27 27 27]\n",
      " [28 28 28]\n",
      " [29 29 29]]\n",
      "[   0.            0.            0.           17.32050808   17.32050808\n",
      "   17.32050808   34.64101615   34.64101615   34.64101615   51.96152423\n",
      "   51.96152423   51.96152423   69.2820323    69.2820323    69.2820323\n",
      "   86.60254038   86.60254038   86.60254038  103.92304845  103.92304845\n",
      "  103.92304845  121.24355653  121.24355653  121.24355653  138.56406461\n",
      "  138.56406461  138.56406461  155.88457268  155.88457268  155.88457268\n",
      "  173.20508076  173.20508076  173.20508076  190.52558883  190.52558883\n",
      "  190.52558883  207.84609691  207.84609691  207.84609691  225.16660498\n",
      "  225.16660498  225.16660498  242.48711306  242.48711306  242.48711306\n",
      "  259.80762114  259.80762114  259.80762114  277.12812921  277.12812921\n",
      "  277.12812921  294.44863729  294.44863729  294.44863729  311.76914536\n",
      "  311.76914536  311.76914536  329.08965344  329.08965344  329.08965344\n",
      "  346.41016151  346.41016151  346.41016151  363.73066959  363.73066959\n",
      "  363.73066959  381.05117767  381.05117767  381.05117767  398.37168574\n",
      "  398.37168574  398.37168574  415.69219382  415.69219382  415.69219382\n",
      "  433.01270189  433.01270189  433.01270189  450.33320997  450.33320997\n",
      "  450.33320997  467.65371804  467.65371804  467.65371804  484.97422612\n",
      "  484.97422612  484.97422612  502.29473419  502.29473419  502.29473419\n",
      "  519.61524227  519.61524227  519.61524227]\n"
     ]
    }
   ],
   "source": []
  },
  {
   "cell_type": "code",
   "execution_count": null,
   "metadata": {
    "collapsed": true
   },
   "outputs": [],
   "source": []
  },
  {
   "cell_type": "code",
   "execution_count": null,
   "metadata": {
    "collapsed": true
   },
   "outputs": [],
   "source": []
  },
  {
   "cell_type": "code",
   "execution_count": null,
   "metadata": {
    "collapsed": true
   },
   "outputs": [],
   "source": []
  }
 ],
 "metadata": {
  "kernelspec": {
   "display_name": "Python 3",
   "language": "python",
   "name": "python3"
  },
  "language_info": {
   "codemirror_mode": {
    "name": "ipython",
    "version": 3
   },
   "file_extension": ".py",
   "mimetype": "text/x-python",
   "name": "python",
   "nbconvert_exporter": "python",
   "pygments_lexer": "ipython3",
   "version": "3.6.3"
  }
 },
 "nbformat": 4,
 "nbformat_minor": 2
}
