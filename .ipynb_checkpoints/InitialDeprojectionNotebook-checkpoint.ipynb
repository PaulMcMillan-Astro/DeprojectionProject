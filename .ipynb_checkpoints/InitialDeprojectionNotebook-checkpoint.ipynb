{
 "cells": [
  {
   "cell_type": "code",
   "execution_count": 1,
   "metadata": {
    "collapsed": true
   },
   "outputs": [],
   "source": [
    "import numpy as np\n",
    "import matplotlib.pyplot as plt\n",
    "import pandas as pd"
   ]
  },
  {
   "cell_type": "code",
   "execution_count": null,
   "metadata": {
    "collapsed": true
   },
   "outputs": [],
   "source": [
    "def calc_K(pk,rk,vxmin,dvx,nx,vymin,dvy,ny,vzmin,dvz,nz) :\n",
    "    '''Calculate the values of K simultaneously for all bins'''\n",
    "    K = np.zeros((nx,ny,nz))\n",
    "    \n",
    "    # Find intersections along one dimension (say x)\n",
    "    \n",
    "    \n",
    "    "
   ]
  },
  {
   "cell_type": "code",
   "execution_count": 3,
   "metadata": {},
   "outputs": [],
   "source": [
    "nx,ny,nz = 20,20,20\n",
    "hx,hy,hz = 10,10,10\n",
    "phi = np.zeros((nx,ny,nz)) # First test\n",
    "\n",
    "b = np.deg2rad(10.) # just a test\n",
    "l = np.deg2rad(30.)\n",
    "cosl = np.cos(l)\n",
    "cosb = np.cos(b)\n",
    "sinl = np.sin(l)\n",
    "sinb = np.sin(b)\n",
    "s = 0.1\n",
    "\n",
    "rhat = np.array([cosb*cosl, cosb*sinl, sinb])\n",
    "\n",
    "#S = np.array([[-sinl,cosl,0],\n",
    "#              [-sinb*cosl,-sinb*sinl,cosb]])\n",
    "\n",
    "p = s*np.array([-sinl*cosb*mul - cosl*sinb*mub,\n",
    "                 cosl*cosb*mul - sinl*sinb*mub,\n",
    "                 cosb*mub])\n",
    "\n",
    "\n",
    "# I did say I hadn't done much..."
   ]
  },
  {
   "cell_type": "code",
   "execution_count": null,
   "metadata": {
    "collapsed": true
   },
   "outputs": [],
   "source": []
  }
 ],
 "metadata": {
  "kernelspec": {
   "display_name": "Python 3",
   "language": "python",
   "name": "python3"
  },
  "language_info": {
   "codemirror_mode": {
    "name": "ipython",
    "version": 3
   },
   "file_extension": ".py",
   "mimetype": "text/x-python",
   "name": "python",
   "nbconvert_exporter": "python",
   "pygments_lexer": "ipython3",
   "version": "3.6.3"
  }
 },
 "nbformat": 4,
 "nbformat_minor": 2
}
