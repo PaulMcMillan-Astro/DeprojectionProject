{
 "cells": [
  {
   "cell_type": "code",
   "execution_count": 1,
   "metadata": {
    "collapsed": true
   },
   "outputs": [],
   "source": [
    "import numpy as np\n",
    "import matplotlib.pyplot as plt\n",
    "import pandas as pd"
   ]
  },
  {
   "cell_type": "code",
   "execution_count": 2,
   "metadata": {
    "collapsed": true
   },
   "outputs": [],
   "source": [
    "#Initiation of data\n",
    "\n"
   ]
  },
  {
   "cell_type": "code",
   "execution_count": 185,
   "metadata": {
    "collapsed": true
   },
   "outputs": [],
   "source": [
    "def calc_K(pk,rhat,vxmin,dvx,nx,vymin,dvy,ny,vzmin,dvz,nz) :\n",
    "    '''Calculate the values of K simultaneously for all bins'''\n",
    "    K = np.zeros((nx,ny,nz))\n",
    "    vmin = np.array([vxmin,vymin,vzmin])\n",
    "    dv = np.array([dvx,dvy,dvz])\n",
    "    \n",
    "    vxmax, vymax, vzmax = vxmin+nx*dvx,vymin+ny*dvy,vzmin+nz*dvz\n",
    "    # Find intersections along one dimension (say x)\n",
    "    \n",
    "    vx_bins = np.arange(vxmin, vxmax+dvx, dvx)\n",
    "    vy_bins = np.arange(vymin, vymax+dvy, dvy)\n",
    "    vz_bins = np.arange(vzmin, vzmax+dvz, dvz)\n",
    "    \n",
    "    #v_space = np.array([vx_bins,vy_bins,vz_bins])\n",
    "    \n",
    "    pkx, pky, pkz = pk\n",
    "    \n",
    "    if np.linalg.norm(rhat)!=1:\n",
    "        raise ValueError('rhat must be a unit vector')\n",
    "\n",
    "    rhatx, rhaty, rhatz = rhat\n",
    "    \n",
    "    vrx = (vx_bins-pkx)/rhatx\n",
    "    vry = (vy_bins-pky)/rhaty\n",
    "    vrz = (vz_bins-pkz)/rhatz\n",
    "    \n",
    "    vrmax = min(max(vrx),max(vry),max(vrz))\n",
    "    vrmin = max(min(vrx),min(vry),min(vrz))\n",
    "    \n",
    "    vrx = vrx[(vrx<=vrmax) & (vrx>=vrmin)]\n",
    "    vry = vry[(vry<=vrmax) & (vry>=vrmin)]\n",
    "    vrz = vrz[(vrz<=vrmax) & (vrz>=vrmin)]\n",
    "    vr = np.concatenate((vrx,vry,vrz))\n",
    "    #vr = np.sqrt(vrx**2+vry**2+vrz**2)\n",
    "    vr.sort()\n",
    "    print(vr.shape)\n",
    "    \n",
    "    vr_prime =(vr[:-1] + vr[1:]) / 2\n",
    "    print(len(vr_prime))\n",
    "    line_bins = np.zeros((len(vr_prime),3))\n",
    "    for i in range(len(vr_prime)):\n",
    "        v_prime = pk + vr_prime[i]*rhat\n",
    "        line_bins[i] += np.floor((v_prime-vmin)/ dv)\n",
    "    \n",
    "    \n",
    "    line_bins = line_bins.astype(int)\n",
    "    #line_bins, unique_ind = np.unique(line_bins,axis=0,return_index=True)\n",
    "    print(line_bins.shape)\n",
    "    \n",
    "    #line_len = vr[1:]-vr[:-1]\n",
    "    line_len = vr[1:]-vr[:-1]\n",
    "    non_zero = np.nonzero(line_len)\n",
    "    line_len = line_len[non_zero]\n",
    "    line_bins = line_bins[non_zero]\n",
    "    #line_len = line_len[unique_ind]\n",
    "    \n",
    "    K[line_bins[:,0],line_bins[:,1],line_bins[:,2]] = line_len/(dvx*dvy*dvz)\n",
    "    \n",
    "    return K, line_bins, line_len, vr"
   ]
  },
  {
   "cell_type": "code",
   "execution_count": 190,
   "metadata": {},
   "outputs": [],
   "source": [
    "nx,ny,nz = 30,30,30\n",
    "hx,hy,hz = 10,10,10\n",
    "phi = np.zeros((nx,ny,nz)) # First test\n",
    "\n",
    "b = np.deg2rad(10.) # just a test\n",
    "l = np.deg2rad(30.)\n",
    "cosl = np.cos(l)\n",
    "cosb = np.cos(b)\n",
    "sinl = np.sin(l)\n",
    "sinb = np.sin(b)\n",
    "s = 0.1\n",
    "\n",
    "mul,mub=2,1\n",
    "\n",
    "rhat = np.array([cosb*cosl, cosb*sinl, sinb])\n",
    "\n",
    "#S = np.array([[-sinl,cosl,0],\n",
    "#              [-sinb*cosl,-sinb*sinl,cosb]])\n",
    "\n",
    "p = s*np.array([-sinl*cosb*mul - cosl*sinb*mub,\n",
    "                 cosl*cosb*mul - sinl*sinb*mub,\n",
    "                 cosb*mub])\n",
    "\n",
    "rhat = np.array([1,1,1])\n",
    "#p = np.array([0,0,0])"
   ]
  },
  {
   "cell_type": "code",
   "execution_count": 191,
   "metadata": {},
   "outputs": [
    {
     "ename": "ValueError",
     "evalue": "rhat must be a unit vector",
     "output_type": "error",
     "traceback": [
      "\u001b[1;31m---------------------------------------------------------------------------\u001b[0m",
      "\u001b[1;31mValueError\u001b[0m                                Traceback (most recent call last)",
      "\u001b[1;32m<ipython-input-191-88ed8f61fe1f>\u001b[0m in \u001b[0;36m<module>\u001b[1;34m()\u001b[0m\n\u001b[0;32m      1\u001b[0m \u001b[1;31m#Testing K\u001b[0m\u001b[1;33m\u001b[0m\u001b[1;33m\u001b[0m\u001b[0m\n\u001b[0;32m      2\u001b[0m \u001b[1;33m\u001b[0m\u001b[0m\n\u001b[1;32m----> 3\u001b[1;33m \u001b[0mK\u001b[0m\u001b[1;33m,\u001b[0m \u001b[0mlb\u001b[0m\u001b[1;33m,\u001b[0m \u001b[0mll\u001b[0m\u001b[1;33m,\u001b[0m \u001b[0mvr\u001b[0m \u001b[1;33m=\u001b[0m \u001b[0mcalc_K\u001b[0m\u001b[1;33m(\u001b[0m\u001b[0mp\u001b[0m\u001b[1;33m,\u001b[0m\u001b[0mrhat\u001b[0m\u001b[1;33m,\u001b[0m\u001b[1;36m0\u001b[0m\u001b[1;33m,\u001b[0m\u001b[0mhx\u001b[0m\u001b[1;33m,\u001b[0m\u001b[0mnx\u001b[0m\u001b[1;33m,\u001b[0m\u001b[1;36m0\u001b[0m\u001b[1;33m,\u001b[0m\u001b[0mhy\u001b[0m\u001b[1;33m,\u001b[0m\u001b[0mny\u001b[0m\u001b[1;33m,\u001b[0m\u001b[1;36m0\u001b[0m\u001b[1;33m,\u001b[0m\u001b[0mhz\u001b[0m\u001b[1;33m,\u001b[0m\u001b[0mnz\u001b[0m\u001b[1;33m)\u001b[0m\u001b[1;33m\u001b[0m\u001b[0m\n\u001b[0m",
      "\u001b[1;32m<ipython-input-185-5c3c424be661>\u001b[0m in \u001b[0;36mcalc_K\u001b[1;34m(pk, rhat, vxmin, dvx, nx, vymin, dvy, ny, vzmin, dvz, nz)\u001b[0m\n\u001b[0;32m     17\u001b[0m \u001b[1;33m\u001b[0m\u001b[0m\n\u001b[0;32m     18\u001b[0m     \u001b[1;32mif\u001b[0m \u001b[0mnp\u001b[0m\u001b[1;33m.\u001b[0m\u001b[0mlinalg\u001b[0m\u001b[1;33m.\u001b[0m\u001b[0mnorm\u001b[0m\u001b[1;33m(\u001b[0m\u001b[0mrhat\u001b[0m\u001b[1;33m)\u001b[0m\u001b[1;33m!=\u001b[0m\u001b[1;36m1\u001b[0m\u001b[1;33m:\u001b[0m\u001b[1;33m\u001b[0m\u001b[0m\n\u001b[1;32m---> 19\u001b[1;33m         \u001b[1;32mraise\u001b[0m \u001b[0mValueError\u001b[0m\u001b[1;33m(\u001b[0m\u001b[1;34m'rhat must be a unit vector'\u001b[0m\u001b[1;33m)\u001b[0m\u001b[1;33m\u001b[0m\u001b[0m\n\u001b[0m\u001b[0;32m     20\u001b[0m \u001b[1;33m\u001b[0m\u001b[0m\n\u001b[0;32m     21\u001b[0m     \u001b[0mrhatx\u001b[0m\u001b[1;33m,\u001b[0m \u001b[0mrhaty\u001b[0m\u001b[1;33m,\u001b[0m \u001b[0mrhatz\u001b[0m \u001b[1;33m=\u001b[0m \u001b[0mrhat\u001b[0m\u001b[1;33m\u001b[0m\u001b[0m\n",
      "\u001b[1;31mValueError\u001b[0m: rhat must be a unit vector"
     ]
    }
   ],
   "source": [
    "#Testing K\n",
    "\n",
    "K, lb, ll, vr = calc_K(p,rhat,0,hx,nx,0,hy,ny,0,hz,nz)"
   ]
  },
  {
   "cell_type": "code",
   "execution_count": 189,
   "metadata": {},
   "outputs": [
    {
     "name": "stdout",
     "output_type": "stream",
     "text": [
      "[ 11.72513655   8.12151547   3.60362109  11.72513655   4.9797746\n",
      "   6.74536196   9.98692768   1.73820887   1.83803373   9.88710283\n",
      "  10.42142941   1.30370714  11.72513655   7.27968854   4.44544802\n",
      "   8.94894974   2.77618681   4.13794767   7.58718889  11.72513655\n",
      "   0.9962068   10.72892976   9.57960248   2.14553407   7.9109718\n",
      "   3.81416475   6.43786161   5.28727494  11.72513655   3.29612074\n",
      "   8.42901582  11.72513655   0.15437987   6.71861399   4.85214269\n",
      "   8.73777555   2.987361    11.72513655   5.59603468   6.12910187\n",
      "  11.72513655   2.45429381   3.38072211   5.89012063  11.03768949\n",
      "   0.68744706  11.72513655   7.89594862   3.82918793  11.72513655\n",
      "   4.75420775   0.04283023   6.92809857]\n",
      "[[ 0  0  0]\n",
      " [ 1  0  0]\n",
      " [ 1  1  0]\n",
      " [ 2  1  0]\n",
      " [ 3  1  0]\n",
      " [ 3  2  0]\n",
      " [ 4  2  0]\n",
      " [ 4  2  1]\n",
      " [ 5  2  1]\n",
      " [ 5  3  1]\n",
      " [ 6  3  1]\n",
      " [ 6  4  1]\n",
      " [ 7  4  1]\n",
      " [ 8  4  1]\n",
      " [ 8  5  1]\n",
      " [ 9  5  1]\n",
      " [ 9  5  2]\n",
      " [10  5  2]\n",
      " [10  6  2]\n",
      " [11  6  2]\n",
      " [12  6  2]\n",
      " [12  7  2]\n",
      " [13  7  2]\n",
      " [13  8  2]\n",
      " [14  8  2]\n",
      " [14  8  3]\n",
      " [15  8  3]\n",
      " [15  9  3]\n",
      " [16  9  3]\n",
      " [17  9  3]\n",
      " [17 10  3]\n",
      " [18 10  3]\n",
      " [19 10  3]\n",
      " [19 11  3]\n",
      " [19 11  4]\n",
      " [20 11  4]\n",
      " [20 12  4]\n",
      " [21 12  4]\n",
      " [22 12  4]\n",
      " [22 13  4]\n",
      " [23 13  4]\n",
      " [24 13  4]\n",
      " [24 14  4]\n",
      " [24 14  5]\n",
      " [25 14  5]\n",
      " [25 15  5]\n",
      " [26 15  5]\n",
      " [27 15  5]\n",
      " [27 16  5]\n",
      " [28 16  5]\n",
      " [29 16  5]\n",
      " [29 17  5]\n",
      " [29 17  6]]\n",
      "[  1.33102752e-01   1.18582393e+01   1.99797548e+01   2.35833759e+01\n",
      "   3.53085124e+01   4.02882870e+01   4.70336490e+01   5.70205766e+01\n",
      "   5.87587855e+01   6.05968192e+01   7.04839221e+01   8.09053515e+01\n",
      "   8.22090586e+01   9.39341952e+01   1.01213884e+02   1.05659332e+02\n",
      "   1.14608281e+02   1.17384468e+02   1.21522416e+02   1.29109605e+02\n",
      "   1.40834741e+02   1.41830948e+02   1.52559878e+02   1.62139480e+02\n",
      "   1.64285015e+02   1.72195986e+02   1.76010151e+02   1.82448013e+02\n",
      "   1.87735288e+02   1.99460424e+02   2.02756545e+02   2.11185561e+02\n",
      "   2.22910697e+02   2.23065077e+02   2.29783691e+02   2.34635834e+02\n",
      "   2.43373609e+02   2.46360970e+02   2.58086107e+02   2.63682142e+02\n",
      "   2.69811244e+02   2.81536380e+02   2.83990674e+02   2.87371396e+02\n",
      "   2.93261517e+02   3.04299206e+02   3.04986653e+02   3.16711790e+02\n",
      "   3.24607738e+02   3.28436926e+02   3.40162063e+02   3.44916271e+02\n",
      "   3.44959101e+02   3.51887199e+02]\n"
     ]
    }
   ],
   "source": [
    "print(ll)\n",
    "print(lb)\n",
    "print(vr)"
   ]
  },
  {
   "cell_type": "code",
   "execution_count": null,
   "metadata": {
    "collapsed": true
   },
   "outputs": [],
   "source": []
  },
  {
   "cell_type": "code",
   "execution_count": null,
   "metadata": {
    "collapsed": true
   },
   "outputs": [],
   "source": []
  },
  {
   "cell_type": "code",
   "execution_count": null,
   "metadata": {
    "collapsed": true
   },
   "outputs": [],
   "source": []
  }
 ],
 "metadata": {
  "kernelspec": {
   "display_name": "Python 3",
   "language": "python",
   "name": "python3"
  },
  "language_info": {
   "codemirror_mode": {
    "name": "ipython",
    "version": 3
   },
   "file_extension": ".py",
   "mimetype": "text/x-python",
   "name": "python",
   "nbconvert_exporter": "python",
   "pygments_lexer": "ipython3",
   "version": "3.6.3"
  }
 },
 "nbformat": 4,
 "nbformat_minor": 2
}
