{
 "cells": [
  {
   "cell_type": "code",
   "execution_count": 1,
   "metadata": {
    "collapsed": true
   },
   "outputs": [],
   "source": [
    "import numpy as np\n",
    "import matplotlib.pyplot as plt\n",
    "import pandas as pd\n",
    "import astropy.units as u\n",
    "import astropy.coordinates as coord\n",
    "import scipy.stats as st\n",
    "from astropy.table import Table\n",
    "from astropy.io import ascii\n",
    "from scipy.optimize import fmin_cg"
   ]
  },
  {
   "cell_type": "markdown",
   "metadata": {},
   "source": [
    "## Deprojection of velocities for solar vicinity stars"
   ]
  },
  {
   "cell_type": "markdown",
   "metadata": {},
   "source": [
    "The purpose of the code is to infer the velocity distribution $f(\\boldsymbol{v})$ of solar neighbourhood stars through numerical maximization of the following function:\n",
    "\n",
    "\\begin{equation}\n",
    "\\mathcal{L}_\\alpha (\\phi) = N^{-1} \\sum_k \\ln \\left[ \\sum_\\boldsymbol{l} e^{\\phi_\\boldsymbol{l}} \\right] - \\sum_\\boldsymbol{l} e^{\\phi_\\boldsymbol{l}} - \\frac{1}{2}\\alpha h_x h_y h_z \\sum_\\boldsymbol{l} \\left( \\sum_\\boldsymbol{n} \\phi_\\boldsymbol{n} \\Xi_\\boldsymbol{nl} \\right).\n",
    "\\end{equation}\n",
    "\n",
    "Each term is computed using different sections in the code, which then are combined in the function get_l. Said function is then maximized using the conjugate gradient algorithm."
   ]
  },
  {
   "cell_type": "code",
   "execution_count": 2,
   "metadata": {},
   "outputs": [
    {
     "name": "stderr",
     "output_type": "stream",
     "text": [
      "WARNING: OverflowError converting to IntType in column age, reverting to String. [astropy.io.ascii.fastbasic]\n",
      "WARNING: OverflowError converting to IntType in column eage, reverting to String. [astropy.io.ascii.fastbasic]\n"
     ]
    }
   ],
   "source": [
    "#Initiation of data, now loading GRD1 data and setting up the various parameters used in the code below\n",
    "\n",
    "try:\n",
    "    data_raw\n",
    "except NameError:\n",
    "    \n",
    "    data_raw = ascii.read('Distances_PJM2017.csv', format='fast_csv')\n",
    "\n",
    "#data = data_raw[0:10000]\n",
    "    \n",
    "RA = data_raw['RAdeg']*u.degree\n",
    "DEC = data_raw['DEdeg']*u.degree\n",
    "pm_RA = data_raw['pmRA_TGAS']*u.mas/u.yr\n",
    "pm_DEC = data_raw['pmDE_TGAS']*u.mas/u.yr\n",
    "parallax = data_raw['parallax']*u.mas\n",
    "\n",
    "dist = parallax.to(u.kpc,equivalencies=u.parallax())\n",
    "\n",
    "near_stars = np.where(dist.value<0.1)\n",
    "\n",
    "sample_raw = coord.ICRS(ra = RA, dec = DEC, pm_ra_cosdec = pm_RA, pm_dec = pm_DEC,distance=dist)\n",
    "\n",
    "sample = sample_raw[near_stars]\n",
    "\n",
    "sample = sample.transform_to(coord.Galactic)"
   ]
  },
  {
   "cell_type": "code",
   "execution_count": 3,
   "metadata": {
    "collapsed": true
   },
   "outputs": [],
   "source": [
    "def model_sample(N,v0,disp0): \n",
    "\n",
    "    \"\"\"Generates a simple model solar neighbourhood star sample in a Galactic frame of reference assuming a \n",
    "    Gaussian velocity distribution. The stars have distances from the Sun that are in the range [10,100] pc.\n",
    "    \n",
    "    Takes the following arugments:\n",
    "    \n",
    "    N: Number of stars in the sample\n",
    "    v0: 3d array specifying the mean velocities of the Gaussian distributions in x, y, z\n",
    "    disp: 3d array specifying the velocity dispersions of the distributions in x, y, z\"\"\"\n",
    "\n",
    "#    pml0 = -25\n",
    "#    pmb0 = -10\n",
    "#    pmlstd = 100\n",
    "#    pmbstd = 100\n",
    "#    pml = 100*np.random.randn(N)+pml0\n",
    "#    pmb = 100*np.random.randn(N)+pmb0\n",
    "#    \n",
    "    \n",
    "    xmax, ymax, zmax = np.array([100,100,100]) / np.sqrt(3)\n",
    "    xmin, ymin, zmin = -xmax,-ymax,-zmax\n",
    "    \n",
    "    psx = (np.random.rand(N)*(xmax-xmin)+xmin)*u.pc\n",
    "    psy = (np.random.rand(N)*(ymax-ymin)+ymin)*u.pc\n",
    "    psz = (np.random.rand(N)*(zmax-zmin)+zmin)*u.pc\n",
    "\n",
    "    #v0 = np.array([0,0,0])\n",
    "    #disp = np.array([50,25,25])\n",
    "    \n",
    "    scale = np.random.randn(N,3)\n",
    "    psvels = v0 + scale*disp0\n",
    "    \n",
    "    psvx, psvy, psvz = psvels.T\n",
    "    \n",
    "    psample = coord.Galactic(u=psx,v=psy,w=psz,U=psvx*(u.km/u.s),\n",
    "                             V=psvy*(u.km/u.s),W=psvz*(u.km/u.s),representation_type=coord.CartesianRepresentation,differential_type=coord.CartesianDifferential)\n",
    "    \n",
    "    psample.set_representation_cls(coord.SphericalRepresentation)\n",
    "    #psdist = (np.random.randn(N)*(0.1-0.01)+0.01)*u.kpc\n",
    "    \n",
    "    return psample"
   ]
  },
  {
   "cell_type": "code",
   "execution_count": 128,
   "metadata": {
    "collapsed": true
   },
   "outputs": [],
   "source": [
    "#Oort constant values from Bovy (2018)\n",
    "A = (15.3*(u.km/(u.s*u.kpc))).to(1/u.yr)\n",
    "B = (-11.9*(u.km/(u.s*u.kpc))).to(1/u.yr)\n",
    "\n",
    "N = 1000 #Number of stars we want to use in our sample\n",
    "v0 = np.array([0,0,0])\n",
    "v_disp = np.array([30,30,30])\n",
    "sample = model_sample(N,v0,v_disp) #Uncomment to use pseudosample\n",
    "\n",
    "bvals = sample.b.to(u.deg)\n",
    "lvals = sample.l.to(u.deg)\n",
    "\n",
    "mul_obs = sample.pm_l.to(1/u.yr,equivalencies = u.dimensionless_angles())\n",
    "mub_obs = sample.pm_b.to(1/u.yr,equivalencies = u.dimensionless_angles())\n",
    "\n",
    "\"\"\"Computation of the relevant quantities\n",
    "\n",
    "    l,b: Galactic coordinates\n",
    "    s: the distance obtained by inverting the parallax\n",
    "    mul, mub: proper motion in l and b\n",
    "    pvals: Tangential velocities obtained from eq. 2 in DB98\n",
    "    rhatvals: The unit vector of each star\n",
    "    vmin: Vector containing the minimum velocities in v-space\n",
    "    n: The number of cells we want in each dimension of our v-space box\n",
    "    dv: Step sizes for each dimension\"\"\"\n",
    "\n",
    "b = np.deg2rad(bvals).value # just a test\n",
    "l = np.deg2rad(lvals).value\n",
    "cosl = np.cos(l)\n",
    "cosb = np.cos(b)\n",
    "sinl = np.sin(l)\n",
    "sinb = np.sin(b)\n",
    "s = sample.distance\n",
    "\n",
    "mul = mul_obs - A*np.cos(2*l)-B\n",
    "mub = mub_obs + A*np.sin(2*l)*cosb*sinb\n",
    "\n",
    "pvals = s*np.array([-sinl*cosb*mul - cosl*sinb*mub,\n",
    "                 cosl*cosb*mul - sinl*sinb*mub,\n",
    "                 cosb*mub])/u.yr\n",
    "    \n",
    "rhatvals = np.array([cosb*cosl, cosb*sinl, sinb]).T\n",
    "pvals = pvals.to(u.km/u.s).value.T\n",
    "\n",
    "\"\"\"Test values for our functions\"\"\"\n",
    "\n",
    "vmin = np.array([-50,-50,-50])\n",
    "\n",
    "n = np.array([10,10,10])\n",
    "\n",
    "dv = np.array([10,10,10])"
   ]
  },
  {
   "cell_type": "code",
   "execution_count": 129,
   "metadata": {
    "collapsed": true
   },
   "outputs": [],
   "source": [
    "def calc_K(pk,rhat,vmin,dv,n):\n",
    "    '''Calculate the values of K simultaneously for all bins for a given star with p, rhat'''\n",
    "    \n",
    "    vxmin, vymin, vzmin = vmin\n",
    "    dvx, dvy, dvz = dv\n",
    "    nx, ny, nz = n\n",
    "    pkx, pky, pkz = pk\n",
    "    rhatx, rhaty, rhatz = rhat\n",
    "    \n",
    "    K = np.zeros((nx,ny,nz))\n",
    "    \n",
    "    vxmax, vymax, vzmax = vxmin+nx*dvx,vymin+ny*dvy,vzmin+nz*dvz\n",
    "    \n",
    "    \"\"\"We now solve the line equation v = pk + vr*rhat, where v are the intersections of the line \n",
    "    and the boundaries of each bin\"\"\"\n",
    "    \n",
    "    vx_bins = np.arange(vxmin, vxmax+dvx, dvx)\n",
    "    vy_bins = np.arange(vymin, vymax+dvy, dvy)\n",
    "    vz_bins = np.arange(vzmin, vzmax+dvz, dvz)\n",
    "    \n",
    "    vrx = (vx_bins-pkx)/rhatx\n",
    "    vry = (vy_bins-pky)/rhaty\n",
    "    vrz = (vz_bins-pkz)/rhatz\n",
    "    \n",
    "    \"\"\"After solving the line equation for each dim we remove the vr values which solve the equation\n",
    "    for bins outside of our specified box.\"\"\"\n",
    "    \n",
    "    vrmax = min(max(vrx),max(vry),max(vrz))\n",
    "    vrmin = max(min(vrx),min(vry),min(vrz))\n",
    "    \n",
    "    vrx = vrx[(vrx<=vrmax) & (vrx>=vrmin)]\n",
    "    vry = vry[(vry<=vrmax) & (vry>=vrmin)]\n",
    "    vrz = vrz[(vrz<=vrmax) & (vrz>=vrmin)]\n",
    "    vr = np.concatenate((vrx,vry,vrz))\n",
    "    vr.sort() #We obtain an ordered list with all vr values for intersections between entry and exit points\n",
    "    \n",
    "    if len(vr)==0:\n",
    "        return K\n",
    "    \n",
    "    vr_prime =(vr[:-1] + vr[1:]) / 2\n",
    "    line_bins = np.zeros((len(vr_prime),3))\n",
    "\n",
    "    pk = np.stack([pk]*len(vr_prime))\n",
    "    rhat = np.stack([rhat]*len(vr_prime))\n",
    "    vmin = np.stack([vmin]*len(vr_prime))\n",
    "    vr_primestack = np.stack([vr_prime]*3,axis=1)\n",
    "\n",
    "    \"\"\"We now solve the line equation again for values in the middle of each bin with a line segment in it.\n",
    "    This gives us the coordinates for each relevant bin, given in line_bins.\n",
    "    Finally we computhe the length of each segment and add said value to the relevant box in our K-space.\"\"\"\n",
    "    v_prime = pk + vr_primestack*rhat\n",
    "    line_bins += np.floor((v_prime-vmin)/ dv)\n",
    "      \n",
    "    line_bins = line_bins.astype(int)\n",
    "    \n",
    "    line_len = vr[1:]-vr[:-1]\n",
    "    non_zero = np.nonzero(line_len)\n",
    "    line_len = line_len[non_zero]\n",
    "    line_bins = line_bins[non_zero]\n",
    "    \n",
    "    K[line_bins[:,0],line_bins[:,1],line_bins[:,2]] = line_len/(dvx*dvy*dvz)\n",
    "    \n",
    "    return K"
   ]
  },
  {
   "cell_type": "code",
   "execution_count": 130,
   "metadata": {
    "collapsed": true
   },
   "outputs": [],
   "source": [
    "def calc_sigma2(pvals,rhat,give_vmean=False):\n",
    "    \n",
    "    \"\"\"Function that applies equation 12 of DB98 for a set of stars from their tangential velocities and unit vectors.\n",
    "    Returns the velocity dispersion tensor.\"\"\"\n",
    "    \n",
    "    pmean = np.mean(pvals, axis=0)\n",
    "    \n",
    "    rhat_outer = rhat[:,:,None]*rhat[:,None,:] #Fast way of getting the outer product for each rhat with itself.\n",
    "\n",
    "    iden = np.identity(3)\n",
    "    \n",
    "    A = np.stack([iden]*len(rhat_outer))-rhat_outer #Eq. 4 in DB98. Yields an array of dim (N_star,3,3)\n",
    "    \n",
    "    A_mean = np.mean(A,axis=0)\n",
    "    A_mean_inv = np.linalg.inv(A_mean)\n",
    "    v_mean = np.dot(A_mean_inv, pmean)\n",
    "    \n",
    "    pp = pvals - np.dot(A,v_mean)\n",
    "    \n",
    "    pp2mean = np.mean(pp*pp,axis=0)\n",
    "    \n",
    "    B = np.array([[9,-1,-1],[-1,9,-1],[-1,-1,9]])\n",
    "    \n",
    "    sigma2 = (3/14)*np.dot(B,pp2mean)\n",
    "    \n",
    "    if give_vmean == True:\n",
    "    \n",
    "        return sigma2, v_mean\n",
    "    \n",
    "    else:\n",
    "    \n",
    "        return sigma2"
   ]
  },
  {
   "cell_type": "code",
   "execution_count": 131,
   "metadata": {
    "collapsed": true
   },
   "outputs": [],
   "source": [
    "def sec_der(phi,sigma2,dv):\n",
    "    \n",
    "    \"\"\"Estimates the second deriative for ln(f(v_l)) given a sample of stars (eq. 30 of D98).\n",
    "    Takes contributions at the phi values of adjacent bins for each bin l.\n",
    "    \n",
    "    We create a new, larger box with dimensions n+2 centred on our phi-space box.\n",
    "    This allows us to disregard any issues at the bins at the boundaries of our phi-space.\"\"\"\n",
    "    \n",
    "    nx, ny, nz = phi.shape\n",
    "    dv2 = dv**2\n",
    "    \n",
    "    nxx, nyy, nzz = nx+2, ny+2, nz+2 \n",
    "\n",
    "    phip = np.zeros((nxx,nyy,nzz)) #new larger box\n",
    "\n",
    "    phip[1:-1,1:-1,1:-1] = phi #puts the phi-box in the centre of our larger box\n",
    "    \n",
    "    kappa = sigma2/dv2\n",
    "    \n",
    "    kappa_sum = -2*sum(sigma2/dv2)\n",
    "    \n",
    "    \"\"\"Here we compute the contributions from all the adjacent bins simultaneously.\n",
    "    In every dimension we sum the phi values of box l-1 and l+1 and multiply with the relevant factor\"\"\"\n",
    "    \n",
    "    phi_fac = np.array([phip[0:nxx-2,1:-1,1:-1]+phip[2:nxx,1:-1,1:-1],\n",
    "                           phip[1:-1,0:nyy-2,1:-1]+phip[1:-1,2:nyy,1:-1],\n",
    "                           phip[1:-1,1:-1,0:nzz-2]+phip[1:-1,1:-1,2:nzz]])\n",
    "\n",
    "    phi_arrx = (sigma2[0]/dv2[0])*phi_fac[0]\n",
    "    phi_arry = (sigma2[1]/dv2[1])*phi_fac[1]\n",
    "    phi_arrz = (sigma2[2]/dv2[2])*phi_fac[2]\n",
    "    \n",
    "    \"\"\"We sum all contributions from adjacent boxes and finally add the terms for each box l. \n",
    "    Yields a box with the same dimensions as phi, containing the second derivative values for each bin.\"\"\"\n",
    "    \n",
    "    phi_arr = phi_arrx+phi_arry+phi_arrz+kappa_sum*phi \n",
    "\n",
    "    return phi_arr"
   ]
  },
  {
   "cell_type": "code",
   "execution_count": 132,
   "metadata": {
    "collapsed": true,
    "scrolled": false
   },
   "outputs": [],
   "source": [
    "def phi_guess(v0,disp0,vmin,dv,n):\n",
    "    \n",
    "    \"\"\"Provides an initial guess of the phi values in each bin. For now only allows for a Gaussian type guess given arrays\n",
    "    with mean velocities and dispersions for each dimension.\"\"\"\n",
    "    \n",
    "    vxmin, vymin, vzmin = vmin\n",
    "    dvx, dvy, dvz = dv\n",
    "    nx, ny, nz = n\n",
    "    v0x, v0y, v0z = v0\n",
    "    dispx, dispy, dispz = disp0\n",
    "    \n",
    "    vxmax, vymax, vzmax = vxmin+nx*dvx,vymin+ny*dvy,vzmin+nz*dvz\n",
    "    \n",
    "    vx_bins = np.arange(vxmin, vxmax+dvx, dvx)\n",
    "    vy_bins = np.arange(vymin, vymax+dvy, dvy)\n",
    "    vz_bins = np.arange(vzmin, vzmax+dvz, dvz)\n",
    "    \n",
    "    vxc = (vx_bins[1:]+vx_bins[:-1])/2\n",
    "    vyc = (vy_bins[1:]+vy_bins[:-1])/2\n",
    "    vzc = (vz_bins[1:]+vz_bins[:-1])/2\n",
    "    \n",
    "    \"\"\"Given the velocities of each bin we compute the 3D Gaussian value.\"\"\"\n",
    "    \n",
    "    gx = st.norm(v0x,dispx)\n",
    "    gy = st.norm(v0y,dispy)\n",
    "    gz = st.norm(v0z,dispz)\n",
    "    \n",
    "    gxp = gx.pdf(vxc)\n",
    "    gyp = gy.pdf(vyc)\n",
    "    gzp = gz.pdf(vzc)\n",
    "    \n",
    "    phix, phiy, phiz = np.meshgrid(np.log(gxp),np.log(gyp),np.log(gzp))\n",
    "    \n",
    "    phi = np.array([phix,phiy,phiz])\n",
    "    \n",
    "    phi_sum = np.sum(phi,axis=0)\n",
    "    \n",
    "    return phi_sum.T"
   ]
  },
  {
   "cell_type": "code",
   "execution_count": 133,
   "metadata": {
    "collapsed": true
   },
   "outputs": [],
   "source": [
    "def get_L(phi,*args):\n",
    "    \n",
    "    \"\"\"The function that we wish to optimise.\"\"\"\n",
    "    \n",
    "    Kvals, N, alpha, dv, n, sigma2 = args\n",
    "    nx, ny, nz = n\n",
    "    dvx, dvy, dvz = dv\n",
    "    \n",
    "    \"\"\"We regain the original shape of our phi guess and proceed to compute the various quantities needed from our functions.\"\"\"\n",
    "    \n",
    "    phi_unr = np.reshape(phi,n)\n",
    "    \n",
    "    phixhi = sec_der(phi_unr,sigma2,dv) #last term\n",
    "    \n",
    "    exphi = np.exp(phi_unr)\n",
    "    \n",
    "    Kphi = exphi*Kvals\n",
    "    \n",
    "    Kphiord = Kphi.reshape(len(Kphi),nx*ny*nz) #Order all Kphi values in arrays for each star\n",
    "    \n",
    "    Kphi_sum = np.sum(Kphiord,axis=1) #We compute the sum of exp(phi)*K(k|l) for each star\n",
    "    \n",
    "    notzero = Kphi_sum != 0\n",
    "    \n",
    "    Kphi_sum[notzero] = np.log(Kphi_sum[notzero]) #To make sure we don't get infinities\n",
    "    \n",
    "    Kphi_sum_tot = np.sum(Kphi_sum) #Gives the double sum in the first term\n",
    "        \n",
    "    L_tilde = Kphi_sum_tot/N - np.sum(exphi)-((alpha*dvx*dvy*dvz)/2)*np.sum(phixhi**2)\n",
    "    \n",
    "    negL = -1*(L_tilde+1)\n",
    "    \n",
    "    return negL"
   ]
  },
  {
   "cell_type": "code",
   "execution_count": 134,
   "metadata": {
    "collapsed": true
   },
   "outputs": [],
   "source": [
    "def max_L(v0_guess,disp_guess,alpha, pvals, rhatvals, vmin, dv, n):\n",
    "    \n",
    "    \"\"\"Function that employs scipy.optimize.fmin_cg to maximise the function get_L()\"\"\"\n",
    "    \n",
    "    dvx, dvy, dvz = dv\n",
    "    nx, ny, nz = n\n",
    "    \n",
    "    N = len(pvals)\n",
    "    \n",
    "    phi0 = phi_guess(v0_guess,disp_guess,vmin,dv,n) #We obtain phi given our initial guess of the velocity distribution\n",
    "    \n",
    "    sigma2 = calc_sigma2(pvals,rhatvals) \n",
    "    \n",
    "    Kvals = np.zeros((N,nx,ny,nz))\n",
    "    \n",
    "    for i in range(N):\n",
    "        K = calc_K(pvals[i],rhatvals[i],vmin,dv,n)\n",
    "        Kvals[i] += K   \n",
    "        \n",
    "    args = (Kvals, N, alpha, dv, n, sigma2)\n",
    "    \n",
    "    phi0 = np.ravel(phi0) #fmin_cg only takes one-dimensional inputs for the initial guess\n",
    "    \n",
    "    mxl = fmin_cg(get_L, phi0, args=args)\n",
    "    \n",
    "    mxlnew = -mxl.reshape(n) #Since a one-dimensional array is returned from fmin_cg\n",
    "    \n",
    "    return mxlnew\n",
    "   \n",
    "    #return get_L(phi0, Kvals, N, alpha, dv, n, sigma2)"
   ]
  },
  {
   "cell_type": "code",
   "execution_count": 135,
   "metadata": {
    "scrolled": false
   },
   "outputs": [],
   "source": [
    "#mxl = max_L(v0,v_disp,1, pvals, rhatvals, vmin, dv, n)"
   ]
  },
  {
   "cell_type": "code",
   "execution_count": 136,
   "metadata": {
    "collapsed": true
   },
   "outputs": [],
   "source": [
    "\"\"\"Test that for a given model sample checks if the distribution of L is smooth for a number of guesses for the dispersion.\"\"\"\n",
    "\n",
    "def test_L(plane, alpha, v0, disp0, pvals, rhatvals, vmin, dv, n):\n",
    "    \n",
    "    dvx, dvy, dvz = dv\n",
    "    nx, ny, nz = n\n",
    "    disp0x, disp0y, disp0z = disp0\n",
    "    N = len(pvals)\n",
    "    \n",
    "    sigma2 = calc_sigma2(pvals,rhatvals) \n",
    "    \n",
    "    Kvals = np.zeros((N,nx,ny,nz))\n",
    "    \n",
    "    for i in range(N):\n",
    "        K = calc_K(pvals[i],rhatvals[i],vmin,dv,n)\n",
    "        Kvals[i] += K \n",
    "    \n",
    "    \"\"\"We generate a set of sigma values for each dimension that will serve as basis for different gueses of phi\"\"\"\n",
    "    \n",
    "    dispx_guess = np.arange(0.2*disp0x,1.8*disp0x+5,5)\n",
    "    dispy_guess = np.arange(0.2*disp0y,1.8*disp0y+5,5)\n",
    "    dispz_guess = np.arange(0.2*disp0z,1.8*disp0z+5,5)\n",
    "        \n",
    "    #disp_xx, disp_yy, disp_zz = np.meshgrid(dispx_guess,dispy_guess,dispz_guess)\n",
    "    \n",
    "    if plane == 'xy':\n",
    "        disp10, disp20 = disp0x, disp0y\n",
    "        disp1, disp2 = dispx_guess, dispy_guess\n",
    "        disp3 = dispz_guess[0]\n",
    "        n1, n2 = nx, ny\n",
    "        dx, dy = dvx, dvy\n",
    "        x0, y0 = np.amin([dispx_guess, dispy_guess],axis=1)\n",
    "        x1, y1 = np.amax([dispx_guess, dispy_guess],axis=1)\n",
    "        xlab, ylab = '$\\sigma_x$', '$\\sigma_y$'\n",
    "    elif plane == 'yz':\n",
    "        n1, n2 = ny, nz\n",
    "        dx, dy = dvy, dvz\n",
    "        x0, y0 = vymin, vzmin\n",
    "        x1, y1 = vymax, vzmax\n",
    "        xlab, ylab = '$v_y$', '$v_z$'\n",
    "    elif plane == 'xz':\n",
    "        n1, n2 = nx, nz\n",
    "        dx, dy = dvx, dvz\n",
    "        x0, y0 = vxmin, vzmin\n",
    "        x1, y1 = vxmax, vzmax\n",
    "        xlab, ylab = '$v_x$', '$v_z$'\n",
    "    \n",
    "    L_vals = np.zeros((len(disp1),len(disp2)))\n",
    "    \n",
    "    for i in range(len(disp1)):\n",
    "        \n",
    "        for j in range(len(disp2)):\n",
    "            \n",
    "            disp_guess = np.array([disp1[i],disp2[j],disp3])\n",
    "    \n",
    "            phi0 = phi_guess(v0,disp_guess,vmin,dv,n)\n",
    "\n",
    "            phi0r = np.ravel(phi0)\n",
    "\n",
    "            L_vals[i][j] += get_L(phi0r, Kvals, N, alpha, dv, n, sigma2)\n",
    "            \n",
    "        fig, ax = plt.subplots(figsize=(8,6))\n",
    "    \n",
    "    dispg1, dispg2 = np.meshgrid(disp1,disp2)\n",
    "    \n",
    "    ax.set_title('Contour plot of $\\mathcal{L}$ values')\n",
    "    ax.set_xlim(x0,x1)\n",
    "    ax.set_ylim(y0,y1)\n",
    "    ax.set_xlabel(xlab+' [km s$^{-1}$]',size='large')\n",
    "    ax.set_ylabel(ylab+' [km s$^{-1}$]',size='large')\n",
    "    \n",
    "    contf = ax.contourf(dispg1,dispg2,L_vals,cmap = plt.cm.get_cmap('jet'))\n",
    "    \n",
    "    #extent = [xc[0], xc[-1], yc[0], yc[-1]]\n",
    "    #plt.imshow(twodfv.T,origin='lower',interpolation='bilinear',vmin=0,vmax=twodfv.max(),cmap = plt.cm.get_cmap('jet'),extent=extent)\n",
    "    \n",
    "    cb = plt.colorbar(contf,orientation='vertical', extend='max')\n",
    "    cb.set_label('Value of $\\mathcal{L}$',size='large')\n",
    "    \n",
    "    ax.scatter(disp10,disp20,c='black')\n",
    "    \n",
    "    plt.show()\n",
    "    \n",
    "    return"
   ]
  },
  {
   "cell_type": "code",
   "execution_count": 137,
   "metadata": {
    "collapsed": true
   },
   "outputs": [],
   "source": [
    "def sanity_check(pvals,rhatvals,phi,vmin,dv,n):\n",
    "    \n",
    "    dvx, dvy, dvz = dv\n",
    "    nx, ny, nz = n\n",
    "    vxmin, vymin, vzmin = vmin\n",
    "    vxmax, vymax, vzmax = vxmin+nx*dvx,vymin+ny*dvy,vzmin+nz*dvz\n",
    "    \n",
    "    vx_bins = np.arange(vxmin, vxmax+dvx, dvx)\n",
    "    vy_bins = np.arange(vymin, vymax+dvy, dvy)\n",
    "    vz_bins = np.arange(vzmin, vzmax+dvz, dvz)\n",
    "    \n",
    "    vxc = (vx_bins[1:]+vx_bins[:-1])\n",
    "    vyc = (vy_bins[1:]+vy_bins[:-1])\n",
    "    vzc = (vz_bins[1:]+vz_bins[:-1])\n",
    "\n",
    "    sigma2, vmean0 = calc_sigma2(pvals,rhatvals,True)\n",
    "    \n",
    "    sigma = np.sqrt(sigma2)\n",
    "    \n",
    "    phi0 = phi_guess(vmean0, sigma,vmin,dv,n)\n",
    "    fv0 = np.exp(phi0)\n",
    "    \n",
    "    fv = np.exp(phi)\n",
    "    \n",
    "    vxmean = np.sum(vxc*fv)/np.sum(fv)\n",
    "    vymean = np.sum(vyc*fv)/np.sum(fv)\n",
    "    vzmean = np.sum(vzc*fv)/np.sum(fv)\n",
    "    vmean = np.array([vxmean,vymean,vzmean])\n",
    "    \n",
    "    dispx = np.sum(vxc**2*fv/np.sum(fv)-vxmean)\n",
    "    dispy = np.sum(vyc**2*fv/np.sum(fv)-vymean)\n",
    "    dispz = np.sum(vzc**2*fv/np.sum(fv)-vzmean)\n",
    "    disp = np.sqrt(np.array([dispx,dispy,dispz]))\n",
    "    \n",
    "    return vmean0, sigma, vmean, disp"
   ]
  },
  {
   "cell_type": "code",
   "execution_count": 138,
   "metadata": {
    "collapsed": true
   },
   "outputs": [],
   "source": [
    "def plot_fv(phi,plane,vmin,dv,n):\n",
    "    \n",
    "    dvx, dvy, dvz = dv\n",
    "    nx, ny, nz = n\n",
    "    vxmin, vymin, vzmin = vmin\n",
    "    vxmax, vymax, vzmax = vxmin+nx*dvx,vymin+ny*dvy,vzmin+nz*dvz\n",
    "    \n",
    "    if plane == 'xy':\n",
    "        axsum = 2\n",
    "        n1, n2 = nx, ny\n",
    "        dx, dy = dvx, dvy\n",
    "        x0, y0 = vxmin, vymin\n",
    "        x1, y1 = vxmax, vymax\n",
    "        xlab, ylab = '$v_x$', '$v_y$'\n",
    "    elif plane == 'yz':\n",
    "        axsum = 0\n",
    "        n1, n2 = ny, nz\n",
    "        dx, dy = dvy, dvz\n",
    "        x0, y0 = vymin, vzmin\n",
    "        x1, y1 = vymax, vzmax\n",
    "        xlab, ylab = '$v_y$', '$v_z$'\n",
    "    elif plane == 'xz':\n",
    "        axsum = 1\n",
    "        n1, n2 = nx, nz\n",
    "        dx, dy = dvx, dvz\n",
    "        x0, y0 = vxmin, vzmin\n",
    "        x1, y1 = vxmax, vzmax\n",
    "        xlab, ylab = '$v_x$', '$v_z$'\n",
    "        \n",
    "    fv = np.exp(phi)\n",
    "    \n",
    "    twodfv = np.sum(fv,axis=axsum)\n",
    "    \n",
    "    xbins = np.arange(x0,x1+dx,dx)\n",
    "    ybins = np.arange(y0,x1+dy,dy)\n",
    "    \n",
    "    xc = (xbins[1:]+xbins[:-1])/2\n",
    "    yc = (ybins[1:]+ybins[:-1])/2\n",
    "    \n",
    "    fig, ax = plt.subplots(figsize=(8,6))\n",
    "    \n",
    "    ax.set_title('Contour plot of velocity distribution')\n",
    "    ax.set_xlim(x0,x1)\n",
    "    ax.set_ylim(y0,y1)\n",
    "    ax.set_xlabel(xlab+' [km s$^{-1}$]',size='large')\n",
    "    ax.set_ylabel(ylab+' [km s$^{-1}$]',size='large')\n",
    "    \n",
    "    plt.contourf(xc,yc,twodfv,cmap = plt.cm.get_cmap('jet'))\n",
    "    \n",
    "    #extent = [xc[0], xc[-1], yc[0], yc[-1]]\n",
    "    #plt.imshow(twodfv.T,origin='lower',interpolation='bilinear',vmin=0,vmax=twodfv.max(),cmap = plt.cm.get_cmap('jet'),extent=extent)\n",
    "    \n",
    "    cb = plt.colorbar(orientation='vertical', extend='max')\n",
    "    cb.set_label('Number density of stars',size='large')\n",
    "    \n",
    "    plt.show()\n",
    "    \n",
    "    return "
   ]
  },
  {
   "cell_type": "code",
   "execution_count": 139,
   "metadata": {
    "collapsed": true,
    "scrolled": false
   },
   "outputs": [],
   "source": [
    "#plot_fv(mxl,'xy',vmin,dv,n)"
   ]
  },
  {
   "cell_type": "code",
   "execution_count": 140,
   "metadata": {
    "collapsed": true
   },
   "outputs": [],
   "source": [
    "#plot_fv(phi0,'xy',vmin,dv,n)"
   ]
  },
  {
   "cell_type": "code",
   "execution_count": 141,
   "metadata": {
    "scrolled": false
   },
   "outputs": [
    {
     "data": {
      "image/png": "[encoded data removed]",
      "text/plain": [
       "<matplotlib.figure.Figure at 0x2e1023c6048>"
      ]
     },
     "metadata": {},
     "output_type": "display_data"
    },
    {
     "data": {
      "image/png": "[encoded data removed]",
      "text/plain": [
       "<matplotlib.figure.Figure at 0x2e10204bcc0>"
      ]
     },
     "metadata": {},
     "output_type": "display_data"
    },
    {
     "data": {
      "image/png": "[encoded data removed]",
      "text/plain": [
       "<matplotlib.figure.Figure at 0x2e1016c8208>"
      ]
     },
     "metadata": {},
     "output_type": "display_data"
    },
    {
     "data": {
      "image/png": "[encoded data removed]",
      "text/plain": [
       "<matplotlib.figure.Figure at 0x2e166b28d68>"
      ]
     },
     "metadata": {},
     "output_type": "display_data"
    },
    {
     "data": {
      "image/png": "[encoded data removed]",
      "text/plain": [
       "<matplotlib.figure.Figure at 0x2e102919be0>"
      ]
     },
     "metadata": {},
     "output_type": "display_data"
    },
    {
     "data": {
      "image/png": "[encoded data removed]",
      "text/plain": [
       "<matplotlib.figure.Figure at 0x2e101385c88>"
      ]
     },
     "metadata": {},
     "output_type": "display_data"
    },
    {
     "data": {
      "image/png": "[encoded data removed]",
      "text/plain": [
       "<matplotlib.figure.Figure at 0x2e10197e908>"
      ]
     },
     "metadata": {},
     "output_type": "display_data"
    },
    {
     "data": {
      "image/png": "[encoded data removed]",
      "text/plain": [
       "<matplotlib.figure.Figure at 0x2e1017ad048>"
      ]
     },
     "metadata": {},
     "output_type": "display_data"
    },
    {
     "data": {
      "image/png": "[encoded data removed]",
      "text/plain": [
       "<matplotlib.figure.Figure at 0x2e102900ef0>"
      ]
     },
     "metadata": {},
     "output_type": "display_data"
    },
    {
     "data": {
      "image/png": "[encoded data removed]",
      "text/plain": [
       "<matplotlib.figure.Figure at 0x2e1028cbba8>"
      ]
     },
     "metadata": {},
     "output_type": "display_data"
    },
    {
     "data": {
      "image/png": "[encoded data removed]",
      "text/plain": [
       "<matplotlib.figure.Figure at 0x2e101327208>"
      ]
     },
     "metadata": {},
     "output_type": "display_data"
    }
   ],
   "source": [
    "test_L('xy', 1, v0, v_disp, pvals, rhatvals, vmin, dv, n)"
   ]
  },
  {
   "cell_type": "code",
   "execution_count": 93,
   "metadata": {
    "collapsed": true
   },
   "outputs": [],
   "source": [
    "#Lvals.shape"
   ]
  },
  {
   "cell_type": "code",
   "execution_count": 94,
   "metadata": {
    "collapsed": true
   },
   "outputs": [],
   "source": [
    "#disp0"
   ]
  },
  {
   "cell_type": "code",
   "execution_count": 142,
   "metadata": {},
   "outputs": [
    {
     "data": {
      "text/plain": [
       "(array([-2.22560759, -2.0099102 , -0.30571518]),\n",
       " array([ 28.77503062,  30.85856296,  29.98356463]),\n",
       " array([ 0.,  0.,  0.]),\n",
       " array([ 47.76090899,  47.76090899,  47.76090899]))"
      ]
     },
     "execution_count": 142,
     "metadata": {},
     "output_type": "execute_result"
    }
   ],
   "source": [
    "phi0 = phi_guess(v0,v_disp,vmin,dv,n)\n",
    "\n",
    "sanity_check(pvals,rhatvals,phi0,vmin,dv,n)"
   ]
  },
  {
   "cell_type": "code",
   "execution_count": null,
   "metadata": {},
   "outputs": [],
   "source": []
  },
  {
   "cell_type": "code",
   "execution_count": null,
   "metadata": {},
   "outputs": [],
   "source": []
  },
  {
   "cell_type": "code",
   "execution_count": null,
   "metadata": {
    "collapsed": true
   },
   "outputs": [],
   "source": []
  }
 ],
 "metadata": {
  "kernelspec": {
   "display_name": "Python 3",
   "language": "python",
   "name": "python3"
  },
  "language_info": {
   "codemirror_mode": {
    "name": "ipython",
    "version": 3
   },
   "file_extension": ".py",
   "mimetype": "text/x-python",
   "name": "python",
   "nbconvert_exporter": "python",
   "pygments_lexer": "ipython3",
   "version": "3.6.3"
  }
 },
 "nbformat": 4,
 "nbformat_minor": 2
}
